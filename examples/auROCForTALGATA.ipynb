{
 "cells": [
  {
   "cell_type": "code",
   "execution_count": 1,
   "metadata": {
    "collapsed": true
   },
   "outputs": [],
   "source": [
    "import numpy as np\n",
    "from collections import OrderedDict"
   ]
  },
  {
   "cell_type": "markdown",
   "metadata": {},
   "source": [
    "# auROC calculation given motif and importance scores"
   ]
  },
  {
   "cell_type": "markdown",
   "metadata": {},
   "source": [
    "### Load importance scores"
   ]
  },
  {
   "cell_type": "code",
   "execution_count": 2,
   "metadata": {
    "collapsed": false
   },
   "outputs": [
    {
     "data": {
      "text/plain": [
       "(2000, 200, 4)"
      ]
     },
     "execution_count": 2,
     "metadata": {},
     "output_type": "execute_result"
    }
   ],
   "source": [
    "#Scores for sequence number 6000 - 8000\n",
    "impscore = np.load(\"/users/eprakash/newlsgkm/lsgkm/mytests/talgata/runs/talgata_t3_l6_k5_d1_g2.0_c10/ISM_importance_scores_TALGATA_task0.test.2000.npy\")\n",
    "impscore.shape"
   ]
  },
  {
   "cell_type": "markdown",
   "metadata": {},
   "source": [
    "###  Load sequences and motif info"
   ]
  },
  {
   "cell_type": "code",
   "execution_count": 3,
   "metadata": {
    "collapsed": false
   },
   "outputs": [
    {
     "name": "stdout",
     "output_type": "stream",
     "text": [
      "(71, {'string': 'CTAGATAAGG', 'stringDescription': 'GATA_disc1'}, 10, 'GATA_disc1')\n",
      "CGCCAACAGATGGTAACCGGCCTCATAGACCCTAGACATTGGTCATAGTGGGGCGCGACTGATTGTGAGGCTATGTTTAAACGGTCCCTCGGCCGCTACAGAGGCTAAGTAGGACAACTCTCGGAGGGAATACATAAACCAATTGGTGGCCGTATTCATTCACCCCAACAACCCAGGTGGCAACAGCTGGTACCCGACTG\n",
      "(46, {'string': 'GGTGATAAGG', 'stringDescription': 'GATA_disc1'}, 10, 'GATA_disc1')\n",
      "CGCCAACAGATGGTAACCGGCCTCATAGACCCTAGACATTGGTCATAGTGGGGCGCGACTGATTGTGAGGCTATGTTTAAACGGTCCCTCGGCCGCTACAGAGGCTAAGTAGGACAACTCTCGGAGGGAATACATAAACCAATTGGTGGCCGTATTCATTCACCCCAACAACCCAGGTGGCAACAGCTGGTACCCGACTG\n",
      "(184, {'string': 'CCGAACAGATGGATGT', 'stringDescription': 'TAL1_known1'}, 16, 'TAL1_known1')\n",
      "CGCCAACAGATGGTAACCGGCCTCATAGACCCTAGACATTGGTCATAGTGGGGCGCGACTGATTGTGAGGCTATGTTTAAACGGTCCCTCGGCCGCTACAGAGGCTAAGTAGGACAACTCTCGGAGGGAATACATAAACCAATTGGTGGCCGTATTCATTCACCCCAACAACCCAGGTGGCAACAGCTGGTACCCGACTG\n",
      "(167, {'string': 'ACGAACAGATGGCCAG', 'stringDescription': 'TAL1_known1'}, 16, 'TAL1_known1')\n",
      "CGCCAACAGATGGTAACCGGCCTCATAGACCCTAGACATTGGTCATAGTGGGGCGCGACTGATTGTGAGGCTATGTTTAAACGGTCCCTCGGCCGCTACAGAGGCTAAGTAGGACAACTCTCGGAGGGAATACATAAACCAATTGGTGGCCGTATTCATTCACCCCAACAACCCAGGTGGCAACAGCTGGTACCCGACTG\n"
     ]
    }
   ],
   "source": [
    "import simdna.synthetic as synthetic\n",
    "import gzip\n",
    "\n",
    "data_filename = \"sequences.simdata.gz\"\n",
    "data = synthetic.read_simdata_file(data_filename)\n",
    "l = data.embeddings[6781]\n",
    "for i in l:\n",
    "    print(i.startPos, i.what.__dict__, len(i.what), i.what.getDescription())\n",
    "    print(data.sequences[215])"
   ]
  },
  {
   "cell_type": "markdown",
   "metadata": {},
   "source": [
    "### Create ordered dictionary of sequence names to motif list "
   ]
  },
  {
   "cell_type": "code",
   "execution_count": 4,
   "metadata": {
    "collapsed": false
   },
   "outputs": [],
   "source": [
    "seq2motiflist = OrderedDict()\n",
    "i = 6000\n",
    "seqnamelist = list()\n",
    "for motiflist in data.embeddings[6000:8000]:\n",
    "    seqname = \"seq_\" + str(i)\n",
    "    seqnamelist.append(seqname)\n",
    "    seq2motiflist[seqname] = list()\n",
    "    for el in motiflist:\n",
    "        d = dict()\n",
    "        d['begin'] = el.startPos\n",
    "        d['end'] = el.startPos + len(el.what)\n",
    "        d['motif'] = el.what.getDescription()\n",
    "        seq2motiflist[seqname].append(d)\n",
    "    i = i+1\n",
    "#print(seq2motiflist)"
   ]
  },
  {
   "cell_type": "markdown",
   "metadata": {},
   "source": [
    "### Use importance score evaluator to get motif-sized-window scores and corresponding labels for auROC calc"
   ]
  },
  {
   "cell_type": "code",
   "execution_count": 5,
   "metadata": {
    "collapsed": false
   },
   "outputs": [
    {
     "name": "stdout",
     "output_type": "stream",
     "text": [
      "(2000,)\n",
      "Known motifs['GATA_disc1', 'TAL1_known1']\n",
      "Motif size for TAL1_known1  16\n",
      "Motif size for GATA_disc1  10\n"
     ]
    }
   ],
   "source": [
    "from ssvmimp.impevaluator.motif_importance_score_evaluator import MotifImportanceScoreEvaluator\n",
    "\n",
    "#print(seqnamelist)\n",
    "seqnames = np.array(seqnamelist)\n",
    "#print(seqnames)\n",
    "print(seqnames.shape)\n",
    "impscoreeval = MotifImportanceScoreEvaluator(seq2motiflist, seqnames, impscore)\n",
    "print(\"Known motifs\" + str(impscoreeval.get_known_motifs()))\n",
    "\n",
    "print(\"Motif size for TAL1_known1  \" + str(impscoreeval.get_motif_size('TAL1_known1')))\n",
    "print(\"Motif size for GATA_disc1  \" + str(impscoreeval.get_motif_size('GATA_disc1')))"
   ]
  },
  {
   "cell_type": "code",
   "execution_count": 6,
   "metadata": {
    "collapsed": false
   },
   "outputs": [
    {
     "name": "stdout",
     "output_type": "stream",
     "text": [
      "('Scores shape: ', (311182,))\n",
      "('Labels shape: ', (311182,))\n"
     ]
    }
   ],
   "source": [
    "(scores, labels) = impscoreeval.get_motif_scores('GATA_disc1')\n",
    "print(\"Scores shape: \", scores.shape)\n",
    "print(\"Labels shape: \", labels.shape)"
   ]
  },
  {
   "cell_type": "markdown",
   "metadata": {},
   "source": [
    "### Perform auROC calculation using scores and labels"
   ]
  },
  {
   "cell_type": "code",
   "execution_count": 7,
   "metadata": {
    "collapsed": false
   },
   "outputs": [
    {
     "name": "stdout",
     "output_type": "stream",
     "text": [
      "auROC is: 0.9695125757648693\n"
     ]
    }
   ],
   "source": [
    "from sklearn import metrics\n",
    "\n",
    "auroc = metrics.roc_auc_score(labels, scores)\n",
    "print(\"auROC is: \" + str(auroc))"
   ]
  },
  {
   "cell_type": "code",
   "execution_count": null,
   "metadata": {
    "collapsed": true
   },
   "outputs": [],
   "source": []
  }
 ],
 "metadata": {
  "anaconda-cloud": {},
  "celltoolbar": "Raw Cell Format",
  "kernelspec": {
   "display_name": "Python [default]",
   "language": "python",
   "name": "python2"
  },
  "language_info": {
   "codemirror_mode": {
    "name": "ipython",
    "version": 2
   },
   "file_extension": ".py",
   "mimetype": "text/x-python",
   "name": "python",
   "nbconvert_exporter": "python",
   "pygments_lexer": "ipython2",
   "version": "2.7.12"
  }
 },
 "nbformat": 4,
 "nbformat_minor": 0
}
