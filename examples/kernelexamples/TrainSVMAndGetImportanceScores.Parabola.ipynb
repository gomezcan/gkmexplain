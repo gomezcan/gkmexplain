{
 "cells": [
  {
   "cell_type": "code",
   "execution_count": 1,
   "metadata": {
    "collapsed": true
   },
   "outputs": [],
   "source": [
    "%matplotlib inline\n",
    "from __future__ import division, print_function, absolute_import\n",
    "import numpy as np\n",
    "from sklearn.svm import SVC\n",
    "import matplotlib.pyplot as plt\n",
    "from numpy.linalg import norm\n",
    "import math"
   ]
  },
  {
   "cell_type": "code",
   "execution_count": 2,
   "metadata": {
    "collapsed": false
   },
   "outputs": [],
   "source": [
    "points = np.load(\"Parabola.Points.1000.npy\")\n",
    "labels = np.load(\"Parabola.Labels.1000.npy\")"
   ]
  },
  {
   "cell_type": "code",
   "execution_count": 3,
   "metadata": {
    "collapsed": false
   },
   "outputs": [],
   "source": [
    "#print(points)\n",
    "#print(labels)\n",
    "#print(points[:-100,:].shape)"
   ]
  },
  {
   "cell_type": "markdown",
   "metadata": {},
   "source": [
    "# Number of support vectors:\n",
    "| C        | Gamma    | Number of Support Vectors | Accuracy | Comments |\n",
    "|----------|----------|---------------------------|----------|----------|\n",
    "|1         | 0.01     | 189                       | 0.98     |          |\n",
    "|100       | 0.01     | 102                       | 0.98     |          |\n",
    "|1         | 0.001    | 155                       | 0.99     |          |\n",
    "|100       | 0.001    | 37                        | 1.00     | BEST     |\n",
    "|1         | 0.0001   | 378                       | 0.88     |          |\n",
    "|100       | 0.0001   | 108                       | 1.00     |          |"
   ]
  },
  {
   "cell_type": "code",
   "execution_count": 4,
   "metadata": {
    "collapsed": false
   },
   "outputs": [
    {
     "name": "stdout",
     "output_type": "stream",
     "text": [
      "SVC(C=100, cache_size=200, class_weight=None, coef0=0.0,\n",
      "  decision_function_shape='ovr', degree=3, gamma=0.001, kernel='rbf',\n",
      "  max_iter=-1, probability=False, random_state=None, shrinking=True,\n",
      "  tol=0.001, verbose=False)\n"
     ]
    },
    {
     "data": {
      "text/plain": [
       "SVC(C=100, cache_size=200, class_weight=None, coef0=0.0,\n",
       "  decision_function_shape='ovr', degree=3, gamma=0.001, kernel='rbf',\n",
       "  max_iter=-1, probability=False, random_state=None, shrinking=True,\n",
       "  tol=0.001, verbose=False)"
      ]
     },
     "execution_count": 4,
     "metadata": {},
     "output_type": "execute_result"
    }
   ],
   "source": [
    "gamma=0.001\n",
    "clf = SVC(C=100, gamma=gamma)\n",
    "print(clf)\n",
    "clf.fit(points[:-100,:], labels[:-100])"
   ]
  },
  {
   "cell_type": "code",
   "execution_count": 5,
   "metadata": {
    "collapsed": false
   },
   "outputs": [
    {
     "name": "stdout",
     "output_type": "stream",
     "text": [
      "Accuracy: 1.0\n"
     ]
    }
   ],
   "source": [
    "numcorrect = 0\n",
    "for (point, label) in zip(points[-100:,:], labels[-100:]):\n",
    "    prediction = clf.predict([point])\n",
    "#    print(\"Point: \" + str(point) + \" Label: \" + str(label) + \" Prediction: \" + str(prediction))\n",
    "    if label == prediction:\n",
    "        numcorrect += 1\n",
    "    else:\n",
    "        print(\"INACCURATE PREDICTION!!: Point: \" + str(point) + \" Label: \" + str(label) + \" Prediction: \" + str(prediction))\n",
    "print(\"Accuracy: \" + str(float(numcorrect)/100.0))"
   ]
  },
  {
   "cell_type": "code",
   "execution_count": 6,
   "metadata": {
    "collapsed": false
   },
   "outputs": [],
   "source": [
    "#print(clf.support_.shape)"
   ]
  },
  {
   "cell_type": "code",
   "execution_count": 7,
   "metadata": {
    "collapsed": false
   },
   "outputs": [
    {
     "name": "stdout",
     "output_type": "stream",
     "text": [
      "(37, 2)\n"
     ]
    }
   ],
   "source": [
    "print(str(clf.support_vectors_.shape))"
   ]
  },
  {
   "cell_type": "code",
   "execution_count": 8,
   "metadata": {
    "collapsed": false
   },
   "outputs": [
    {
     "name": "stdout",
     "output_type": "stream",
     "text": [
      "(37,)\n"
     ]
    }
   ],
   "source": [
    "prediction_at_support = np.empty(clf.support_vectors_.shape[0])\n",
    "i = 0\n",
    "for (x, y) in clf.support_vectors_:\n",
    "    prediction_at_support[i] = clf.predict([[x,y]])\n",
    "    i += 1\n",
    "print(prediction_at_support.shape)\n",
    "#print(prediction_at_support)"
   ]
  },
  {
   "cell_type": "code",
   "execution_count": 9,
   "metadata": {
    "collapsed": false
   },
   "outputs": [
    {
     "name": "stderr",
     "output_type": "stream",
     "text": [
      "/Users/avantishrikumar/anaconda/lib/python2.7/site-packages/matplotlib/collections.py:571: FutureWarning: elementwise comparison failed; returning scalar instead, but in the future will perform elementwise comparison\n",
      "  if self._edgecolors == str('face'):\n"
     ]
    },
    {
     "data": {
      "image/png": "[encoded data removed]",
      "text/plain": [
       "<matplotlib.figure.Figure at 0x10a16d750>"
      ]
     },
     "metadata": {},
     "output_type": "display_data"
    }
   ],
   "source": [
    "plt.scatter(clf.support_vectors_[:,0], clf.support_vectors_[:,1], c=prediction_at_support[:] )\n",
    "plt.show()"
   ]
  },
  {
   "cell_type": "code",
   "execution_count": 10,
   "metadata": {
    "collapsed": false
   },
   "outputs": [
    {
     "name": "stdout",
     "output_type": "stream",
     "text": [
      "37\n"
     ]
    }
   ],
   "source": [
    "num_support_vectors = clf.dual_coef_.shape[1]\n",
    "print(num_support_vectors)"
   ]
  },
  {
   "cell_type": "code",
   "execution_count": 11,
   "metadata": {
    "collapsed": false
   },
   "outputs": [
    {
     "data": {
      "text/plain": [
       "array([-0.37857815, -0.99965529, -0.57051416, -0.99965946, -0.99999491,\n",
       "       -0.13181328, -0.9999127 , -0.99994382, -0.54286645, -0.98992585,\n",
       "       -1.00026252, -1.00015163, -0.99992549, -0.82702449, -1.00040643,\n",
       "       -0.87461592,  0.33237653, -1.00016148, -0.90454273, -0.74668872,\n",
       "        1.00059202,  1.00001283,  0.99978534, -0.22321357,  0.38155552,\n",
       "        0.68809502,  0.87712216,  1.00012583,  0.29013498, -0.23443283,\n",
       "        0.9997275 ,  0.7349251 , -0.18193399,  0.67903587,  0.05056191,\n",
       "        0.99983902,  0.76082975])"
      ]
     },
     "execution_count": 11,
     "metadata": {},
     "output_type": "execute_result"
    }
   ],
   "source": [
    "clf.decision_function(clf.support_vectors_)"
   ]
  },
  {
   "cell_type": "code",
   "execution_count": 12,
   "metadata": {
    "collapsed": true
   },
   "outputs": [],
   "source": [
    "alpha_i = np.empty(num_support_vectors)\n",
    "y_i = np.empty(num_support_vectors, dtype=np.int)\n",
    "for i in range(num_support_vectors):\n",
    "    alpha_i[i] = clf.dual_coef_[0][i]\n",
    "    y_i[i] = (1 if prediction_at_support[i] == 1 else -1)"
   ]
  },
  {
   "cell_type": "code",
   "execution_count": 13,
   "metadata": {
    "collapsed": true
   },
   "outputs": [],
   "source": [
    "def gaussian_kernel_function(point1, point2, gamma):\n",
    "    to_return = math.exp(-1.0*gamma*((norm(point1-point2))**2))\n",
    "    #print(to_return)\n",
    "    return to_return"
   ]
  },
  {
   "cell_type": "code",
   "execution_count": 14,
   "metadata": {
    "collapsed": true
   },
   "outputs": [],
   "source": [
    "def calculate_raw_prediction(point):\n",
    "    #This is sum over all support vectors of alpha_i * y_i * kernel_based_dot_product(support_vector_i, point) + b\n",
    "    accumulate = 0.0\n",
    "    for i in range(num_support_vectors):\n",
    "        support_vector_point = np.array([clf.support_vectors_[i][0], clf.support_vectors_[i][1]])\n",
    "        kernel_func_result = gaussian_kernel_function(point, support_vector_point, gamma)\n",
    "        accumulate += alpha_i[i]*kernel_func_result\n",
    "    return (accumulate + clf.intercept_)"
   ]
  },
  {
   "cell_type": "code",
   "execution_count": 15,
   "metadata": {
    "collapsed": false
   },
   "outputs": [
    {
     "name": "stdout",
     "output_type": "stream",
     "text": [
      "Support vector: x=15.0,y=13.0, Alpha_i=-100.0,y_i=-1, Raw prediction=-0.378578150211\n",
      "Support vector: x=-1.0,y=-42.0, Alpha_i=-45.1454164609,y_i=-1, Raw prediction=-0.99965529158\n",
      "Support vector: x=17.0,y=27.0, Alpha_i=-100.0,y_i=-1, Raw prediction=-0.570514155992\n",
      "Support vector: x=7.0,y=-29.0, Alpha_i=-78.6489180973,y_i=-1, Raw prediction=-0.999659457055\n",
      "Support vector: x=6.0,y=-33.0, Alpha_i=-72.147498301,y_i=-1, Raw prediction=-0.999994911018\n",
      "Support vector: x=-18.0,y=38.0, Alpha_i=-100.0,y_i=-1, Raw prediction=-0.13181328182\n",
      "Support vector: x=-15.0,y=10.0, Alpha_i=-32.9044708513,y_i=-1, Raw prediction=-0.999912695023\n",
      "Support vector: x=-11.0,y=-19.0, Alpha_i=-61.205902635,y_i=-1, Raw prediction=-0.999943822353\n",
      "Support vector: x=16.0,y=21.0, Alpha_i=-100.0,y_i=-1, Raw prediction=-0.542866453432\n",
      "Support vector: x=5.0,y=-37.0, Alpha_i=-100.0,y_i=-1, Raw prediction=-0.989925846187\n",
      "Support vector: x=20.0,y=46.0, Alpha_i=-11.50943334,y_i=-1, Raw prediction=-1.00026251819\n",
      "Support vector: x=-20.0,y=47.0, Alpha_i=-43.5998983911,y_i=-1, Raw prediction=-1.00015163156\n",
      "Support vector: x=18.0,y=30.0, Alpha_i=-3.83605216119,y_i=-1, Raw prediction=-0.99992549334\n",
      "Support vector: x=-14.0,y=6.0, Alpha_i=-100.0,y_i=-1, Raw prediction=-0.827024490374\n",
      "Support vector: x=12.0,y=-13.0, Alpha_i=-38.7090114685,y_i=-1, Raw prediction=-1.00040642809\n",
      "Support vector: x=-3.0,y=-39.0, Alpha_i=-100.0,y_i=-1, Raw prediction=-0.874615915735\n",
      "Support vector: x=-10.0,y=-16.0, Alpha_i=-100.0,y_i=1, Raw prediction=0.332376529649\n",
      "Support vector: x=-19.0,y=39.0, Alpha_i=-69.9855928859,y_i=-1, Raw prediction=-1.00016148239\n",
      "Support vector: x=8.0,y=-25.0, Alpha_i=-100.0,y_i=-1, Raw prediction=-0.904542731481\n",
      "Support vector: x=-5.0,y=-35.0, Alpha_i=-100.0,y_i=-1, Raw prediction=-0.74668872019\n",
      "Support vector: x=13.0,y=4.0, Alpha_i=47.6213539257,y_i=1, Raw prediction=1.00059202331\n",
      "Support vector: x=9.0,y=-15.0, Alpha_i=86.096638281,y_i=1, Raw prediction=1.00001283418\n",
      "Support vector: x=14.0,y=18.0, Alpha_i=52.5145587145,y_i=1, Raw prediction=0.99978533993\n",
      "Support vector: x=0.0,y=-38.0, Alpha_i=100.0,y_i=-1, Raw prediction=-0.223213569686\n",
      "Support vector: x=16.0,y=27.0, Alpha_i=100.0,y_i=1, Raw prediction=0.381555519441\n",
      "Support vector: x=-17.0,y=35.0, Alpha_i=100.0,y_i=1, Raw prediction=0.688095016855\n",
      "Support vector: x=-18.0,y=49.0, Alpha_i=100.0,y_i=1, Raw prediction=0.877122162766\n",
      "Support vector: x=17.0,y=38.0, Alpha_i=22.225802202,y_i=1, Raw prediction=1.00012583108\n",
      "Support vector: x=15.0,y=20.0, Alpha_i=100.0,y_i=1, Raw prediction=0.290134980048\n",
      "Support vector: x=1.0,y=-38.0, Alpha_i=100.0,y_i=-1, Raw prediction=-0.234432828351\n",
      "Support vector: x=-10.0,y=-11.0, Alpha_i=93.4865935062,y_i=1, Raw prediction=0.999727500854\n",
      "Support vector: x=-15.0,y=18.0, Alpha_i=100.0,y_i=1, Raw prediction=0.734925096768\n",
      "Support vector: x=2.0,y=-37.0, Alpha_i=100.0,y_i=-1, Raw prediction=-0.181933988813\n",
      "Support vector: x=0.0,y=-33.0, Alpha_i=100.0,y_i=1, Raw prediction=0.679035873767\n",
      "Support vector: x=4.0,y=-32.0, Alpha_i=100.0,y_i=1, Raw prediction=0.0505619144982\n",
      "Support vector: x=1.0,y=-31.0, Alpha_i=55.7472479627,y_i=1, Raw prediction=0.999839019044\n",
      "Support vector: x=-10.0,y=-13.0, Alpha_i=100.0,y_i=1, Raw prediction=0.760829752598\n",
      "Intercept:[-8.2846289]\n"
     ]
    }
   ],
   "source": [
    "support_vector_raw_prediction = np.empty(num_support_vectors)\n",
    "for i in range(num_support_vectors):\n",
    "    support_vector_point = np.array([clf.support_vectors_[i][0],clf.support_vectors_[i][1]])\n",
    "    support_vector_raw_prediction[i] = calculate_raw_prediction(support_vector_point)\n",
    "    print(\"Support vector: x=\" + str(clf.support_vectors_[i][0]) + \",y=\" + str(clf.support_vectors_[i][1]) + \n",
    "          \", Alpha_i=\" + str(alpha_i[i]) + \",y_i=\" + str(y_i[i]) + \", Raw prediction=\" + \n",
    "          str(support_vector_raw_prediction[i]))\n",
    "print(\"Intercept:\" + str(clf.intercept_))"
   ]
  },
  {
   "cell_type": "code",
   "execution_count": 16,
   "metadata": {
    "collapsed": true
   },
   "outputs": [],
   "source": [
    "def distance(point1, point2):\n",
    "    return norm(point1 - point2)"
   ]
  },
  {
   "cell_type": "code",
   "execution_count": 17,
   "metadata": {
    "collapsed": true
   },
   "outputs": [],
   "source": [
    "def get_closest_opposite_label_point_in_dataset(point):\n",
    "    prediction = clf.predict([point])\n",
    "    opposite_label = 1 - prediction\n",
    "    opposite_data_indices = np.empty((0), dtype=np.int)\n",
    "    for i in range(points.shape[0]):\n",
    "        if labels[i] == opposite_label:\n",
    "            opposite_data_indices = np.append(opposite_data_indices, i)\n",
    "    min = float('inf')\n",
    "    index = -1\n",
    "    for i in range(opposite_data_indices.shape[0]):\n",
    "        dist = distance(point, np.array([points[opposite_data_indices[i]]]))\n",
    "        if (dist < min):\n",
    "            min = dist\n",
    "            index = opposite_data_indices[i]\n",
    "    return (min, index, points[index] if index != -1 else None)"
   ]
  },
  {
   "cell_type": "code",
   "execution_count": 18,
   "metadata": {
    "collapsed": true
   },
   "outputs": [],
   "source": [
    "def get_reference_point_from_closest_opposite_label_point(point, step=0.001):\n",
    "    (dist, index, opposite_point) = get_closest_opposite_label_point_in_dataset(point)\n",
    "    #1. Opposite point is likely much closer to the separating hyperplane\n",
    "    #2. Starting from there, calculate unit vector from opposite point to point\n",
    "    length = distance(point, opposite_point)\n",
    "    unit = (point - opposite_point)/length\n",
    "    # Choose a step and move in steps until you just pass the zero point\n",
    "    passed = False\n",
    "    current = np.copy(opposite_point)\n",
    "    starting_prediction = calculate_raw_prediction(current)\n",
    "    while not passed and distance(current, point) > step:\n",
    "        current += step*unit\n",
    "        new_prediction = calculate_raw_prediction(current)\n",
    "        if new_prediction*starting_prediction < 0: \n",
    "            #new_prediction must have switched sign\n",
    "            passed = True\n",
    "    return (current, calculate_raw_prediction(current))   "
   ]
  },
  {
   "cell_type": "code",
   "execution_count": 19,
   "metadata": {
    "collapsed": true
   },
   "outputs": [],
   "source": [
    "def get_gradient(point, dx=0.001):\n",
    "    grad = np.zeros_like(point, dtype=np.float)\n",
    "    point_prediction = calculate_raw_prediction(point)\n",
    "    for i in range(point.shape[0]):\n",
    "        # Calculate partial derivative for each element of vector\n",
    "        # First, move by increment in direction of ith element\n",
    "        copy = np.copy(point)\n",
    "        copy[i] += dx\n",
    "        # Then find predicton at that point and calculate dy/dx\n",
    "        dy = calculate_raw_prediction(copy) - point_prediction\n",
    "        grad[i] = dy/dx\n",
    "    return grad"
   ]
  },
  {
   "cell_type": "code",
   "execution_count": 20,
   "metadata": {
    "collapsed": true
   },
   "outputs": [],
   "source": [
    "def get_average_gradient_between_points(from_point, to_point, step=0.01):\n",
    "    length = distance(from_point, to_point)\n",
    "    unit = (to_point - from_point)/length\n",
    "    grad = get_gradient(from_point)\n",
    "    num_points = 1\n",
    "    current_point = np.copy(from_point)\n",
    "    while distance(current_point, to_point) >= step:\n",
    "        current_point += step*unit\n",
    "        num_points += 1\n",
    "        grad += get_gradient(current_point)\n",
    "    average_grad = grad/float(num_points)\n",
    "    return average_grad"
   ]
  },
  {
   "cell_type": "code",
   "execution_count": 27,
   "metadata": {
    "collapsed": true
   },
   "outputs": [],
   "source": [
    "def get_importance_score(point):\n",
    "    (reference_point, prediction) = get_reference_point_from_closest_opposite_label_point(point)\n",
    "    average_grad = get_average_gradient_between_points(reference_point, point)\n",
    "    importance_score = np.zeros_like(point, dtype=np.float)\n",
    "    for i in range(point.shape[0]):\n",
    "        importance_score[i] = (point[i] - reference_point[i]) * average_grad[i]\n",
    "    return importance_score, average_grad, reference_point"
   ]
  },
  {
   "cell_type": "code",
   "execution_count": 28,
   "metadata": {
    "collapsed": false
   },
   "outputs": [],
   "source": [
    "display_points = np.empty((0,9), dtype=float)\n",
    "for x in range(-50,60,20):\n",
    "    for y in range(-50,60,20):\n",
    "        point = np.array([x,y])\n",
    "        raw_pred = calculate_raw_prediction(point)\n",
    "        imp, avg_grad, reference_point = get_importance_score(point)\n",
    "        display_points = np.append(display_points, [[x, y, raw_pred, imp[0], imp[1],\n",
    "                                                     avg_grad[0], avg_grad[1],\n",
    "                                                     reference_point[0], reference_point[1]]], axis=0)"
   ]
  },
  {
   "cell_type": "code",
   "execution_count": 71,
   "metadata": {
    "collapsed": false
   },
   "outputs": [
    {
     "data": {
      "image/png": "[encoded data removed]",
      "text/plain": [
       "<matplotlib.figure.Figure at 0x10a66e510>"
      ]
     },
     "metadata": {},
     "output_type": "display_data"
    },
    {
     "data": {
      "image/png": "[encoded data removed]",
      "text/plain": [
       "<matplotlib.figure.Figure at 0x10a71e610>"
      ]
     },
     "metadata": {},
     "output_type": "display_data"
    },
    {
     "data": {
      "image/png": "[encoded data removed]",
      "text/plain": [
       "<matplotlib.figure.Figure at 0x10a66e550>"
      ]
     },
     "metadata": {},
     "output_type": "display_data"
    }
   ],
   "source": [
    "#gradient at each point\n",
    "grad_per_point = np.array([get_gradient(x) for x in display_points[:,:2]])\n",
    "plt.quiver(display_points[:,0], display_points[:,1],\n",
    "           -grad_per_point[:,0], -grad_per_point[:,1],\n",
    "           color=[(1,0,0) if x==1 else (0,0,1) for x in np.sign(display_points[:,2])])\n",
    "plt.title(\"Local gradient (for decreasing norm of prediction)\")\n",
    "plt.show()\n",
    "\n",
    "#unit norm direction to reference\n",
    "dir_to_ref = display_points[:,7:9] - display_points[:,:2]\n",
    "dir_to_ref = dir_to_ref/np.linalg.norm(dir_to_ref, axis=1)[:,None]\n",
    "plt.quiver(display_points[:,0], display_points[:,1],\n",
    "           dir_to_ref[:,0], dir_to_ref[:,1],\n",
    "           color=[(1,0,0) if x==1 else (0,0,1) for x in np.sign(display_points[:,2])])\n",
    "plt.xlim(-60, 60)\n",
    "plt.ylim(-60, 60)\n",
    "plt.title(\"Direction to reference\")\n",
    "plt.show()\n",
    "\n",
    "#avg grad\n",
    "plt.quiver(display_points[:,0], display_points[:,1],\n",
    "           -np.sign(display_points[:,2])*display_points[:,5],\n",
    "           -np.sign(display_points[:,2])*display_points[:,6],\n",
    "           color=[(1,0,0) if x==1 else (0,0,1) for x in np.sign(display_points[:,2])])\n",
    "plt.xlim(-60, 60)\n",
    "plt.ylim(-60, 60)\n",
    "plt.title(\"Average gradient (for decreasing norm of prediction)\")\n",
    "plt.show()"
   ]
  },
  {
   "cell_type": "code",
   "execution_count": 24,
   "metadata": {
    "collapsed": false
   },
   "outputs": [
    {
     "data": {
      "image/png": "[encoded data removed]",
      "text/plain": [
       "<matplotlib.figure.Figure at 0x10a2b0910>"
      ]
     },
     "metadata": {},
     "output_type": "display_data"
    }
   ],
   "source": [
    "plt.scatter(display_points[:,0], display_points[:,1])\n",
    "for i in range(display_points.shape[0]):\n",
    "    x = display_points[i][0]\n",
    "    y = display_points[i][1]\n",
    "    raw_pred = display_points[i][2]\n",
    "    if (x+10)/20 % 2 == 0:\n",
    "        plt.annotate('(%5.2f)' %(raw_pred), xy=(x,y), xytext=(x-10,y+3))\n",
    "    else:\n",
    "        plt.annotate('(%5.2f)' %(raw_pred), xy=(x,y), xytext=(x-10,y-7))\n",
    "plt.title('Raw Prediction')\n",
    "plt.show()"
   ]
  },
  {
   "cell_type": "code",
   "execution_count": null,
   "metadata": {
    "collapsed": true
   },
   "outputs": [],
   "source": []
  }
 ],
 "metadata": {
  "anaconda-cloud": {},
  "kernelspec": {
   "display_name": "Python 2",
   "language": "python",
   "name": "python2"
  },
  "language_info": {
   "codemirror_mode": {
    "name": "ipython",
    "version": 2
   },
   "file_extension": ".py",
   "mimetype": "text/x-python",
   "name": "python",
   "nbconvert_exporter": "python",
   "pygments_lexer": "ipython2",
   "version": "2.7.12"
  }
 },
 "nbformat": 4,
 "nbformat_minor": 2
}
