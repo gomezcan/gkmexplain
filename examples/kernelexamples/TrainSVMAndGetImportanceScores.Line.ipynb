{
 "cells": [
  {
   "cell_type": "code",
   "execution_count": 1,
   "metadata": {
    "collapsed": true
   },
   "outputs": [],
   "source": [
    "import numpy as np\n",
    "from sklearn.svm import SVC\n",
    "import matplotlib.pyplot as plt\n",
    "from numpy.linalg import norm\n",
    "import math"
   ]
  },
  {
   "cell_type": "code",
   "execution_count": 2,
   "metadata": {
    "collapsed": false
   },
   "outputs": [],
   "source": [
    "points = np.load(\"Line.Points.1000.npy\")\n",
    "labels = np.load(\"Line.Labels.1000.npy\")"
   ]
  },
  {
   "cell_type": "code",
   "execution_count": 3,
   "metadata": {
    "collapsed": false
   },
   "outputs": [],
   "source": [
    "#print(points)\n",
    "#print(labels)\n",
    "#print(points[:-100,:].shape)"
   ]
  },
  {
   "cell_type": "markdown",
   "metadata": {},
   "source": [
    "# Number of support vectors:\n",
    "| C        | Gamma    | Number of Support Vectors | Accuracy | Comments |\n",
    "|----------|----------|---------------------------|----------|----------|\n",
    "|1         | 0.01     | 213                       | 0.98     |          |\n",
    "|100       | 0.01     | 135                       | 0.99     |          |\n",
    "|1         | 0.001    | 115                       | 0.99     |          |\n",
    "|100       | 0.001    | 24                        | 0.99     | BEST     |\n",
    "|1         | 0.0001   | 188                       | 0.99     |          |\n",
    "|100       | 0.0001   | 40                        | 0.99     |          |"
   ]
  },
  {
   "cell_type": "code",
   "execution_count": 4,
   "metadata": {
    "collapsed": false
   },
   "outputs": [
    {
     "name": "stdout",
     "output_type": "stream",
     "text": [
      "SVC(C=100, cache_size=200, class_weight=None, coef0=0.0,\n",
      "  decision_function_shape='ovr', degree=3, gamma=0.001, kernel='rbf',\n",
      "  max_iter=-1, probability=False, random_state=None, shrinking=True,\n",
      "  tol=0.001, verbose=False)\n"
     ]
    },
    {
     "data": {
      "text/plain": [
       "SVC(C=100, cache_size=200, class_weight=None, coef0=0.0,\n",
       "  decision_function_shape='ovr', degree=3, gamma=0.001, kernel='rbf',\n",
       "  max_iter=-1, probability=False, random_state=None, shrinking=True,\n",
       "  tol=0.001, verbose=False)"
      ]
     },
     "execution_count": 4,
     "metadata": {},
     "output_type": "execute_result"
    }
   ],
   "source": [
    "gamma=0.001\n",
    "clf = SVC(C=100, gamma=gamma)\n",
    "print(clf)\n",
    "clf.fit(points[:-100,:], labels[:-100])"
   ]
  },
  {
   "cell_type": "code",
   "execution_count": 5,
   "metadata": {
    "collapsed": false
   },
   "outputs": [
    {
     "name": "stdout",
     "output_type": "stream",
     "text": [
      "INACCURATE PREDICTION!!: Point: [-46. -45.] Label: 0 Prediction: [1]\n",
      "Accuracy: 0.99\n"
     ]
    }
   ],
   "source": [
    "numcorrect = 0\n",
    "for (point, label) in zip(points[-100:,:], labels[-100:]):\n",
    "    prediction = clf.predict([point])\n",
    "#    print(\"Point: \" + str(point) + \" Label: \" + str(label) + \" Prediction: \" + str(prediction))\n",
    "    if label == prediction:\n",
    "        numcorrect += 1\n",
    "    else:\n",
    "        print(\"INACCURATE PREDICTION!!: Point: \" + str(point) + \" Label: \" + str(label) + \" Prediction: \" + str(prediction))\n",
    "print(\"Accuracy: \" + str(float(numcorrect)/100.0))"
   ]
  },
  {
   "cell_type": "code",
   "execution_count": 6,
   "metadata": {
    "collapsed": false
   },
   "outputs": [],
   "source": [
    "#print(clf.support_.shape)"
   ]
  },
  {
   "cell_type": "code",
   "execution_count": 7,
   "metadata": {
    "collapsed": false
   },
   "outputs": [
    {
     "name": "stdout",
     "output_type": "stream",
     "text": [
      "(24, 2)\n"
     ]
    }
   ],
   "source": [
    "print(str(clf.support_vectors_.shape))"
   ]
  },
  {
   "cell_type": "code",
   "execution_count": 8,
   "metadata": {
    "collapsed": false
   },
   "outputs": [
    {
     "name": "stdout",
     "output_type": "stream",
     "text": [
      "(24,)\n",
      "[ 0.  0.  0.  0.  0.  0.  0.  0.  0.  0.  0.  0.  1.  1.  1.  1.  1.  1.\n",
      "  1.  1.  1.  1.  1.  1.]\n"
     ]
    }
   ],
   "source": [
    "prediction_at_support = np.empty(clf.support_vectors_.shape[0])\n",
    "i = 0\n",
    "for (x, y) in clf.support_vectors_:\n",
    "    prediction_at_support[i] = clf.predict([[x,y]])\n",
    "    i += 1\n",
    "print(prediction_at_support.shape)\n",
    "print(prediction_at_support)"
   ]
  },
  {
   "cell_type": "code",
   "execution_count": 9,
   "metadata": {
    "collapsed": false
   },
   "outputs": [
    {
     "data": {
      "image/png": "[encoded data removed]",
      "text/plain": [
       "<matplotlib.figure.Figure at 0x7f2c5c670a90>"
      ]
     },
     "metadata": {},
     "output_type": "display_data"
    }
   ],
   "source": [
    "plt.scatter(clf.support_vectors_[:,0], clf.support_vectors_[:,1], c=prediction_at_support[:] )\n",
    "plt.show()"
   ]
  },
  {
   "cell_type": "code",
   "execution_count": 10,
   "metadata": {
    "collapsed": true
   },
   "outputs": [],
   "source": [
    "num_support_vectors = clf.dual_coef_.shape[1]"
   ]
  },
  {
   "cell_type": "code",
   "execution_count": 11,
   "metadata": {
    "collapsed": true
   },
   "outputs": [],
   "source": [
    "def gaussian_kernel_function(point1, point2, gamma):\n",
    "    return math.exp(-1.0*gamma*(norm(point1-point2))**2)"
   ]
  },
  {
   "cell_type": "code",
   "execution_count": 12,
   "metadata": {
    "collapsed": true
   },
   "outputs": [],
   "source": [
    "def calculate_raw_prediction(point):\n",
    "    #This is sum over all support vectors of alpha_i * y_i * kernel_based_dot_product(support_vector_i, point) + b\n",
    "    accumulate = 0.0\n",
    "    for i in range(num_support_vectors):\n",
    "        support_vector_point = np.array([clf.support_vectors_[i][0], clf.support_vectors_[i][1]])\n",
    "        accumulate += alpha_i[i]*y_i[i]*gaussian_kernel_function(point, support_vector_point, gamma)\n",
    "    return (accumulate + clf.intercept_)"
   ]
  },
  {
   "cell_type": "code",
   "execution_count": 13,
   "metadata": {
    "collapsed": false
   },
   "outputs": [
    {
     "name": "stdout",
     "output_type": "stream",
     "text": [
      "(1, 24)\n"
     ]
    }
   ],
   "source": [
    "print(clf.dual_coef_.shape)"
   ]
  },
  {
   "cell_type": "code",
   "execution_count": 14,
   "metadata": {
    "collapsed": false
   },
   "outputs": [
    {
     "name": "stdout",
     "output_type": "stream",
     "text": [
      "Support vector: x=-40.0,y=-38.0, Alpha_i=-100.0,y_i=-1, Raw prediction=[ 868.06469863]\n",
      "Support vector: x=44.0,y=45.0, Alpha_i=-100.0,y_i=-1, Raw prediction=[ 1111.27685136]\n",
      "Support vector: x=48.0,y=50.0, Alpha_i=-17.1750570764,y_i=-1, Raw prediction=[ 1029.6510926]\n",
      "Support vector: x=49.0,y=50.0, Alpha_i=-100.0,y_i=-1, Raw prediction=[ 1118.1653495]\n",
      "Support vector: x=28.0,y=29.0, Alpha_i=-28.9039142974,y_i=-1, Raw prediction=[ 1148.11372691]\n",
      "Support vector: x=-50.0,y=50.0, Alpha_i=-0.440666768777,y_i=-1, Raw prediction=[ 6.11926886]\n",
      "Support vector: x=3.0,y=4.0, Alpha_i=-100.0,y_i=-1, Raw prediction=[ 1030.37187107]\n",
      "Support vector: x=-16.0,y=-15.0, Alpha_i=-96.8460711132,y_i=-1, Raw prediction=[ 1169.03483922]\n",
      "Support vector: x=32.0,y=33.0, Alpha_i=-85.2969166974,y_i=-1, Raw prediction=[ 1319.48839902]\n",
      "Support vector: x=20.0,y=21.0, Alpha_i=-100.0,y_i=-1, Raw prediction=[ 1239.17504567]\n",
      "Support vector: x=-28.0,y=-27.0, Alpha_i=-100.0,y_i=-1, Raw prediction=[ 1214.08081037]\n",
      "Support vector: x=-7.0,y=-6.0, Alpha_i=-100.0,y_i=-1, Raw prediction=[ 1313.47226496]\n",
      "Support vector: x=-29.0,y=-30.0, Alpha_i=100.0,y_i=1, Raw prediction=[ 1070.48724219]\n",
      "Support vector: x=-6.0,y=-7.0, Alpha_i=100.0,y_i=1, Raw prediction=[ 1106.29838087]\n",
      "Support vector: x=5.0,y=4.0, Alpha_i=80.3379661927,y_i=1, Raw prediction=[ 929.55890303]\n",
      "Support vector: x=47.0,y=-50.0, Alpha_i=0.49384164261,y_i=1, Raw prediction=[ 9.14617849]\n",
      "Support vector: x=47.0,y=46.0, Alpha_i=100.0,y_i=1, Raw prediction=[ 1132.12476082]\n",
      "Support vector: x=-30.0,y=-31.0, Alpha_i=66.1880264241,y_i=1, Raw prediction=[ 799.59725327]\n",
      "Support vector: x=-43.0,y=-44.0, Alpha_i=49.3745217919,y_i=1, Raw prediction=[ 387.53625237]\n",
      "Support vector: x=21.0,y=20.0, Alpha_i=100.0,y_i=1, Raw prediction=[ 925.86115773]\n",
      "Support vector: x=48.0,y=47.0, Alpha_i=100.0,y_i=1, Raw prediction=[ 913.81879642]\n",
      "Support vector: x=44.0,y=43.0, Alpha_i=32.268269902,y_i=1, Raw prediction=[ 772.63229688]\n",
      "Support vector: x=-11.0,y=-12.0, Alpha_i=100.0,y_i=1, Raw prediction=[ 706.03644798]\n",
      "Support vector: x=30.0,y=29.0, Alpha_i=100.0,y_i=1, Raw prediction=[ 698.15025513]\n",
      "Intercept:[-0.10253749]\n"
     ]
    }
   ],
   "source": [
    "alpha_i = np.empty(num_support_vectors)\n",
    "y_i = np.empty(num_support_vectors, dtype=np.int)\n",
    "for i in range(num_support_vectors):\n",
    "    alpha_i[i] = clf.dual_coef_[0][i]\n",
    "    y_i[i] = (1 if prediction_at_support[i] == 1 else -1)\n",
    "    support_vector_point = np.array([clf.support_vectors_[i][0],clf.support_vectors_[i][1]])\n",
    "    print(\"Support vector: x=\" + str(clf.support_vectors_[i][0]) + \",y=\" + str(clf.support_vectors_[i][1]) + \n",
    "          \", Alpha_i=\" + str(alpha_i[i]) + \",y_i=\" + str(y_i[i]) + \", Raw prediction=\" + \n",
    "          str(calculate_raw_prediction(support_vector_point)))\n",
    "print(\"Intercept:\" + str(clf.intercept_))"
   ]
  },
  {
   "cell_type": "code",
   "execution_count": null,
   "metadata": {
    "collapsed": true
   },
   "outputs": [],
   "source": []
  }
 ],
 "metadata": {
  "anaconda-cloud": {},
  "kernelspec": {
   "display_name": "Python [conda root]",
   "language": "python",
   "name": "conda-root-py"
  },
  "language_info": {
   "codemirror_mode": {
    "name": "ipython",
    "version": 2
   },
   "file_extension": ".py",
   "mimetype": "text/x-python",
   "name": "python",
   "nbconvert_exporter": "python",
   "pygments_lexer": "ipython2",
   "version": "2.7.12"
  }
 },
 "nbformat": 4,
 "nbformat_minor": 2
}
