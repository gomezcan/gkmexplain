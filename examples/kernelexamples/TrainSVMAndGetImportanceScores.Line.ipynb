{
 "cells": [
  {
   "cell_type": "code",
   "execution_count": 16,
   "metadata": {
    "collapsed": true
   },
   "outputs": [],
   "source": [
    "%matplotlib inline\n",
    "from __future__ import division, print_function, absolute_import\n",
    "import numpy as np\n",
    "from sklearn.svm import SVC\n",
    "import matplotlib.pyplot as plt\n",
    "from numpy.linalg import norm\n",
    "import math"
   ]
  },
  {
   "cell_type": "code",
   "execution_count": 2,
   "metadata": {
    "collapsed": false
   },
   "outputs": [],
   "source": [
    "points = np.load(\"Line.Points.1000.npy\")\n",
    "labels = np.load(\"Line.Labels.1000.npy\")"
   ]
  },
  {
   "cell_type": "code",
   "execution_count": 3,
   "metadata": {
    "collapsed": false
   },
   "outputs": [],
   "source": [
    "#print(points)\n",
    "#print(labels)\n",
    "#print(points[:-100,:].shape)"
   ]
  },
  {
   "cell_type": "markdown",
   "metadata": {},
   "source": [
    "# Number of support vectors:\n",
    "| C        | Gamma    | Number of Support Vectors | Accuracy | Comments |\n",
    "|----------|----------|---------------------------|----------|----------|\n",
    "|1         | 0.01     | 213                       | 0.98     |          |\n",
    "|100       | 0.01     | 135                       | 0.99     |          |\n",
    "|1         | 0.001    | 115                       | 0.99     |          |\n",
    "|100       | 0.001    | 24                        | 0.99     | BEST     |\n",
    "|1         | 0.0001   | 188                       | 0.99     |          |\n",
    "|100       | 0.0001   | 40                        | 0.99     |          |"
   ]
  },
  {
   "cell_type": "code",
   "execution_count": 4,
   "metadata": {
    "collapsed": false
   },
   "outputs": [
    {
     "name": "stdout",
     "output_type": "stream",
     "text": [
      "SVC(C=100, cache_size=200, class_weight=None, coef0=0.0,\n",
      "  decision_function_shape='ovr', degree=3, gamma=0.001, kernel='rbf',\n",
      "  max_iter=-1, probability=False, random_state=None, shrinking=True,\n",
      "  tol=0.001, verbose=False)\n"
     ]
    },
    {
     "data": {
      "text/plain": [
       "SVC(C=100, cache_size=200, class_weight=None, coef0=0.0,\n",
       "  decision_function_shape='ovr', degree=3, gamma=0.001, kernel='rbf',\n",
       "  max_iter=-1, probability=False, random_state=None, shrinking=True,\n",
       "  tol=0.001, verbose=False)"
      ]
     },
     "execution_count": 4,
     "metadata": {},
     "output_type": "execute_result"
    }
   ],
   "source": [
    "gamma=0.001\n",
    "clf = SVC(C=100, gamma=gamma)\n",
    "print(clf)\n",
    "clf.fit(points[:-100,:], labels[:-100])"
   ]
  },
  {
   "cell_type": "code",
   "execution_count": 6,
   "metadata": {
    "collapsed": false
   },
   "outputs": [
    {
     "name": "stdout",
     "output_type": "stream",
     "text": [
      "INACCURATE PREDICTION!!: Point: [-46. -45.] Label: 0 Prediction: [1]\n",
      "Accuracy: 0.99\n"
     ]
    }
   ],
   "source": [
    "numcorrect = 0\n",
    "for (point, label) in zip(points[-100:,:], labels[-100:]):\n",
    "    prediction = clf.predict([point])\n",
    "#    print(\"Point: \" + str(point) + \" Label: \" + str(label) + \" Prediction: \" + str(prediction))\n",
    "    if label == prediction:\n",
    "        numcorrect += 1\n",
    "    else:\n",
    "        print(\"INACCURATE PREDICTION!!: Point: \" + str(point) + \" Label: \" + str(label) + \" Prediction: \" + str(prediction))\n",
    "print(\"Accuracy: \" + str(float(numcorrect)/100.0))"
   ]
  },
  {
   "cell_type": "code",
   "execution_count": 7,
   "metadata": {
    "collapsed": false
   },
   "outputs": [],
   "source": [
    "#print(clf.support_.shape)"
   ]
  },
  {
   "cell_type": "code",
   "execution_count": 8,
   "metadata": {
    "collapsed": false
   },
   "outputs": [
    {
     "name": "stdout",
     "output_type": "stream",
     "text": [
      "(24, 2)\n"
     ]
    }
   ],
   "source": [
    "print(str(clf.support_vectors_.shape))"
   ]
  },
  {
   "cell_type": "code",
   "execution_count": 9,
   "metadata": {
    "collapsed": false
   },
   "outputs": [
    {
     "name": "stdout",
     "output_type": "stream",
     "text": [
      "(24,)\n",
      "[ 0.  0.  0.  0.  0.  0.  0.  0.  0.  0.  0.  0.  1.  1.  1.  1.  1.  1.\n",
      "  1.  1.  1.  1.  1.  1.]\n"
     ]
    }
   ],
   "source": [
    "prediction_at_support = np.empty(clf.support_vectors_.shape[0])\n",
    "i = 0\n",
    "for (x, y) in clf.support_vectors_:\n",
    "    prediction_at_support[i] = clf.predict([[x,y]])\n",
    "    i += 1\n",
    "print(prediction_at_support.shape)\n",
    "print(prediction_at_support)"
   ]
  },
  {
   "cell_type": "code",
   "execution_count": 13,
   "metadata": {
    "collapsed": false
   },
   "outputs": [
    {
     "data": {
      "image/png": "[encoded data removed]",
      "text/plain": [
       "<matplotlib.figure.Figure at 0x10f07a490>"
      ]
     },
     "metadata": {},
     "output_type": "display_data"
    }
   ],
   "source": [
    "plt.scatter(clf.support_vectors_[:,0], clf.support_vectors_[:,1], c=prediction_at_support[:] )\n",
    "plt.show()"
   ]
  },
  {
   "cell_type": "code",
   "execution_count": 17,
   "metadata": {
    "collapsed": false
   },
   "outputs": [
    {
     "name": "stdout",
     "output_type": "stream",
     "text": [
      "24\n"
     ]
    }
   ],
   "source": [
    "num_support_vectors = clf.dual_coef_.shape[1]\n",
    "print(num_support_vectors)"
   ]
  },
  {
   "cell_type": "code",
   "execution_count": 18,
   "metadata": {
    "collapsed": false
   },
   "outputs": [
    {
     "data": {
      "text/plain": [
       "array([-0.55122525, -0.33229057, -0.99974632, -0.42225678, -1.00029954,\n",
       "       -1.00024715, -0.31270236, -1.00008121, -0.99978655, -0.67772334,\n",
       "       -0.55253322, -0.47928558,  0.94798013,  0.93882607,  0.99981556,\n",
       "        1.00016009,  0.98646905,  1.00016077,  1.00008131,  0.6513047 ,\n",
       "        0.94057225,  0.99994368,  0.652418  ,  0.39621552])"
      ]
     },
     "execution_count": 18,
     "metadata": {},
     "output_type": "execute_result"
    }
   ],
   "source": [
    "clf.decision_function(clf.support_vectors_)"
   ]
  },
  {
   "cell_type": "code",
   "execution_count": 42,
   "metadata": {
    "collapsed": true
   },
   "outputs": [],
   "source": [
    "def gaussian_kernel_function(point1, point2, gamma):\n",
    "    to_return = math.exp(-1.0*gamma*((norm(point1-point2))**2))\n",
    "    #print(to_return)\n",
    "    return to_return"
   ]
  },
  {
   "cell_type": "code",
   "execution_count": 59,
   "metadata": {
    "collapsed": true
   },
   "outputs": [],
   "source": [
    "def calculate_raw_prediction(point):\n",
    "    #This is sum over all support vectors of alpha_i * y_i * kernel_based_dot_product(support_vector_i, point) + b\n",
    "    accumulate = 0.0\n",
    "    for i in range(num_support_vectors):\n",
    "        support_vector_point = np.array([clf.support_vectors_[i][0], clf.support_vectors_[i][1]])\n",
    "        kernel_func_result = gaussian_kernel_function(point, support_vector_point, gamma)\n",
    "        accumulate += clf.dual_coef_[0][i]*kernel_func_result\n",
    "    return (accumulate + clf.intercept_)"
   ]
  },
  {
   "cell_type": "code",
   "execution_count": 60,
   "metadata": {
    "collapsed": false
   },
   "outputs": [
    {
     "name": "stdout",
     "output_type": "stream",
     "text": [
      "Support vector: x=-40.0,y=-38.0, Alpha_i=-100.0,y_i=-1, Raw prediction=[-0.55122525]\n",
      "Support vector: x=44.0,y=45.0, Alpha_i=-100.0,y_i=-1, Raw prediction=[-0.33229057]\n",
      "Support vector: x=48.0,y=50.0, Alpha_i=-17.1750570764,y_i=-1, Raw prediction=[-0.99974632]\n",
      "Support vector: x=49.0,y=50.0, Alpha_i=-100.0,y_i=-1, Raw prediction=[-0.42225678]\n",
      "Support vector: x=28.0,y=29.0, Alpha_i=-28.9039142974,y_i=-1, Raw prediction=[-1.00029954]\n",
      "Support vector: x=-50.0,y=50.0, Alpha_i=-0.440666768777,y_i=-1, Raw prediction=[-1.00024715]\n",
      "Support vector: x=3.0,y=4.0, Alpha_i=-100.0,y_i=-1, Raw prediction=[-0.31270236]\n",
      "Support vector: x=-16.0,y=-15.0, Alpha_i=-96.8460711132,y_i=-1, Raw prediction=[-1.00008121]\n",
      "Support vector: x=32.0,y=33.0, Alpha_i=-85.2969166974,y_i=-1, Raw prediction=[-0.99978655]\n",
      "Support vector: x=20.0,y=21.0, Alpha_i=-100.0,y_i=-1, Raw prediction=[-0.67772334]\n",
      "Support vector: x=-28.0,y=-27.0, Alpha_i=-100.0,y_i=-1, Raw prediction=[-0.55253322]\n",
      "Support vector: x=-7.0,y=-6.0, Alpha_i=-100.0,y_i=-1, Raw prediction=[-0.47928558]\n",
      "Support vector: x=-29.0,y=-30.0, Alpha_i=100.0,y_i=1, Raw prediction=[ 0.94798013]\n",
      "Support vector: x=-6.0,y=-7.0, Alpha_i=100.0,y_i=1, Raw prediction=[ 0.93882607]\n",
      "Support vector: x=5.0,y=4.0, Alpha_i=80.3379661927,y_i=1, Raw prediction=[ 0.99981556]\n",
      "Support vector: x=47.0,y=-50.0, Alpha_i=0.49384164261,y_i=1, Raw prediction=[ 1.00016009]\n",
      "Support vector: x=47.0,y=46.0, Alpha_i=100.0,y_i=1, Raw prediction=[ 0.98646905]\n",
      "Support vector: x=-30.0,y=-31.0, Alpha_i=66.1880264241,y_i=1, Raw prediction=[ 1.00016077]\n",
      "Support vector: x=-43.0,y=-44.0, Alpha_i=49.3745217919,y_i=1, Raw prediction=[ 1.00008131]\n",
      "Support vector: x=21.0,y=20.0, Alpha_i=100.0,y_i=1, Raw prediction=[ 0.6513047]\n",
      "Support vector: x=48.0,y=47.0, Alpha_i=100.0,y_i=1, Raw prediction=[ 0.94057225]\n",
      "Support vector: x=44.0,y=43.0, Alpha_i=32.268269902,y_i=1, Raw prediction=[ 0.99994368]\n",
      "Support vector: x=-11.0,y=-12.0, Alpha_i=100.0,y_i=1, Raw prediction=[ 0.652418]\n",
      "Support vector: x=30.0,y=29.0, Alpha_i=100.0,y_i=1, Raw prediction=[ 0.39621552]\n",
      "Intercept:[-0.10253749]\n"
     ]
    }
   ],
   "source": [
    "alpha_i = np.empty(num_support_vectors)\n",
    "y_i = np.empty(num_support_vectors, dtype=np.int)\n",
    "for i in range(num_support_vectors):\n",
    "    alpha_i[i] = clf.dual_coef_[0][i]\n",
    "    y_i[i] = (1 if prediction_at_support[i] == 1 else -1)\n",
    "    support_vector_point = np.array([clf.support_vectors_[i][0],clf.support_vectors_[i][1]])\n",
    "    print(\"Support vector: x=\" + str(clf.support_vectors_[i][0]) + \",y=\" + str(clf.support_vectors_[i][1]) + \n",
    "          \", Alpha_i=\" + str(alpha_i[i]) + \",y_i=\" + str(y_i[i]) + \", Raw prediction=\" + \n",
    "          str(calculate_raw_prediction(support_vector_point)))\n",
    "print(\"Intercept:\" + str(clf.intercept_))"
   ]
  },
  {
   "cell_type": "code",
   "execution_count": null,
   "metadata": {
    "collapsed": true
   },
   "outputs": [],
   "source": []
  }
 ],
 "metadata": {
  "anaconda-cloud": {},
  "kernelspec": {
   "display_name": "Python 2",
   "language": "python",
   "name": "python2"
  },
  "language_info": {
   "codemirror_mode": {
    "name": "ipython",
    "version": 2
   },
   "file_extension": ".py",
   "mimetype": "text/x-python",
   "name": "python",
   "nbconvert_exporter": "python",
   "pygments_lexer": "ipython2",
   "version": "2.7.12"
  }
 },
 "nbformat": 4,
 "nbformat_minor": 2
}
