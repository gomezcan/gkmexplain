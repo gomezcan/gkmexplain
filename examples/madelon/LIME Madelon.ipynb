{
 "cells": [
  {
   "cell_type": "code",
   "execution_count": 1,
   "metadata": {
    "collapsed": true
   },
   "outputs": [],
   "source": [
    "from __future__ import division, absolute_import, print_function\n",
    "%matplotlib inline"
   ]
  },
  {
   "cell_type": "code",
   "execution_count": 2,
   "metadata": {
    "collapsed": false
   },
   "outputs": [],
   "source": [
    "import time\n",
    "import numpy as np\n",
    "import random"
   ]
  },
  {
   "cell_type": "code",
   "execution_count": 3,
   "metadata": {
    "collapsed": false
   },
   "outputs": [],
   "source": [
    "import os\n",
    "os.environ['CUDA_VISIBLE_DEVICES'] = \"0\""
   ]
  },
  {
   "cell_type": "code",
   "execution_count": 4,
   "metadata": {
    "collapsed": false
   },
   "outputs": [
    {
     "name": "stdout",
     "output_type": "stream",
     "text": [
      "0\r\n"
     ]
    }
   ],
   "source": [
    "!echo $CUDA_VISIBLE_DEVICES"
   ]
  },
  {
   "cell_type": "markdown",
   "metadata": {},
   "source": [
    "### FIX  RANDOM SEEDS HERE! (Comment out to get fully random)"
   ]
  },
  {
   "cell_type": "code",
   "execution_count": 5,
   "metadata": {
    "collapsed": true
   },
   "outputs": [],
   "source": [
    "np.random.seed(0)\n",
    "random.seed(1001)"
   ]
  },
  {
   "cell_type": "markdown",
   "metadata": {},
   "source": [
    "## Get the data"
   ]
  },
  {
   "cell_type": "markdown",
   "metadata": {},
   "source": [
    "This is the data from the MADELON dataset http://archive.ics.uci.edu/ml/datasets/madelon"
   ]
  },
  {
   "cell_type": "code",
   "execution_count": 6,
   "metadata": {
    "collapsed": false
   },
   "outputs": [
    {
     "name": "stdout",
     "output_type": "stream",
     "text": [
      "madelon.param\t   madelon_train.data\t madelon_valid.data\r\n",
      "madelon_test.data  madelon_train.labels\r\n"
     ]
    }
   ],
   "source": [
    "!ls dataset/MADELON"
   ]
  },
  {
   "cell_type": "code",
   "execution_count": 7,
   "metadata": {
    "collapsed": false
   },
   "outputs": [
    {
     "name": "stdout",
     "output_type": "stream",
     "text": [
      "(2000, 500)\n",
      "(600, 500)\n"
     ]
    }
   ],
   "source": [
    "data = np.loadtxt(\"dataset/MADELON/madelon_train.data\", dtype=np.int32)\n",
    "validation_data = np.loadtxt(\"dataset/MADELON/madelon_valid.data\", dtype=np.int32)\n",
    "print(data.shape)\n",
    "print(validation_data.shape)"
   ]
  },
  {
   "cell_type": "markdown",
   "metadata": {},
   "source": [
    "### Subset the data to exclude irrelevant features"
   ]
  },
  {
   "cell_type": "code",
   "execution_count": 8,
   "metadata": {
    "collapsed": false
   },
   "outputs": [
    {
     "name": "stdout",
     "output_type": "stream",
     "text": [
      "(2000, 40)\n",
      "[[454 490 510 ..., 454 538 259]\n",
      " [483 491 490 ..., 439 429 534]\n",
      " [457 479 474 ..., 494 517 495]\n",
      " ..., \n",
      " [474 504 505 ..., 417 514 368]\n",
      " [461 468 490 ..., 501 521 638]\n",
      " [513 491 496 ..., 489 398 694]]\n"
     ]
    }
   ],
   "source": [
    "#relevant_features = np.array([339,443,473,49,379,476,242,106,319,29,452,434,129,282,454,154,337,65,494])\n",
    "#relevant_features = np.array([ 29, 49, 65, 106, 129, 154, 242, 282, 319, 337, 339, 379, 434, 443, 452, 454, 456, 473, 476, 494])\n",
    "#relevant_features = np.array([18, 29, 45, 49, 65, 78, 80, 106, 122, 129, 136, 148, 154, 155, 189, 242, 254, 282, 302, 315, 319, 323, 337, 339, 366, 367, 379, 402, 403, 428, 434, 438, 443, 452, 454, 456, 470, 473, 476, 494])\n",
    "all_models = np.load(\"TenMadelonModels.npy\")\n",
    "features_list = all_models[9].tolist()\n",
    "relevant_features = np.array(all_models[9])\n",
    "relevant_features = relevant_features - 1 # Convert 1 indexed to 0 indexed\n",
    "data = data[:, relevant_features]\n",
    "validation_data = validation_data[:, relevant_features]\n",
    "print(data.shape)\n",
    "print(validation_data)"
   ]
  },
  {
   "cell_type": "code",
   "execution_count": 9,
   "metadata": {
    "collapsed": false
   },
   "outputs": [
    {
     "name": "stdout",
     "output_type": "stream",
     "text": [
      "(2000,)\n",
      "[-1 -1 -1 ..., -1  1  1]\n"
     ]
    }
   ],
   "source": [
    "labels = np.loadtxt(\"dataset/MADELON/madelon_train.labels\", dtype=np.int32)\n",
    "validation_labels= np.loadtxt(\"dataset/madelon_valid.labels\", dtype=np.int32)\n",
    "print(labels.shape)\n",
    "print(labels)"
   ]
  },
  {
   "cell_type": "markdown",
   "metadata": {},
   "source": [
    "### Normalize the data by getting using average and stdev"
   ]
  },
  {
   "cell_type": "code",
   "execution_count": 10,
   "metadata": {
    "collapsed": true
   },
   "outputs": [],
   "source": [
    "def get_average_and_stdev(input_array):\n",
    "    avg = np.average(input_array, axis=0)\n",
    "    return avg, np.std(input_array, axis=0)"
   ]
  },
  {
   "cell_type": "code",
   "execution_count": 11,
   "metadata": {
    "collapsed": true
   },
   "outputs": [],
   "source": [
    "def normalize(input_array, avg, stdev):\n",
    "    avgremoved = input_array - avg[None,:]\n",
    "    return avgremoved/stdev"
   ]
  },
  {
   "cell_type": "markdown",
   "metadata": {},
   "source": [
    "#### Note that validation data is normalized using original bias and stdev"
   ]
  },
  {
   "cell_type": "code",
   "execution_count": 12,
   "metadata": {
    "collapsed": false
   },
   "outputs": [
    {
     "name": "stdout",
     "output_type": "stream",
     "text": [
      "(40,)\n",
      "(2000, 40)\n",
      "(600, 40)\n"
     ]
    }
   ],
   "source": [
    "avg, stdev = get_average_and_stdev(data)\n",
    "normalized = normalize(data, avg, stdev)\n",
    "normalized_validation = normalize(validation_data, avg, stdev)\n",
    "validation_pos_indices = np.nonzero(validation_labels == 1)[0]\n",
    "normalized_validation_pos=normalize(validation_data[validation_pos_indices], avg, stdev)\n",
    "print(avg.shape)\n",
    "print(normalized.shape)\n",
    "print(normalized_validation.shape)"
   ]
  },
  {
   "cell_type": "code",
   "execution_count": 13,
   "metadata": {
    "collapsed": false
   },
   "outputs": [
    {
     "name": "stdout",
     "output_type": "stream",
     "text": [
      "[-0.03609533 -0.00357137 -0.00671681 -0.11847695 -0.0338104   0.15032661\n",
      "  0.00036677 -0.01377585 -0.12626289 -0.12675752 -0.00861636  0.03378346\n",
      " -0.04081777  0.00088387 -0.01811258 -0.03407828  0.03015419 -0.21782664\n",
      "  0.03331272  0.03363522 -0.0126518   0.04952507 -0.00469233  0.01596474\n",
      "  0.15167207  0.12178815 -0.00886381 -0.11596197  0.04598214  0.02981902\n",
      "  0.02276057  0.11435599  0.0141396  -0.01160078  0.0955404   0.0064516\n",
      "  0.02386877  0.11207091 -0.21993314  0.09505615]\n"
     ]
    }
   ],
   "source": [
    "background_indices = np.nonzero(labels == -1)[0]\n",
    "#print(background_indices.shape)\n",
    "#print(background_indices)\n",
    "mean_bg_feature_values = np.average(normalized[background_indices], axis=0)\n",
    "print(mean_bg_feature_values)\n",
    "#print(mean_bg_feature_values.shape)"
   ]
  },
  {
   "cell_type": "code",
   "execution_count": 14,
   "metadata": {
    "collapsed": false
   },
   "outputs": [
    {
     "name": "stdout",
     "output_type": "stream",
     "text": [
      "[ 1.  1.  1.  1.  1.  1.  1.  1.  1.  1.  1.  1.  1.  1.  1.  1.  1.  1.\n",
      "  1.  1.  1.  1.  1.  1.  1.  1.  1.  1.  1.  1.  1.  1.  1.  1.  1.  1.\n",
      "  1.  1.  1.  1.]\n"
     ]
    }
   ],
   "source": [
    "print(np.std(normalized, axis=0))"
   ]
  },
  {
   "cell_type": "code",
   "execution_count": 15,
   "metadata": {
    "collapsed": false
   },
   "outputs": [],
   "source": [
    "from sklearn.externals import joblib\n",
    "classifier = joblib.load('GaussianClassifier_Model10_ProbTrue_Madelon_20Best_20Random_C1_G0_1.pkl')"
   ]
  },
  {
   "cell_type": "code",
   "execution_count": 16,
   "metadata": {
    "collapsed": true
   },
   "outputs": [],
   "source": [
    "def get_scores_from_explanation(exp):\n",
    "    scoresmap = exp.as_map()\n",
    "    scoreslist = scoresmap[1]\n",
    "    returnable = np.empty([len(scoreslist)])\n",
    "    indices = np.array([scoreslist[i][0] for i in range(len(scoreslist))])\n",
    "    values = np.array([scoreslist[i][1] for i in range(len(scoreslist))])\n",
    "    returnable[indices] = values\n",
    "    return returnable"
   ]
  },
  {
   "cell_type": "code",
   "execution_count": 17,
   "metadata": {
    "collapsed": false,
    "scrolled": true
   },
   "outputs": [
    {
     "name": "stdout",
     "output_type": "stream",
     "text": [
      "In iteration  0  Got imp score  [-0.00999705  0.009352    0.01243736 -0.03024458  0.00289736 -0.01019548\n",
      " -0.00247993  0.01107845 -0.0167779  -0.03087184  0.03488663  0.00032883\n",
      " -0.02473095 -0.00252216 -0.00405525  0.01976385 -0.04108559 -0.01790256\n",
      " -0.00402301  0.00854379 -0.02848948  0.0113931  -0.01217289 -0.06175826\n",
      "  0.02001772 -0.02227115 -0.03158633 -0.04184051 -0.03929972  0.02435989\n",
      " -0.00838413 -0.01350088 -0.02444156  0.02952744 -0.01859225 -0.02027465\n",
      " -0.01761195  0.00713297  0.05810955  0.04965255]\n",
      "In iteration  30  Got imp score  [-0.04199781 -0.02389431 -0.02006494  0.04274236  0.01176213 -0.03560963\n",
      " -0.00304001 -0.05867874  0.00928854  0.04414736 -0.04185279 -0.00816406\n",
      "  0.00607156 -0.02283954  0.01376737 -0.01192572  0.00879736 -0.01142937\n",
      " -0.03562592 -0.01126067  0.00659652  0.01359022  0.00809469  0.01303306\n",
      " -0.02241622 -0.04942015  0.03496433  0.00840376 -0.01810821 -0.00848581\n",
      "  0.00057604 -0.0213233  -0.01781949 -0.04071659 -0.02132292 -0.03258524\n",
      " -0.02454248  0.01148024 -0.0250538  -0.04408531]\n",
      "In iteration  60  Got imp score  [-0.01170249 -0.00388164  0.005906    0.01321053  0.0139705  -0.0139655\n",
      "  0.01957597  0.05428529 -0.03889279 -0.01726294 -0.00927696  0.05496572\n",
      "  0.0653166  -0.00188226  0.00187091 -0.01125416 -0.02717486 -0.01851875\n",
      "  0.00208     0.01881576  0.04244557 -0.01113361  0.02298521  0.03569504\n",
      "  0.02474171 -0.02672762  0.0260933  -0.00944398 -0.02825519  0.00765602\n",
      "  0.03079712  0.01332589 -0.03590706  0.01522221 -0.00486383  0.02074725\n",
      " -0.0159198   0.00522131 -0.02642331  0.0392832 ]\n",
      "In iteration  90  Got imp score  [ 0.05395348  0.01861449  0.00682507  0.00423272  0.05596312  0.04512164\n",
      " -0.00980225  0.02583416  0.06341781  0.02387381 -0.01939067  0.03290177\n",
      "  0.02216477  0.01885503  0.03697174  0.00057223  0.04942618  0.02764308\n",
      " -0.01321201  0.01201945 -0.01151267 -0.02470351 -0.00281129  0.04720324\n",
      " -0.03518497  0.00341097 -0.02824637 -0.01603574  0.02240816  0.00915271\n",
      " -0.00528714 -0.02953672  0.05356991 -0.00085888  0.01465732 -0.01560432\n",
      "  0.00875231 -0.02366693 -0.02654136 -0.02202539]\n",
      "In iteration  120  Got imp score  [-0.02495815  0.01187057 -0.02269715 -0.01587204  0.0126078  -0.0378922\n",
      " -0.02016125  0.01440592 -0.03791173 -0.03163497  0.00061552  0.00599044\n",
      " -0.00633938 -0.01214734 -0.02392036  0.00592655 -0.05552295 -0.01367819\n",
      " -0.02086128  0.0385698  -0.02946559  0.01835528 -0.00248579 -0.04111907\n",
      " -0.00443643  0.0005788   0.00791934 -0.03901609  0.01065602 -0.01244028\n",
      "  0.00546115 -0.0206103   0.01833355 -0.02143602  0.0175047   0.02738849\n",
      " -0.02106796 -0.02267869 -0.02918257 -0.02596371]\n",
      "In iteration  150  Got imp score  [  2.11651398e-02   1.29603363e-02   1.75769963e-02   1.85428453e-02\n",
      "   1.90088627e-02   1.41436655e-02  -2.80168007e-02  -1.70568562e-02\n",
      "   1.34520778e-02   2.05157556e-02  -2.40513818e-03   3.35284027e-02\n",
      "   1.92000535e-02  -2.59750259e-04  -1.63610263e-03  -5.91816120e-03\n",
      "  -2.08288199e-02  -7.54675508e-03   1.64920611e-02   4.29136577e-02\n",
      "   9.30463659e-03  -3.14166104e-02   7.54618817e-03   1.50548574e-03\n",
      "  -2.69426304e-03  -2.06572161e-03   1.57084122e-02  -1.07747861e-06\n",
      "  -9.50400175e-03   3.02345636e-02   1.51713702e-02  -2.69794821e-02\n",
      "   2.91565741e-03   2.18652906e-02  -1.42157112e-02   2.02001792e-02\n",
      "  -3.67191757e-02  -4.08576915e-03  -6.92003424e-03   2.52419373e-02]\n",
      "In iteration  180  Got imp score  [ 0.05329868 -0.02223147  0.00266141  0.02602617  0.02632511 -0.0218721\n",
      " -0.02987436 -0.0228441   0.01060215  0.02727954  0.02241379 -0.05412885\n",
      " -0.00335488  0.013656    0.03688525  0.01729575 -0.03542026  0.04168994\n",
      "  0.00359523 -0.02850539  0.03082499  0.00516035  0.03118081  0.03547091\n",
      " -0.00196125 -0.01099645  0.03733916 -0.02296492  0.01439956 -0.03430936\n",
      " -0.04925293 -0.01408634 -0.0101675  -0.04855421  0.00990308  0.0185905\n",
      " -0.03461187 -0.01657198 -0.04608682 -0.01410454]\n",
      "In iteration  210  Got imp score  [-0.02451272  0.03837763 -0.01623619  0.07407036  0.02267072 -0.02623245\n",
      " -0.06750853 -0.03696592 -0.0023555   0.00983909 -0.03294867  0.01145926\n",
      " -0.05862167 -0.00470402 -0.04160929  0.0305068  -0.03737097 -0.07848429\n",
      "  0.0061207   0.01323596 -0.00234335  0.04657756 -0.02662538 -0.01942244\n",
      "  0.00687258 -0.05733359 -0.03944004 -0.04617547  0.00149885  0.01002806\n",
      " -0.00705018 -0.00409295 -0.01178843 -0.02771201 -0.0356229   0.00025356\n",
      " -0.03387367  0.00859799 -0.05444717  0.00963429]\n",
      "In iteration  240  Got imp score  [ 0.02122152  0.02822713  0.00697049 -0.04729601  0.03021756  0.01938934\n",
      "  0.0058703  -0.00178658 -0.00066205  0.03063641  0.03663552  0.03789871\n",
      " -0.01842999  0.00974581 -0.00955879 -0.01939892 -0.02957556  0.01319062\n",
      "  0.0361461  -0.00346698  0.02363463 -0.02105565 -0.02738885  0.00164502\n",
      " -0.00471848 -0.00508432  0.03189407 -0.03212736  0.00756686 -0.02205618\n",
      "  0.04569357 -0.03756369  0.03660911  0.00440192  0.01885238 -0.0074327\n",
      "  0.01988178  0.03269536 -0.02127576  0.02287296]\n",
      "In iteration  270  Got imp score  [-0.01606896  0.03828008  0.01947926 -0.00241958  0.02070764 -0.01838499\n",
      " -0.01397118 -0.00359285 -0.01852856 -0.0454994  -0.02777631  0.01372209\n",
      "  0.00874698 -0.01648901  0.01800288  0.0280543  -0.02394473 -0.01314982\n",
      "  0.00976733 -0.00049995  0.01578277 -0.0278666   0.00104316 -0.00215713\n",
      " -0.05334044  0.01980298 -0.04022236 -0.03154269  0.00479896  0.01511502\n",
      "  0.05056713  0.0051385  -0.02031738 -0.02456351 -0.00332043 -0.02198429\n",
      "  0.01166328 -0.01392739  0.03001533 -0.02824528]\n",
      "In iteration  300  Got imp score  [  4.41723854e-02  -3.70030725e-03  -3.42950443e-02  -2.85583235e-02\n",
      "  -3.18456724e-02  -2.68603799e-02   5.87770907e-03  -1.10574586e-03\n",
      "  -1.82518856e-02  -3.33210908e-02   1.70867469e-02   1.94063968e-02\n",
      "  -1.69858331e-02   3.47830766e-02   1.56614576e-02  -2.26159201e-02\n",
      "  -3.27439818e-02  -4.97784879e-02   8.64020090e-05  -3.86532964e-03\n",
      "  -3.88946365e-02  -1.08723970e-02  -1.05380675e-02  -2.00530385e-02\n",
      "  -5.45606119e-03   1.22594268e-02  -2.46544192e-02  -6.25747212e-03\n",
      "  -2.37869452e-02   2.74316054e-02  -3.11625952e-02  -3.71614153e-02\n",
      "  -3.48427108e-02   1.26881614e-02  -5.36366806e-02  -5.09103707e-03\n",
      "   2.32575788e-02   2.21195445e-02  -4.01800028e-02   7.65404214e-03]\n",
      "In iteration  330  Got imp score  [-0.01268177  0.01829599  0.05672122 -0.00291674 -0.00404921  0.04967811\n",
      "  0.02128286  0.03828801  0.0317287  -0.026006   -0.01726174  0.00638422\n",
      "  0.05386869  0.00242842  0.01183151  0.00693119  0.00818566  0.01875523\n",
      "  0.01459911  0.02204867 -0.01299847 -0.00288992  0.02935867  0.01808084\n",
      "  0.02334263  0.03946175  0.02200646  0.03833818  0.0223243  -0.02055254\n",
      "  0.02300526 -0.03705468  0.00969231 -0.01973856  0.01821695  0.02013478\n",
      " -0.045961   -0.00304928  0.02800431  0.01650072]\n",
      "In iteration  360  Got imp score  [ 0.02010057 -0.02758553  0.01793483  0.00202301 -0.0076962   0.0155072\n",
      " -0.02265108  0.00846139  0.00854909  0.005584   -0.00913109  0.00697283\n",
      " -0.01264294  0.00681937  0.01563614  0.00752546  0.01257644  0.00070483\n",
      " -0.00606473  0.00593585 -0.03393756 -0.00824297 -0.03105333  0.01681617\n",
      " -0.00972343  0.00545831 -0.04361984  0.02418461 -0.01039659 -0.02202376\n",
      " -0.00824566 -0.00809626  0.03998977 -0.00645892 -0.04691736  0.02299306\n",
      " -0.03627995  0.00595473  0.01805119 -0.05062945]\n",
      "In iteration  390  Got imp score  [ 0.07157477  0.01764254  0.03024151 -0.05522346  0.01369417  0.06897002\n",
      "  0.01749077  0.0033063  -0.00089742 -0.01682443 -0.00070211 -0.00501042\n",
      "  0.01942359  0.04693739 -0.0313898   0.01126206  0.01770769 -0.00265291\n",
      " -0.07156183 -0.01059526  0.01752924  0.01132921  0.02658919  0.03990439\n",
      "  0.05787904 -0.02900047 -0.05831087 -0.05415488  0.00033975  0.01391242\n",
      " -0.0326735  -0.0023181  -0.01057715  0.00371552  0.00940926  0.00579021\n",
      "  0.03492151 -0.00633989 -0.00366271 -0.00164346]\n",
      "In iteration  420  Got imp score  [-0.02964753  0.00228283 -0.03829441 -0.0015073  -0.01185994 -0.01268669\n",
      " -0.0178716   0.00318887 -0.00181686  0.02187337  0.01426631 -0.00268059\n",
      " -0.00204036  0.00557256  0.00711925  0.02964613 -0.01079089 -0.03541015\n",
      "  0.01040824  0.02942541 -0.05189358 -0.00346514  0.02854768  0.024928\n",
      "  0.01210344 -0.00363838 -0.02697265 -0.00228219 -0.02568564  0.02288993\n",
      "  0.02048262 -0.03589337 -0.02606825 -0.03362135  0.01676347  0.00648451\n",
      "  0.04301108  0.00944824 -0.03152479  0.03350049]\n",
      "In iteration  450  Got imp score  [ 0.00553717  0.00944369 -0.00613153  0.02114692 -0.01189488  0.01156444\n",
      "  0.01923358  0.02586971  0.01591809  0.02014811 -0.02962511  0.00723552\n",
      " -0.01982871 -0.01334112 -0.01259541  0.03224162  0.02660069  0.02747762\n",
      "  0.03447009 -0.01952245  0.01481589  0.02059173 -0.00457251  0.03383971\n",
      "  0.04941987  0.0424626  -0.00168867  0.00653934  0.01009594 -0.00822806\n",
      "  0.04847506  0.03259156 -0.00905353  0.00022829 -0.00631868 -0.026832\n",
      "  0.01281713  0.02403976  0.03762432  0.03188605]\n",
      "In iteration  480  Got imp score  [-0.00442139 -0.00010902  0.00891501 -0.06291938 -0.06493128  0.03230894\n",
      "  0.01983263 -0.0213547   0.00125708 -0.02609082 -0.06102843 -0.01988774\n",
      " -0.00276282 -0.0031368  -0.01699675 -0.01404514  0.00779764  0.02190177\n",
      " -0.03537583  0.02738468 -0.04379026 -0.00752348 -0.04653578  0.00058311\n",
      " -0.0007     -0.01216784 -0.03630415  0.03513745  0.04173208  0.00791779\n",
      " -0.01727766  0.00683478 -0.01230297 -0.01239486 -0.00505315  0.00690397\n",
      " -0.0071001  -0.0538555  -0.01213908  0.01808036]\n",
      "In iteration  510  Got imp score  [-0.02300551  0.0252501  -0.00129624  0.01291496  0.00571933 -0.00156478\n",
      " -0.00165405  0.0195594  -0.04518327 -0.06890294 -0.04271815 -0.039726\n",
      " -0.04607587 -0.00536165 -0.01915761 -0.01727139 -0.0249686   0.01306779\n",
      " -0.03666805 -0.01077072 -0.04784229 -0.03356624  0.01327016  0.00312368\n",
      " -0.03668159 -0.03195836  0.01812604 -0.00784498  0.05274066 -0.00552994\n",
      "  0.00095381 -0.03891342 -0.02959238  0.01005442  0.01134304 -0.00237328\n",
      "  0.02934629 -0.00602811  0.00350656 -0.01222115]\n",
      "In iteration  540  Got imp score  [-0.03180713  0.00648354 -0.01779377 -0.02245777  0.04590655  0.03454328\n",
      "  0.00115866  0.00442001  0.0397484   0.02341133 -0.03373143 -0.04201367\n",
      " -0.02587859 -0.01663428 -0.0095761  -0.00069122 -0.04198791 -0.01790932\n",
      " -0.00496729  0.04477105 -0.00854806  0.02229401 -0.01428395  0.01656707\n",
      "  0.02968567 -0.03095015 -0.01529958 -0.00623748 -0.02857297 -0.00337406\n",
      "  0.04356541 -0.01400398  0.01028364 -0.02436025 -0.0230947   0.00405358\n",
      "  0.00849381 -0.00029999 -0.03958232 -0.00680008]\n",
      "In iteration  570  Got imp score  [  2.89926808e-02   4.08966856e-03   3.76942629e-02   1.74822602e-02\n",
      "   1.50501686e-02  -4.83395875e-02  -7.44183696e-03   3.11327820e-02\n",
      "  -5.50627823e-02  -2.34916221e-02   1.17255253e-02  -3.08035653e-02\n",
      "  -2.26585148e-02   1.89727426e-03  -2.12044759e-02   3.80634063e-02\n",
      "  -3.32641484e-04  -3.20243948e-02   5.48122734e-02  -1.13493836e-02\n",
      "  -1.16843900e-02   8.04279109e-03  -1.56241167e-02  -1.67436917e-02\n",
      "  -2.99577911e-02   2.81014668e-04   1.45587695e-02   8.59760198e-03\n",
      "   2.32826985e-03   2.05340035e-03  -5.25416979e-03   1.29282118e-05\n",
      "   1.03534845e-02  -3.00415047e-03   4.64009212e-02  -1.56109491e-02\n",
      "   5.46878583e-02   3.80615386e-03  -1.63128233e-02  -1.73309200e-02]\n",
      "Importance scores computed in: 18.46 s\n"
     ]
    }
   ],
   "source": [
    "import lime\n",
    "import lime.lime_tabular\n",
    "importance_scores = np.array([])\n",
    "start = time.time()\n",
    "explainer = lime.lime_tabular.LimeTabularExplainer(normalized, feature_names=features_list)\n",
    "for i in range(normalized_validation.shape[0]):\n",
    "    exp = explainer.explain_instance(normalized_validation[i], classifier.predict_proba, num_features=40, num_samples=100)\n",
    "    next_score = get_scores_from_explanation(exp)\n",
    "    if (i % 30 == 0):\n",
    "        print(\"In iteration \", i, \" Got imp score \", next_score)\n",
    "    importance_scores = np.append(importance_scores, next_score)\n",
    "importance_scores = importance_scores.reshape(normalized_validation.shape[0], 40)\n",
    "#importance_scores = np.multiply(importance_scores.reshape(normalized_validation.shape[0], 40), normalized_validation - mean_bg_feature_values[None,:]) \n",
    "print(\"Importance scores computed in:\", round(time.time() - start, 2), \"s\")"
   ]
  },
  {
   "cell_type": "code",
   "execution_count": 18,
   "metadata": {
    "collapsed": false
   },
   "outputs": [],
   "source": [
    "summed = np.sum(np.absolute(importance_scores), axis=0)"
   ]
  },
  {
   "cell_type": "code",
   "execution_count": 19,
   "metadata": {
    "collapsed": false
   },
   "outputs": [
    {
     "name": "stdout",
     "output_type": "stream",
     "text": [
      "[14 22 35  2 15 33 36  1 11 20 18  4 12 16 29 13 26  6 32 30 19 10 39 34 28\n",
      " 21 23  7 31 37  5  0  8  9 24 27 25  3 17 38]\n"
     ]
    }
   ],
   "source": [
    "sorted_indices = np.argsort(summed)\n",
    "print(sorted_indices)"
   ]
  },
  {
   "cell_type": "code",
   "execution_count": 20,
   "metadata": {
    "collapsed": false
   },
   "outputs": [
    {
     "name": "stdout",
     "output_type": "stream",
     "text": [
      "[187 319 456  30 208 452 464  29 154 285 256  54 164 218 434 170 352  98\n",
      " 451 442 282 134 494 454 426 287 335 105 443 473  65  27 106 129 337 379\n",
      " 339  49 242 476]\n",
      "set([65, 27, 49, 129, 106, 337, 242, 339, 379, 476])\n",
      "set([65, 27, 134, 454, 129, 379, 105, 426, 494, 335, 49, 337, 242, 339, 473, 282, 443, 476, 106, 287])\n"
     ]
    }
   ],
   "source": [
    "important_features_ascending = np.array(features_list)[sorted_indices]\n",
    "print(important_features_ascending)\n",
    "np.save(\"LIME_M10_N100_imp_feat_asc\", important_features_ascending)\n",
    "top_10_feature_set = set(important_features_ascending[-10:].flat)\n",
    "top_20_feature_set = set(important_features_ascending[-20:].flat)\n",
    "print(top_10_feature_set)\n",
    "print(top_20_feature_set)"
   ]
  },
  {
   "cell_type": "code",
   "execution_count": 21,
   "metadata": {
    "collapsed": false
   },
   "outputs": [
    {
     "name": "stdout",
     "output_type": "stream",
     "text": [
      "Number in top 10  9\n",
      "Number in top 20  14\n"
     ]
    }
   ],
   "source": [
    "original_feature_set = set(np.array([ 29, 49, 65, 106, 129, 154, 242, 282, 319, 337, 339, 379, 434, 443, 452, 454, 456, 473, 476, 494]).flat)\n",
    "print(\"Number in top 10 \", len(top_10_feature_set) - len(top_10_feature_set - original_feature_set))\n",
    "print(\"Number in top 20 \", len(top_20_feature_set) - len(top_20_feature_set - original_feature_set))"
   ]
  },
  {
   "cell_type": "code",
   "execution_count": null,
   "metadata": {
    "collapsed": true
   },
   "outputs": [],
   "source": []
  },
  {
   "cell_type": "code",
   "execution_count": null,
   "metadata": {
    "collapsed": true
   },
   "outputs": [],
   "source": []
  },
  {
   "cell_type": "code",
   "execution_count": null,
   "metadata": {
    "collapsed": true
   },
   "outputs": [],
   "source": []
  }
 ],
 "metadata": {
  "anaconda-cloud": {},
  "celltoolbar": "Raw Cell Format",
  "kernelspec": {
   "display_name": "Python [default]",
   "language": "python",
   "name": "python2"
  },
  "language_info": {
   "codemirror_mode": {
    "name": "ipython",
    "version": 2
   },
   "file_extension": ".py",
   "mimetype": "text/x-python",
   "name": "python",
   "nbconvert_exporter": "python",
   "pygments_lexer": "ipython2",
   "version": "2.7.12"
  }
 },
 "nbformat": 4,
 "nbformat_minor": 0
}
