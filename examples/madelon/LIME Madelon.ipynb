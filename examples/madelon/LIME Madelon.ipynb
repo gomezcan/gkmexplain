{
 "cells": [
  {
   "cell_type": "code",
   "execution_count": 1,
   "metadata": {
    "collapsed": true
   },
   "outputs": [],
   "source": [
    "from __future__ import division, absolute_import, print_function\n",
    "%matplotlib inline"
   ]
  },
  {
   "cell_type": "code",
   "execution_count": 2,
   "metadata": {
    "collapsed": false
   },
   "outputs": [],
   "source": [
    "import time\n",
    "import numpy as np"
   ]
  },
  {
   "cell_type": "code",
   "execution_count": 3,
   "metadata": {
    "collapsed": false
   },
   "outputs": [],
   "source": [
    "import os\n",
    "os.environ['CUDA_VISIBLE_DEVICES'] = \"0\""
   ]
  },
  {
   "cell_type": "code",
   "execution_count": 4,
   "metadata": {
    "collapsed": false
   },
   "outputs": [
    {
     "name": "stdout",
     "output_type": "stream",
     "text": [
      "0\r\n"
     ]
    }
   ],
   "source": [
    "!echo $CUDA_VISIBLE_DEVICES"
   ]
  },
  {
   "cell_type": "markdown",
   "metadata": {},
   "source": [
    "## Get the data"
   ]
  },
  {
   "cell_type": "markdown",
   "metadata": {},
   "source": [
    "This is the data from the MADELON dataset http://archive.ics.uci.edu/ml/datasets/madelon"
   ]
  },
  {
   "cell_type": "code",
   "execution_count": 5,
   "metadata": {
    "collapsed": false
   },
   "outputs": [
    {
     "name": "stdout",
     "output_type": "stream",
     "text": [
      "madelon.param\t   madelon_train.data\t madelon_valid.data\r\n",
      "madelon_test.data  madelon_train.labels\r\n"
     ]
    }
   ],
   "source": [
    "!ls dataset/MADELON"
   ]
  },
  {
   "cell_type": "code",
   "execution_count": 6,
   "metadata": {
    "collapsed": false
   },
   "outputs": [
    {
     "name": "stdout",
     "output_type": "stream",
     "text": [
      "(2000, 500)\n",
      "(600, 500)\n"
     ]
    }
   ],
   "source": [
    "data = np.loadtxt(\"dataset/MADELON/madelon_train.data\", dtype=np.int32)\n",
    "validation_data = np.loadtxt(\"dataset/MADELON/madelon_valid.data\", dtype=np.int32)\n",
    "print(data.shape)\n",
    "print(validation_data.shape)"
   ]
  },
  {
   "cell_type": "markdown",
   "metadata": {},
   "source": [
    "### Subset the data to exclude irrelevant features"
   ]
  },
  {
   "cell_type": "code",
   "execution_count": 7,
   "metadata": {
    "collapsed": false
   },
   "outputs": [
    {
     "name": "stdout",
     "output_type": "stream",
     "text": [
      "(2000, 40)\n",
      "[[454 490 510 ..., 454 538 259]\n",
      " [483 491 490 ..., 439 429 534]\n",
      " [457 479 474 ..., 494 517 495]\n",
      " ..., \n",
      " [474 504 505 ..., 417 514 368]\n",
      " [461 468 490 ..., 501 521 638]\n",
      " [513 491 496 ..., 489 398 694]]\n"
     ]
    }
   ],
   "source": [
    "#relevant_features = np.array([339,443,473,49,379,476,242,106,319,29,452,434,129,282,454,154,337,65,494])\n",
    "#relevant_features = np.array([ 29, 49, 65, 106, 129, 154, 242, 282, 319, 337, 339, 379, 434, 443, 452, 454, 456, 473, 476, 494])\n",
    "#relevant_features = np.array([18, 29, 45, 49, 65, 78, 80, 106, 122, 129, 136, 148, 154, 155, 189, 242, 254, 282, 302, 315, 319, 323, 337, 339, 366, 367, 379, 402, 403, 428, 434, 438, 443, 452, 454, 456, 470, 473, 476, 494])\n",
    "all_models = np.load(\"TenMadelonModels.npy\")\n",
    "features_list = all_models[9].tolist()\n",
    "relevant_features = np.array(all_models[9])\n",
    "relevant_features = relevant_features - 1 # Convert 1 indexed to 0 indexed\n",
    "data = data[:, relevant_features]\n",
    "validation_data = validation_data[:, relevant_features]\n",
    "print(data.shape)\n",
    "print(validation_data)"
   ]
  },
  {
   "cell_type": "code",
   "execution_count": 8,
   "metadata": {
    "collapsed": false
   },
   "outputs": [
    {
     "name": "stdout",
     "output_type": "stream",
     "text": [
      "(2000,)\n",
      "[-1 -1 -1 ..., -1  1  1]\n"
     ]
    }
   ],
   "source": [
    "labels = np.loadtxt(\"dataset/MADELON/madelon_train.labels\", dtype=np.int32)\n",
    "validation_labels= np.loadtxt(\"dataset/madelon_valid.labels\", dtype=np.int32)\n",
    "print(labels.shape)\n",
    "print(labels)"
   ]
  },
  {
   "cell_type": "markdown",
   "metadata": {},
   "source": [
    "### Normalize the data by getting using average and stdev"
   ]
  },
  {
   "cell_type": "code",
   "execution_count": 9,
   "metadata": {
    "collapsed": true
   },
   "outputs": [],
   "source": [
    "def get_average_and_stdev(input_array):\n",
    "    avg = np.average(input_array, axis=0)\n",
    "    return avg, np.std(input_array, axis=0)"
   ]
  },
  {
   "cell_type": "code",
   "execution_count": 10,
   "metadata": {
    "collapsed": true
   },
   "outputs": [],
   "source": [
    "def normalize(input_array, avg, stdev):\n",
    "    avgremoved = input_array - avg[None,:]\n",
    "    return avgremoved/stdev"
   ]
  },
  {
   "cell_type": "markdown",
   "metadata": {},
   "source": [
    "#### Note that validation data is normalized using original bias and stdev"
   ]
  },
  {
   "cell_type": "code",
   "execution_count": 11,
   "metadata": {
    "collapsed": false
   },
   "outputs": [
    {
     "name": "stdout",
     "output_type": "stream",
     "text": [
      "(40,)\n",
      "(2000, 40)\n",
      "(600, 40)\n"
     ]
    }
   ],
   "source": [
    "avg, stdev = get_average_and_stdev(data)\n",
    "normalized = normalize(data, avg, stdev)\n",
    "normalized_validation = normalize(validation_data, avg, stdev)\n",
    "validation_pos_indices = np.nonzero(validation_labels == 1)[0]\n",
    "normalized_validation_pos=normalize(validation_data[validation_pos_indices], avg, stdev)\n",
    "print(avg.shape)\n",
    "print(normalized.shape)\n",
    "print(normalized_validation.shape)"
   ]
  },
  {
   "cell_type": "code",
   "execution_count": 12,
   "metadata": {
    "collapsed": false
   },
   "outputs": [
    {
     "name": "stdout",
     "output_type": "stream",
     "text": [
      "[-0.03609533 -0.00357137 -0.00671681 -0.11847695 -0.0338104   0.15032661\n",
      "  0.00036677 -0.01377585 -0.12626289 -0.12675752 -0.00861636  0.03378346\n",
      " -0.04081777  0.00088387 -0.01811258 -0.03407828  0.03015419 -0.21782664\n",
      "  0.03331272  0.03363522 -0.0126518   0.04952507 -0.00469233  0.01596474\n",
      "  0.15167207  0.12178815 -0.00886381 -0.11596197  0.04598214  0.02981902\n",
      "  0.02276057  0.11435599  0.0141396  -0.01160078  0.0955404   0.0064516\n",
      "  0.02386877  0.11207091 -0.21993314  0.09505615]\n"
     ]
    }
   ],
   "source": [
    "background_indices = np.nonzero(labels == -1)[0]\n",
    "#print(background_indices.shape)\n",
    "#print(background_indices)\n",
    "mean_bg_feature_values = np.average(normalized[background_indices], axis=0)\n",
    "print(mean_bg_feature_values)\n",
    "#print(mean_bg_feature_values.shape)"
   ]
  },
  {
   "cell_type": "code",
   "execution_count": 13,
   "metadata": {
    "collapsed": false
   },
   "outputs": [
    {
     "name": "stdout",
     "output_type": "stream",
     "text": [
      "[ 1.  1.  1.  1.  1.  1.  1.  1.  1.  1.  1.  1.  1.  1.  1.  1.  1.  1.\n",
      "  1.  1.  1.  1.  1.  1.  1.  1.  1.  1.  1.  1.  1.  1.  1.  1.  1.  1.\n",
      "  1.  1.  1.  1.]\n"
     ]
    }
   ],
   "source": [
    "print(np.std(normalized, axis=0))"
   ]
  },
  {
   "cell_type": "code",
   "execution_count": null,
   "metadata": {
    "collapsed": true
   },
   "outputs": [],
   "source": []
  },
  {
   "cell_type": "code",
   "execution_count": 14,
   "metadata": {
    "collapsed": false
   },
   "outputs": [],
   "source": [
    "from sklearn.externals import joblib\n",
    "classifier = joblib.load('GaussianClassifier_Model10_ProbTrue_Madelon_20Best_20Random_C1_G0_1.pkl')"
   ]
  },
  {
   "cell_type": "code",
   "execution_count": 15,
   "metadata": {
    "collapsed": true
   },
   "outputs": [],
   "source": [
    "def get_scores_from_explanation(exp):\n",
    "    scoresmap = exp.as_map()\n",
    "    scoreslist = scoresmap[1]\n",
    "    returnable = np.empty([len(scoreslist)])\n",
    "    indices = np.array([scoreslist[i][0] for i in range(len(scoreslist))])\n",
    "    values = np.array([scoreslist[i][1] for i in range(len(scoreslist))])\n",
    "    returnable[indices] = values\n",
    "    return returnable"
   ]
  },
  {
   "cell_type": "code",
   "execution_count": 16,
   "metadata": {
    "collapsed": false,
    "scrolled": true
   },
   "outputs": [
    {
     "name": "stdout",
     "output_type": "stream",
     "text": [
      "In iteration  0  Got imp score  [-0.01693925 -0.00362951 -0.00036468 -0.03061242 -0.00532423  0.00742123\n",
      " -0.00362864 -0.01914619 -0.00840506 -0.00873837  0.00640449  0.00345308\n",
      " -0.00502058  0.00166263 -0.00419897 -0.00186197 -0.00553322  0.01531226\n",
      "  0.01609466  0.00415045 -0.0093911  -0.02029574 -0.00265662 -0.02438639\n",
      "  0.00316419 -0.00749885  0.00209497 -0.03287207 -0.01335823  0.00034583\n",
      " -0.00889214  0.00274447 -0.00093281  0.00507974  0.00774107 -0.00046204\n",
      " -0.00235933  0.00210832  0.00933171  0.01173852]\n",
      "In iteration  30  Got imp score  [-0.01961756  0.00680933 -0.00068598  0.02842665 -0.00332883  0.01065748\n",
      " -0.01830833 -0.02049413  0.0253819   0.02150715 -0.01158708 -0.00822915\n",
      " -0.00818258 -0.00473821 -0.00504931  0.00218959  0.00246252 -0.01638784\n",
      " -0.00078369 -0.00610778 -0.00350146  0.01915608  0.00245329  0.00949228\n",
      "  0.0108469   0.02481458  0.00127959  0.02947773  0.01131364 -0.00105029\n",
      "  0.0041225   0.02157163 -0.00504146  0.00386195 -0.01690236  0.00544813\n",
      " -0.00222402  0.00011047 -0.01511755 -0.01852623]\n",
      "In iteration  60  Got imp score  [ 0.00392673  0.00708631 -0.0051143  -0.00889191 -0.00120721  0.00682478\n",
      "  0.00176161  0.0154522  -0.01095075 -0.02820582 -0.01172806  0.00208946\n",
      " -0.00788887  0.00074688  0.00312221 -0.00164104 -0.0031587  -0.03663097\n",
      "  0.0104119   0.0066546   0.00018867 -0.0027545  -0.00378184  0.00430027\n",
      "  0.00437434 -0.02296519  0.0063793  -0.01183828 -0.00309903 -0.003347\n",
      " -0.00245925 -0.02359036  0.00096774  0.00098815 -0.00339301  0.00560143\n",
      "  0.00276679 -0.01843974 -0.03870122 -0.00275034]\n",
      "In iteration  90  Got imp score  [  6.59656407e-03   3.49247626e-03   5.62301620e-03   1.55652031e-02\n",
      "   3.11623979e-03  -2.14351445e-02  -1.15630731e-02   1.41865441e-02\n",
      "  -2.36137720e-02  -2.62816634e-02   5.51746589e-03   1.10526985e-02\n",
      "  -4.91454386e-03   1.65417767e-03  -2.61471540e-03   1.46269232e-03\n",
      "   9.19033650e-05  -4.45009418e-02  -4.48723698e-03   5.79531785e-03\n",
      "  -1.26678535e-03   1.10273114e-02   7.63170047e-04   5.39611444e-03\n",
      "  -2.31067816e-02  -2.02806608e-02   1.89230215e-03  -1.37705175e-02\n",
      "  -1.03631801e-02   3.55329883e-03  -7.37804756e-03  -2.13414919e-02\n",
      "  -3.81033168e-03   2.53276503e-03   4.28256311e-03  -1.46796858e-03\n",
      "  -6.70537855e-03  -2.07943875e-02  -4.27188711e-02   7.19528045e-03]\n",
      "In iteration  120  Got imp score  [-0.00895238 -0.00369311  0.00022198 -0.01200938  0.00067787 -0.00805164\n",
      "  0.01227389  0.00663618  0.00391906  0.01086689  0.00346346 -0.00540204\n",
      "  0.00105035 -0.00311064 -0.00208195  0.0032464  -0.00245833 -0.03570796\n",
      "  0.01145922 -0.00555067 -0.00160137  0.01508862 -0.00580754 -0.01742156\n",
      " -0.00878325  0.00225222  0.00082975 -0.01506224  0.00021108 -0.00093835\n",
      " -0.01156301 -0.00663663 -0.00095294 -0.00194128 -0.02392808 -0.00286878\n",
      " -0.00193858 -0.00918316 -0.04782931 -0.0131471 ]\n",
      "In iteration  150  Got imp score  [-0.0058054   0.00460694 -0.00018946  0.03281079  0.00317853  0.01355274\n",
      "  0.00639893  0.0166378   0.01785436  0.02629502 -0.01303036  0.00664241\n",
      "  0.00242413  0.00364257 -0.0047335   0.00199292 -0.00393027 -0.02127183\n",
      "  0.00694806  0.00748876 -0.00264591  0.00434312  0.00783883 -0.00102632\n",
      "  0.00859171 -0.00760944 -0.00566958  0.03056637 -0.00217496  0.0032909\n",
      "  0.013118    0.00502044 -0.00064666  0.00525082  0.00738186  0.00183655\n",
      "  0.00741185  0.00282047 -0.02146462  0.00593682]\n",
      "In iteration  180  Got imp score  [  2.46942464e-02  -4.12586754e-03  -5.02194266e-03  -3.23336973e-02\n",
      "   6.43447988e-03   1.20150445e-02   1.73256485e-02   1.76081870e-02\n",
      "  -4.01325240e-03  -5.08034976e-03   1.43214644e-02  -7.46935351e-03\n",
      "  -7.15501906e-03   3.33966474e-03   2.51131315e-05  -3.33410132e-03\n",
      "   3.88892630e-03   1.71963331e-02  -1.08901234e-02  -6.98939308e-03\n",
      "   2.73781270e-03  -2.26220190e-02   2.50655805e-03  -3.09911033e-03\n",
      "   5.28573354e-03   7.52921718e-03   2.56627312e-03  -3.25762890e-02\n",
      "  -1.96181957e-03  -1.55187839e-03  -8.32270988e-03  -6.15332199e-03\n",
      "   2.44625959e-03   1.58784594e-03  -6.62374958e-03  -4.03931687e-03\n",
      "  -6.73185600e-03  -6.20789514e-03   1.55268653e-02  -2.15811987e-02]\n",
      "In iteration  210  Got imp score  [  1.91874460e-02   1.87441349e-03   2.71274346e-03   1.45376906e-02\n",
      "  -8.81276726e-03  -2.38729249e-02  -4.74902635e-03  -1.62407550e-03\n",
      "  -3.66744939e-03  -9.58185977e-03   1.24822095e-02  -1.30288396e-03\n",
      "  -9.91450514e-03   5.08683563e-06  -2.92476097e-03   6.94892295e-04\n",
      "  -1.65913873e-03  -4.39009517e-02   9.49761681e-03   9.26531978e-04\n",
      "  -6.95002569e-04   6.21681863e-03   1.47573729e-03  -3.15319084e-03\n",
      "  -2.38868832e-02  -9.47240347e-03  -5.28281484e-03  -7.18495416e-03\n",
      "  -3.21630261e-03   1.72947397e-03   7.24164017e-03   3.16396833e-03\n",
      "  -5.85480886e-03   4.61732905e-03  -2.58891123e-03  -3.10024770e-03\n",
      "   2.12017695e-03   6.25681441e-03  -4.85175779e-02  -3.06841205e-03]\n",
      "In iteration  240  Got imp score  [ 0.0203497   0.00283833  0.00123899 -0.03018993 -0.00352238 -0.02241735\n",
      "  0.02081803  0.0046831  -0.0250548  -0.02289005  0.01039855  0.00872762\n",
      "  0.00244237  0.00443441  0.0011126  -0.00106758 -0.00285707 -0.03808684\n",
      "  0.00990375  0.00259042  0.01104914 -0.00182865  0.00050937  0.00102626\n",
      " -0.02655841 -0.0194233  -0.00215487 -0.02822963 -0.00920598  0.00460597\n",
      "  0.02165043 -0.01635811  0.00523579  0.00122814  0.00884189  0.00260789\n",
      "  0.00582269 -0.01849397 -0.0351333   0.00703426]\n",
      "In iteration  270  Got imp score  [-0.00608925  0.00019606 -0.00315213 -0.00883847  0.00287415 -0.02333336\n",
      "  0.01882895  0.0167046  -0.02534475 -0.02762686  0.00500861  0.00190646\n",
      " -0.00514249  0.00027497  0.00049726 -0.00338924 -0.00636621 -0.04017307\n",
      "  0.01234776  0.00033757  0.00996521  0.00734915 -0.00353813  0.01166395\n",
      " -0.02299125 -0.03021772 -0.00141624 -0.01133679 -0.00223923  0.00043021\n",
      "  0.01482929 -0.01216237 -0.00202217 -0.00521537 -0.00332407  0.00178057\n",
      "  0.00256447 -0.02267303 -0.04130266 -0.00367947]\n",
      "In iteration  300  Got imp score  [  2.72549837e-02  -3.97268445e-03  -5.74705843e-03  -8.54658305e-03\n",
      "  -5.34868580e-03  -9.53902367e-03  -1.23505242e-02   1.86930142e-02\n",
      "  -7.78939488e-03  -4.14762970e-03   9.65255422e-03  -4.18084134e-05\n",
      "  -4.16562804e-03  -2.52293756e-03  -2.90845537e-03  -1.41113257e-03\n",
      "  -7.35710470e-04  -4.11592641e-02  -1.14313104e-02  -6.14815378e-03\n",
      "  -2.70324609e-03   7.76473152e-03  -2.89312672e-03   1.49263532e-02\n",
      "  -6.68363917e-03  -8.34140087e-03  -2.68714440e-03  -9.83658595e-03\n",
      "   1.85990547e-02   1.72078971e-03   1.14280909e-03  -2.33257967e-02\n",
      "  -5.54584568e-03  -1.76495162e-03  -9.94735880e-03   6.53953631e-04\n",
      "   5.38591340e-04  -2.49766733e-02  -3.64699220e-02  -1.74697358e-02]\n",
      "In iteration  330  Got imp score  [-0.00291998 -0.0012015  -0.00411785  0.02701374  0.00942446  0.02389136\n",
      " -0.00642745  0.0146557   0.02742375  0.0232335  -0.00835709  0.00050266\n",
      " -0.00678899 -0.00363799 -0.00131449  0.00560056  0.00106365  0.01928609\n",
      "  0.00222473 -0.00118342 -0.00409376  0.00806241  0.00101937  0.01489278\n",
      "  0.02866932  0.0305913  -0.00245122  0.02524261 -0.00547419 -0.00507939\n",
      " -0.0025103  -0.00903956  0.00220233  0.00028654 -0.00705439  0.0015724\n",
      "  0.00102047 -0.01066682  0.01503171  0.00067613]\n",
      "In iteration  360  Got imp score  [ 0.00896761 -0.00137726 -0.00495656 -0.01247005  0.00980657  0.00444556\n",
      " -0.01471287  0.00453837  0.02785933  0.02884293 -0.01264847 -0.0078891\n",
      "  0.00180128 -0.0027947   0.00039073 -0.00355374 -0.00037708 -0.01031613\n",
      " -0.00464743 -0.00705329 -0.00416465 -0.00614687  0.00767342 -0.00666515\n",
      "  0.00825848  0.03157118 -0.00738312 -0.015564    0.00492974  0.00168103\n",
      "  0.01204686  0.02333512 -0.00258942  0.00146889 -0.01437745 -0.00693293\n",
      "  0.00118138  0.02093894  0.02104506 -0.01531324]\n",
      "In iteration  390  Got imp score  [ 0.00524091 -0.00558545  0.00232033 -0.03124824 -0.00929697  0.02455161\n",
      "  0.00129623 -0.00472032 -0.00180598 -0.00345927  0.01212125 -0.00044868\n",
      "  0.00850906 -0.00365665  0.00160012 -0.00492952 -0.00138428 -0.01048437\n",
      " -0.01277082  0.01033864 -0.00097095  0.00743742 -0.00212699  0.02079406\n",
      "  0.02541451 -0.02821997 -0.00593846 -0.02678941  0.00521408  0.00564077\n",
      " -0.00979083 -0.02196914 -0.00158048 -0.00367987 -0.00791169 -0.00637844\n",
      "  0.00071664 -0.02220293 -0.01441578 -0.0005451 ]\n",
      "In iteration  420  Got imp score  [-0.00654486 -0.00186989  0.00301023 -0.00703864  0.00755447 -0.02246398\n",
      " -0.01111897  0.00056578 -0.00750857 -0.00890556  0.00823302 -0.00562983\n",
      "  0.0067651  -0.00136176  0.00093476  0.0013199   0.00227549 -0.03891271\n",
      "  0.01312506  0.00620796 -0.00488524 -0.00663625 -0.00103262 -0.02100853\n",
      " -0.02156571 -0.0197956  -0.00012344 -0.01210495 -0.00348515 -0.0038942\n",
      "  0.01739258 -0.01894801 -0.00635982  0.00340076 -0.00797713  0.0031872\n",
      " -0.00627982 -0.02218857 -0.04137445 -0.0005683 ]\n",
      "In iteration  450  Got imp score  [ 0.00675753  0.00378125  0.00215214  0.01131799 -0.00993803  0.02338431\n",
      " -0.00392452  0.00668563  0.02389366  0.02732869 -0.00910436  0.00720972\n",
      " -0.00919854  0.00186576  0.00136045 -0.00049212 -0.00658622  0.0369106\n",
      "  0.00667992 -0.00659795 -0.00215942  0.00849065  0.00237628  0.00626698\n",
      "  0.02630388  0.02370296  0.00430295  0.01860566 -0.00805409  0.00059806\n",
      " -0.00234786  0.00433458  0.009465    0.00067695 -0.00180437  0.00030405\n",
      " -0.00097736  0.00717821  0.0389603  -0.00134109]\n",
      "In iteration  480  Got imp score  [ -8.70684068e-03   2.02168037e-03  -1.32632300e-03  -3.30280271e-02\n",
      "  -3.21083882e-03   1.78700751e-02   1.59894115e-02  -2.20208550e-02\n",
      "  -1.00225854e-02  -3.50392476e-03  -1.45898960e-02   4.43996186e-03\n",
      "   4.73153999e-05  -7.50741863e-04  -3.88380278e-03   2.99131906e-03\n",
      "  -1.03935597e-02   3.53429911e-02  -2.66195958e-03   8.13427916e-03\n",
      "  -8.99102889e-03   1.10592554e-02  -3.14144102e-05   1.09051950e-02\n",
      "   2.36383262e-02   1.01973794e-02   4.97514188e-03  -9.87118066e-03\n",
      "   1.33370539e-02  -1.58502190e-03  -6.42047393e-03  -5.33465152e-03\n",
      "   5.92037198e-03  -3.81270006e-03   3.68628972e-03  -4.61513522e-03\n",
      "  -6.54038131e-03  -5.20294810e-03   3.79590023e-02   6.80065401e-03]\n",
      "In iteration  510  Got imp score  [ 0.00211222  0.00087091 -0.00370334 -0.01121117  0.00772634 -0.02561743\n",
      "  0.01926802  0.01580279 -0.0271532  -0.02718043 -0.00229314 -0.00010881\n",
      "  0.00063273 -0.00449888 -0.0014459   0.00547062 -0.00565458 -0.02067289\n",
      "  0.00862225 -0.00297502 -0.00744478 -0.00638444 -0.00114801  0.01222257\n",
      " -0.02358605 -0.00649172 -0.00885525 -0.0112717   0.00258345 -0.0058753\n",
      "  0.01908124  0.02367473  0.00213624  0.00041481  0.01601508  0.00133367\n",
      "  0.0010209   0.02803689 -0.01215052  0.01968553]\n",
      "In iteration  540  Got imp score  [-0.01719189 -0.00476382 -0.00241519  0.00849863 -0.00232468  0.0213754\n",
      "  0.01320534  0.01808826  0.02994285  0.0240768  -0.00706282  0.00561612\n",
      "  0.00476982  0.00397141  0.00271179 -0.00156846 -0.00081866  0.01865206\n",
      "  0.00752966 -0.00457233  0.00050797  0.01522642 -0.00709101  0.00104058\n",
      "  0.01994755 -0.00807101 -0.00407436  0.02370223 -0.01231719 -0.00057455\n",
      "  0.00531876 -0.00514949 -0.0009809  -0.00491711  0.00014692 -0.00779329\n",
      " -0.00174974 -0.01186791  0.01678869  0.00570432]\n",
      "In iteration  570  Got imp score  [ 0.02101735 -0.00052127  0.00082578  0.02711293 -0.00261394 -0.02205206\n",
      " -0.0072317   0.01142147 -0.02504872 -0.02686537  0.0076574  -0.00390487\n",
      "  0.00438577  0.00258769  0.00290171  0.00240283 -0.00495355 -0.03763656\n",
      "  0.00975239 -0.00574568 -0.00482912  0.01547047 -0.00131046 -0.0193335\n",
      " -0.02144196 -0.02189822 -0.00227407  0.03285588 -0.00410483 -0.00259526\n",
      "  0.0005234  -0.01595026  0.00324575 -0.00191062 -0.00188094 -0.00052938\n",
      " -0.00653314 -0.01221279 -0.0374732  -0.00193647]\n",
      "Importance scores computed in: 692.6 s\n"
     ]
    }
   ],
   "source": [
    "import lime\n",
    "import lime.lime_tabular\n",
    "importance_scores = np.array([])\n",
    "start = time.time()\n",
    "explainer = lime.lime_tabular.LimeTabularExplainer(normalized, feature_names=features_list)\n",
    "for i in range(normalized_validation.shape[0]):\n",
    "    exp = explainer.explain_instance(normalized_validation[i], classifier.predict_proba, num_features=40)\n",
    "    next_score = get_scores_from_explanation(exp)\n",
    "    if (i % 30 == 0):\n",
    "        print(\"In iteration \", i, \" Got imp score \", next_score)\n",
    "    importance_scores = np.append(importance_scores, next_score)\n",
    "importance_scores = importance_scores.reshape(normalized_validation.shape[0], 40)\n",
    "print(\"Importance scores computed in:\", round(time.time() - start, 2), \"s\")"
   ]
  },
  {
   "cell_type": "code",
   "execution_count": 17,
   "metadata": {
    "collapsed": false
   },
   "outputs": [],
   "source": [
    "summed = np.sum(np.absolute(importance_scores), axis=0)"
   ]
  },
  {
   "cell_type": "code",
   "execution_count": 18,
   "metadata": {
    "collapsed": false
   },
   "outputs": [
    {
     "name": "stdout",
     "output_type": "stream",
     "text": [
      "[29 15 35  2 36 32 13  1 14 22 33 11 16 26 12 20  4 19 28 18 30 10 39  6 34\n",
      " 23 21  7  0 31  5 37  8 24 25  9 27  3 17 38]\n"
     ]
    }
   ],
   "source": [
    "sorted_indices = np.argsort(summed)\n",
    "print(sorted_indices)"
   ]
  },
  {
   "cell_type": "code",
   "execution_count": 19,
   "metadata": {
    "collapsed": false
   },
   "outputs": [
    {
     "name": "stdout",
     "output_type": "stream",
     "text": [
      "[434 208 456  30 464 451 170  29 187 319 452 154 218 352 164 285  54 282\n",
      " 426 256 442 134 494  98 454 335 287 105  27 443  65 473 106 337 339 129\n",
      " 379  49 242 476]\n",
      "set([129, 49, 65, 106, 337, 242, 339, 473, 379, 476])\n",
      "set([65, 98, 443, 134, 454, 129, 379, 105, 106, 494, 335, 49, 337, 242, 339, 473, 442, 27, 476, 287])\n"
     ]
    }
   ],
   "source": [
    "important_features_ascending = np.array(features_list)[sorted_indices]\n",
    "print(important_features_ascending)\n",
    "top_10_feature_set = set(important_features_ascending[-10:].flat)\n",
    "top_20_feature_set = set(important_features_ascending[-20:].flat)\n",
    "print(top_10_feature_set)\n",
    "print(top_20_feature_set)"
   ]
  },
  {
   "cell_type": "code",
   "execution_count": 20,
   "metadata": {
    "collapsed": false
   },
   "outputs": [
    {
     "name": "stdout",
     "output_type": "stream",
     "text": [
      "Number in top 10  10\n",
      "Number in top 20  13\n"
     ]
    }
   ],
   "source": [
    "original_feature_set = set(np.array([ 29, 49, 65, 106, 129, 154, 242, 282, 319, 337, 339, 379, 434, 443, 452, 454, 456, 473, 476, 494]).flat)\n",
    "print(\"Number in top 10 \", len(top_10_feature_set) - len(top_10_feature_set - original_feature_set))\n",
    "print(\"Number in top 20 \", len(top_20_feature_set) - len(top_20_feature_set - original_feature_set))"
   ]
  },
  {
   "cell_type": "code",
   "execution_count": null,
   "metadata": {
    "collapsed": true
   },
   "outputs": [],
   "source": []
  }
 ],
 "metadata": {
  "anaconda-cloud": {},
  "celltoolbar": "Raw Cell Format",
  "kernelspec": {
   "display_name": "Python [default]",
   "language": "python",
   "name": "python2"
  },
  "language_info": {
   "codemirror_mode": {
    "name": "ipython",
    "version": 2
   },
   "file_extension": ".py",
   "mimetype": "text/x-python",
   "name": "python",
   "nbconvert_exporter": "python",
   "pygments_lexer": "ipython2",
   "version": "2.7.12"
  }
 },
 "nbformat": 4,
 "nbformat_minor": 0
}
