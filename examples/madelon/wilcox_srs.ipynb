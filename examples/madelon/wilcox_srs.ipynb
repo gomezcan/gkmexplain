{
 "cells": [
  {
   "cell_type": "code",
   "execution_count": 1,
   "metadata": {
    "collapsed": true
   },
   "outputs": [],
   "source": [
    "import numpy as np"
   ]
  },
  {
   "cell_type": "code",
   "execution_count": 2,
   "metadata": {
    "collapsed": true
   },
   "outputs": [],
   "source": [
    "def wilcox_srs(vals1, vals2):   \n",
    "    signed_ranks = ([(1+x[0])*np.sign(x[1]) for x in \n",
    "                     enumerate(sorted(vals1-vals2, key=lambda x: abs(x)))])\n",
    "    sum_positives = sum([x for x in signed_ranks if x > 0]+[1e-7])\n",
    "    sum_negatives = sum([x for x in signed_ranks if x < 0]+[-1e-7])\n",
    "    #0.05 threshold for one-sided test when N=10 is 10:\n",
    "    #http://www.real-statistics.com/statistics-tables/wilcoxon-signed-ranks-table/\n",
    "    if (np.abs(sum_negatives) < sum_positives):\n",
    "        return np.abs(sum_negatives)\n",
    "    else:\n",
    "        return -np.abs(sum_positives)"
   ]
  },
  {
   "cell_type": "code",
   "execution_count": 3,
   "metadata": {
    "collapsed": true
   },
   "outputs": [],
   "source": [
    "shap10 = np.array([0.601,0.61, 0.665, 0.678, 0.69, 0.626, 0.62, 0.721, 0.671, 0.63])\n",
    "ig10 = np.array([0.795, 0.705, 0.743, 0.788, 0.753, 0.601, 0.69, 0.82, 0.7, 0.615])\n",
    "shap50 = np.array([0.807, 0.807, 0.77, 0.848, 0.748, 0.805, 0.695, 0.825, 0.742, 0.717])"
   ]
  },
  {
   "cell_type": "code",
   "execution_count": 4,
   "metadata": {
    "collapsed": false
   },
   "outputs": [
    {
     "name": "stdout",
     "output_type": "stream",
     "text": [
      "('SHAP 10 vs IG 10 ', -3.0000000999999998)\n",
      "('SHAP 50 vs IG 10 ', 1.0000001000000001)\n",
      "('SHAP 50 vs SHAP 10 ', 9.9999999999999995e-08)\n",
      "('SHAP 10 vs SHAP 50 ', -9.9999999999999995e-08)\n",
      "('SHAP 10 vs SHAP 10 ', -9.9999999999999995e-08)\n"
     ]
    }
   ],
   "source": [
    "print(\"SHAP 10 vs IG 10 \", wilcox_srs(shap10, ig10))\n",
    "print(\"SHAP 50 vs IG 10 \", wilcox_srs(shap50, ig10))\n",
    "print(\"SHAP 50 vs SHAP 10 \", wilcox_srs(shap50, shap10))\n",
    "print(\"SHAP 10 vs SHAP 50 \", wilcox_srs(shap10, shap50))\n",
    "print(\"SHAP 10 vs SHAP 10 \", wilcox_srs(shap10, shap10))"
   ]
  },
  {
   "cell_type": "code",
   "execution_count": null,
   "metadata": {
    "collapsed": true
   },
   "outputs": [],
   "source": []
  }
 ],
 "metadata": {
  "anaconda-cloud": {},
  "celltoolbar": "Raw Cell Format",
  "kernelspec": {
   "display_name": "Python [default]",
   "language": "python",
   "name": "python2"
  },
  "language_info": {
   "codemirror_mode": {
    "name": "ipython",
    "version": 2
   },
   "file_extension": ".py",
   "mimetype": "text/x-python",
   "name": "python",
   "nbconvert_exporter": "python",
   "pygments_lexer": "ipython2",
   "version": "2.7.12"
  }
 },
 "nbformat": 4,
 "nbformat_minor": 0
}
