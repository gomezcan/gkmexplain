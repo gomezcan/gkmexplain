{
 "cells": [
  {
   "cell_type": "code",
   "execution_count": 1,
   "metadata": {
    "collapsed": true
   },
   "outputs": [],
   "source": [
    "from __future__ import division, absolute_import, print_function\n",
    "%matplotlib inline"
   ]
  },
  {
   "cell_type": "code",
   "execution_count": 2,
   "metadata": {
    "collapsed": true
   },
   "outputs": [],
   "source": [
    "import time\n",
    "import numpy as np"
   ]
  },
  {
   "cell_type": "code",
   "execution_count": 3,
   "metadata": {
    "collapsed": false
   },
   "outputs": [],
   "source": [
    "import os\n",
    "os.environ['CUDA_VISIBLE_DEVICES'] = \"0\""
   ]
  },
  {
   "cell_type": "code",
   "execution_count": 4,
   "metadata": {
    "collapsed": false
   },
   "outputs": [
    {
     "name": "stdout",
     "output_type": "stream",
     "text": [
      "0\r\n"
     ]
    }
   ],
   "source": [
    "!echo $CUDA_VISIBLE_DEVICES"
   ]
  },
  {
   "cell_type": "markdown",
   "metadata": {},
   "source": [
    "## Get the data"
   ]
  },
  {
   "cell_type": "markdown",
   "metadata": {},
   "source": [
    "This is the data from the MADELON dataset http://archive.ics.uci.edu/ml/datasets/madelon"
   ]
  },
  {
   "cell_type": "code",
   "execution_count": 5,
   "metadata": {
    "collapsed": false
   },
   "outputs": [
    {
     "name": "stdout",
     "output_type": "stream",
     "text": [
      "madelon.param\t   madelon_train.data\t madelon_valid.data\r\n",
      "madelon_test.data  madelon_train.labels\r\n"
     ]
    }
   ],
   "source": [
    "!ls dataset/MADELON"
   ]
  },
  {
   "cell_type": "code",
   "execution_count": 6,
   "metadata": {
    "collapsed": false
   },
   "outputs": [
    {
     "name": "stdout",
     "output_type": "stream",
     "text": [
      "(2000, 500)\n",
      "(600, 500)\n"
     ]
    }
   ],
   "source": [
    "data = np.loadtxt(\"dataset/MADELON/madelon_train.data\", dtype=np.int32)\n",
    "validation_data = np.loadtxt(\"dataset/MADELON/madelon_valid.data\", dtype=np.int32)\n",
    "print(data.shape)\n",
    "print(validation_data.shape)"
   ]
  },
  {
   "cell_type": "markdown",
   "metadata": {},
   "source": [
    "### Subset the data to exclude irrelevant features"
   ]
  },
  {
   "cell_type": "code",
   "execution_count": 7,
   "metadata": {
    "collapsed": false
   },
   "outputs": [
    {
     "name": "stdout",
     "output_type": "stream",
     "text": [
      "(2000, 40)\n",
      "[[493 490 526 ..., 454 538 259]\n",
      " [466 491 490 ..., 439 429 534]\n",
      " [516 479 495 ..., 494 517 495]\n",
      " ..., \n",
      " [510 504 471 ..., 417 514 368]\n",
      " [458 468 498 ..., 501 521 638]\n",
      " [540 491 529 ..., 489 398 694]]\n"
     ]
    }
   ],
   "source": [
    "#relevant_features = np.array([339,443,473,49,379,476,242,106,319,29,452,434,129,282,454,154,337,65,494])\n",
    "#relevant_features = np.array([ 29, 49, 65, 106, 129, 154, 242, 282, 319, 337, 339, 379, 434, 443, 452, 454, 456, 473, 476, 494])\n",
    "relevant_features = np.array([18, 29, 45, 49, 65, 78, 80, 106, 122, 129, 136, 148, 154, 155, 189, 242, 254, 282, 302, 315, 319, 323, 337, 339, 366, 367, 379, 402, 403, 428, 434, 438, 443, 452, 454, 456, 470, 473, 476, 494])\n",
    "relevant_features = relevant_features - 1 # Convert 1 indexed to 0 indexed\n",
    "data = data[:, relevant_features]\n",
    "validation_data = validation_data[:, relevant_features]\n",
    "print(data.shape)\n",
    "print(validation_data)"
   ]
  },
  {
   "cell_type": "code",
   "execution_count": 8,
   "metadata": {
    "collapsed": false
   },
   "outputs": [
    {
     "name": "stdout",
     "output_type": "stream",
     "text": [
      "(2000,)\n",
      "[-1 -1 -1 ..., -1  1  1]\n"
     ]
    }
   ],
   "source": [
    "labels = np.loadtxt(\"dataset/MADELON/madelon_train.labels\", dtype=np.int32)\n",
    "validation_labels= np.loadtxt(\"dataset/madelon_valid.labels\", dtype=np.int32)\n",
    "print(labels.shape)\n",
    "print(labels)"
   ]
  },
  {
   "cell_type": "markdown",
   "metadata": {},
   "source": [
    "### Normalize the data by getting using average and stdev"
   ]
  },
  {
   "cell_type": "code",
   "execution_count": 9,
   "metadata": {
    "collapsed": true
   },
   "outputs": [],
   "source": [
    "def get_average_and_stdev(input_array):\n",
    "    avg = np.average(input_array, axis=0)\n",
    "    return avg, np.std(input_array, axis=0)"
   ]
  },
  {
   "cell_type": "code",
   "execution_count": 10,
   "metadata": {
    "collapsed": true
   },
   "outputs": [],
   "source": [
    "def normalize(input_array, avg, stdev):\n",
    "    avgremoved = input_array - avg[None,:]\n",
    "    return avgremoved/stdev"
   ]
  },
  {
   "cell_type": "markdown",
   "metadata": {},
   "source": [
    "#### Note that validation data is normalized using original bias and stdev"
   ]
  },
  {
   "cell_type": "code",
   "execution_count": 11,
   "metadata": {
    "collapsed": false
   },
   "outputs": [
    {
     "name": "stdout",
     "output_type": "stream",
     "text": [
      "(40,)\n",
      "(2000, 40)\n",
      "(600, 40)\n"
     ]
    }
   ],
   "source": [
    "avg, stdev = get_average_and_stdev(data)\n",
    "normalized = normalize(data, avg, stdev)\n",
    "normalized_validation = normalize(validation_data, avg, stdev)\n",
    "validation_pos_indices = np.nonzero(validation_labels == 1)[0]\n",
    "normalized_validation_pos=normalize(validation_data[validation_pos_indices], avg, stdev)\n",
    "print(avg.shape)\n",
    "print(normalized.shape)\n",
    "print(normalized_validation.shape)"
   ]
  },
  {
   "cell_type": "code",
   "execution_count": 12,
   "metadata": {
    "collapsed": false
   },
   "outputs": [
    {
     "name": "stdout",
     "output_type": "stream",
     "text": [
      "[ 0.00614864 -0.00357137 -0.03611492 -0.11847695  0.15032661 -0.0121204\n",
      "  0.0161474  -0.12626289 -0.03262733 -0.12675752 -0.01211058  0.01422029\n",
      "  0.03378346  0.02115268  0.01560584 -0.21782664  0.02007631  0.03363522\n",
      " -0.03333143 -0.01496712 -0.00469233 -0.01324135  0.15167207  0.12178815\n",
      " -0.02155806  0.00988718 -0.11596197  0.01144217  0.01038823  0.00526089\n",
      "  0.02981902  0.00995075  0.11435599 -0.01160078  0.0955404   0.0064516\n",
      "  0.0054648   0.11207091 -0.21993314  0.09505615]\n"
     ]
    }
   ],
   "source": [
    "background_indices = np.nonzero(labels == -1)[0]\n",
    "#print(background_indices.shape)\n",
    "#print(background_indices)\n",
    "mean_bg_feature_values = np.average(normalized[background_indices], axis=0)\n",
    "print(mean_bg_feature_values)\n",
    "#print(mean_bg_feature_values.shape)"
   ]
  },
  {
   "cell_type": "code",
   "execution_count": 13,
   "metadata": {
    "collapsed": false
   },
   "outputs": [
    {
     "name": "stdout",
     "output_type": "stream",
     "text": [
      "[ 1.  1.  1.  1.  1.  1.  1.  1.  1.  1.  1.  1.  1.  1.  1.  1.  1.  1.\n",
      "  1.  1.  1.  1.  1.  1.  1.  1.  1.  1.  1.  1.  1.  1.  1.  1.  1.  1.\n",
      "  1.  1.  1.  1.]\n"
     ]
    }
   ],
   "source": [
    "print(np.std(normalized, axis=0))"
   ]
  },
  {
   "cell_type": "code",
   "execution_count": 14,
   "metadata": {
    "collapsed": false
   },
   "outputs": [],
   "source": [
    "from sklearn.externals import joblib\n",
    "classifier = joblib.load('GaussianClassifier_Madelon_20Best_20Random_C1_G0_1.pkl')"
   ]
  },
  {
   "cell_type": "code",
   "execution_count": 15,
   "metadata": {
    "collapsed": false
   },
   "outputs": [
    {
     "name": "stdout",
     "output_type": "stream",
     "text": [
      "Support vector shape is (1946, 40)\n",
      "CSR support vector count is 77840\n",
      "Starting average gradient calculation for  100 th point\n",
      "Starting average gradient calculation for  200 th point\n",
      "Starting average gradient calculation for  300 th point\n",
      "Starting average gradient calculation for  400 th point\n",
      "Starting average gradient calculation for  500 th point\n",
      "Starting average gradient calculation for  600 th point\n",
      "Avg grad computed in: 2.49 s\n",
      "Importance scores computed in: 2.49 s\n",
      "[[ 0.0103794   0.05131101  0.05277319 ...,  0.07177307  0.14186705\n",
      "   0.0458339 ]\n",
      " [ 0.0979523  -0.1473789  -0.03262407 ...,  0.16446169 -0.24355774\n",
      "  -0.04943179]\n",
      " [-0.095507    0.00262352 -0.02073799 ..., -0.01321241  0.1320412\n",
      "   0.00592892]\n",
      " ..., \n",
      " [-0.08586931  0.02277374 -0.10441675 ...,  0.38357454  0.239219\n",
      "   0.24600292]\n",
      " [-0.03091328  0.12421461 -0.00272781 ..., -0.05412791  0.18661857\n",
      "  -0.0147649 ]\n",
      " [ 0.17195364 -0.11055832  0.16642481 ..., -0.00113026 -0.24829633\n",
      "  -0.17913591]]\n",
      "(600, 40)\n",
      "[  44.74644541   59.80753857   47.71880226   95.08679694   55.91144133\n",
      "   48.15246873   29.67673129   49.95713598   52.01148234   55.79560007\n",
      "   61.46060216   29.25442832   43.88586046   26.64091664   27.90856735\n",
      "  107.46944528   49.34611706   46.36606245   31.95887643   31.01634202\n",
      "   53.84634052   34.35778232   59.74383007   56.3711701    66.46279331\n",
      "   31.97527034   89.08428105   31.43317492   28.69421384   30.99907375\n",
      "   41.91675005   35.62681703   63.61328546   53.54743661   40.76759587\n",
      "   34.74673808   36.30579837   64.56981791  110.46587954   33.61285769]\n"
     ]
    }
   ],
   "source": [
    "import ssvmimp.imp_scores_helper\n",
    "reload(ssvmimp.imp_scores_helper)\n",
    "from ssvmimp.imp_scores_helper import ImportanceScoresHelper\n",
    "impscoreshelper = ImportanceScoresHelper(\n",
    "    classifier, 0.1,\n",
    "    normalized, \n",
    "    labels, use_csr=False)\n",
    "\n",
    "start = time.time()\n",
    "impscores_bgref, avggrad_bgref =\\\n",
    "    impscoreshelper.get_feature_contribs_using_average_gradient_from_reference(\n",
    "                normalized_validation,\n",
    "                reference_to_use=np.array([mean_bg_feature_values for x in\n",
    "                                            range(normalized_validation.shape[0])]),\n",
    "                numsteps=10)\n",
    "print(\"Importance scores computed in:\", round(time.time() - start, 2), \"s\")\n",
    "print(impscores_bgref)\n",
    "print(avggrad_bgref.shape)\n",
    "final_importance_scores = np.sum(np.abs(impscores_bgref), axis=0)\n",
    "#final_importance_scores = np.sum(impscores_bgref, axis=0)\n",
    "print(final_importance_scores)"
   ]
  },
  {
   "cell_type": "code",
   "execution_count": 16,
   "metadata": {
    "collapsed": false
   },
   "outputs": [
    {
     "name": "stdout",
     "output_type": "stream",
     "text": [
      "[13 14 28 11  6 29 19 27 18 25 39 21 35 31 36 34 30 12  0 17  2  5 16  7  8\n",
      " 33 20  9  4 23 22  1 10 32 37 24 26  3 15 38]\n"
     ]
    }
   ],
   "source": [
    "sorted_indices = np.argsort(final_importance_scores)\n",
    "print(sorted_indices)"
   ]
  },
  {
   "cell_type": "code",
   "execution_count": 17,
   "metadata": {
    "collapsed": false
   },
   "outputs": [
    {
     "data": {
      "text/plain": [
       "(array([ 13.,   4.,   7.,   8.,   4.,   0.,   0.,   1.,   1.,   2.]),\n",
       " array([  26.64091664,   35.02341293,   43.40590922,   51.78840551,\n",
       "          60.1709018 ,   68.55339809,   76.93589438,   85.31839067,\n",
       "          93.70088696,  102.08338325,  110.46587954]),\n",
       " <a list of 10 Patch objects>)"
      ]
     },
     "execution_count": 17,
     "metadata": {},
     "output_type": "execute_result"
    },
    {
     "data": {
      "image/png": "[encoded data removed]",
      "text/plain": [
       "<matplotlib.figure.Figure at 0x7f7fd22fed10>"
      ]
     },
     "metadata": {},
     "output_type": "display_data"
    }
   ],
   "source": [
    "%matplotlib inline\n",
    "from matplotlib import pyplot as plt\n",
    "plt.hist(final_importance_scores)"
   ]
  },
  {
   "cell_type": "code",
   "execution_count": 18,
   "metadata": {
    "collapsed": false
   },
   "outputs": [
    {
     "data": {
      "text/plain": [
       "array([ 17,  28,  44,  48,  64,  77,  79, 105, 121, 128, 135, 147, 153,\n",
       "       154, 188, 241, 253, 281, 301, 314, 318, 322, 336, 338, 365, 366,\n",
       "       378, 401, 402, 427, 433, 437, 442, 451, 453, 455, 469, 472, 475, 493])"
      ]
     },
     "execution_count": 18,
     "metadata": {},
     "output_type": "execute_result"
    }
   ],
   "source": [
    "relevant_features"
   ]
  },
  {
   "cell_type": "code",
   "execution_count": 19,
   "metadata": {
    "collapsed": false
   },
   "outputs": [
    {
     "name": "stdout",
     "output_type": "stream",
     "text": [
      "[154 188 402 147  79 427 314 401 301 366 493 322 455 437 469 453 433 153\n",
      "  17 281  44  77 253 105 121 451 318 128  64 338 336  28 135 442 472 365\n",
      " 378  48 241 475]\n"
     ]
    }
   ],
   "source": [
    "print(relevant_features[sorted_indices])"
   ]
  },
  {
   "cell_type": "code",
   "execution_count": 20,
   "metadata": {
    "collapsed": false
   },
   "outputs": [
    {
     "name": "stdout",
     "output_type": "stream",
     "text": [
      "8\n"
     ]
    }
   ],
   "source": [
    "set_to_test = set([ 29, 49, 65, 106, 129, 154, 242, 282, 319, 337, 339, 379, 434, 443, 452, 454, 456, 473, 476, 494])\n",
    "count = 0\n",
    "for a_feat in relevant_features[sorted_indices][-10:]:\n",
    "    if (a_feat+1) in set_to_test:\n",
    "        count += 1\n",
    "print(count)"
   ]
  },
  {
   "cell_type": "code",
   "execution_count": 21,
   "metadata": {
    "collapsed": false
   },
   "outputs": [
    {
     "name": "stdout",
     "output_type": "stream",
     "text": [
      "[ 28  48  64 105 128 153 241 281 318 336 338 378 433 442 451 453 455 472\n",
      " 475 493]\n"
     ]
    }
   ],
   "source": [
    "b = np.array([ 29, 49, 65, 106, 129, 154, 242, 282, 319, 337, 339, 379, 434, 443, 452, 454, 456, 473, 476, 494]) - 1\n",
    "print(b)"
   ]
  },
  {
   "cell_type": "code",
   "execution_count": null,
   "metadata": {
    "collapsed": true
   },
   "outputs": [],
   "source": []
  }
 ],
 "metadata": {
  "anaconda-cloud": {},
  "celltoolbar": "Raw Cell Format",
  "kernelspec": {
   "display_name": "Python [default]",
   "language": "python",
   "name": "python2"
  },
  "language_info": {
   "codemirror_mode": {
    "name": "ipython",
    "version": 2
   },
   "file_extension": ".py",
   "mimetype": "text/x-python",
   "name": "python",
   "nbconvert_exporter": "python",
   "pygments_lexer": "ipython2",
   "version": "2.7.12"
  }
 },
 "nbformat": 4,
 "nbformat_minor": 0
}
