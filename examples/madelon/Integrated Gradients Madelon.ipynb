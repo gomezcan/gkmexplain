{
 "cells": [
  {
   "cell_type": "code",
   "execution_count": 1,
   "metadata": {
    "collapsed": true
   },
   "outputs": [],
   "source": [
    "from __future__ import division, absolute_import, print_function\n",
    "%matplotlib inline"
   ]
  },
  {
   "cell_type": "code",
   "execution_count": 2,
   "metadata": {
    "collapsed": true
   },
   "outputs": [],
   "source": [
    "import time\n",
    "import numpy as np"
   ]
  },
  {
   "cell_type": "code",
   "execution_count": 3,
   "metadata": {
    "collapsed": false
   },
   "outputs": [],
   "source": [
    "import os\n",
    "os.environ['CUDA_VISIBLE_DEVICES'] = \"0\""
   ]
  },
  {
   "cell_type": "code",
   "execution_count": 4,
   "metadata": {
    "collapsed": false
   },
   "outputs": [
    {
     "name": "stdout",
     "output_type": "stream",
     "text": [
      "0\r\n"
     ]
    }
   ],
   "source": [
    "!echo $CUDA_VISIBLE_DEVICES"
   ]
  },
  {
   "cell_type": "markdown",
   "metadata": {},
   "source": [
    "## Get the data"
   ]
  },
  {
   "cell_type": "markdown",
   "metadata": {},
   "source": [
    "This is the data from the MADELON dataset http://archive.ics.uci.edu/ml/datasets/madelon"
   ]
  },
  {
   "cell_type": "code",
   "execution_count": 5,
   "metadata": {
    "collapsed": false
   },
   "outputs": [
    {
     "name": "stdout",
     "output_type": "stream",
     "text": [
      "madelon.param\t   madelon_train.data\t madelon_valid.data\r\n",
      "madelon_test.data  madelon_train.labels\r\n"
     ]
    }
   ],
   "source": [
    "!ls dataset/MADELON"
   ]
  },
  {
   "cell_type": "code",
   "execution_count": 6,
   "metadata": {
    "collapsed": false
   },
   "outputs": [
    {
     "name": "stdout",
     "output_type": "stream",
     "text": [
      "(2000, 500)\n",
      "(600, 500)\n"
     ]
    }
   ],
   "source": [
    "data = np.loadtxt(\"dataset/MADELON/madelon_train.data\", dtype=np.int32)\n",
    "validation_data = np.loadtxt(\"dataset/MADELON/madelon_valid.data\", dtype=np.int32)\n",
    "print(data.shape)\n",
    "print(validation_data.shape)"
   ]
  },
  {
   "cell_type": "markdown",
   "metadata": {},
   "source": [
    "### Subset the data to exclude irrelevant features"
   ]
  },
  {
   "cell_type": "code",
   "execution_count": 7,
   "metadata": {
    "collapsed": false
   },
   "outputs": [
    {
     "name": "stdout",
     "output_type": "stream",
     "text": [
      "(2000, 40)\n",
      "[[454 490 510 ..., 454 538 259]\n",
      " [483 491 490 ..., 439 429 534]\n",
      " [457 479 474 ..., 494 517 495]\n",
      " ..., \n",
      " [474 504 505 ..., 417 514 368]\n",
      " [461 468 490 ..., 501 521 638]\n",
      " [513 491 496 ..., 489 398 694]]\n"
     ]
    }
   ],
   "source": [
    "#relevant_features = np.array([339,443,473,49,379,476,242,106,319,29,452,434,129,282,454,154,337,65,494])\n",
    "#relevant_features = np.array([ 29, 49, 65, 106, 129, 154, 242, 282, 319, 337, 339, 379, 434, 443, 452, 454, 456, 473, 476, 494])\n",
    "#relevant_features = np.array([18, 29, 45, 49, 65, 78, 80, 106, 122, 129, 136, 148, 154, 155, 189, 242, 254, 282, 302, 315, 319, 323, 337, 339, 366, 367, 379, 402, 403, 428, 434, 438, 443, 452, 454, 456, 470, 473, 476, 494])\n",
    "all_models = np.load(\"TenMadelonModels.npy\")\n",
    "features_list = all_models[9].tolist()\n",
    "relevant_features = np.array(all_models[9])\n",
    "relevant_features = relevant_features - 1 # Convert 1 indexed to 0 indexed\n",
    "data = data[:, relevant_features]\n",
    "validation_data = validation_data[:, relevant_features]\n",
    "print(data.shape)\n",
    "print(validation_data)"
   ]
  },
  {
   "cell_type": "code",
   "execution_count": 8,
   "metadata": {
    "collapsed": false
   },
   "outputs": [
    {
     "name": "stdout",
     "output_type": "stream",
     "text": [
      "(2000,)\n",
      "[-1 -1 -1 ..., -1  1  1]\n"
     ]
    }
   ],
   "source": [
    "labels = np.loadtxt(\"dataset/MADELON/madelon_train.labels\", dtype=np.int32)\n",
    "validation_labels= np.loadtxt(\"dataset/madelon_valid.labels\", dtype=np.int32)\n",
    "print(labels.shape)\n",
    "print(labels)"
   ]
  },
  {
   "cell_type": "markdown",
   "metadata": {},
   "source": [
    "### Normalize the data by getting using average and stdev"
   ]
  },
  {
   "cell_type": "code",
   "execution_count": 9,
   "metadata": {
    "collapsed": true
   },
   "outputs": [],
   "source": [
    "def get_average_and_stdev(input_array):\n",
    "    avg = np.average(input_array, axis=0)\n",
    "    return avg, np.std(input_array, axis=0)"
   ]
  },
  {
   "cell_type": "code",
   "execution_count": 10,
   "metadata": {
    "collapsed": true
   },
   "outputs": [],
   "source": [
    "def normalize(input_array, avg, stdev):\n",
    "    avgremoved = input_array - avg[None,:]\n",
    "    return avgremoved/stdev"
   ]
  },
  {
   "cell_type": "markdown",
   "metadata": {},
   "source": [
    "#### Note that validation data is normalized using original bias and stdev"
   ]
  },
  {
   "cell_type": "code",
   "execution_count": 11,
   "metadata": {
    "collapsed": false
   },
   "outputs": [
    {
     "name": "stdout",
     "output_type": "stream",
     "text": [
      "(40,)\n",
      "(2000, 40)\n",
      "(600, 40)\n"
     ]
    }
   ],
   "source": [
    "avg, stdev = get_average_and_stdev(data)\n",
    "normalized = normalize(data, avg, stdev)\n",
    "normalized_validation = normalize(validation_data, avg, stdev)\n",
    "validation_pos_indices = np.nonzero(validation_labels == 1)[0]\n",
    "normalized_validation_pos=normalize(validation_data[validation_pos_indices], avg, stdev)\n",
    "print(avg.shape)\n",
    "print(normalized.shape)\n",
    "print(normalized_validation.shape)"
   ]
  },
  {
   "cell_type": "code",
   "execution_count": 12,
   "metadata": {
    "collapsed": false
   },
   "outputs": [
    {
     "name": "stdout",
     "output_type": "stream",
     "text": [
      "[-0.03609533 -0.00357137 -0.00671681 -0.11847695 -0.0338104   0.15032661\n",
      "  0.00036677 -0.01377585 -0.12626289 -0.12675752 -0.00861636  0.03378346\n",
      " -0.04081777  0.00088387 -0.01811258 -0.03407828  0.03015419 -0.21782664\n",
      "  0.03331272  0.03363522 -0.0126518   0.04952507 -0.00469233  0.01596474\n",
      "  0.15167207  0.12178815 -0.00886381 -0.11596197  0.04598214  0.02981902\n",
      "  0.02276057  0.11435599  0.0141396  -0.01160078  0.0955404   0.0064516\n",
      "  0.02386877  0.11207091 -0.21993314  0.09505615]\n"
     ]
    }
   ],
   "source": [
    "background_indices = np.nonzero(labels == -1)[0]\n",
    "#print(background_indices.shape)\n",
    "#print(background_indices)\n",
    "mean_bg_feature_values = np.average(normalized[background_indices], axis=0)\n",
    "print(mean_bg_feature_values)\n",
    "#print(mean_bg_feature_values.shape)"
   ]
  },
  {
   "cell_type": "code",
   "execution_count": 13,
   "metadata": {
    "collapsed": false
   },
   "outputs": [
    {
     "name": "stdout",
     "output_type": "stream",
     "text": [
      "[ 1.  1.  1.  1.  1.  1.  1.  1.  1.  1.  1.  1.  1.  1.  1.  1.  1.  1.\n",
      "  1.  1.  1.  1.  1.  1.  1.  1.  1.  1.  1.  1.  1.  1.  1.  1.  1.  1.\n",
      "  1.  1.  1.  1.]\n"
     ]
    }
   ],
   "source": [
    "print(np.std(normalized, axis=0))"
   ]
  },
  {
   "cell_type": "code",
   "execution_count": 14,
   "metadata": {
    "collapsed": false
   },
   "outputs": [],
   "source": [
    "from sklearn.externals import joblib\n",
    "classifier = joblib.load('GaussianClassifier_Model10_Madelon_20Best_20Random_C1_G0_1.pkl')"
   ]
  },
  {
   "cell_type": "code",
   "execution_count": 15,
   "metadata": {
    "collapsed": false
   },
   "outputs": [
    {
     "name": "stdout",
     "output_type": "stream",
     "text": [
      "Support vector shape is (1963, 40)\n",
      "CSR support vector count is 78520\n",
      "Starting average gradient calculation for  100 th point\n",
      "Starting average gradient calculation for  200 th point\n",
      "Starting average gradient calculation for  300 th point\n",
      "Starting average gradient calculation for  400 th point\n",
      "Starting average gradient calculation for  500 th point\n",
      "Starting average gradient calculation for  600 th point\n",
      "Avg grad computed in: 26.51 s\n",
      "Importance scores computed in: 26.51 s\n",
      "[[-0.05342126  0.09223222 -0.01840758 ...,  0.05262543  0.07715322\n",
      "   0.03395834]\n",
      " [-0.00718104 -0.13273996 -0.00640014 ...,  0.1837934  -0.24398778\n",
      "  -0.04967013]\n",
      " [-0.20060454 -0.01134374  0.00932398 ..., -0.01729659  0.1198422\n",
      "   0.0116429 ]\n",
      " ..., \n",
      " [-0.04831039 -0.0044082  -0.00642783 ...,  0.2645214   0.21235967\n",
      "   0.24703232]\n",
      " [-0.24777831  0.13475768 -0.01058202 ..., -0.07030639  0.24008361\n",
      "  -0.06726703]\n",
      " [ 0.38952896 -0.11182333  0.01035361 ...,  0.00223768 -0.23070273\n",
      "  -0.17701176]]\n",
      "(600, 40)\n",
      "[ 15.70396824  20.59192207   4.07338892  12.92069171   6.36825829\n",
      "   1.1463086   10.73310341  -6.90484659  12.47323824   6.53639766\n",
      "  -5.68856852   4.03522938  -3.94479696   2.25460132   3.68586182\n",
      "   2.86324973  -4.71080866  26.28769861   1.08829309   3.89333389\n",
      "  14.04690532  -5.38364909  15.41972922  -6.55823202   1.36615985\n",
      "  40.90309208  -0.82452333  10.41854391   9.3650423    9.36052492\n",
      "   7.08907274  41.38497467   0.82181738  19.70877884 -12.57763106\n",
      " -21.85577504  -0.45609295  41.05218955  29.24974271 -12.03866607]\n"
     ]
    }
   ],
   "source": [
    "import ssvmimp.imp_scores_helper\n",
    "reload(ssvmimp.imp_scores_helper)\n",
    "from ssvmimp.imp_scores_helper import ImportanceScoresHelper\n",
    "impscoreshelper = ImportanceScoresHelper(\n",
    "    classifier, 0.1,\n",
    "    normalized, \n",
    "    labels, use_csr=False)\n",
    "\n",
    "start = time.time()\n",
    "impscores_bgref, avggrad_bgref =\\\n",
    "    impscoreshelper.get_feature_contribs_using_average_gradient_from_reference(\n",
    "                normalized_validation,\n",
    "                reference_to_use=np.array([mean_bg_feature_values for x in\n",
    "                                            range(normalized_validation.shape[0])]),\n",
    "                numsteps=100)\n",
    "print(\"Importance scores computed in:\", round(time.time() - start, 2), \"s\")\n",
    "print(impscores_bgref)\n",
    "print(avggrad_bgref.shape)\n",
    "#final_importance_scores = np.sum(np.abs(impscores_bgref), axis=0)\n",
    "final_importance_scores = np.sum(impscores_bgref, axis=0)\n",
    "print(final_importance_scores)"
   ]
  },
  {
   "cell_type": "code",
   "execution_count": 16,
   "metadata": {
    "collapsed": false
   },
   "outputs": [
    {
     "name": "stdout",
     "output_type": "stream",
     "text": [
      "[35 34 39  7 23 10 21 16 12 26 36 32 18  5 24 13 15 14 19 11  2  4  9 30 29\n",
      " 28 27  6  8  3 20 22  0 33  1 17 38 25 37 31]\n"
     ]
    }
   ],
   "source": [
    "sorted_indices = np.argsort(final_importance_scores)\n",
    "print(sorted_indices)"
   ]
  },
  {
   "cell_type": "code",
   "execution_count": 17,
   "metadata": {
    "collapsed": false
   },
   "outputs": [
    {
     "name": "stdout",
     "output_type": "stream",
     "text": [
      "[456 454 494 105 335 134 287 218 164 352 464 451 256  65 337 170 208 187\n",
      " 282 154  30  54 129 442 434 426 379  98 106  49 285 319  27 452  29 242\n",
      " 476 339 473 443]\n",
      "set([443, 452, 285, 242, 339, 473, 27, 476, 29, 319])\n",
      "set([129, 98, 27, 452, 443, 426, 29, 242, 285, 49, 434, 339, 54, 473, 442, 379, 476, 106, 30, 319])\n"
     ]
    }
   ],
   "source": [
    "important_features_ascending = np.array(features_list)[sorted_indices]\n",
    "print(important_features_ascending)\n",
    "top_10_feature_set = set(important_features_ascending[-10:].flat)\n",
    "top_20_feature_set = set(important_features_ascending[-20:].flat)\n",
    "print(top_10_feature_set)\n",
    "print(top_20_feature_set)"
   ]
  },
  {
   "cell_type": "code",
   "execution_count": 18,
   "metadata": {
    "collapsed": false
   },
   "outputs": [
    {
     "name": "stdout",
     "output_type": "stream",
     "text": [
      "Number in top 10  8\n",
      "Number in top 20  13\n"
     ]
    }
   ],
   "source": [
    "original_feature_set = set(np.array([ 29, 49, 65, 106, 129, 154, 242, 282, 319, 337, 339, 379, 434, 443, 452, 454, 456, 473, 476, 494]).flat)\n",
    "print(\"Number in top 10 \", len(top_10_feature_set) - len(top_10_feature_set - original_feature_set))\n",
    "print(\"Number in top 20 \", len(top_20_feature_set) - len(top_20_feature_set - original_feature_set))"
   ]
  },
  {
   "cell_type": "code",
   "execution_count": 19,
   "metadata": {
    "collapsed": false
   },
   "outputs": [
    {
     "data": {
      "text/plain": [
       "(array([ 8.,  7.,  1.,  9.,  9.,  1.,  0.,  1.,  2.,  2.]),\n",
       " array([ 26.12997243,  33.38094999,  40.63192755,  47.88290511,\n",
       "         55.13388268,  62.38486024,  69.6358378 ,  76.88681537,\n",
       "         84.13779293,  91.38877049,  98.63974805]),\n",
       " <a list of 10 Patch objects>)"
      ]
     },
     "execution_count": 19,
     "metadata": {},
     "output_type": "execute_result"
    },
    {
     "data": {
      "image/png": "[encoded data removed]",
      "text/plain": [
       "<matplotlib.figure.Figure at 0x7f680a4e5610>"
      ]
     },
     "metadata": {},
     "output_type": "display_data"
    }
   ],
   "source": [
    "%matplotlib inline\n",
    "from matplotlib import pyplot as plt\n",
    "plt.hist(final_importance_scores)"
   ]
  },
  {
   "cell_type": "code",
   "execution_count": null,
   "metadata": {
    "collapsed": true
   },
   "outputs": [],
   "source": []
  }
 ],
 "metadata": {
  "anaconda-cloud": {},
  "celltoolbar": "Raw Cell Format",
  "kernelspec": {
   "display_name": "Python [default]",
   "language": "python",
   "name": "python2"
  },
  "language_info": {
   "codemirror_mode": {
    "name": "ipython",
    "version": 2
   },
   "file_extension": ".py",
   "mimetype": "text/x-python",
   "name": "python",
   "nbconvert_exporter": "python",
   "pygments_lexer": "ipython2",
   "version": "2.7.12"
  }
 },
 "nbformat": 4,
 "nbformat_minor": 0
}
