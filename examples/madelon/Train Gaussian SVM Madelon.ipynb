{
 "cells": [
  {
   "cell_type": "code",
   "execution_count": 1,
   "metadata": {
    "collapsed": true
   },
   "outputs": [],
   "source": [
    "from __future__ import division, absolute_import, print_function\n",
    "%matplotlib inline"
   ]
  },
  {
   "cell_type": "code",
   "execution_count": 2,
   "metadata": {
    "collapsed": true
   },
   "outputs": [],
   "source": [
    "import time\n",
    "import numpy as np"
   ]
  },
  {
   "cell_type": "code",
   "execution_count": 3,
   "metadata": {
    "collapsed": false
   },
   "outputs": [],
   "source": [
    "import os\n",
    "os.environ['CUDA_VISIBLE_DEVICES'] = \"0\""
   ]
  },
  {
   "cell_type": "code",
   "execution_count": 4,
   "metadata": {
    "collapsed": false
   },
   "outputs": [
    {
     "name": "stdout",
     "output_type": "stream",
     "text": [
      "0\r\n"
     ]
    }
   ],
   "source": [
    "!echo $CUDA_VISIBLE_DEVICES"
   ]
  },
  {
   "cell_type": "markdown",
   "metadata": {},
   "source": [
    "## Get the data"
   ]
  },
  {
   "cell_type": "markdown",
   "metadata": {},
   "source": [
    "This is the data from the MADELON dataset http://archive.ics.uci.edu/ml/datasets/madelon"
   ]
  },
  {
   "cell_type": "code",
   "execution_count": 5,
   "metadata": {
    "collapsed": false
   },
   "outputs": [
    {
     "name": "stdout",
     "output_type": "stream",
     "text": [
      "madelon.param\t   madelon_train.data\t madelon_valid.data\r\n",
      "madelon_test.data  madelon_train.labels\r\n"
     ]
    }
   ],
   "source": [
    "!ls dataset/MADELON"
   ]
  },
  {
   "cell_type": "code",
   "execution_count": 6,
   "metadata": {
    "collapsed": false
   },
   "outputs": [
    {
     "name": "stdout",
     "output_type": "stream",
     "text": [
      "(2000, 500)\n",
      "(600, 500)\n"
     ]
    }
   ],
   "source": [
    "data = np.loadtxt(\"dataset/MADELON/madelon_train.data\", dtype=np.int32)\n",
    "validation_data = np.loadtxt(\"dataset/MADELON/madelon_valid.data\", dtype=np.int32)\n",
    "print(data.shape)\n",
    "print(validation_data.shape)"
   ]
  },
  {
   "cell_type": "markdown",
   "metadata": {},
   "source": [
    "### Subset the data to exclude irrelevant features"
   ]
  },
  {
   "cell_type": "code",
   "execution_count": 7,
   "metadata": {
    "collapsed": false
   },
   "outputs": [
    {
     "name": "stdout",
     "output_type": "stream",
     "text": [
      "(2000, 40)\n",
      "(600, 40)\n"
     ]
    }
   ],
   "source": [
    "#relevant_features = np.array([339,443,473,49,379,476,242,106,319,29,452,434,129,282,454,154,337,65,494])\n",
    "#relevant_features = np.array([ 29, 49, 65, 106, 129, 154, 242, 282, 319, 337, 339, 379, 434, 443, 452, 454, 456, 473, 476, 494])\n",
    "relevant_features=np.array([337, 29, 136, 443, 473, 366, 379, 49, 242, 476])\n",
    "#relevant_features = np.array([18, 29, 45, 49, 65, 78, 80, 106, 122, 129, 136, 148, 154, 155, 189, 242, 254, 282, 302, 315, 319, 323, 337, 339, 366, 367, 379, 402, 403, 428, 434, 438, 443, 452, 454, 456, 470, 473, 476, 494])\n",
    "relevant_features = relevant_features - 1 # Convert 1 indexed to 0 indexed\n",
    "data = data[:, relevant_features]\n",
    "validation_data = validation_data[:, relevant_features]\n",
    "print(data.shape)\n",
    "print(validation_data.shape)"
   ]
  },
  {
   "cell_type": "code",
   "execution_count": 8,
   "metadata": {
    "collapsed": false
   },
   "outputs": [
    {
     "name": "stdout",
     "output_type": "stream",
     "text": [
      "(2000,)\n",
      "[-1 -1 -1 ..., -1  1  1]\n"
     ]
    }
   ],
   "source": [
    "labels = np.loadtxt(\"dataset/MADELON/madelon_train.labels\", dtype=np.int32)\n",
    "validation_labels= np.loadtxt(\"dataset/madelon_valid.labels\", dtype=np.int32)\n",
    "print(labels.shape)\n",
    "print(labels)"
   ]
  },
  {
   "cell_type": "code",
   "execution_count": 9,
   "metadata": {
    "collapsed": false
   },
   "outputs": [
    {
     "name": "stdout",
     "output_type": "stream",
     "text": [
      "Positive labels  1000\n",
      "(600,)\n",
      "[-1 -1 -1  1 -1  1 -1 -1 -1  1  1  1 -1  1  1 -1 -1  1 -1 -1 -1 -1 -1  1  1\n",
      "  1  1 -1 -1 -1 -1  1  1 -1  1 -1  1  1  1  1  1  1  1  1 -1  1  1  1 -1 -1\n",
      "  1 -1 -1  1  1 -1  1 -1 -1 -1  1 -1  1  1  1  1 -1  1 -1 -1  1 -1  1  1  1\n",
      " -1  1 -1  1 -1  1 -1 -1  1  1  1  1  1  1  1 -1 -1 -1 -1  1 -1 -1  1  1 -1\n",
      " -1  1 -1  1 -1  1 -1 -1  1  1  1 -1  1 -1 -1 -1  1 -1  1 -1 -1  1  1 -1 -1\n",
      "  1 -1 -1  1 -1  1  1 -1  1 -1  1 -1  1 -1 -1 -1  1  1 -1 -1  1  1 -1 -1 -1\n",
      "  1 -1  1 -1 -1  1  1  1  1 -1  1  1 -1 -1 -1 -1  1  1 -1  1  1  1 -1 -1 -1\n",
      " -1  1 -1  1 -1  1 -1  1 -1 -1  1 -1 -1 -1 -1  1  1 -1 -1 -1  1 -1  1 -1 -1\n",
      " -1  1  1  1 -1 -1  1  1  1  1 -1 -1  1 -1 -1 -1  1  1 -1 -1  1  1 -1 -1  1\n",
      " -1 -1 -1 -1  1 -1 -1  1  1  1  1 -1 -1 -1  1 -1 -1  1 -1 -1  1  1 -1 -1  1\n",
      "  1 -1 -1 -1 -1  1 -1 -1  1  1  1  1  1 -1  1  1 -1 -1  1 -1  1  1 -1 -1 -1\n",
      " -1  1  1  1  1  1 -1  1  1  1 -1 -1  1  1 -1 -1 -1  1  1  1  1 -1 -1  1  1\n",
      " -1 -1  1  1  1  1 -1  1  1 -1 -1  1 -1  1  1 -1 -1 -1  1  1 -1 -1 -1  1 -1\n",
      " -1 -1 -1  1 -1  1  1  1  1 -1  1 -1 -1 -1  1 -1 -1  1 -1  1 -1 -1  1  1 -1\n",
      " -1  1 -1 -1 -1 -1  1  1  1 -1 -1 -1  1  1 -1 -1 -1 -1  1  1 -1 -1 -1 -1  1\n",
      "  1  1  1 -1  1 -1  1  1  1  1  1 -1  1 -1 -1  1 -1  1  1  1  1  1 -1 -1 -1\n",
      "  1 -1 -1  1  1 -1 -1  1  1 -1 -1  1  1 -1 -1  1  1  1  1  1  1 -1  1 -1  1\n",
      "  1 -1 -1  1 -1 -1  1 -1 -1  1  1  1  1 -1 -1  1 -1  1 -1 -1  1  1  1 -1 -1\n",
      "  1  1  1 -1 -1 -1 -1 -1  1 -1 -1 -1 -1 -1  1 -1 -1  1  1 -1  1 -1 -1 -1  1\n",
      "  1 -1  1 -1  1  1  1  1  1 -1  1  1 -1 -1  1 -1 -1  1  1  1  1  1  1  1 -1\n",
      "  1  1 -1 -1  1  1  1 -1  1  1 -1 -1 -1  1 -1 -1 -1 -1 -1  1  1  1  1 -1  1\n",
      " -1  1 -1  1 -1 -1  1  1  1  1 -1  1  1 -1 -1 -1 -1 -1 -1 -1  1 -1  1  1 -1\n",
      " -1 -1  1 -1  1 -1  1  1 -1  1  1 -1  1  1 -1 -1  1 -1 -1  1  1  1 -1 -1 -1\n",
      " -1  1  1  1 -1 -1  1 -1 -1  1  1  1  1  1 -1 -1  1 -1 -1  1  1  1  1  1 -1]\n",
      "Positive validation labels  300\n"
     ]
    }
   ],
   "source": [
    "num_positive_labels = np.sum(labels == 1)\n",
    "positive_label_indices = np.nonzero(labels == 1)[0]\n",
    "print(\"Positive labels \", num_positive_labels)\n",
    "#print(\"Positive label indices \", positive_label_indices)\n",
    "print(validation_labels.shape)\n",
    "print(validation_labels)\n",
    "num_positive_validation_labels = np.sum(validation_labels == 1)\n",
    "positive_validation_label_indices = np.nonzero(validation_labels == 1)[0]\n",
    "print(\"Positive validation labels \", num_positive_validation_labels)\n",
    "#print(\"Positive val label indices \", positive_validation_label_indices)"
   ]
  },
  {
   "cell_type": "markdown",
   "metadata": {},
   "source": [
    "### Normalize the data by getting using average and stdev"
   ]
  },
  {
   "cell_type": "code",
   "execution_count": 10,
   "metadata": {
    "collapsed": true
   },
   "outputs": [],
   "source": [
    "def get_average_and_stdev(input_array):\n",
    "    avg = np.average(input_array, axis=0)\n",
    "    return avg, np.std(input_array, axis=0)"
   ]
  },
  {
   "cell_type": "code",
   "execution_count": 11,
   "metadata": {
    "collapsed": true
   },
   "outputs": [],
   "source": [
    "def normalize(input_array, avg, stdev):\n",
    "    avgremoved = input_array - avg[None,:]\n",
    "    return avgremoved/stdev"
   ]
  },
  {
   "cell_type": "markdown",
   "metadata": {},
   "source": [
    "#### Note that validation data is normalized using original bias and stdev"
   ]
  },
  {
   "cell_type": "code",
   "execution_count": 12,
   "metadata": {
    "collapsed": false
   },
   "outputs": [
    {
     "name": "stdout",
     "output_type": "stream",
     "text": [
      "(40,)\n",
      "(2000, 40)\n",
      "[[-2.40497551 -1.46919561  0.59057274 ...,  0.77853397 -1.14592077\n",
      "  -0.09063621]\n",
      " [ 0.7600082  -0.38077659 -1.00117219 ..., -0.34645009  0.84065868\n",
      "  -1.24264196]\n",
      " [ 2.37546863  0.70764243 -1.46100962 ...,  0.10354353 -0.43451056\n",
      "   1.20243147]\n",
      " ..., \n",
      " [ 1.089694    1.31987813 -0.85968376 ..., -0.70644499 -0.66269874\n",
      "   1.49239211]\n",
      " [-0.26201779 -0.65288135 -0.32910211 ...,  0.68853525 -1.33384045\n",
      "   1.98610886]\n",
      " [-0.7565465   0.16343292 -0.54133477 ...,  0.1485429   0.98830985\n",
      "  -0.37276007]]\n",
      "(600, 40)\n",
      "[[-0.06420631  0.63961624  0.90892173 ..., -0.59394659  0.6930075\n",
      "  -1.86174709]\n",
      " [-0.95435798  0.70764243 -0.36447422 ..., -0.93144181 -0.77008141\n",
      "   0.29336571]\n",
      " [ 0.69407104 -0.10867184 -0.18761367 ...,  0.30604067  0.41112798\n",
      "  -0.01226847]\n",
      " ..., \n",
      " [ 0.49625956  1.59198288 -1.0365443  ..., -1.4264348   0.37085948\n",
      "  -1.00753875]\n",
      " [-1.21810662 -0.85695991 -0.08149734 ...,  0.46353843  0.46481932\n",
      "   1.10839019]\n",
      " [ 1.48531696  0.70764243  1.01503806 ...,  0.19354226 -1.18618927\n",
      "   1.54724952]]\n"
     ]
    }
   ],
   "source": [
    "avg, stdev = get_average_and_stdev(data)\n",
    "normalized = normalize(data, avg, stdev)\n",
    "normalized_validation = normalize(validation_data, avg, stdev)\n",
    "print(avg.shape)\n",
    "print(normalized.shape)\n",
    "print(normalized)\n",
    "print(normalized_validation.shape)\n",
    "print(normalized_validation)"
   ]
  },
  {
   "cell_type": "code",
   "execution_count": 13,
   "metadata": {
    "collapsed": false
   },
   "outputs": [
    {
     "name": "stdout",
     "output_type": "stream",
     "text": [
      "Linear SVM trained in: 0.36 s\n"
     ]
    }
   ],
   "source": [
    "import sklearn.svm\n",
    "start = time.time()\n",
    "linear_classifier = sklearn.svm.LinearSVC().fit(\n",
    "                            X=normalized,\n",
    "                            y=labels)\n",
    "print(\"Linear SVM trained in:\", round(time.time() - start, 2), \"s\")"
   ]
  },
  {
   "cell_type": "code",
   "execution_count": 14,
   "metadata": {
    "collapsed": false
   },
   "outputs": [
    {
     "name": "stdout",
     "output_type": "stream",
     "text": [
      "Linear Classifier Prediction time (training set)  0.04\n",
      "Linear Classifier Training set accuracy   0.611\n",
      "Linear Classifier Prediction time (validation set)  0.0\n",
      "Linear Classifier Validation set accuracy   0.583333333333\n",
      "Linear Classifier Validation set positives accuracy 0.58\n"
     ]
    }
   ],
   "source": [
    "start = time.time()\n",
    "training_predictions = linear_classifier.predict(normalized)\n",
    "training_prediction_time = round(time.time() - start, 2)\n",
    "print(\"Linear Classifier Prediction time (training set) \", training_prediction_time)\n",
    "print(\"Linear Classifier Training set accuracy  \", np.sum(training_predictions == labels)/float(labels.shape[0]))\n",
    "start = time.time()\n",
    "validation_predictions = linear_classifier.predict(normalized_validation)\n",
    "validation_prediction_time = round(time.time() - start, 2)\n",
    "print(\"Linear Classifier Prediction time (validation set) \", validation_prediction_time)\n",
    "print(\"Linear Classifier Validation set accuracy  \", np.sum(validation_predictions == validation_labels)/float(validation_labels.shape[0]))\n",
    "print(\"Linear Classifier Validation set positives accuracy\", np.sum(validation_predictions[positive_validation_label_indices] == validation_labels[positive_validation_label_indices])/float(num_positive_validation_labels) )"
   ]
  },
  {
   "cell_type": "code",
   "execution_count": 16,
   "metadata": {
    "collapsed": false
   },
   "outputs": [
    {
     "name": "stdout",
     "output_type": "stream",
     "text": [
      "Gaussian SVM trained in: 0.44 s\n",
      "Number of support vectors:  976\n"
     ]
    }
   ],
   "source": [
    "import sklearn.svm\n",
    "\n",
    "start = time.time()\n",
    "classifier = sklearn.svm.SVC(\n",
    "             C=1, kernel=\"rbf\", gamma=0.1).fit(\n",
    "                          X=normalized,\n",
    "                          y=labels)\n",
    "print(\"Gaussian SVM trained in:\", round(time.time() - start, 2), \"s\")\n",
    "print(\"Number of support vectors: \", classifier.n_support_[0])"
   ]
  },
  {
   "cell_type": "code",
   "execution_count": 17,
   "metadata": {
    "collapsed": false
   },
   "outputs": [
    {
     "name": "stdout",
     "output_type": "stream",
     "text": [
      "Prediction time (training set)  0.33\n",
      "Training set accuracy   0.9985\n",
      "Prediction time (validation set)  0.09\n",
      "Validation set accuracy   0.818333333333\n",
      "Validation set positives accuracy 0.823333333333\n"
     ]
    }
   ],
   "source": [
    "start = time.time()\n",
    "training_predictions = classifier.predict(normalized)\n",
    "training_prediction_time = round(time.time() - start, 2)\n",
    "print(\"Prediction time (training set) \", training_prediction_time)\n",
    "print(\"Training set accuracy  \", np.sum(training_predictions == labels)/float(labels.shape[0]))\n",
    "start = time.time()\n",
    "validation_predictions = classifier.predict(normalized_validation)\n",
    "validation_prediction_time = round(time.time() - start, 2)\n",
    "print(\"Prediction time (validation set) \", validation_prediction_time)\n",
    "print(\"Validation set accuracy  \", np.sum(validation_predictions == validation_labels)/float(validation_labels.shape[0]))\n",
    "print(\"Validation set positives accuracy\", np.sum(validation_predictions[positive_validation_label_indices] == validation_labels[positive_validation_label_indices])/float(num_positive_validation_labels) )"
   ]
  },
  {
   "cell_type": "markdown",
   "metadata": {},
   "source": [
    "| Kernel | Train pred time (s) | Train pred accuracy | Valid pred time (s) | Valid pred accuracy |  C | Gamma | Number SV |\n",
    "|--------|---------------------|---------------------|---------------------|---------------------|----|-------|-----------|\n",
    "| rbf    | 2.06                | 1.0                 | 0.55                | 0.49                | 0.1| 0.1   | 1000 |\n",
    "| rbf    | 2.0                 | 1.0                 | 0.54                | 0.5                 | 0.1| 1     | 1000 |\n",
    "| rbf    | 2.0                 | 1.0                 | 0.53                | 0.5                 | 0.1| 10    | 1000 |\n",
    "| rbf    | 2.06                | 1.0                 | 0.55                | 0.495               | 1  | 0.1   | 1000 |\n",
    "| rbf    | 1.99                | 1.0                 | 0.76                | 0.497               | 1  | 1     | 1000 |\n",
    "| rbf    | 1.99                | 1.0                 | 0.53                | 0.5                 | 1  | 10    | 1000 |\n",
    "| rbf    | 2.06                | 1.0                 | 0.55                | 0.501               | 10 | 0.1   | 1000 |\n",
    "| rbf    | 2.06                | 1.0                 | 0.53                | 0.497               | 10 | 1     | 1000 |\n",
    "| rbf    | 1.99                | 1.0                 | 0.53                | 0.5                 | 10 | 10    | 1000 |\n",
    "| rbf    | 4.39                | 1.0                 | 1.32                | 0.6 (positives 0.59)| 1  | 0.01  | 1000 |\n",
    "| rbf    | 4.37                | 1.0                 | 1.31                | 0.59 (positives 0.6)| 10  | 0.01  | 1000 |\n",
    "| rbf    | 4.34                | 1.0                 | 1.31                | 0.59 (positives 0.6)| 100  | 0.01  | 1000 |\n",
    "| rbf    | 4.08                | 0.8425              | 1.22                | 0.58 (positives 0.57)| 1  | 0.001  | 929 |\n",
    "| rbf    | 4.25                | 1.0                 | 1.26                | 0.6 (positives 0.6)| 10  | 0.001  | 969 |\n",
    "| rbf    | 4.34                | 0.699               | 1.31                | 0.6 (positives 0.52)| 0.1  | 0.001  | 1000 |\n",
    "| rbf    | 4.16                | 0.955               | 1.26                | 0.6 (positives 0.58)| 5  | 0.001  | 962 |\n",
    "| rbf    | 2.06                | 0.655               | 0.55                | 0.58 (positives 0.58)| 0.1  | 0.0001  | 1000 |\n",
    "| rbf    | 2.04                | 0.662               | 0.54                | 0.59 (positives 0.56)| 1  | 0.0001  | 994 |\n",
    "| rbf    | 2.0                 | 0.746               | 0.47                | 0.59 (positives 0.58)| 10  | 0.0001  | 857 |\n",
    "| rbf    | 1.68                | 0.872               | 0.44                | 0.58 (positives 0.57)| 100  | 0.0001  | 790 |\n",
    "| rbf    | 2.11                | 1.0                 | 0.5                 | 0.6 (positives 0.6)| 1000  | 0.0001  | 914 |\n",
    "| rbf    | 1.99                | 1.0                 | 0.5                 | 0.6 (positives 0.6)| 500  | 0.0001  | 914 |\n",
    "| rbf    | 1.76                | 0.9655              | 0.47                | 0.58 (positives 0.58)| 200  | 0.0001  | 843 |"
   ]
  },
  {
   "cell_type": "markdown",
   "metadata": {},
   "source": [
    "### Results for training only with relevant features\n",
    "| Kernel | Train pred time (s) | Train pred accuracy | Valid pred time (s) | Valid pred accuracy |  C | Gamma | Number SV |\n",
    "|--------|---------------------|---------------------|---------------------|---------------------|----|-------|-----------|\n",
    "| rbf    | 0.22                | 0.991               | 0.08                | 0.915               | 1  | 1     | 909 |"
   ]
  },
  {
   "cell_type": "code",
   "execution_count": 17,
   "metadata": {
    "collapsed": false
   },
   "outputs": [
    {
     "data": {
      "text/plain": [
       "['GaussianClassifier_Madelon_20Best_20Random_C1_G0_1.pkl']"
      ]
     },
     "execution_count": 17,
     "metadata": {},
     "output_type": "execute_result"
    }
   ],
   "source": [
    "from sklearn.externals import joblib\n",
    "# now you can save it to a file\n",
    "joblib.dump(classifier, 'GaussianClassifier_Madelon_20Best_20Random_C1_G0_1.pkl')"
   ]
  },
  {
   "cell_type": "code",
   "execution_count": null,
   "metadata": {
    "collapsed": true
   },
   "outputs": [],
   "source": []
  }
 ],
 "metadata": {
  "anaconda-cloud": {},
  "celltoolbar": "Raw Cell Format",
  "kernelspec": {
   "display_name": "Python [default]",
   "language": "python",
   "name": "python2"
  },
  "language_info": {
   "codemirror_mode": {
    "name": "ipython",
    "version": 2
   },
   "file_extension": ".py",
   "mimetype": "text/x-python",
   "name": "python",
   "nbconvert_exporter": "python",
   "pygments_lexer": "ipython2",
   "version": "2.7.12"
  }
 },
 "nbformat": 4,
 "nbformat_minor": 0
}
