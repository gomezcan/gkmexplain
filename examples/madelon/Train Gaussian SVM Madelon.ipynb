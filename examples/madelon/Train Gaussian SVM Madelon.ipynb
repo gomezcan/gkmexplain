{
 "cells": [
  {
   "cell_type": "code",
   "execution_count": 1,
   "metadata": {
    "collapsed": true
   },
   "outputs": [],
   "source": [
    "from __future__ import division, absolute_import, print_function\n",
    "%matplotlib inline"
   ]
  },
  {
   "cell_type": "code",
   "execution_count": 2,
   "metadata": {
    "collapsed": true
   },
   "outputs": [],
   "source": [
    "import time\n",
    "import numpy as np"
   ]
  },
  {
   "cell_type": "code",
   "execution_count": 3,
   "metadata": {
    "collapsed": false
   },
   "outputs": [],
   "source": [
    "import os\n",
    "os.environ['CUDA_VISIBLE_DEVICES'] = \"0\""
   ]
  },
  {
   "cell_type": "code",
   "execution_count": 4,
   "metadata": {
    "collapsed": false
   },
   "outputs": [
    {
     "name": "stdout",
     "output_type": "stream",
     "text": [
      "0\r\n"
     ]
    }
   ],
   "source": [
    "!echo $CUDA_VISIBLE_DEVICES"
   ]
  },
  {
   "cell_type": "markdown",
   "metadata": {},
   "source": [
    "## Get the data"
   ]
  },
  {
   "cell_type": "markdown",
   "metadata": {},
   "source": [
    "This is the data from the MADELON dataset http://archive.ics.uci.edu/ml/datasets/madelon"
   ]
  },
  {
   "cell_type": "code",
   "execution_count": 5,
   "metadata": {
    "collapsed": false
   },
   "outputs": [
    {
     "name": "stdout",
     "output_type": "stream",
     "text": [
      "madelon.param\t   madelon_train.data\t madelon_valid.data\r\n",
      "madelon_test.data  madelon_train.labels\r\n"
     ]
    }
   ],
   "source": [
    "!ls dataset/MADELON"
   ]
  },
  {
   "cell_type": "code",
   "execution_count": 6,
   "metadata": {
    "collapsed": false
   },
   "outputs": [
    {
     "name": "stdout",
     "output_type": "stream",
     "text": [
      "(2000, 500)\n",
      "(600, 500)\n"
     ]
    }
   ],
   "source": [
    "data = np.loadtxt(\"dataset/MADELON/madelon_train.data\", dtype=np.int32)\n",
    "validation_data = np.loadtxt(\"dataset/MADELON/madelon_valid.data\", dtype=np.int32)\n",
    "print(data.shape)\n",
    "print(validation_data.shape)"
   ]
  },
  {
   "cell_type": "code",
   "execution_count": 7,
   "metadata": {
    "collapsed": false
   },
   "outputs": [
    {
     "name": "stdout",
     "output_type": "stream",
     "text": [
      "(2000,)\n",
      "[-1 -1 -1 ..., -1  1  1]\n",
      "Positive labels  1000\n",
      "(600,)\n",
      "[-1 -1 -1  1 -1  1 -1 -1 -1  1  1  1 -1  1  1 -1 -1  1 -1 -1 -1 -1 -1  1  1\n",
      "  1  1 -1 -1 -1 -1  1  1 -1  1 -1  1  1  1  1  1  1  1  1 -1  1  1  1 -1 -1\n",
      "  1 -1 -1  1  1 -1  1 -1 -1 -1  1 -1  1  1  1  1 -1  1 -1 -1  1 -1  1  1  1\n",
      " -1  1 -1  1 -1  1 -1 -1  1  1  1  1  1  1  1 -1 -1 -1 -1  1 -1 -1  1  1 -1\n",
      " -1  1 -1  1 -1  1 -1 -1  1  1  1 -1  1 -1 -1 -1  1 -1  1 -1 -1  1  1 -1 -1\n",
      "  1 -1 -1  1 -1  1  1 -1  1 -1  1 -1  1 -1 -1 -1  1  1 -1 -1  1  1 -1 -1 -1\n",
      "  1 -1  1 -1 -1  1  1  1  1 -1  1  1 -1 -1 -1 -1  1  1 -1  1  1  1 -1 -1 -1\n",
      " -1  1 -1  1 -1  1 -1  1 -1 -1  1 -1 -1 -1 -1  1  1 -1 -1 -1  1 -1  1 -1 -1\n",
      " -1  1  1  1 -1 -1  1  1  1  1 -1 -1  1 -1 -1 -1  1  1 -1 -1  1  1 -1 -1  1\n",
      " -1 -1 -1 -1  1 -1 -1  1  1  1  1 -1 -1 -1  1 -1 -1  1 -1 -1  1  1 -1 -1  1\n",
      "  1 -1 -1 -1 -1  1 -1 -1  1  1  1  1  1 -1  1  1 -1 -1  1 -1  1  1 -1 -1 -1\n",
      " -1  1  1  1  1  1 -1  1  1  1 -1 -1  1  1 -1 -1 -1  1  1  1  1 -1 -1  1  1\n",
      " -1 -1  1  1  1  1 -1  1  1 -1 -1  1 -1  1  1 -1 -1 -1  1  1 -1 -1 -1  1 -1\n",
      " -1 -1 -1  1 -1  1  1  1  1 -1  1 -1 -1 -1  1 -1 -1  1 -1  1 -1 -1  1  1 -1\n",
      " -1  1 -1 -1 -1 -1  1  1  1 -1 -1 -1  1  1 -1 -1 -1 -1  1  1 -1 -1 -1 -1  1\n",
      "  1  1  1 -1  1 -1  1  1  1  1  1 -1  1 -1 -1  1 -1  1  1  1  1  1 -1 -1 -1\n",
      "  1 -1 -1  1  1 -1 -1  1  1 -1 -1  1  1 -1 -1  1  1  1  1  1  1 -1  1 -1  1\n",
      "  1 -1 -1  1 -1 -1  1 -1 -1  1  1  1  1 -1 -1  1 -1  1 -1 -1  1  1  1 -1 -1\n",
      "  1  1  1 -1 -1 -1 -1 -1  1 -1 -1 -1 -1 -1  1 -1 -1  1  1 -1  1 -1 -1 -1  1\n",
      "  1 -1  1 -1  1  1  1  1  1 -1  1  1 -1 -1  1 -1 -1  1  1  1  1  1  1  1 -1\n",
      "  1  1 -1 -1  1  1  1 -1  1  1 -1 -1 -1  1 -1 -1 -1 -1 -1  1  1  1  1 -1  1\n",
      " -1  1 -1  1 -1 -1  1  1  1  1 -1  1  1 -1 -1 -1 -1 -1 -1 -1  1 -1  1  1 -1\n",
      " -1 -1  1 -1  1 -1  1  1 -1  1  1 -1  1  1 -1 -1  1 -1 -1  1  1  1 -1 -1 -1\n",
      " -1  1  1  1 -1 -1  1 -1 -1  1  1  1  1  1 -1 -1  1 -1 -1  1  1  1  1  1 -1]\n",
      "Positive validation labels  300\n"
     ]
    }
   ],
   "source": [
    "labels = np.loadtxt(\"dataset/MADELON/madelon_train.labels\", dtype=np.int32)\n",
    "validation_labels= np.loadtxt(\"dataset/madelon_valid.labels\", dtype=np.int32)\n",
    "print(labels.shape)\n",
    "print(labels)\n",
    "print(\"Positive labels \", np.sum(labels == 1))\n",
    "print(validation_labels.shape)\n",
    "print(validation_labels)\n",
    "print(\"Positive validation labels \", np.sum(validation_labels == 1))"
   ]
  },
  {
   "cell_type": "markdown",
   "metadata": {},
   "source": [
    "### Normalize the data by removing bias (average value) from each feature and then dividing by feature stdev"
   ]
  },
  {
   "cell_type": "code",
   "execution_count": 8,
   "metadata": {
    "collapsed": true
   },
   "outputs": [],
   "source": [
    "def get_average_and_stdev(input_array):\n",
    "    bias = np.average(input_array, axis=0)\n",
    "    biasremoved = input_array - bias[None,:]\n",
    "    return bias, np.linalg.norm(biasremoved, axis=0)"
   ]
  },
  {
   "cell_type": "code",
   "execution_count": 9,
   "metadata": {
    "collapsed": true
   },
   "outputs": [],
   "source": [
    "def normalize(input_array, bias, stdev):\n",
    "    biasremoved = input_array - bias[None,:]\n",
    "    return biasremoved/stdev"
   ]
  },
  {
   "cell_type": "markdown",
   "metadata": {},
   "source": [
    "#### Note that validation data is normalized using original bias and stdev"
   ]
  },
  {
   "cell_type": "code",
   "execution_count": 10,
   "metadata": {
    "collapsed": false
   },
   "outputs": [
    {
     "name": "stdout",
     "output_type": "stream",
     "text": [
      "(500,)\n",
      "(2000, 500)\n",
      "[[ 0.01141515 -0.00478092  0.01542903 ..., -0.00710747 -0.01981428\n",
      "   0.004966  ]\n",
      " [ 0.00444938 -0.01885881 -0.02884449 ...,  0.01433536  0.00121552\n",
      "   0.02315329]\n",
      " [ 0.01838092  0.04338026 -0.00642024 ...,  0.00938701 -0.00539384\n",
      "   0.00669812]\n",
      " ..., \n",
      " [-0.00599927  0.02485673  0.06947723 ...,  0.02753095  0.00902659\n",
      "  -0.00802492]\n",
      " [ 0.00793227 -0.00181716 -0.00297035 ..., -0.01700417  0.01143    -0.00456068]\n",
      " [-0.02689657  0.00707414 -0.02366966 ...,  0.00938701  0.00482063\n",
      "   0.02228722]]\n",
      "(600, 500)\n",
      "[[  4.44938363e-03  -2.18225737e-02   1.62949553e-03 ...,   2.42320507e-02\n",
      "    9.02659099e-03   1.70908557e-02]\n",
      " [  1.14151506e-02   1.81882566e-02  -9.87012005e-03 ...,   1.92837046e-02\n",
      "    2.40478767e-02  -1.14891706e-02]\n",
      " [  4.44938363e-03   2.78204935e-02  -1.82038915e-03 ...,  -3.01997560e-02\n",
      "    1.38195828e-05   1.10284259e-02]\n",
      " ..., \n",
      " [  1.14151506e-02   1.14660667e-03   1.14041688e-02 ...,  -3.80857702e-03\n",
      "   -1.44066147e-02   2.31532856e-02]\n",
      " [ -1.64479172e-02  -1.07084542e-02   1.02542072e-02 ...,   1.10364612e-02\n",
      "    6.31032194e-02   1.50175047e-03]\n",
      " [  9.66500162e-04  -2.25635150e-02   2.77945709e-03 ...,   1.76342559e-02\n",
      "    1.68376595e-02   3.09478382e-02]]\n"
     ]
    }
   ],
   "source": [
    "bias, stdev = get_average_and_stdev(data)\n",
    "normalized = normalize(data, bias, stdev)\n",
    "normalized_validation = normalize(validation_data, bias, stdev)\n",
    "print(bias.shape)\n",
    "print(normalized.shape)\n",
    "print(normalized)\n",
    "print(normalized_validation.shape)\n",
    "print(normalized_validation)"
   ]
  },
  {
   "cell_type": "code",
   "execution_count": 11,
   "metadata": {
    "collapsed": false
   },
   "outputs": [
    {
     "name": "stdout",
     "output_type": "stream",
     "text": [
      "Gaussian SVM trained in: 2.53 s\n",
      "Number of support vectors:  943\n"
     ]
    }
   ],
   "source": [
    "import sklearn.svm\n",
    "\n",
    "start = time.time()\n",
    "classifier = sklearn.svm.SVC(\n",
    "             C=100, kernel=\"rbf\", gamma=1.0).fit(\n",
    "                          X=normalized,\n",
    "                          y=labels)\n",
    "print(\"Gaussian SVM trained in:\", round(time.time() - start, 2), \"s\")\n",
    "print(\"Number of support vectors: \", classifier.n_support_[0])"
   ]
  },
  {
   "cell_type": "code",
   "execution_count": 12,
   "metadata": {
    "collapsed": false
   },
   "outputs": [
    {
     "name": "stdout",
     "output_type": "stream",
     "text": [
      "Prediction time (training set)  1.93\n",
      "Training set accuracy   1.0\n",
      "Prediction time (validation set)  0.51\n",
      "Validation set accuracy   0.593333333333\n"
     ]
    }
   ],
   "source": [
    "start = time.time()\n",
    "training_predictions = classifier.predict(normalized)\n",
    "training_prediction_time = round(time.time() - start, 2)\n",
    "print(\"Prediction time (training set) \", training_prediction_time)\n",
    "print(\"Training set accuracy  \", np.sum(training_predictions == labels)/float(labels.shape[0]))\n",
    "start = time.time()\n",
    "validation_predictions = classifier.predict(normalized_validation)\n",
    "validation_prediction_time = round(time.time() - start, 2)\n",
    "print(\"Prediction time (validation set) \", validation_prediction_time)\n",
    "print(\"Validation set accuracy  \", np.sum(validation_predictions == validation_labels)/float(validation_labels.shape[0]))"
   ]
  },
  {
   "cell_type": "markdown",
   "metadata": {},
   "source": [
    "| Kernel | Train pred time (s) | Train pred accuracy | Valid pred time (s) | Valid pred accuracy |  C | Gamma | Number SV |\n",
    "|--------|---------------------|---------------------|---------------------|---------------------|----|-------|-----------|\n",
    "| rbf    | 1.98                | 0.691               | 0.52                | 0.5716              | 1  | 0.5   | 952|\n",
    "| rbf    | 1.72                | 0.8215              | 0.45                | 0.5833              | 10 | 0.5   | 829|\n",
    "| rbf    | 1.92                | 0.74                | 0.51                | 0.575               | 1  | 1.0   | 927|\n",
    "| rbf    | 1.85                | 0.977               | 0.51                | 0.585               | 10 | 1.0   | 898|\n",
    "| rbf    | 1.92                | 0.74                | 0.51                | 0.575               | auto | 1.0 | 927|\n",
    "| rbf    | 2.21                | 0.691               | 0.55                | 0.572               | auto | 0.5 | 952|\n",
    "| linear | 1.81                | 0.6865              | 0.48                | 0.572               | auto | NA | 937|\n",
    "| linear | 1.45                | 0.745               | 0.4                 | 0.578               | 10   | NA | 786|\n",
    "| rbf    | 1.93                | 1.0                 | 0.51                | 0.593               | 100  | 1.0 | 943|"
   ]
  },
  {
   "cell_type": "code",
   "execution_count": null,
   "metadata": {
    "collapsed": true
   },
   "outputs": [],
   "source": []
  }
 ],
 "metadata": {
  "anaconda-cloud": {},
  "celltoolbar": "Raw Cell Format",
  "kernelspec": {
   "display_name": "Python [default]",
   "language": "python",
   "name": "python2"
  },
  "language_info": {
   "codemirror_mode": {
    "name": "ipython",
    "version": 2
   },
   "file_extension": ".py",
   "mimetype": "text/x-python",
   "name": "python",
   "nbconvert_exporter": "python",
   "pygments_lexer": "ipython2",
   "version": "2.7.12"
  }
 },
 "nbformat": 4,
 "nbformat_minor": 0
}
