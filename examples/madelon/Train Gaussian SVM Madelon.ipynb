{
 "cells": [
  {
   "cell_type": "code",
   "execution_count": 1,
   "metadata": {
    "collapsed": true
   },
   "outputs": [],
   "source": [
    "from __future__ import division, absolute_import, print_function\n",
    "%matplotlib inline"
   ]
  },
  {
   "cell_type": "code",
   "execution_count": 2,
   "metadata": {
    "collapsed": true
   },
   "outputs": [],
   "source": [
    "import time\n",
    "import numpy as np"
   ]
  },
  {
   "cell_type": "code",
   "execution_count": 3,
   "metadata": {
    "collapsed": false
   },
   "outputs": [],
   "source": [
    "import os\n",
    "os.environ['CUDA_VISIBLE_DEVICES'] = \"0\""
   ]
  },
  {
   "cell_type": "code",
   "execution_count": 4,
   "metadata": {
    "collapsed": false
   },
   "outputs": [
    {
     "name": "stdout",
     "output_type": "stream",
     "text": [
      "0\r\n"
     ]
    }
   ],
   "source": [
    "!echo $CUDA_VISIBLE_DEVICES"
   ]
  },
  {
   "cell_type": "markdown",
   "metadata": {},
   "source": [
    "## Get the data"
   ]
  },
  {
   "cell_type": "markdown",
   "metadata": {},
   "source": [
    "This is the data from the MADELON dataset http://archive.ics.uci.edu/ml/datasets/madelon"
   ]
  },
  {
   "cell_type": "code",
   "execution_count": 5,
   "metadata": {
    "collapsed": false
   },
   "outputs": [
    {
     "name": "stdout",
     "output_type": "stream",
     "text": [
      "madelon.param\t   madelon_train.data\t madelon_valid.data\r\n",
      "madelon_test.data  madelon_train.labels\r\n"
     ]
    }
   ],
   "source": [
    "!ls dataset/MADELON"
   ]
  },
  {
   "cell_type": "code",
   "execution_count": 6,
   "metadata": {
    "collapsed": false
   },
   "outputs": [
    {
     "name": "stdout",
     "output_type": "stream",
     "text": [
      "(2000, 500)\n",
      "(600, 500)\n"
     ]
    }
   ],
   "source": [
    "data = np.loadtxt(\"dataset/MADELON/madelon_train.data\", dtype=np.int32)\n",
    "validation_data = np.loadtxt(\"dataset/MADELON/madelon_valid.data\", dtype=np.int32)\n",
    "print(data.shape)\n",
    "print(validation_data.shape)"
   ]
  },
  {
   "cell_type": "code",
   "execution_count": 7,
   "metadata": {
    "collapsed": false
   },
   "outputs": [
    {
     "name": "stdout",
     "output_type": "stream",
     "text": [
      "(2000,)\n",
      "[-1 -1 -1 ..., -1  1  1]\n",
      "Positive labels  1000\n",
      "Positive label indices  [   3    4    5    6    8   12   17   19   21   23   26   28   31   32   33\n",
      "   34   40   41   42   43   46   52   55   56   58   59   61   67   69   71\n",
      "   74   78   82   86   93   95   97  102  104  109  114  115  118  119  121\n",
      "  124  127  133  134  138  139  143  146  155  156  161  162  163  164  166\n",
      "  167  170  171  172  174  175  177  180  181  182  187  188  189  191  192\n",
      "  199  201  202  203  206  210  213  216  217  218  219  222  226  227  229\n",
      "  230  231  233  236  237  238  240  241  245  246  251  258  259  260  262\n",
      "  264  265  266  267  271  272  273  274  275  276  277  278  281  283  284\n",
      "  285  286  287  288  290  291  292  293  295  298  300  302  303  304  306\n",
      "  308  309  311  312  313  314  315  316  318  319  323  324  325  327  330\n",
      "  331  333  335  336  337  338  339  340  341  343  346  348  349  350  351\n",
      "  356  357  360  367  369  370  373  374  376  377  378  379  381  385  387\n",
      "  388  390  391  392  393  394  395  397  398  399  400  402  407  409  410\n",
      "  411  412  413  415  416  419  421  422  427  428  434  437  438  440  441\n",
      "  444  446  449  450  451  452  456  457  460  462  464  465  467  468  469\n",
      "  471  474  477  483  485  487  488  491  493  496  497  501  504  509  510\n",
      "  512  513  514  516  520  521  522  528  529  530  532  540  545  547  549\n",
      "  551  553  557  559  561  564  566  567  573  575  576  578  581  582  583\n",
      "  585  586  587  594  596  597  599  600  601  602  603  604  607  608  613\n",
      "  614  616  618  625  626  627  628  630  631  632  635  639  641  643  645\n",
      "  646  647  649  650  651  652  653  654  655  656  657  658  660  661  666\n",
      "  667  673  675  677  678  679  682  683  684  686  688  692  697  698  701\n",
      "  703  706  707  708  709  710  711  713  715  716  718  719  720  721  722\n",
      "  725  727  728  729  730  732  735  736  738  739  740  741  743  744  745\n",
      "  746  747  748  750  752  753  755  757  758  767  768  771  773  774  775\n",
      "  777  778  779  781  782  786  787  789  790  792  798  799  800  801  802\n",
      "  803  805  808  809  811  813  814  815  817  819  821  824  825  827  830\n",
      "  831  832  833  834  835  836  838  839  841  842  843  844  845  847  850\n",
      "  851  855  857  858  859  860  862  863  864  865  867  870  871  872  874\n",
      "  876  878  879  880  886  888  889  891  893  895  897  898  900  901  902\n",
      "  904  907  908  909  910  911  917  919  921  922  924  925  929  935  936\n",
      "  938  939  940  942  943  944  945  946  947  948  949  950  951  952  953\n",
      "  954  956  959  960  961  962  963  965  968  973  974  979  980  983  984\n",
      "  986  990  995  996  997  998 1002 1003 1004 1007 1009 1013 1014 1017 1019\n",
      " 1020 1021 1022 1024 1025 1026 1027 1028 1029 1030 1033 1036 1037 1038 1039\n",
      " 1041 1042 1044 1045 1047 1049 1051 1052 1053 1054 1056 1058 1067 1068 1069\n",
      " 1070 1073 1075 1079 1083 1089 1093 1095 1097 1099 1101 1105 1109 1110 1118\n",
      " 1119 1120 1127 1128 1130 1131 1133 1135 1136 1139 1140 1143 1145 1147 1148\n",
      " 1151 1152 1153 1154 1155 1156 1159 1160 1165 1169 1171 1172 1173 1176 1177\n",
      " 1179 1180 1182 1183 1184 1185 1188 1189 1192 1193 1196 1197 1198 1199 1201\n",
      " 1203 1207 1208 1209 1210 1211 1213 1214 1219 1223 1224 1225 1227 1230 1231\n",
      " 1232 1233 1236 1237 1239 1241 1247 1249 1250 1251 1253 1254 1256 1262 1263\n",
      " 1265 1266 1268 1269 1271 1272 1273 1275 1276 1280 1281 1282 1283 1286 1290\n",
      " 1291 1293 1294 1295 1297 1298 1299 1301 1304 1306 1307 1308 1312 1315 1316\n",
      " 1317 1321 1325 1326 1328 1329 1330 1332 1335 1336 1337 1341 1346 1348 1351\n",
      " 1356 1357 1358 1361 1362 1363 1364 1365 1366 1367 1368 1374 1375 1378 1379\n",
      " 1382 1385 1387 1389 1391 1395 1396 1397 1399 1401 1402 1403 1405 1406 1407\n",
      " 1408 1409 1410 1411 1412 1413 1414 1415 1419 1420 1423 1427 1428 1429 1432\n",
      " 1435 1436 1438 1439 1442 1443 1444 1445 1446 1447 1448 1452 1454 1460 1461\n",
      " 1462 1463 1465 1467 1468 1470 1471 1472 1473 1475 1476 1477 1478 1481 1484\n",
      " 1486 1489 1491 1493 1494 1495 1496 1497 1500 1501 1507 1509 1510 1511 1512\n",
      " 1514 1517 1525 1528 1529 1532 1533 1534 1535 1539 1541 1544 1545 1546 1547\n",
      " 1549 1553 1554 1555 1557 1558 1559 1563 1564 1566 1567 1568 1573 1577 1578\n",
      " 1579 1580 1582 1584 1585 1588 1589 1591 1593 1595 1596 1597 1599 1601 1608\n",
      " 1611 1612 1613 1615 1616 1619 1620 1622 1625 1628 1630 1632 1635 1637 1639\n",
      " 1640 1641 1642 1643 1645 1646 1647 1648 1649 1651 1652 1653 1660 1661 1665\n",
      " 1666 1667 1668 1670 1671 1674 1675 1676 1677 1679 1680 1681 1682 1692 1693\n",
      " 1695 1697 1699 1700 1702 1705 1706 1716 1719 1720 1721 1722 1724 1725 1726\n",
      " 1728 1729 1731 1734 1741 1742 1744 1745 1746 1748 1749 1750 1751 1752 1753\n",
      " 1757 1759 1762 1764 1766 1768 1770 1772 1773 1774 1777 1779 1783 1785 1787\n",
      " 1791 1792 1793 1794 1802 1804 1807 1810 1811 1819 1820 1822 1824 1825 1827\n",
      " 1829 1831 1832 1833 1834 1836 1837 1838 1839 1842 1843 1845 1846 1852 1853\n",
      " 1854 1856 1858 1860 1861 1863 1865 1868 1870 1871 1872 1873 1879 1880 1881\n",
      " 1882 1884 1885 1892 1893 1897 1898 1899 1901 1902 1903 1904 1905 1906 1916\n",
      " 1917 1922 1923 1929 1931 1934 1938 1941 1944 1945 1947 1948 1949 1950 1951\n",
      " 1952 1955 1957 1959 1960 1961 1964 1967 1969 1970 1972 1973 1975 1976 1977\n",
      " 1980 1981 1984 1985 1987 1989 1994 1995 1998 1999]\n",
      "(600,)\n",
      "[-1 -1 -1  1 -1  1 -1 -1 -1  1  1  1 -1  1  1 -1 -1  1 -1 -1 -1 -1 -1  1  1\n",
      "  1  1 -1 -1 -1 -1  1  1 -1  1 -1  1  1  1  1  1  1  1  1 -1  1  1  1 -1 -1\n",
      "  1 -1 -1  1  1 -1  1 -1 -1 -1  1 -1  1  1  1  1 -1  1 -1 -1  1 -1  1  1  1\n",
      " -1  1 -1  1 -1  1 -1 -1  1  1  1  1  1  1  1 -1 -1 -1 -1  1 -1 -1  1  1 -1\n",
      " -1  1 -1  1 -1  1 -1 -1  1  1  1 -1  1 -1 -1 -1  1 -1  1 -1 -1  1  1 -1 -1\n",
      "  1 -1 -1  1 -1  1  1 -1  1 -1  1 -1  1 -1 -1 -1  1  1 -1 -1  1  1 -1 -1 -1\n",
      "  1 -1  1 -1 -1  1  1  1  1 -1  1  1 -1 -1 -1 -1  1  1 -1  1  1  1 -1 -1 -1\n",
      " -1  1 -1  1 -1  1 -1  1 -1 -1  1 -1 -1 -1 -1  1  1 -1 -1 -1  1 -1  1 -1 -1\n",
      " -1  1  1  1 -1 -1  1  1  1  1 -1 -1  1 -1 -1 -1  1  1 -1 -1  1  1 -1 -1  1\n",
      " -1 -1 -1 -1  1 -1 -1  1  1  1  1 -1 -1 -1  1 -1 -1  1 -1 -1  1  1 -1 -1  1\n",
      "  1 -1 -1 -1 -1  1 -1 -1  1  1  1  1  1 -1  1  1 -1 -1  1 -1  1  1 -1 -1 -1\n",
      " -1  1  1  1  1  1 -1  1  1  1 -1 -1  1  1 -1 -1 -1  1  1  1  1 -1 -1  1  1\n",
      " -1 -1  1  1  1  1 -1  1  1 -1 -1  1 -1  1  1 -1 -1 -1  1  1 -1 -1 -1  1 -1\n",
      " -1 -1 -1  1 -1  1  1  1  1 -1  1 -1 -1 -1  1 -1 -1  1 -1  1 -1 -1  1  1 -1\n",
      " -1  1 -1 -1 -1 -1  1  1  1 -1 -1 -1  1  1 -1 -1 -1 -1  1  1 -1 -1 -1 -1  1\n",
      "  1  1  1 -1  1 -1  1  1  1  1  1 -1  1 -1 -1  1 -1  1  1  1  1  1 -1 -1 -1\n",
      "  1 -1 -1  1  1 -1 -1  1  1 -1 -1  1  1 -1 -1  1  1  1  1  1  1 -1  1 -1  1\n",
      "  1 -1 -1  1 -1 -1  1 -1 -1  1  1  1  1 -1 -1  1 -1  1 -1 -1  1  1  1 -1 -1\n",
      "  1  1  1 -1 -1 -1 -1 -1  1 -1 -1 -1 -1 -1  1 -1 -1  1  1 -1  1 -1 -1 -1  1\n",
      "  1 -1  1 -1  1  1  1  1  1 -1  1  1 -1 -1  1 -1 -1  1  1  1  1  1  1  1 -1\n",
      "  1  1 -1 -1  1  1  1 -1  1  1 -1 -1 -1  1 -1 -1 -1 -1 -1  1  1  1  1 -1  1\n",
      " -1  1 -1  1 -1 -1  1  1  1  1 -1  1  1 -1 -1 -1 -1 -1 -1 -1  1 -1  1  1 -1\n",
      " -1 -1  1 -1  1 -1  1  1 -1  1  1 -1  1  1 -1 -1  1 -1 -1  1  1  1 -1 -1 -1\n",
      " -1  1  1  1 -1 -1  1 -1 -1  1  1  1  1  1 -1 -1  1 -1 -1  1  1  1  1  1 -1]\n",
      "Positive validation labels  300\n",
      "Positive val label indices  [  3   5   9  10  11  13  14  17  23  24  25  26  31  32  34  36  37  38\n",
      "  39  40  41  42  43  45  46  47  50  53  54  56  60  62  63  64  65  67\n",
      "  70  72  73  74  76  78  80  83  84  85  86  87  88  89  94  97  98 101\n",
      " 103 105 108 109 110 112 116 118 121 122 125 128 130 131 133 135 137 141\n",
      " 142 145 146 150 152 155 156 157 158 160 161 166 167 169 170 171 176 178\n",
      " 180 182 185 190 191 195 197 201 202 203 206 207 208 209 212 216 217 220\n",
      " 221 224 229 232 233 234 235 239 242 245 246 249 250 255 258 259 260 261\n",
      " 262 264 265 268 270 271 276 277 278 279 280 282 283 284 287 288 292 293\n",
      " 294 295 298 299 302 303 304 305 307 308 311 313 314 318 319 323 328 330\n",
      " 331 332 333 335 339 342 344 347 348 351 356 357 358 362 363 368 369 374\n",
      " 375 376 377 379 381 382 383 384 385 387 390 392 393 394 395 396 400 403\n",
      " 404 407 408 411 412 415 416 417 418 419 420 422 424 425 428 431 434 435\n",
      " 436 437 440 442 445 446 447 450 451 452 458 464 467 468 470 474 475 477\n",
      " 479 480 481 482 483 485 486 489 492 493 494 495 496 497 498 500 501 504\n",
      " 505 506 508 509 513 519 520 521 522 524 526 528 531 532 533 534 536 537\n",
      " 545 547 548 552 554 556 557 559 560 562 563 566 569 570 571 576 577 578\n",
      " 581 584 585 586 587 588 591 594 595 596 597 598]\n"
     ]
    }
   ],
   "source": [
    "labels = np.loadtxt(\"dataset/MADELON/madelon_train.labels\", dtype=np.int32)\n",
    "validation_labels= np.loadtxt(\"dataset/madelon_valid.labels\", dtype=np.int32)\n",
    "print(labels.shape)\n",
    "print(labels)\n",
    "num_positive_labels = np.sum(labels == 1)\n",
    "positive_label_indices = np.nonzero(labels == 1)[0]\n",
    "print(\"Positive labels \", num_positive_labels)\n",
    "print(\"Positive label indices \", positive_label_indices)\n",
    "print(validation_labels.shape)\n",
    "print(validation_labels)\n",
    "num_positive_validation_labels = np.sum(validation_labels == 1)\n",
    "positive_validation_label_indices = np.nonzero(validation_labels == 1)[0]\n",
    "print(\"Positive validation labels \", num_positive_validation_labels)\n",
    "print(\"Positive val label indices \", positive_validation_label_indices)"
   ]
  },
  {
   "cell_type": "markdown",
   "metadata": {},
   "source": [
    "### Normalize the data by getting using average and stdev"
   ]
  },
  {
   "cell_type": "code",
   "execution_count": 8,
   "metadata": {
    "collapsed": true
   },
   "outputs": [],
   "source": [
    "def get_average_and_stdev(input_array):\n",
    "    avg = np.average(input_array, axis=0)\n",
    "    return avg, np.std(input_array, axis=0)"
   ]
  },
  {
   "cell_type": "code",
   "execution_count": 9,
   "metadata": {
    "collapsed": true
   },
   "outputs": [],
   "source": [
    "def normalize(input_array, avg, stdev):\n",
    "    avgremoved = input_array - avg[None,:]\n",
    "    return avgremoved/stdev"
   ]
  },
  {
   "cell_type": "markdown",
   "metadata": {},
   "source": [
    "#### Note that validation data is normalized using original bias and stdev"
   ]
  },
  {
   "cell_type": "code",
   "execution_count": 10,
   "metadata": {
    "collapsed": false
   },
   "outputs": [
    {
     "name": "stdout",
     "output_type": "stream",
     "text": [
      "(500,)\n",
      "(2000, 500)\n",
      "[[ 0.51050105 -0.21380941  0.69000739 ..., -0.31785592 -0.88612143\n",
      "   0.2220861 ]\n",
      " [ 0.19898248 -0.84339156 -1.28996462 ...,  0.64109672  0.05435982\n",
      "   1.03544641]\n",
      " [ 0.82201962  1.94002424 -0.28712165 ...,  0.41979996 -0.24122     0.29954898]\n",
      " ..., \n",
      " [-0.26829537  1.11162669  3.10711607 ...,  1.23122143  0.40368142\n",
      "  -0.35888555]\n",
      " [ 0.35474177 -0.0812658  -0.13283812 ..., -0.76044945  0.51116499\n",
      "  -0.20395978]\n",
      " [-1.20285107  0.31636503 -1.05853932 ...,  0.41979996  0.21558517\n",
      "   0.99671497]]\n",
      "(600, 500)\n",
      "[[  1.98982485e-01  -9.75935165e-01   7.28732554e-02 ...,   1.08369025e+00\n",
      "    4.03681421e-01   7.64326305e-01]\n",
      " [  5.10501052e-01   8.13403564e-01  -4.41405188e-01 ...,   8.62393488e-01\n",
      "    1.07545374e+00  -5.13811329e-01]\n",
      " [  1.98982485e-01   1.24417029e+00  -8.14102775e-02 ...,  -1.35057415e+00\n",
      "    6.18030532e-04   4.93206201e-01]\n",
      " ..., \n",
      " [  5.10501052e-01   5.12778089e-02   5.10009932e-01 ...,  -1.70324742e-01\n",
      "   -6.44283395e-01   1.03544641e+00]\n",
      " [ -7.35573217e-01  -4.78896629e-01   4.58582088e-01 ...,   4.93565548e-01\n",
      "    2.82206177e+00   6.71603229e-02]\n",
      " [  4.32232012e-02  -1.00907107e+00   1.24301100e-01 ...,   7.88627900e-01\n",
      "    7.53003026e-01   1.38402940e+00]]\n"
     ]
    }
   ],
   "source": [
    "avg, stdev = get_average_and_stdev(data)\n",
    "normalized = normalize(data, avg, stdev)\n",
    "normalized_validation = normalize(validation_data, avg, stdev)\n",
    "print(avg.shape)\n",
    "print(normalized.shape)\n",
    "print(normalized)\n",
    "print(normalized_validation.shape)\n",
    "print(normalized_validation)"
   ]
  },
  {
   "cell_type": "code",
   "execution_count": 11,
   "metadata": {
    "collapsed": false
   },
   "outputs": [
    {
     "name": "stdout",
     "output_type": "stream",
     "text": [
      "Gaussian SVM trained in: 2.36 s\n",
      "Number of support vectors:  969\n"
     ]
    }
   ],
   "source": [
    "import sklearn.svm\n",
    "\n",
    "start = time.time()\n",
    "classifier = sklearn.svm.SVC(\n",
    "             C=10, kernel=\"rbf\", gamma=0.001).fit(\n",
    "                          X=normalized,\n",
    "                          y=labels)\n",
    "print(\"Gaussian SVM trained in:\", round(time.time() - start, 2), \"s\")\n",
    "print(\"Number of support vectors: \", classifier.n_support_[0])"
   ]
  },
  {
   "cell_type": "code",
   "execution_count": 12,
   "metadata": {
    "collapsed": false
   },
   "outputs": [
    {
     "name": "stdout",
     "output_type": "stream",
     "text": [
      "Prediction time (training set)  1.99\n",
      "Training set accuracy   1.0\n",
      "Prediction time (validation set)  0.53\n",
      "Validation set accuracy   0.603333333333\n",
      "Validation set positives accuracy 0.596666666667\n"
     ]
    }
   ],
   "source": [
    "start = time.time()\n",
    "training_predictions = classifier.predict(normalized)\n",
    "training_prediction_time = round(time.time() - start, 2)\n",
    "print(\"Prediction time (training set) \", training_prediction_time)\n",
    "print(\"Training set accuracy  \", np.sum(training_predictions == labels)/float(labels.shape[0]))\n",
    "start = time.time()\n",
    "validation_predictions = classifier.predict(normalized_validation)\n",
    "validation_prediction_time = round(time.time() - start, 2)\n",
    "print(\"Prediction time (validation set) \", validation_prediction_time)\n",
    "print(\"Validation set accuracy  \", np.sum(validation_predictions == validation_labels)/float(validation_labels.shape[0]))\n",
    "print(\"Validation set positives accuracy\", np.sum(validation_predictions[positive_validation_label_indices] == validation_labels[positive_validation_label_indices])/float(num_positive_validation_labels) )"
   ]
  },
  {
   "cell_type": "markdown",
   "metadata": {},
   "source": [
    "| Kernel | Train pred time (s) | Train pred accuracy | Valid pred time (s) | Valid pred accuracy |  C | Gamma | Number SV |\n",
    "|--------|---------------------|---------------------|---------------------|---------------------|----|-------|-----------|\n",
    "| rbf    | 2.06                | 1.0                 | 0.55                | 0.49                | 0.1| 0.1   | 1000 |\n",
    "| rbf    | 2.0                 | 1.0                 | 0.54                | 0.5                 | 0.1| 1     | 1000 |\n",
    "| rbf    | 2.0                 | 1.0                 | 0.53                | 0.5                 | 0.1| 10    | 1000 |\n",
    "| rbf    | 2.06                | 1.0                 | 0.55                | 0.495               | 1  | 0.1   | 1000 |\n",
    "| rbf    | 1.99                | 1.0                 | 0.76                | 0.497               | 1  | 1     | 1000 |\n",
    "| rbf    | 1.99                | 1.0                 | 0.53                | 0.5                 | 1  | 10    | 1000 |\n",
    "| rbf    | 2.06                | 1.0                 | 0.55                | 0.501               | 10 | 0.1   | 1000 |\n",
    "| rbf    | 2.06                | 1.0                 | 0.53                | 0.497               | 10 | 1     | 1000 |\n",
    "| rbf    | 1.99                | 1.0                 | 0.53                | 0.5                 | 10 | 10    | 1000 |"
   ]
  },
  {
   "cell_type": "code",
   "execution_count": null,
   "metadata": {
    "collapsed": true
   },
   "outputs": [],
   "source": []
  }
 ],
 "metadata": {
  "anaconda-cloud": {},
  "celltoolbar": "Raw Cell Format",
  "kernelspec": {
   "display_name": "Python [default]",
   "language": "python",
   "name": "python2"
  },
  "language_info": {
   "codemirror_mode": {
    "name": "ipython",
    "version": 2
   },
   "file_extension": ".py",
   "mimetype": "text/x-python",
   "name": "python",
   "nbconvert_exporter": "python",
   "pygments_lexer": "ipython2",
   "version": "2.7.12"
  }
 },
 "nbformat": 4,
 "nbformat_minor": 0
}
