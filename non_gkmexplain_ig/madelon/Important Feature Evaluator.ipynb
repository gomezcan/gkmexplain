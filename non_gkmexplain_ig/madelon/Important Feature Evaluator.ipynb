{
 "cells": [
  {
   "cell_type": "code",
   "execution_count": 1,
   "metadata": {
    "collapsed": true
   },
   "outputs": [],
   "source": [
    "from __future__ import division, absolute_import, print_function\n",
    "%matplotlib inline"
   ]
  },
  {
   "cell_type": "code",
   "execution_count": 2,
   "metadata": {
    "collapsed": true
   },
   "outputs": [],
   "source": [
    "import time\n",
    "import numpy as np"
   ]
  },
  {
   "cell_type": "code",
   "execution_count": 3,
   "metadata": {
    "collapsed": false
   },
   "outputs": [],
   "source": [
    "import os\n",
    "os.environ['CUDA_VISIBLE_DEVICES'] = \"0\""
   ]
  },
  {
   "cell_type": "code",
   "execution_count": 4,
   "metadata": {
    "collapsed": false
   },
   "outputs": [
    {
     "name": "stdout",
     "output_type": "stream",
     "text": [
      "0\r\n"
     ]
    }
   ],
   "source": [
    "!echo $CUDA_VISIBLE_DEVICES"
   ]
  },
  {
   "cell_type": "code",
   "execution_count": 5,
   "metadata": {
    "collapsed": true
   },
   "outputs": [],
   "source": [
    "def get_average_and_stdev(input_array):\n",
    "    avg = np.average(input_array, axis=0)\n",
    "    return avg, np.std(input_array, axis=0)"
   ]
  },
  {
   "cell_type": "code",
   "execution_count": 6,
   "metadata": {
    "collapsed": true
   },
   "outputs": [],
   "source": [
    "def normalize(input_array, avg, stdev):\n",
    "    avgremoved = input_array - avg[None,:]\n",
    "    return avgremoved/stdev"
   ]
  },
  {
   "cell_type": "markdown",
   "metadata": {},
   "source": [
    "## Get the data"
   ]
  },
  {
   "cell_type": "markdown",
   "metadata": {},
   "source": [
    "This is the data from the MADELON dataset http://archive.ics.uci.edu/ml/datasets/madelon"
   ]
  },
  {
   "cell_type": "code",
   "execution_count": 7,
   "metadata": {
    "collapsed": false
   },
   "outputs": [
    {
     "name": "stdout",
     "output_type": "stream",
     "text": [
      "madelon.param\t   madelon_train.data\t madelon_valid.data\r\n",
      "madelon_test.data  madelon_train.labels\r\n"
     ]
    }
   ],
   "source": [
    "!ls dataset/MADELON"
   ]
  },
  {
   "cell_type": "code",
   "execution_count": 8,
   "metadata": {
    "collapsed": false
   },
   "outputs": [
    {
     "name": "stdout",
     "output_type": "stream",
     "text": [
      "(2000, 500)\n",
      "(600, 500)\n"
     ]
    }
   ],
   "source": [
    "data = np.loadtxt(\"dataset/MADELON/madelon_train.data\", dtype=np.int32)\n",
    "validation_data = np.loadtxt(\"dataset/MADELON/madelon_valid.data\", dtype=np.int32)\n",
    "print(data.shape)\n",
    "print(validation_data.shape)"
   ]
  },
  {
   "cell_type": "markdown",
   "metadata": {},
   "source": [
    "### Normalize the data and validation data"
   ]
  },
  {
   "cell_type": "code",
   "execution_count": 9,
   "metadata": {
    "collapsed": false
   },
   "outputs": [
    {
     "name": "stdout",
     "output_type": "stream",
     "text": [
      "(500,)\n",
      "(2000, 500)\n",
      "[[ 0.51050105 -0.21380941  0.69000739 ..., -0.31785592 -0.88612143\n",
      "   0.2220861 ]\n",
      " [ 0.19898248 -0.84339156 -1.28996462 ...,  0.64109672  0.05435982\n",
      "   1.03544641]\n",
      " [ 0.82201962  1.94002424 -0.28712165 ...,  0.41979996 -0.24122     0.29954898]\n",
      " ..., \n",
      " [-0.26829537  1.11162669  3.10711607 ...,  1.23122143  0.40368142\n",
      "  -0.35888555]\n",
      " [ 0.35474177 -0.0812658  -0.13283812 ..., -0.76044945  0.51116499\n",
      "  -0.20395978]\n",
      " [-1.20285107  0.31636503 -1.05853932 ...,  0.41979996  0.21558517\n",
      "   0.99671497]]\n",
      "(600, 500)\n",
      "[[  1.98982485e-01  -9.75935165e-01   7.28732554e-02 ...,   1.08369025e+00\n",
      "    4.03681421e-01   7.64326305e-01]\n",
      " [  5.10501052e-01   8.13403564e-01  -4.41405188e-01 ...,   8.62393488e-01\n",
      "    1.07545374e+00  -5.13811329e-01]\n",
      " [  1.98982485e-01   1.24417029e+00  -8.14102775e-02 ...,  -1.35057415e+00\n",
      "    6.18030532e-04   4.93206201e-01]\n",
      " ..., \n",
      " [  5.10501052e-01   5.12778089e-02   5.10009932e-01 ...,  -1.70324742e-01\n",
      "   -6.44283395e-01   1.03544641e+00]\n",
      " [ -7.35573217e-01  -4.78896629e-01   4.58582088e-01 ...,   4.93565548e-01\n",
      "    2.82206177e+00   6.71603229e-02]\n",
      " [  4.32232012e-02  -1.00907107e+00   1.24301100e-01 ...,   7.88627900e-01\n",
      "    7.53003026e-01   1.38402940e+00]]\n"
     ]
    }
   ],
   "source": [
    "avg, stdev = get_average_and_stdev(data)\n",
    "normalized = normalize(data, avg, stdev)\n",
    "normalized_validation = normalize(validation_data, avg, stdev)\n",
    "print(avg.shape)\n",
    "print(normalized.shape)\n",
    "print(normalized)\n",
    "print(normalized_validation.shape)\n",
    "print(normalized_validation)"
   ]
  },
  {
   "cell_type": "markdown",
   "metadata": {},
   "source": [
    "### Get labels"
   ]
  },
  {
   "cell_type": "code",
   "execution_count": 10,
   "metadata": {
    "collapsed": false
   },
   "outputs": [
    {
     "name": "stdout",
     "output_type": "stream",
     "text": [
      "(2000,)\n",
      "[-1 -1 -1 ..., -1  1  1]\n"
     ]
    }
   ],
   "source": [
    "labels = np.loadtxt(\"dataset/MADELON/madelon_train.labels\", dtype=np.int32)\n",
    "validation_labels= np.loadtxt(\"dataset/madelon_valid.labels\", dtype=np.int32)\n",
    "print(labels.shape)\n",
    "print(labels)"
   ]
  },
  {
   "cell_type": "code",
   "execution_count": 11,
   "metadata": {
    "collapsed": true
   },
   "outputs": [],
   "source": [
    "import sklearn.svm\n",
    "def get_and_train_classifier(tr_set, tr_labels, C=1, gamma=0.1, probability=False):\n",
    "    start = time.time()\n",
    "    classifier = sklearn.svm.SVC(C=C, kernel=\"rbf\", gamma=gamma, probability=probability).fit(\n",
    "                          X=tr_set,\n",
    "                          y=tr_labels)\n",
    "    print(\"Gaussian SVM with C=\", C, \", gamma=\", gamma, \", probability=\", probability, \" trained in:\", round(time.time() - start, 2), \"s\", \" with support vectors: \", classifier.n_support_[0])\n",
    "    return classifier"
   ]
  },
  {
   "cell_type": "code",
   "execution_count": 12,
   "metadata": {
    "collapsed": true
   },
   "outputs": [],
   "source": [
    "def get_classifier_accuracy(classifier, training_set, training_labels, validation_set, validation_labels):\n",
    "    start = time.time()\n",
    "    training_predictions = classifier.predict(training_set)\n",
    "    training_prediction_time = round(time.time() - start, 2)\n",
    "    training_accuracy = np.sum(training_predictions == training_labels)/float(training_labels.shape[0])\n",
    "    print(\"Prediction time (training set) \", training_prediction_time,  \", accuracy: \", training_accuracy)\n",
    "    start = time.time()\n",
    "    validation_predictions = classifier.predict(validation_set)\n",
    "    validation_prediction_time = round(time.time() - start, 2)\n",
    "    validation_accuracy = np.sum(validation_predictions == validation_labels)/float(validation_labels.shape[0])\n",
    "    print(\"Prediction time (validation set) \", validation_prediction_time, \", accuracy: \",  validation_accuracy)\n",
    "    return training_accuracy, validation_accuracy"
   ]
  },
  {
   "cell_type": "markdown",
   "metadata": {},
   "source": [
    "###  Run classifiers for top 10 and top 20 features for all 10 models"
   ]
  },
  {
   "cell_type": "code",
   "execution_count": 13,
   "metadata": {
    "collapsed": false
   },
   "outputs": [
    {
     "name": "stdout",
     "output_type": "stream",
     "text": [
      "**************************************\n",
      "\tModel:  IG_M1_N100_imp_feat_asc.npy :  [494 190 173 454  61 456 408 238 264  24  82 484  16  99 282 154 469 127\n",
      " 157 434  65 251 224 129 337 106 453 319 137 452 443 473 422 339  29 150\n",
      " 379 476  49 242]\n",
      "**************************************\n",
      "Top 10 features: \n",
      "Gaussian SVM with C= 1 , gamma= 0.1 , probability= False  trained in: 0.45 s  with support vectors:  660\n",
      "Prediction time (training set)  0.17 , accuracy:  0.815\n",
      "Prediction time (validation set)  0.05 , accuracy:  0.795\n",
      "\n",
      "Top 20 features:\n",
      "Gaussian SVM with C= 1 , gamma= 0.1 , probability= False  trained in: 0.25 s  with support vectors:  703\n",
      "Prediction time (training set)  0.11 , accuracy:  0.9205\n",
      "Prediction time (validation set)  0.03 , accuracy:  0.818333333333\n",
      "**************************************\n",
      "\tModel:  IG_M2_N100_imp_feat_asc.npy :  [294 219 302  51  93  21 159 210 433 494 456 454 271 120 403 411 154 434\n",
      " 106 282 241 345 468  81 129 142 485  65 337 339 473 319 413 452 443  29\n",
      " 379  49 476 242]\n",
      "**************************************\n",
      "Top 10 features: \n",
      "Gaussian SVM with C= 1 , gamma= 0.1 , probability= False  trained in: 0.13 s  with support vectors:  712\n",
      "Prediction time (training set)  0.09 , accuracy:  0.7445\n",
      "Prediction time (validation set)  0.03 , accuracy:  0.703333333333\n",
      "\n",
      "Top 20 features:\n",
      "Gaussian SVM with C= 1 , gamma= 0.1 , probability= False  trained in: 0.17 s  with support vectors:  752\n",
      "Prediction time (training set)  0.11 , accuracy:  0.919\n",
      "Prediction time (validation set)  0.03 , accuracy:  0.808333333333\n",
      "**************************************\n",
      "\tModel:  IG_M3_N100_imp_feat_asc.npy :  [329 296 201 439 489 133  25  76 394 109  34 279 152  65 355 494  13 154\n",
      " 486 282 434 456 129 106 337 454 319 409 452 397  29 339 324 473 443 379\n",
      " 206  49 476 242]\n",
      "**************************************\n",
      "Top 10 features: \n",
      "Gaussian SVM with C= 1 , gamma= 0.1 , probability= False  trained in: 0.11 s  with support vectors:  660\n",
      "Prediction time (training set)  0.08 , accuracy:  0.821\n",
      "Prediction time (validation set)  0.02 , accuracy:  0.77\n",
      "\n",
      "Top 20 features:\n",
      "Gaussian SVM with C= 1 , gamma= 0.1 , probability= False  trained in: 0.13 s  with support vectors:  597\n",
      "Prediction time (training set)  0.09 , accuracy:  0.9225\n",
      "Prediction time (validation set)  0.03 , accuracy:  0.845\n",
      "**************************************\n",
      "\tModel:  IG_M4_N100_imp_feat_asc.npy :  [258 189 346 123 214 494 266 149 197 454  57 297 125 456 147  72 286  86\n",
      "  65 434 154 175 282 179 319 404 452  29 339 337 269 106 443 473 162 129\n",
      " 476 242 379  49]\n",
      "**************************************\n",
      "Top 10 features: \n",
      "Gaussian SVM with C= 1 , gamma= 0.1 , probability= False  trained in: 0.12 s  with support vectors:  708\n",
      "Prediction time (training set)  0.08 , accuracy:  0.7765\n",
      "Prediction time (validation set)  0.02 , accuracy:  0.753333333333\n",
      "\n",
      "Top 20 features:\n",
      "Gaussian SVM with C= 1 , gamma= 0.1 , probability= False  trained in: 0.14 s  with support vectors:  622\n",
      "Prediction time (training set)  0.09 , accuracy:  0.9285\n",
      "Prediction time (validation set)  0.03 , accuracy:  0.861666666667\n",
      "**************************************\n",
      "\tModel:  IG_M5_N100_imp_feat_asc.npy :  [472 357 459 500 301 114 447  52  17 494 370  68 456 454 407 401 161 434\n",
      " 154 118 483 282 499  65 129 319 106 452 443  29 473 339 337 396 314 379\n",
      " 122  49 242 476]\n",
      "**************************************\n",
      "Top 10 features: \n",
      "Gaussian SVM with C= 1 , gamma= 0.1 , probability= False  trained in: 0.12 s  with support vectors:  700\n",
      "Prediction time (training set)  0.08 , accuracy:  0.8095\n",
      "Prediction time (validation set)  0.03 , accuracy:  0.753333333333\n",
      "\n",
      "Top 20 features:\n",
      "Gaussian SVM with C= 1 , gamma= 0.1 , probability= False  trained in: 0.15 s  with support vectors:  630\n",
      "Prediction time (training set)  0.1 , accuracy:  0.925\n",
      "Prediction time (validation set)  0.03 , accuracy:  0.841666666667\n",
      "**************************************\n",
      "\tModel:  IG_M6_N100_imp_feat_asc.npy :  [381 441  42 496 494  84 428 454  65 323  60 456 203  10 230 337 327 434\n",
      " 282 154 106 113 450 129 339 462 452 319 473 423 463 443  29 229  36 476\n",
      " 242 202 379  49]\n",
      "**************************************\n",
      "Top 10 features: \n",
      "Gaussian SVM with C= 1 , gamma= 0.1 , probability= False  trained in: 0.14 s  with support vectors:  770\n",
      "Prediction time (training set)  0.09 , accuracy:  0.744\n",
      "Prediction time (validation set)  0.03 , accuracy:  0.663333333333\n",
      "\n",
      "Top 20 features:\n",
      "Gaussian SVM with C= 1 , gamma= 0.1 , probability= False  trained in: 0.19 s  with support vectors:  769\n",
      "Prediction time (training set)  0.12 , accuracy:  0.928\n",
      "Prediction time (validation set)  0.04 , accuracy:  0.773333333333\n",
      "**************************************\n",
      "\tModel:  IG_M7_N100_imp_feat_asc.npy :  [ 14 268 417 103 172  64 283 491 398 494 438 106 456  65 344  74 454 337\n",
      " 434 154 129 377 176 342 282 339 466 319 452 443 473 467  29 227 393 379\n",
      " 293  49 242 476]\n",
      "**************************************\n",
      "Top 10 features: \n",
      "Gaussian SVM with C= 1 , gamma= 0.1 , probability= False  trained in: 0.14 s  with support vectors:  775\n",
      "Prediction time (training set)  0.09 , accuracy:  0.7525\n",
      "Prediction time (validation set)  0.03 , accuracy:  0.69\n",
      "\n",
      "Top 20 features:\n",
      "Gaussian SVM with C= 1 , gamma= 0.1 , probability= False  trained in: 0.17 s  with support vectors:  729\n",
      "Prediction time (training set)  0.11 , accuracy:  0.9335\n",
      "Prediction time (validation set)  0.03 , accuracy:  0.82\n",
      "**************************************\n",
      "\tModel:  IG_M8_N100_imp_feat_asc.npy :  [177  88 320 274 430  71  41 424 182 110 135 402 456 494 492 434 244 282\n",
      " 493 384 154 454  65 375 319 111 337 452 267 106  29 207 129 339 473 443\n",
      " 379  49 242 476]\n",
      "**************************************\n",
      "Top 10 features: \n",
      "Gaussian SVM with C= 1 , gamma= 0.1 , probability= False  trained in: 0.11 s  with support vectors:  623\n",
      "Prediction time (training set)  0.07 , accuracy:  0.839\n",
      "Prediction time (validation set)  0.02 , accuracy:  0.815\n",
      "\n",
      "Top 20 features:\n",
      "Gaussian SVM with C= 1 , gamma= 0.1 , probability= False  trained in: 0.14 s  with support vectors:  605\n",
      "Prediction time (training set)  0.09 , accuracy:  0.924\n",
      "Prediction time (validation set)  0.03 , accuracy:  0.85\n",
      "**************************************\n",
      "\tModel:  IG_M9_N100_imp_feat_asc.npy :  [167 243 410 121  75  94 247 494 454 457 235 431 456 434 262 223 319 154\n",
      " 452  29 282 330 220 260 124 473 339 443  65 106 217 129 337 383  55 249\n",
      " 379  49 242 476]\n",
      "**************************************\n",
      "Top 10 features: \n",
      "Gaussian SVM with C= 1 , gamma= 0.1 , probability= False  trained in: 0.14 s  with support vectors:  788\n",
      "Prediction time (training set)  0.09 , accuracy:  0.7445\n",
      "Prediction time (validation set)  0.03 , accuracy:  0.7\n",
      "\n",
      "Top 20 features:\n",
      "Gaussian SVM with C= 1 , gamma= 0.1 , probability= False  trained in: 0.18 s  with support vectors:  759\n",
      "Prediction time (training set)  0.12 , accuracy:  0.92\n",
      "Prediction time (validation set)  0.04 , accuracy:  0.766666666667\n",
      "**************************************\n",
      "\tModel:  IG_M10_N100_imp_feat_asc.npy :  [170 464 208  54 187 451 218  30 285 426 164 494 456 352 454 434 319 154\n",
      "  65 256 106 452 442  29 339 129 134 282 337 443 287 473  98 335  27 105\n",
      " 379  49 242 476]\n",
      "**************************************\n",
      "Top 10 features: \n",
      "Gaussian SVM with C= 1 , gamma= 0.1 , probability= False  trained in: 0.14 s  with support vectors:  784\n",
      "Prediction time (training set)  0.09 , accuracy:  0.7295\n",
      "Prediction time (validation set)  0.03 , accuracy:  0.66\n",
      "\n",
      "Top 20 features:\n",
      "Gaussian SVM with C= 1 , gamma= 0.1 , probability= False  trained in: 0.17 s  with support vectors:  706\n",
      "Prediction time (training set)  0.11 , accuracy:  0.929\n",
      "Prediction time (validation set)  0.03 , accuracy:  0.816666666667\n"
     ]
    }
   ],
   "source": [
    "for model in range(1,11):\n",
    "        file_name = \"IG_M\" + str(model) + \"_N100_imp_feat_asc.npy\"\n",
    "        imp_feat_asc = np.load(file_name)\n",
    "        print(\"**************************************\")\n",
    "        print(\"\\tModel: \", file_name, \": \", imp_feat_asc)\n",
    "        print(\"**************************************\")\n",
    "        print(\"Top 10 features: \")\n",
    "        current_features = np.sort(imp_feat_asc[-10:])-1\n",
    "        train = normalized[:, current_features]\n",
    "        valid = normalized_validation[:, current_features]\n",
    "        clsfr = get_and_train_classifier(train, labels)\n",
    "        get_classifier_accuracy(clsfr, train, labels, valid, validation_labels)\n",
    "        print(\"\\nTop 20 features:\")\n",
    "        current_features = np.sort(imp_feat_asc[-20:])-1\n",
    "        train = normalized[:, current_features]\n",
    "        valid = normalized_validation[:, current_features]\n",
    "        clsfr = get_and_train_classifier(train, labels)\n",
    "        get_classifier_accuracy(clsfr, train, labels, valid, validation_labels)"
   ]
  },
  {
   "cell_type": "code",
   "execution_count": null,
   "metadata": {
    "collapsed": true
   },
   "outputs": [],
   "source": []
  },
  {
   "cell_type": "code",
   "execution_count": null,
   "metadata": {
    "collapsed": true
   },
   "outputs": [],
   "source": []
  }
 ],
 "metadata": {
  "anaconda-cloud": {},
  "celltoolbar": "Raw Cell Format",
  "kernelspec": {
   "display_name": "Python [default]",
   "language": "python",
   "name": "python2"
  },
  "language_info": {
   "codemirror_mode": {
    "name": "ipython",
    "version": 2
   },
   "file_extension": ".py",
   "mimetype": "text/x-python",
   "name": "python",
   "nbconvert_exporter": "python",
   "pygments_lexer": "ipython2",
   "version": "2.7.12"
  }
 },
 "nbformat": 4,
 "nbformat_minor": 0
}
