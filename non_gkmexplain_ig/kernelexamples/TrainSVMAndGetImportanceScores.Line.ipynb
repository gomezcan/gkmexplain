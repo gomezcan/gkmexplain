{
 "cells": [
  {
   "cell_type": "code",
   "execution_count": 2,
   "metadata": {
    "collapsed": false
   },
   "outputs": [],
   "source": [
    "%matplotlib inline\n",
    "from __future__ import division, print_function, absolute_import\n",
    "import numpy as np\n",
    "from sklearn.svm import SVC\n",
    "import matplotlib.pyplot as plt\n",
    "from numpy.linalg import norm\n",
    "import math\n",
    "from ssvmimp.imp_scores_helper import ImportanceScoresHelper"
   ]
  },
  {
   "cell_type": "code",
   "execution_count": 3,
   "metadata": {
    "collapsed": false
   },
   "outputs": [],
   "source": [
    "points = np.load(\"Line.Points.1000.npy\")\n",
    "labels = np.load(\"Line.Labels.1000.npy\")"
   ]
  },
  {
   "cell_type": "code",
   "execution_count": 4,
   "metadata": {
    "collapsed": false
   },
   "outputs": [
    {
     "data": {
      "text/plain": [
       "array([[ -2.,  42.],\n",
       "       [ 16.,   7.],\n",
       "       [ 10., -18.],\n",
       "       ...,\n",
       "       [ 13., -41.],\n",
       "       [ 39.,  -4.],\n",
       "       [ 28.,   8.]])"
      ]
     },
     "execution_count": 4,
     "metadata": {},
     "output_type": "execute_result"
    }
   ],
   "source": [
    "points"
   ]
  },
  {
   "cell_type": "code",
   "execution_count": 5,
   "metadata": {
    "collapsed": false
   },
   "outputs": [],
   "source": [
    "#print(points)\n",
    "#print(labels)\n",
    "#print(points[:-100,:].shape)"
   ]
  },
  {
   "cell_type": "markdown",
   "metadata": {},
   "source": [
    "# Number of support vectors:\n",
    "| C        | Gamma    | Number of Support Vectors | Accuracy | Comments |\n",
    "|----------|----------|---------------------------|----------|----------|\n",
    "|1         | 0.01     | 213                       | 0.98     |          |\n",
    "|100       | 0.01     | 135                       | 0.99     |          |\n",
    "|1         | 0.001    | 115                       | 0.99     |          |\n",
    "|100       | 0.001    | 24                        | 0.99     | BEST     |\n",
    "|1         | 0.0001   | 188                       | 0.99     |          |\n",
    "|100       | 0.0001   | 40                        | 0.99     |          |"
   ]
  },
  {
   "cell_type": "code",
   "execution_count": 6,
   "metadata": {
    "collapsed": false
   },
   "outputs": [
    {
     "name": "stdout",
     "output_type": "stream",
     "text": [
      "SVC(C=100, cache_size=200, class_weight=None, coef0=0.0,\n",
      "  decision_function_shape='ovr', degree=3, gamma=0.001, kernel='rbf',\n",
      "  max_iter=-1, probability=False, random_state=None, shrinking=True,\n",
      "  tol=0.001, verbose=False)\n"
     ]
    },
    {
     "data": {
      "text/plain": [
       "SVC(C=100, cache_size=200, class_weight=None, coef0=0.0,\n",
       "  decision_function_shape='ovr', degree=3, gamma=0.001, kernel='rbf',\n",
       "  max_iter=-1, probability=False, random_state=None, shrinking=True,\n",
       "  tol=0.001, verbose=False)"
      ]
     },
     "execution_count": 6,
     "metadata": {},
     "output_type": "execute_result"
    }
   ],
   "source": [
    "gamma=0.001\n",
    "clf = SVC(C=100, gamma=gamma)\n",
    "print(clf)\n",
    "clf.fit(points[:-100,:], labels[:-100])"
   ]
  },
  {
   "cell_type": "code",
   "execution_count": 7,
   "metadata": {
    "collapsed": false
   },
   "outputs": [
    {
     "name": "stdout",
     "output_type": "stream",
     "text": [
      "INACCURATE PREDICTION!!: Point: [-46. -45.] Label: 0 Prediction: [1]\n",
      "Accuracy: 0.99\n"
     ]
    }
   ],
   "source": [
    "numcorrect = 0\n",
    "for (point, label) in zip(points[-100:,:], labels[-100:]):\n",
    "    prediction = clf.predict([point])\n",
    "#    print(\"Point: \" + str(point) + \" Label: \" + str(label) + \" Prediction: \" + str(prediction))\n",
    "    if label == prediction:\n",
    "        numcorrect += 1\n",
    "    else:\n",
    "        print(\"INACCURATE PREDICTION!!: Point: \" + str(point) + \" Label: \" + str(label) + \" Prediction: \" + str(prediction))\n",
    "print(\"Accuracy: \" + str(float(numcorrect)/100.0))"
   ]
  },
  {
   "cell_type": "code",
   "execution_count": 8,
   "metadata": {
    "collapsed": false
   },
   "outputs": [],
   "source": [
    "#print(clf.support_.shape)"
   ]
  },
  {
   "cell_type": "code",
   "execution_count": 9,
   "metadata": {
    "collapsed": false
   },
   "outputs": [
    {
     "name": "stdout",
     "output_type": "stream",
     "text": [
      "(24, 2)\n"
     ]
    }
   ],
   "source": [
    "print(str(clf.support_vectors_.shape))"
   ]
  },
  {
   "cell_type": "code",
   "execution_count": 10,
   "metadata": {
    "collapsed": false
   },
   "outputs": [
    {
     "name": "stdout",
     "output_type": "stream",
     "text": [
      "(24,)\n",
      "[0. 0. 0. 0. 0. 0. 0. 0. 0. 0. 0. 0. 1. 1. 1. 1. 1. 1. 1. 1. 1. 1. 1. 1.]\n"
     ]
    }
   ],
   "source": [
    "prediction_at_support = np.empty(clf.support_vectors_.shape[0])\n",
    "i = 0\n",
    "for (x, y) in clf.support_vectors_:\n",
    "    prediction_at_support[i] = clf.predict([[x,y]])\n",
    "    i += 1\n",
    "print(prediction_at_support.shape)\n",
    "print(prediction_at_support)"
   ]
  },
  {
   "cell_type": "code",
   "execution_count": 11,
   "metadata": {
    "collapsed": false
   },
   "outputs": [
    {
     "data": {
      "image/png": "[encoded data removed]",
      "text/plain": [
       "<matplotlib.figure.Figure at 0x7fd8cb714d90>"
      ]
     },
     "metadata": {},
     "output_type": "display_data"
    }
   ],
   "source": [
    "plt.scatter(clf.support_vectors_[:,0], clf.support_vectors_[:,1], c=prediction_at_support[:] )\n",
    "plt.show()"
   ]
  },
  {
   "cell_type": "code",
   "execution_count": 12,
   "metadata": {
    "collapsed": false
   },
   "outputs": [
    {
     "data": {
      "text/plain": [
       "array([[-40., -38.],\n",
       "       [ 44.,  45.],\n",
       "       [ 48.,  50.],\n",
       "       [ 49.,  50.],\n",
       "       [ 28.,  29.],\n",
       "       [-50.,  50.],\n",
       "       [  3.,   4.],\n",
       "       [-16., -15.],\n",
       "       [ 32.,  33.],\n",
       "       [ 20.,  21.],\n",
       "       [-28., -27.],\n",
       "       [ -7.,  -6.],\n",
       "       [-29., -30.],\n",
       "       [ -6.,  -7.],\n",
       "       [  5.,   4.],\n",
       "       [ 47., -50.],\n",
       "       [ 47.,  46.],\n",
       "       [-30., -31.],\n",
       "       [-43., -44.],\n",
       "       [ 21.,  20.],\n",
       "       [ 48.,  47.],\n",
       "       [ 44.,  43.],\n",
       "       [-11., -12.],\n",
       "       [ 30.,  29.]])"
      ]
     },
     "execution_count": 12,
     "metadata": {},
     "output_type": "execute_result"
    }
   ],
   "source": [
    "clf.support_vectors_"
   ]
  },
  {
   "cell_type": "code",
   "execution_count": 13,
   "metadata": {
    "collapsed": false
   },
   "outputs": [
    {
     "name": "stdout",
     "output_type": "stream",
     "text": [
      "24\n"
     ]
    }
   ],
   "source": [
    "num_support_vectors = clf.dual_coef_.shape[1]\n",
    "print(num_support_vectors)"
   ]
  },
  {
   "cell_type": "code",
   "execution_count": 14,
   "metadata": {
    "collapsed": false
   },
   "outputs": [
    {
     "data": {
      "text/plain": [
       "array([-0.55122525, -0.33229057, -0.99974632, -0.42225678, -1.00029954,\n",
       "       -1.00024715, -0.31270236, -1.00008121, -0.99978655, -0.67772334,\n",
       "       -0.55253322, -0.47928558,  0.94798013,  0.93882607,  0.99981556,\n",
       "        1.00016009,  0.98646905,  1.00016077,  1.00008131,  0.6513047 ,\n",
       "        0.94057225,  0.99994368,  0.652418  ,  0.39621552])"
      ]
     },
     "execution_count": 14,
     "metadata": {},
     "output_type": "execute_result"
    }
   ],
   "source": [
    "clf.decision_function(clf.support_vectors_)"
   ]
  },
  {
   "cell_type": "code",
   "execution_count": 15,
   "metadata": {
    "collapsed": false
   },
   "outputs": [],
   "source": [
    "ish = ImportanceScoresHelper(clf, gamma, points, labels)"
   ]
  },
  {
   "cell_type": "code",
   "execution_count": 16,
   "metadata": {
    "collapsed": true
   },
   "outputs": [],
   "source": [
    "testpoints = np.empty((0,2), dtype=float)\n",
    "for x in range(-50,60,20):\n",
    "    for y in range(-50,60,20):\n",
    "        testpoints = np.append(testpoints, [[x,y]], axis=0)"
   ]
  },
  {
   "cell_type": "code",
   "execution_count": 17,
   "metadata": {
    "collapsed": false
   },
   "outputs": [],
   "source": [
    "raw_pred = clf.decision_function(testpoints)"
   ]
  },
  {
   "cell_type": "code",
   "execution_count": 18,
   "metadata": {
    "collapsed": false,
    "scrolled": true
   },
   "outputs": [
    {
     "name": "stdout",
     "output_type": "stream",
     "text": [
      "Organized nearest neighbors for  509  positive points\n",
      "Organized nearest neighbors for  491  negative points\n",
      "Calculated closest opposite points of  20  positive testpoints\n",
      "Calculated closest opposite points of  16  negative testpoints\n"
     ]
    }
   ],
   "source": [
    "ref_points = ish.get_reference_points_from_closest_opposite_points(testpoints)"
   ]
  },
  {
   "cell_type": "code",
   "execution_count": 19,
   "metadata": {
    "collapsed": true
   },
   "outputs": [],
   "source": [
    "numsteps = 50"
   ]
  },
  {
   "cell_type": "code",
   "execution_count": 20,
   "metadata": {
    "collapsed": false
   },
   "outputs": [
    {
     "name": "stdout",
     "output_type": "stream",
     "text": [
      "Avg grad computed in: 0.08 s\n"
     ]
    }
   ],
   "source": [
    "avg_gradients = ish.get_average_gradient_between_points(ref_points, testpoints, numsteps)"
   ]
  },
  {
   "cell_type": "code",
   "execution_count": 21,
   "metadata": {
    "collapsed": false
   },
   "outputs": [
    {
     "name": "stdout",
     "output_type": "stream",
     "text": [
      "Calculated closest opposite points of  20  positive testpoints\n",
      "Calculated closest opposite points of  16  negative testpoints\n",
      "Avg grad computed in: 0.05 s\n"
     ]
    }
   ],
   "source": [
    "imp_scores, avg_gradient = ish.get_feature_contribs_using_average_gradient_from_reference(\n",
    "                                testpoints, numsteps=numsteps, reference_to_use=None)"
   ]
  },
  {
   "cell_type": "code",
   "execution_count": 22,
   "metadata": {
    "collapsed": false
   },
   "outputs": [
    {
     "data": {
      "text/plain": [
       "(36, 2)"
      ]
     },
     "execution_count": 22,
     "metadata": {},
     "output_type": "execute_result"
    }
   ],
   "source": [
    "testpoints.shape"
   ]
  },
  {
   "cell_type": "code",
   "execution_count": 23,
   "metadata": {
    "collapsed": false
   },
   "outputs": [
    {
     "data": {
      "text/plain": [
       "(36,)"
      ]
     },
     "execution_count": 23,
     "metadata": {},
     "output_type": "execute_result"
    }
   ],
   "source": [
    "raw_pred.shape"
   ]
  },
  {
   "cell_type": "code",
   "execution_count": 24,
   "metadata": {
    "collapsed": false
   },
   "outputs": [
    {
     "data": {
      "text/plain": [
       "(36, 2)"
      ]
     },
     "execution_count": 24,
     "metadata": {},
     "output_type": "execute_result"
    }
   ],
   "source": [
    "avg_gradients.shape"
   ]
  },
  {
   "cell_type": "code",
   "execution_count": 25,
   "metadata": {
    "collapsed": false
   },
   "outputs": [
    {
     "data": {
      "text/plain": [
       "(36, 2)"
      ]
     },
     "execution_count": 25,
     "metadata": {},
     "output_type": "execute_result"
    }
   ],
   "source": [
    "ref_points.shape"
   ]
  },
  {
   "cell_type": "code",
   "execution_count": 26,
   "metadata": {
    "collapsed": false
   },
   "outputs": [
    {
     "data": {
      "text/plain": [
       "(36, 2)"
      ]
     },
     "execution_count": 26,
     "metadata": {},
     "output_type": "execute_result"
    }
   ],
   "source": [
    "imp_scores.shape"
   ]
  },
  {
   "cell_type": "code",
   "execution_count": 27,
   "metadata": {
    "collapsed": true
   },
   "outputs": [],
   "source": [
    "display_points = np.empty((0,9), dtype=float)\n",
    "for i in range(testpoints.shape[0]):\n",
    "    display_points = np.append(display_points, [[testpoints[i,0], testpoints[i,1], raw_pred[i],\n",
    "                                                imp_scores[i,0], imp_scores[i,1], \n",
    "                                                avg_gradients[i,0], avg_gradients[i,1],\n",
    "                                                ref_points[i,0], ref_points[i,1]]], axis=0)"
   ]
  },
  {
   "cell_type": "code",
   "execution_count": 30,
   "metadata": {
    "collapsed": false
   },
   "outputs": [
    {
     "data": {
      "image/png": "[encoded data removed]",
      "text/plain": [
       "<matplotlib.figure.Figure at 0x7fd8c958bf50>"
      ]
     },
     "metadata": {},
     "output_type": "display_data"
    },
    {
     "data": {
      "image/png": "[encoded data removed]",
      "text/plain": [
       "<matplotlib.figure.Figure at 0x7fd8c958be90>"
      ]
     },
     "metadata": {},
     "output_type": "display_data"
    },
    {
     "data": {
      "image/png": "[encoded data removed]",
      "text/plain": [
       "<matplotlib.figure.Figure at 0x7fd8c92dd3d0>"
      ]
     },
     "metadata": {},
     "output_type": "display_data"
    },
    {
     "data": {
      "image/png": "[encoded data removed]",
      "text/plain": [
       "<matplotlib.figure.Figure at 0x7fd8c94c8a50>"
      ]
     },
     "metadata": {},
     "output_type": "display_data"
    }
   ],
   "source": [
    "#gradient at each point\n",
    "grad_per_point = np.array([ish.get_gradient(x) for x in testpoints])\n",
    "plt.quiver(display_points[:,0], display_points[:,1],\n",
    "           -grad_per_point[:,0], -grad_per_point[:,1],\n",
    "           color=[(1,0,0) if x==1 else (0,0,1) for x in np.sign(display_points[:,2])])\n",
    "plt.title(\"Local gradient (for decreasing norm of prediction)\")\n",
    "plt.show()\n",
    "\n",
    "#unit norm direction to reference\n",
    "dir_to_ref = display_points[:,7:9] - display_points[:,:2]\n",
    "dir_to_ref = dir_to_ref/np.linalg.norm(dir_to_ref, axis=1)[:,None]\n",
    "plt.quiver(display_points[:,0], display_points[:,1],\n",
    "           dir_to_ref[:,0], dir_to_ref[:,1],\n",
    "           color=[(1,0,0) if x==1 else (0,0,1) for x in np.sign(display_points[:,2])])\n",
    "plt.xlim(-60, 60)\n",
    "plt.ylim(-60, 60)\n",
    "plt.title(\"Direction to reference\")\n",
    "plt.show()\n",
    "\n",
    "#avg grad\n",
    "plt.quiver(display_points[:,0], display_points[:,1],\n",
    "           -np.sign(display_points[:,2])*display_points[:,5],\n",
    "           -np.sign(display_points[:,2])*display_points[:,6],\n",
    "           color=[(1,0,0) if x==1 else (0,0,1) for x in np.sign(display_points[:,2])])\n",
    "plt.xlim(-60, 60)\n",
    "plt.ylim(-60, 60)\n",
    "plt.title(\"Average gradient (for decreasing norm of prediction)\")\n",
    "plt.show()\n",
    "\n",
    "plt.quiver(display_points[:,0], display_points[:,1],\n",
    "           np.sign(display_points[:,2])*display_points[:,3]*np.sign(dir_to_ref[:,0]),\n",
    "           np.sign(display_points[:,2])*display_points[:,4]*np.sign(dir_to_ref[:,1]),\n",
    "           color=[(1,0,0) if x==1 else (0,0,1) for x in np.sign(display_points[:,2])])\n",
    "plt.xlim(-60, 60)\n",
    "plt.ylim(-60, 60)\n",
    "plt.title(\"Imp score (for decreasing norm of prediction)\")\n",
    "plt.show()"
   ]
  },
  {
   "cell_type": "code",
   "execution_count": 31,
   "metadata": {
    "collapsed": false
   },
   "outputs": [
    {
     "data": {
      "image/png": "[encoded data removed]",
      "text/plain": [
       "<matplotlib.figure.Figure at 0x7fd8c961ca90>"
      ]
     },
     "metadata": {},
     "output_type": "display_data"
    }
   ],
   "source": [
    "plt.scatter(display_points[:,0], display_points[:,1])\n",
    "for i in range(display_points.shape[0]):\n",
    "    x = display_points[i][0]\n",
    "    y = display_points[i][1]\n",
    "    raw_pred = display_points[i][2]\n",
    "    if (x+10)/20 % 2 == 0:\n",
    "        plt.annotate('(%5.2f)' %(raw_pred), xy=(x,y), xytext=(x-10,y+3))\n",
    "    else:\n",
    "        plt.annotate('(%5.2f)' %(raw_pred), xy=(x,y), xytext=(x-10,y-7))\n",
    "plt.title('Raw Prediction')\n",
    "plt.show()"
   ]
  },
  {
   "cell_type": "code",
   "execution_count": null,
   "metadata": {
    "collapsed": true
   },
   "outputs": [],
   "source": []
  }
 ],
 "metadata": {
  "anaconda-cloud": {},
  "kernelspec": {
   "display_name": "Python 2",
   "language": "python",
   "name": "python2"
  },
  "language_info": {
   "codemirror_mode": {
    "name": "ipython",
    "version": 2
   },
   "file_extension": ".py",
   "mimetype": "text/x-python",
   "name": "python",
   "nbconvert_exporter": "python",
   "pygments_lexer": "ipython2",
   "version": "2.7.13"
  }
 },
 "nbformat": 4,
 "nbformat_minor": 2
}
