{
  "nbformat": 4,
  "nbformat_minor": 0,
  "metadata": {
    "colab": {
      "name": "lsgkm.ipynb",
      "version": "0.3.2",
      "provenance": [],
      "collapsed_sections": [],
      "include_colab_link": true
    },
    "kernelspec": {
      "name": "python3",
      "display_name": "Python 3"
    }
  },
  "cells": [
    {
      "cell_type": "markdown",
      "metadata": {
        "id": "view-in-github",
        "colab_type": "text"
      },
      "source": [
        "[View in Colaboratory](https://colab.research.google.com/github/kundajelab/ssvmimp/blob/master/lsgkm.ipynb)"
      ]
    },
    {
      "metadata": {
        "id": "oEAejJmubbim",
        "colab_type": "code",
        "colab": {
          "base_uri": "https://localhost:8080/",
          "height": 180
        },
        "outputId": "c76348cc-77e5-48b6-e22d-692af3721107"
      },
      "cell_type": "code",
      "source": [
        "#install lsgkm\n",
        "! git clone https://github.com/Dongwon-Lee/lsgkm\n",
        "% cd lsgkm/src\n",
        "! make\n",
        "%cd ../.."
      ],
      "execution_count": 2,
      "outputs": [
        {
          "output_type": "stream",
          "text": [
            "Cloning into 'lsgkm'...\n",
            "remote: Enumerating objects: 96, done.\u001b[K\n",
            "remote: Total 96 (delta 0), reused 0 (delta 0), pack-reused 96\u001b[K\n",
            "Unpacking objects: 100% (96/96), done.\n",
            "/content/lsgkm/src\n",
            "g++ -Wall -Wconversion -O3 -fPIC -c libsvm.cpp\n",
            "g++ -Wall -Wconversion -O3 -fPIC -c libsvm_gkm.c\n",
            "g++ -Wall -Wconversion -O3 -fPIC gkmtrain.c libsvm.o libsvm_gkm.o -o gkmtrain -lm -lpthread\n",
            "g++ -Wall -Wconversion -O3 -fPIC gkmpredict.c libsvm.o libsvm_gkm.o -o gkmpredict -lm -lpthread\n",
            "/content\n"
          ],
          "name": "stdout"
        }
      ]
    },
    {
      "metadata": {
        "id": "6W3yUXw9bzl7",
        "colab_type": "code",
        "colab": {
          "base_uri": "https://localhost:8080/",
          "height": 50
        },
        "outputId": "f8ec88e1-9c63-4adb-f42a-da2dba17262e"
      },
      "cell_type": "code",
      "source": [
        "#get the raw data\n",
        "!wget https://raw.githubusercontent.com/AvantiShri/model_storage/master/deeplift/genomics/sequences.simdata.gz"
      ],
      "execution_count": 3,
      "outputs": [
        {
          "output_type": "stream",
          "text": [
            "\n",
            "Redirecting output to ‘wget-log’.\n"
          ],
          "name": "stdout"
        }
      ]
    },
    {
      "metadata": {
        "id": "2etRn0BKfXK1",
        "colab_type": "code",
        "colab": {
          "base_uri": "https://localhost:8080/",
          "height": 200
        },
        "outputId": "264f4e59-39ee-4884-bf79-f224b119d76d"
      },
      "cell_type": "code",
      "source": [
        "!zcat sequences.simdata | head"
      ],
      "execution_count": 4,
      "outputs": [
        {
          "output_type": "stream",
          "text": [
            "seqName\tsequence\tembeddings\ttask1\ttask2\ttask3\n",
            "empty_1732\tAGCTCTTTTGGCGGACCGAGTTCGTCGGACTTTCGCTAAATTGACCATTAACAGGAGGATACCCGGGTGTCTCGGGAAGGTCGTAATACGGTAATTACGGATGTGAGAGCGCACACATCCTTTGGATGATACATGATCTCGCCGTATATGGCCTAGGTCAAAAGGACAGTCTCGCTAATCGCAATAATGCAGCTAACCGA\t\t0\t0\t0\n",
            "gata_only_1527\tTGCAGATAAGAACTTTGGGAATATGGTAGGAAAAACCCCTGAAGTGAGATCCAAAAAATATAGACTGGCGCGGTGGCAATGCCCTTGTTAATGCTGGGAATCAAAAAATCGAAACTCTCAGCAGATAAGATATGCAGACCTGCTCGTGGAGACAAAAAGTATTGTTACTGCGTAAACCATTAGTACGTTGCCGAGTACCG\tpos-120_GATA_disc1-GCAGATAAGA,pos-1_GATA_disc1-GCAGATAAGA\t0\t1\t0\n",
            "gata_tal1_62\tAGATTATAGGCCCTCCACCAGATAAGATATAGCGTTCGAGGGTCAGAAGGTAGTTCTGAAGATCTCTTCATTGTGAAAGGCCTCATATGATGAGCTTCTCCATTCTCAGCTGACAGGCAAAACAATTGATCAGCGCTTAGGCGCCAGATGTTTACTCCCGTTAAGTCAACTTAGCTGTGTTCGTCAAATCCGCAACGCGG\tpos-17_GATA_disc1-CCAGATAAGA,pos-139_TAL1_known1-GGCGCCAGATGTTTAC\t1\t1\t1\n",
            "empty_1289\tTTTGGGCGCGGAAGAAGTCGCTCGCCTTTCTGTACTTGAAAATGATTACATGTAAGGATGTAACTCAATCGCAACATTGTCATTGGGTTCCATCGCCCTAGCGGTAGTAGGTTTTACCTCCAACTTGACAACCCTTCGTAAATATAAAATAGTAGTAATTAGCTAGCCCATCCAGACGAGCAGATAATTGACAATTGTCG\t\t0\t0\t0\n",
            "empty_1515\tGTAGAACCGCTGAGGCACTTTTAGAATGTTTCTTCCCCCCCGAACACACGTCTGTTGACGCGTCGGGGACCCATTGGTTGATGGCGCTACCACCATACTGGGTAATAGAGCACCCCTACGACGTGATTGTTTCTTTAGATTTCGTTACTGGGTACGGCGCGCCCCAAGTATTATGTGCTATCTCAAGTATTTAAGTCAGG\t\t0\t0\t0\n",
            "tal1_only_660\tTACCACCGCTTCCAATGTTACCATGTTAGCCATAGTTTCGGGAAGTCGTAATTTCACTTGTAGACCAGATGGAGCCGTCTGTCTAATTTACTCATTCAGACAATCCATCATTTCCTTTGGCGCTGACTCTCATTCCGTAACAGATGTTTGACATTCGTTCCTAGCGCAAATTAGTCTTAATGCCCTAAGTATCGCCAATC\tpos-60_TAL1_known1-TAGACCAGATGGAGCC,pos-135_TAL1_known1-CGTAACAGATGTTTGA\t0\t0\t1\n",
            "tal1_only_1375\tAGTGGCCAGTTACGTGAAGCGCCCGGGCCATATACTATTACAACTACCACTAGTCGTACGGATGGAGCTGTTTCACGAATGCGAGCTAAATGGACCAGCCTTTGGCGTTTAGTGATGTGCTAAATTCCTGAACACCTTTTATGTTCGGGGTTGGTGTTCGGATAGGACATGACCAGGTGTCCAGGCGAGCATATTTGGCC\tpos-168_TAL1_known1-ATGACCAGGTGTCCAG\t0\t0\t1\n",
            "gata_tal1_678\tTGTTTATATCTGCCTGCGATGAGTAAATTGTCTCTTCTGAGCCAGCGGCCAGATGGTCGGGAGACTTCGGGTCATAACGATGACTTTTATATGCTGGCCAGATAACCAACCGATATTAACAAGTGAGCAACGTCACCTCGAAACGTGCCTAAAGGTCCCCCAGTCTTCCAGCTAGTCTCAGGAGATAATCCGGCGGAATG\tpos-97_GATA_disc1-CCAGATAACC,pos-44_TAL1_known1-GCGGCCAGATGGTCGG\t1\t1\t1\n",
            "empty_134\tATTCTTGTTGAGTGATAGCCTTCTACCGTATATCTTCCCAGTAGAGAGATCGTACAAATGACTTGGTACTACTTAGACTTCTCTAGCTTTCATTTCGCCTGTTATGACATATCAACGCAGGGCCGTTTTAACCATGTCCCTGTAACCCTCAGTAAGCCTATCACCGAACCGCCTTACAAGACTTAGTTCTGTTAGCCTTA\t\t0\t0\t0\n"
          ],
          "name": "stdout"
        }
      ]
    },
    {
      "metadata": {
        "id": "HAk3-GNTfZAl",
        "colab_type": "code",
        "colab": {}
      },
      "cell_type": "code",
      "source": [
        "!zcat sequences.simdata.gz | perl -lane 'if ($F[3] eq \"1\") {print \">$F[0]\\n$F[1]\"}' > positives.fa\n",
        "!zcat sequences.simdata.gz | perl -lane 'if ($F[3] eq \"0\") {print \">$F[0]\\n$F[1]\"}' > negatives.fa\n",
        "!perl -ne 'if ($.%10 == 1 || $.%10 == 2) {print $_}' positives.fa > test_positives.fa\n",
        "!perl -ne 'if ($.%10 != 1 && $.%10 != 2) {print $_}' positives.fa > train_positives.fa\n",
        "!perl -ne 'if ($.%10 == 1 || $.%10 == 2) {print $_}' negatives.fa > test_negatives.fa\n",
        "!perl -ne 'if ($.%10 != 1 && $.%10 != 2) {print $_}' negatives.fa > train_negatives.fa"
      ],
      "execution_count": 0,
      "outputs": []
    },
    {
      "metadata": {
        "id": "mwEKO0NQfe40",
        "colab_type": "code",
        "colab": {
          "base_uri": "https://localhost:8080/",
          "height": 131
        },
        "outputId": "966c7159-07e9-48fd-c9df-762402a971b2"
      },
      "cell_type": "code",
      "source": [
        "!wc -l *.fa"
      ],
      "execution_count": 6,
      "outputs": [
        {
          "output_type": "stream",
          "text": [
            "  12000 negatives.fa\n",
            "   4000 positives.fa\n",
            "   2400 test_negatives.fa\n",
            "    800 test_positives.fa\n",
            "   9600 train_negatives.fa\n",
            "   3200 train_positives.fa\n",
            "  32000 total\n"
          ],
          "name": "stdout"
        }
      ]
    },
    {
      "metadata": {
        "id": "c9kt5gfdmLru",
        "colab_type": "code",
        "colab": {
          "base_uri": "https://localhost:8080/",
          "height": 797
        },
        "outputId": "45f564cc-f8c9-4a23-b126-5483a1659011"
      },
      "cell_type": "code",
      "source": [
        "!lsgkm/src/gkmtrain"
      ],
      "execution_count": 7,
      "outputs": [
        {
          "output_type": "stream",
          "text": [
            "\n",
            "Usage: gkmtrain [options] <posfile> <negfile> <outprefix>\n",
            "\n",
            " train gkm-SVM using libSVM\n",
            "\n",
            "Arguments:\n",
            " posfile: positive sequence file (FASTA format)\n",
            " negfile: negative sequence file (FASTA format)\n",
            " outprefix: prefix of output file(s) <outprefix>.model.txt or\n",
            "            <outprefix>.cvpred.txt\n",
            "\n",
            "Options:\n",
            " -t <0 ~ 5>   set kernel function (default: 4 wgkm)\n",
            "              NOTE: RBF kernels (3 and 5) work best with -c 10 -g 2\n",
            "                0 -- gapped-kmer\n",
            "                1 -- estimated l-mer with full filter\n",
            "                2 -- estimated l-mer with truncated filter (gkm)\n",
            "                3 -- gkm + RBF (gkmrbf)\n",
            "                4 -- gkm + center weighted (wgkm)\n",
            "                     [weight = max(M, floor(M*exp(-ln(2)*D/H)+1))]\n",
            "                5 -- gkm + center weighted + RBF (wgkmrbf)\n",
            " -l <int>     set word length, 3<=l<=12 (default: 11)\n",
            " -k <int>     set number of informative column, k<=l (default: 7)\n",
            " -d <int>     set maximum number of mismatches to consider, d<=4 (default: 3)\n",
            " -g <float>   set gamma for RBF kernel. -t 3 or 5 only (default: 1.0)\n",
            " -M <int>     set the initial value (M) of the exponential decay function\n",
            "              for wgkm-kernels. max=255, -t 4 or 5 only (default: 50)\n",
            " -H <float>   set the half-life parameter (H) that is the distance (D) required\n",
            "              to fall to half of its initial value in the exponential decay\n",
            "              function for wgkm-kernels. -t 4 or 5 only (default: 50)\n",
            " -c <float>   set the regularization parameter SVM-C (default: 1.0)\n",
            " -e <float>   set the precision parameter epsilon (default: 0.001)\n",
            " -w <float>   set the parameter SVM-C to w*C for the positive set (default: 1.0)\n",
            " -m <float>   set cache memory size in MB (default: 100.0)\n",
            "              NOTE: Large cache signifcantly reduces runtime. >4Gb is recommended\n",
            " -s           if set, use the shrinking heuristics\n",
            " -x <int>     set N-fold cross validation mode (default: no cross validation)\n",
            " -i <int>     run i-th cross validation only 1<=i<=ncv (default: all)\n",
            " -r <int>     set random seed for shuffling in cross validation mode (default: 1)\n",
            " -v <0 ~ 4>   set the level of verbosity (default: 2)\n",
            "                0 -- error msgs only (ERROR)\n",
            "                1 -- warning msgs (WARN)\n",
            "                2 -- progress msgs at coarse-grained level (INFO)\n",
            "                3 -- progress msgs at fine-grained level (DEBUG)\n",
            "                4 -- progress msgs at finer-grained level (TRACE)\n",
            "-T <1|4|16>   set the number of threads for parallel calculation, 1, 4, or 16\n",
            "                 (default: 1)\n",
            "\n"
          ],
          "name": "stdout"
        }
      ]
    },
    {
      "metadata": {
        "id": "51_gHIeKfg_k",
        "colab_type": "code",
        "colab": {
          "base_uri": "https://localhost:8080/",
          "height": 2698
        },
        "outputId": "f2f717bd-0969-4471-ee84-41be10c684a6"
      },
      "cell_type": "code",
      "source": [
        "import time\n",
        "\n",
        "t=3\n",
        "c=10\n",
        "g=2\n",
        "l=6\n",
        "k=4\n",
        "d=0\n",
        "\n",
        "!lsgkm/src/gkmtrain -t $t -c $10 -g $2 -l $l -k $k -d $d -w 3 train_positives.fa train_negatives.fa \"params_t\"$t\"_l\"$l\"_k\"$k\"_d\"$d\"_g\"$g\"_c\"$c\"_w3\"\n",
        "\n",
        "\n",
        "start = time.time()\n",
        "!lsgkm/src/gkmpredict test_positives.fa \"params_t\"$t\"_l\"$l\"_k\"$k\"_d\"$d\"_g\"$g\"_c\"$c\"_w3.model.txt\" preds_positives.txt\n",
        "end = time.time()\n",
        "print(\"Time taken per seq:\",(end-start)/400)\n",
        "start = time.time()\n",
        "!lsgkm/src/gkmpredict test_negatives.fa \"params_t\"$t\"_l\"$l\"_k\"$k\"_d\"$d\"_g\"$g\"_c\"$c\"_w3.model.txt\" preds_negatives.txt\n",
        "end = time.time()\n",
        "print(\"Time taken per seq:\",(end-start)/1200)\n",
        "\n",
        "import numpy as np\n",
        "from sklearn.metrics import roc_auc_score\n",
        "pos_preds = [float(x.rstrip().split(\"\\t\")[1]) for x in open(\"preds_positives.txt\")]\n",
        "neg_preds = [float(x.rstrip().split(\"\\t\")[1]) for x in open(\"preds_negatives.txt\")]\n",
        "print(roc_auc_score(y_true=np.array([1 for i in range(len(pos_preds))]+[0 for i in range(len(neg_preds))]),\n",
        "                    y_score=np.array(pos_preds+neg_preds)))"
      ],
      "execution_count": 9,
      "outputs": [
        {
          "output_type": "stream",
          "text": [
            "INFO 2018-09-25 19:07:27: Number of threads is set to 1\n",
            "INFO 2018-09-25 19:07:27: Arguments:\n",
            "INFO 2018-09-25 19:07:27:   posfile = train_positives.fa\n",
            "INFO 2018-09-25 19:07:27:   negfile = train_negatives.fa\n",
            "INFO 2018-09-25 19:07:27:   outprefix = params_t3_l6_k4_d0_g2_c10_w3\n",
            "INFO 2018-09-25 19:07:27: Parameters:\n",
            "INFO 2018-09-25 19:07:27:   kernel-type = 3\n",
            "INFO 2018-09-25 19:07:27:   L = 6\n",
            "INFO 2018-09-25 19:07:27:   k = 4\n",
            "INFO 2018-09-25 19:07:27:   d = 0\n",
            "INFO 2018-09-25 19:07:27:   gamma = 2\n",
            "INFO 2018-09-25 19:07:27:   C = 10\n",
            "INFO 2018-09-25 19:07:27:   w = 3\n",
            "INFO 2018-09-25 19:07:27:   eps = 0.001\n",
            "INFO 2018-09-25 19:07:27:   shrinking = no\n",
            "INFO 2018-09-25 19:07:27: reading 1600 sequences from train_positives.fa\n",
            "INFO 2018-09-25 19:07:27: reading... 0\n",
            "INFO 2018-09-25 19:07:27: reading... 1000\n",
            "INFO 2018-09-25 19:07:27: reading... done\n",
            "INFO 2018-09-25 19:07:27: reading 4800 sequences from train_negatives.fa\n",
            "INFO 2018-09-25 19:07:27: reading... 0\n",
            "INFO 2018-09-25 19:07:27: reading... 1000\n",
            "INFO 2018-09-25 19:07:27: reading... 2000\n",
            "INFO 2018-09-25 19:07:27: reading... 3000\n",
            "INFO 2018-09-25 19:07:28: reading... 4000\n",
            "INFO 2018-09-25 19:07:28: reading... done\n",
            "INFO 2018-09-25 19:07:28: begin SVM training\n",
            "INFO 2018-09-25 19:07:29: iter 100, max_viol=2.37447\n",
            "INFO 2018-09-25 19:07:29: iter 200, max_viol=2.37608\n",
            "INFO 2018-09-25 19:07:29: iter 300, max_viol=2.40184\n",
            "INFO 2018-09-25 19:07:29: iter 400, max_viol=2.37796\n",
            "INFO 2018-09-25 19:07:29: iter 500, max_viol=2.35551\n",
            "INFO 2018-09-25 19:07:29: iter 600, max_viol=2.33254\n",
            "INFO 2018-09-25 19:07:29: iter 700, max_viol=2.30837\n",
            "INFO 2018-09-25 19:07:29: iter 800, max_viol=2.24357\n",
            "INFO 2018-09-25 19:07:29: iter 900, max_viol=2.18863\n",
            "INFO 2018-09-25 19:07:30: iter 1000, max_viol=1.98339\n",
            "INFO 2018-09-25 19:07:30: iter 1100, max_viol=1.87486\n",
            "INFO 2018-09-25 19:07:30: iter 1200, max_viol=1.71031\n",
            "INFO 2018-09-25 19:07:30: iter 1300, max_viol=1.57211\n",
            "INFO 2018-09-25 19:07:30: iter 1400, max_viol=1.44076\n",
            "INFO 2018-09-25 19:07:30: iter 1500, max_viol=1.31353\n",
            "INFO 2018-09-25 19:07:30: iter 1600, max_viol=1.20498\n",
            "INFO 2018-09-25 19:07:30: iter 1700, max_viol=1.11804\n",
            "INFO 2018-09-25 19:07:30: iter 1800, max_viol=1.02759\n",
            "INFO 2018-09-25 19:07:30: iter 1900, max_viol=0.935803\n",
            "INFO 2018-09-25 19:07:30: iter 2000, max_viol=0.86836\n",
            "INFO 2018-09-25 19:07:30: iter 2100, max_viol=0.802975\n",
            "INFO 2018-09-25 19:07:30: iter 2200, max_viol=0.730907\n",
            "INFO 2018-09-25 19:07:30: iter 2300, max_viol=0.685253\n",
            "INFO 2018-09-25 19:07:30: iter 2400, max_viol=0.610326\n",
            "INFO 2018-09-25 19:07:31: iter 2500, max_viol=0.569424\n",
            "INFO 2018-09-25 19:07:31: iter 2600, max_viol=0.527641\n",
            "INFO 2018-09-25 19:07:31: iter 2700, max_viol=0.47863\n",
            "INFO 2018-09-25 19:07:31: iter 2800, max_viol=0.436103\n",
            "INFO 2018-09-25 19:07:31: iter 2900, max_viol=0.407446\n",
            "INFO 2018-09-25 19:07:31: iter 3000, max_viol=0.366482\n",
            "INFO 2018-09-25 19:07:31: iter 3100, max_viol=0.327151\n",
            "INFO 2018-09-25 19:07:31: iter 3200, max_viol=0.301878\n",
            "INFO 2018-09-25 19:07:31: iter 3300, max_viol=0.272775\n",
            "INFO 2018-09-25 19:07:31: iter 3400, max_viol=0.258676\n",
            "INFO 2018-09-25 19:07:31: iter 3500, max_viol=0.231182\n",
            "INFO 2018-09-25 19:07:31: iter 3600, max_viol=0.214525\n",
            "INFO 2018-09-25 19:07:31: iter 3700, max_viol=0.195238\n",
            "INFO 2018-09-25 19:07:31: iter 3800, max_viol=0.177456\n",
            "INFO 2018-09-25 19:07:31: iter 3900, max_viol=0.162016\n",
            "INFO 2018-09-25 19:07:31: iter 4000, max_viol=0.14696\n",
            "INFO 2018-09-25 19:07:31: iter 4100, max_viol=0.135508\n",
            "INFO 2018-09-25 19:07:31: iter 4200, max_viol=0.123657\n",
            "INFO 2018-09-25 19:07:31: iter 4300, max_viol=0.113462\n",
            "INFO 2018-09-25 19:07:31: iter 4400, max_viol=0.10402\n",
            "INFO 2018-09-25 19:07:31: iter 4500, max_viol=0.0947223\n",
            "INFO 2018-09-25 19:07:31: iter 4600, max_viol=0.0889891\n",
            "INFO 2018-09-25 19:07:31: iter 4700, max_viol=0.0813062\n",
            "INFO 2018-09-25 19:07:31: iter 4800, max_viol=0.072672\n",
            "INFO 2018-09-25 19:07:31: iter 4900, max_viol=0.0681233\n",
            "INFO 2018-09-25 19:07:31: iter 5000, max_viol=0.0632436\n",
            "INFO 2018-09-25 19:07:31: iter 5100, max_viol=0.0592385\n",
            "INFO 2018-09-25 19:07:31: iter 5200, max_viol=0.0537267\n",
            "INFO 2018-09-25 19:07:31: iter 5300, max_viol=0.0478882\n",
            "INFO 2018-09-25 19:07:31: iter 5400, max_viol=0.0433104\n",
            "INFO 2018-09-25 19:07:31: iter 5500, max_viol=0.0405976\n",
            "INFO 2018-09-25 19:07:32: iter 5600, max_viol=0.0373779\n",
            "INFO 2018-09-25 19:07:32: iter 5700, max_viol=0.033691\n",
            "INFO 2018-09-25 19:07:32: iter 5800, max_viol=0.0314217\n",
            "INFO 2018-09-25 19:07:32: iter 5900, max_viol=0.0289843\n",
            "INFO 2018-09-25 19:07:32: iter 6000, max_viol=0.0265544\n",
            "INFO 2018-09-25 19:07:32: iter 6100, max_viol=0.0242535\n",
            "INFO 2018-09-25 19:07:32: iter 6200, max_viol=0.0228899\n",
            "INFO 2018-09-25 19:07:32: iter 6300, max_viol=0.0211028\n",
            "INFO 2018-09-25 19:07:32: iter 6400, max_viol=0.0195607\n",
            "INFO 2018-09-25 19:07:32: iter 6500, max_viol=0.0177302\n",
            "INFO 2018-09-25 19:07:32: iter 6600, max_viol=0.0160043\n",
            "INFO 2018-09-25 19:07:32: iter 6700, max_viol=0.0148018\n",
            "INFO 2018-09-25 19:07:32: iter 6800, max_viol=0.0136484\n",
            "INFO 2018-09-25 19:07:32: iter 6900, max_viol=0.012596\n",
            "INFO 2018-09-25 19:07:32: iter 7000, max_viol=0.0116814\n",
            "INFO 2018-09-25 19:07:32: iter 7100, max_viol=0.0106472\n",
            "INFO 2018-09-25 19:07:32: iter 7200, max_viol=0.00974632\n",
            "INFO 2018-09-25 19:07:32: iter 7300, max_viol=0.00908928\n",
            "INFO 2018-09-25 19:07:32: iter 7400, max_viol=0.00829327\n",
            "INFO 2018-09-25 19:07:32: iter 7500, max_viol=0.0074268\n",
            "INFO 2018-09-25 19:07:32: iter 7600, max_viol=0.00698251\n",
            "INFO 2018-09-25 19:07:32: iter 7700, max_viol=0.00638429\n",
            "INFO 2018-09-25 19:07:32: iter 7800, max_viol=0.00595928\n",
            "INFO 2018-09-25 19:07:32: iter 7900, max_viol=0.00535203\n",
            "INFO 2018-09-25 19:07:32: iter 8000, max_viol=0.00495706\n",
            "INFO 2018-09-25 19:07:32: iter 8100, max_viol=0.00459853\n",
            "INFO 2018-09-25 19:07:32: iter 8200, max_viol=0.00422549\n",
            "INFO 2018-09-25 19:07:32: iter 8300, max_viol=0.00397384\n",
            "INFO 2018-09-25 19:07:32: iter 8400, max_viol=0.00364651\n",
            "INFO 2018-09-25 19:07:32: iter 8500, max_viol=0.00332476\n",
            "INFO 2018-09-25 19:07:32: iter 8600, max_viol=0.00304092\n",
            "INFO 2018-09-25 19:07:32: iter 8700, max_viol=0.00285784\n",
            "INFO 2018-09-25 19:07:32: iter 8800, max_viol=0.00261993\n",
            "INFO 2018-09-25 19:07:33: iter 8900, max_viol=0.00239875\n",
            "INFO 2018-09-25 19:07:33: iter 9000, max_viol=0.00226418\n",
            "INFO 2018-09-25 19:07:33: iter 9100, max_viol=0.00208667\n",
            "INFO 2018-09-25 19:07:33: iter 9200, max_viol=0.00188925\n",
            "INFO 2018-09-25 19:07:33: iter 9300, max_viol=0.00174341\n",
            "INFO 2018-09-25 19:07:33: iter 9400, max_viol=0.00160726\n",
            "INFO 2018-09-25 19:07:33: iter 9500, max_viol=0.00147632\n",
            "INFO 2018-09-25 19:07:33: iter 9600, max_viol=0.00133668\n",
            "INFO 2018-09-25 19:07:33: iter 9700, max_viol=0.00126876\n",
            "INFO 2018-09-25 19:07:33: iter 9800, max_viol=0.00114424\n",
            "INFO 2018-09-25 19:07:33: iter 9900, max_viol=0.00105188\n",
            "INFO 2018-09-25 19:07:33: *\n",
            "INFO 2018-09-25 19:07:33: optimization finished, #iter = 9956\n",
            "INFO 2018-09-25 19:07:33: obj = -2331.455684, rho = 1.570519\n",
            "INFO 2018-09-25 19:07:33: nSV = 4660, nBSV = 0\n",
            "INFO 2018-09-25 19:07:33: Total nSV = 4660\n",
            "INFO 2018-09-25 19:07:33: save SVM model to params_t3_l6_k4_d0_g2_c10_w3.model.txt\n",
            "INFO 2018-09-25 19:07:34: Number of threads is set to 1\n",
            "INFO 2018-09-25 19:07:34: load model params_t3_l6_k4_d0_g2_c10_w3.model.txt\n",
            "INFO 2018-09-25 19:07:34: reading... 1000/4660\n",
            "INFO 2018-09-25 19:07:34: reading... 2000/4660\n",
            "INFO 2018-09-25 19:07:34: reading... 3000/4660\n",
            "INFO 2018-09-25 19:07:34: reading... 4000/4660\n",
            "INFO 2018-09-25 19:07:35: write prediction result to preds_positives.txt\n",
            "INFO 2018-09-25 19:07:35: 100 scored\n",
            "INFO 2018-09-25 19:07:35: 200 scored\n",
            "INFO 2018-09-25 19:07:35: 300 scored\n",
            "INFO 2018-09-25 19:07:35: 400 scored\n",
            "Time taken per seq: 0.004703997969627381\n",
            "INFO 2018-09-25 19:07:35: Number of threads is set to 1\n",
            "INFO 2018-09-25 19:07:35: load model params_t3_l6_k4_d0_g2_c10_w3.model.txt\n",
            "INFO 2018-09-25 19:07:36: reading... 1000/4660\n",
            "INFO 2018-09-25 19:07:36: reading... 2000/4660\n",
            "INFO 2018-09-25 19:07:36: reading... 3000/4660\n",
            "INFO 2018-09-25 19:07:36: reading... 4000/4660\n",
            "INFO 2018-09-25 19:07:36: write prediction result to preds_negatives.txt\n",
            "INFO 2018-09-25 19:07:37: 100 scored\n",
            "INFO 2018-09-25 19:07:37: 200 scored\n",
            "INFO 2018-09-25 19:07:37: 300 scored\n",
            "INFO 2018-09-25 19:07:37: 400 scored\n",
            "INFO 2018-09-25 19:07:37: 500 scored\n",
            "INFO 2018-09-25 19:07:37: 600 scored\n",
            "INFO 2018-09-25 19:07:37: 700 scored\n",
            "INFO 2018-09-25 19:07:37: 800 scored\n",
            "INFO 2018-09-25 19:07:37: 900 scored\n",
            "INFO 2018-09-25 19:07:37: 1000 scored\n",
            "INFO 2018-09-25 19:07:37: 1100 scored\n",
            "INFO 2018-09-25 19:07:37: 1200 scored\n",
            "Time taken per seq: 0.0018202100197474162\n",
            "0.8938031249999999\n"
          ],
          "name": "stdout"
        }
      ]
    },
    {
      "metadata": {
        "id": "6I-TppiMK_ul",
        "colab_type": "code",
        "colab": {
          "base_uri": "https://localhost:8080/",
          "height": 362
        },
        "outputId": "4dac11c0-de84-49cf-bb6e-54663aaed794"
      },
      "cell_type": "code",
      "source": [
        "!head -20 params_t3_l6_k4_d0_g2_c10_w3.model.txt"
      ],
      "execution_count": 12,
      "outputs": [
        {
          "output_type": "stream",
          "text": [
            "svm_type c_svc\n",
            "kernel_type gkmrbf\n",
            "L 6\n",
            "k 4\n",
            "d 0\n",
            "gamma 2\n",
            "nr_class 2\n",
            "total_sv 4660\n",
            "rho 1.57052\n",
            "label 1 -1\n",
            "nr_sv 1500 3160\n",
            "SV\n",
            "2.03351018676311 TGTTTATATCTGCCTGCGATGAGTAAATTGTCTCTTCTGAGCCAGCGGCCAGATGGTCGGGAGACTTCGGGTCATAACGATGACTTTTATATGCTGGCCAGATAACCAACCGATATTAACAAGTGAGCAACGTCACCTCGAAACGTGCCTAAAGGTCCCCCAGTCTTCCAGCTAGTCTCAGGAGATAATCCGGCGGAATG\n",
            "1.632791235035324 CTTGTATTGAGTTAGAAACCGCCACGGCACTGCTATGTATGACATTCTAACTAAGTGAGTTATGCGTTGGGTCCTTTATGTGGCATTATCTGGTAATACTTAATTGATGTACTATTTCCTCGACAAAACAGGTGGTGTGGGTGTACCGGTCACCGATAAGGGGGAACTCACCAGATGGTAGTTAACCTATAGAGTCCTGA\n",
            "1.357797810577622 TTCTACTTCACCCAGAATACAGCCATCAGCAATCAGCGAACAGATGTTAACTTCTAATAATAGATATGACGATGTTCAACGAGTTTATCCCCCGGATAGACACTACTCAAGCGGATCTTGTTCTTAGGTAGGATGCCGTCCACAAGTGACGTGCCATGATACAGATAAGAACCTAAGACTCCCCCAAAAGATCAGAAATT\n",
            "2.285654642560899 GCGACAAACAGGTGGCGGGCGGAGTCGGCTGAGCTATTCTCGTTTAGAATGCTTAGGTTGGCCGCTCAGAGTCCTAATGCCCTGATAAGGCGACTTTCAAACACGATCAGATGGTCAGCGACTCGGCATAATACCTTAGCTCCACAGAAAGTCGGCACCTAAGCGCGTCTACTATTGCGAGCTACCTGGAGCGTAAGAGG\n",
            "1.073622068921148 ACGTAGCGTGGAGAGACACCAGATGGTCGGTGTGGCATCCACGACCATTACTCTGCTGTCTGCCATGTATGTGTGTAGAACCGAACAGATGTCCGTGTTTGGCCTACCGAGGCCAGATGGTATAGACGTCTGTGTAGTTCCACTTAACCACCCGGGCTCAAGAGATAAGCTGTCACCTTGTTCAATTTAAGATATGGGTG\n",
            "1.730966657241685 GTGTAAAAAGGACCGCGAGTGGCCTCATCGTGGTACAGGGCTACAAGACATCTTTAGCTCATCGGGTGCCTGAGTTAAGCGCTGCTCACTGATAGAGTGAAGGCTTCACAAGATCTGCCCCGAAATGCAAAATAGATTGTTCAGATAAGGTCTGGAAGTCGCTTGCACGATACAACAAATAAGGACCAGATGTTCATTTT\n",
            "0.09721441272352531 GGGCTGCGAGAACACCCTATGTAAACAGATGGTGGATGATCAAGTGATAAGCTTTTTCACTACAGAGCGACTGCAGATGACGAGGACTCCTTTTCCGTCGATAAGTCCATTCCACGAAATGTATACAGATAAGCCCCTCTCGGACATTCTTTGTTACAGTAGATAAGACTTAGTCTCATCTATGAATCGCCACGAGTACG\n",
            "0.4900117254873483 TATGACGACTGCGTATAGTAGACAGATGGTGGACAATTCCCCGTTACATAAAGGGGTACAGATGGTAAGTCCACAAACCGTAACGGCAACAGATGTTTTGAGGTACAAATATAAGGTCCTGATAAGGAGCCGAGAGCTGACGCGTGCCCAATGAGTACATACGTGATACGAATGCGTGCGCCCGGAGTATGTCAAACCGT\n"
          ],
          "name": "stdout"
        }
      ]
    },
    {
      "metadata": {
        "id": "JmY65fNlgkdf",
        "colab_type": "code",
        "colab": {}
      },
      "cell_type": "code",
      "source": [
        "import numpy as np\n",
        "from collections import Counter\n",
        "import itertools\n",
        "\n",
        "\n",
        "class GkmSvmModel(object):\n",
        "  \n",
        "  letter_to_num = {'A':0, 'C': 1, 'G': 2, 'T': 3}\n",
        "  \n",
        "  def __init__(self, kernel_type, l, k, d, gamma, string_svs, signed_alphas):\n",
        "    self.kernel_type = kernel_type\n",
        "    self.l = l\n",
        "    self.k = k\n",
        "    self.d = d\n",
        "    self.gamma = gamma\n",
        "    self.string_svs = string_svs\n",
        "    self.signed_alphas = signed_alphas\n",
        "    self.build()\n",
        "    \n",
        "  def build(self):\n",
        "    self.build_nongap_pos_sets()\n",
        "    self.gkmer_count_svs = [self.get_gkmer_counts(x) for x in self.string_svs]\n",
        "    \n",
        "  def build_nongap_pos_sets(self):\n",
        "    #get the placement of the non-gap positions\n",
        "    redundant_nongap_pos_sets = list(itertools.combinations(range(self.l),\n",
        "                                                            self.k))\n",
        "    non_redundant_nongap_pos_sets = []\n",
        "    string_reps_non_redundant_nongap_pos_sets = set()\n",
        "    for nongap_pos_set in redundant_nongap_pos_sets:\n",
        "      string_rep_arr = [\" \" for i in range(self.l)]\n",
        "      for a_pos in nongap_pos_set:\n",
        "        string_rep_arr[a_pos] = \"X\"\n",
        "      string_rep = \"\".join(string_rep_arr)\n",
        "      string_rep = string_rep.lstrip().rstrip()\n",
        "      if (string_rep in string_reps_non_redundant_nongap_pos_sets):\n",
        "        pass\n",
        "        #print(\"Skipping\",string_rep)\n",
        "      else:\n",
        "        string_reps_non_redundant_nongap_pos_sets.add(string_rep)\n",
        "        non_redundant_nongap_pos_sets.append(nongap_pos_set)\n",
        "    self.nongap_pos_sets = non_redundant_nongap_pos_sets \n",
        "  \n",
        "  def get_gkmer_counts(self, a_string):\n",
        "    number_string = self.encode_as_numbers(a_string)\n",
        "    k = self.k\n",
        "    nongap_pos_sets = self.nongap_pos_sets\n",
        "    to_count_up = []\n",
        "    for i in range(len(number_string)+1-l):\n",
        "      for (nongap_pos_set_num,nongap_pos_set)\\\n",
        "        in enumerate(nongap_pos_sets):\n",
        "        gkmer = 0\n",
        "        for nongap_pos_enumidx, nongap_pos in enumerate(nongap_pos_set):\n",
        "          #multiply the digit by the appropriate place value given by\n",
        "          #nongap_pos_enumidx, add together\n",
        "          gkmer |= number_string[i+nongap_pos] << (nongap_pos_enumidx << 1)\n",
        "        #(1 << (k << 1)) is the same as 4**k\n",
        "        gkmer += (nongap_pos_set_num*(1 << (k << 1)))\n",
        "        to_count_up.append(gkmer)\n",
        "    return Counter(to_count_up)\n",
        "    \n",
        "  def encode_as_numbers(self, a_string):\n",
        "    return [self.letter_to_num[x] for x in a_string]\n",
        "    \n",
        "  \n",
        "  @classmethod\n",
        "  def from_txt_file(cls, txt_file):\n",
        "    lines = [x for x in open(txt_file)]\n",
        "    \n",
        "    field_name, kernel_type = lines[1].split()\n",
        "    assert field_name==\"kernel_type\"\n",
        "    field_name, l = lines[2].split()\n",
        "    assert field_name==\"L\"; l = int(l)\n",
        "    field_name, k = lines[3].split()\n",
        "    assert field_name==\"k\"; k = int(k)\n",
        "    field_name, d = lines[4].split()\n",
        "    assert field_name==\"d\"; d = int(d)\n",
        "    field_name, gamma = lines[5].split()\n",
        "    assert field_name==\"gamma\"; gamma = float(gamma)\n",
        "    \n",
        "    string_svs = []\n",
        "    signed_alphas = []\n",
        "    assert lines[11].rstrip() == \"SV\"\n",
        "    for a_line in lines[12:]:\n",
        "      the_alpha, the_string = a_line.split()\n",
        "      the_alpha = float(the_alpha)\n",
        "      string_svs.append(the_string)\n",
        "      signed_alphas.append(the_alpha)\n",
        "\n",
        "    return cls(kernel_type=kernel_type,\n",
        "        l=l, k=k, d=d, gamma=gamma, string_svs=string_svs,\n",
        "        signed_alphas=np.array(signed_alphas))\n",
        "  \n",
        "  \n",
        "gkm_svm_model = GkmSvmModel.from_txt_file(\"params_t3_l6_k4_d0_g2_c10_w3.model.txt\")\n",
        "\n",
        "#scan a sequence to get all the kmers\n",
        "#map kmer --> gapped (& mismatch kmers)"
      ],
      "execution_count": 0,
      "outputs": []
    },
    {
      "metadata": {
        "id": "bkAdbaawcqFX",
        "colab_type": "code",
        "colab": {
          "base_uri": "https://localhost:8080/",
          "height": 33
        },
        "outputId": "9d6bfc35-fbf5-441e-a418-8513ec7d2795"
      },
      "cell_type": "code",
      "source": [
        "import time\n",
        "s = time.time()\n",
        "gkm_svm_model.get_gkmer_counts(gkm_svm_model.string_svs[0])\n",
        "print(time.time()-s)"
      ],
      "execution_count": 82,
      "outputs": [
        {
          "output_type": "stream",
          "text": [
            "0.006539344787597656\n"
          ],
          "name": "stdout"
        }
      ]
    },
    {
      "metadata": {
        "id": "3pojxR9QOUwz",
        "colab_type": "code",
        "colab": {
          "base_uri": "https://localhost:8080/",
          "height": 33
        },
        "outputId": "d882b76e-1a2a-4097-fdb5-4177dbdc61cd"
      },
      "cell_type": "code",
      "source": [
        "a = Counter([1,2,3,4])\n",
        "a.update([1])\n",
        "a"
      ],
      "execution_count": 77,
      "outputs": [
        {
          "output_type": "execute_result",
          "data": {
            "text/plain": [
              "Counter({1: 2, 2: 1, 3: 1, 4: 1})"
            ]
          },
          "metadata": {
            "tags": []
          },
          "execution_count": 77
        }
      ]
    },
    {
      "metadata": {
        "id": "VqNsl7wKiZHr",
        "colab_type": "code",
        "colab": {
          "base_uri": "https://localhost:8080/",
          "height": 82
        },
        "outputId": "ae41e82e-1ffb-47b1-ed81-ef37fe6b8712"
      },
      "cell_type": "code",
      "source": [
        "from functools import reduce\n",
        "reduction_func = lambda x,y: x|y\n",
        "\n",
        "def interpret_in_base_4(arr):\n",
        "  return reduce(reduction_func,\n",
        "                (y<<(x<<1) for (x,y) in enumerate(arr[::-1])))\n",
        "\n",
        "bah = [3,3,2,0,3,2,1,2,1,2]\n",
        "\n",
        "import time\n",
        "\n",
        "start = time.time()\n",
        "for i in range(10000):\n",
        "  eh = bah[0] << 18| bah[1] << 16 | bah[2] << 14 | bah[3] << 12 | bah[4] << 10 | bah[5] << 8 | bah[6] << 6 | bah[7] << 4 | bah[8] << 2 | bah[9]\n",
        "print(time.time()-start)\n",
        "\n",
        "start = time.time()\n",
        "for i in range(10000):\n",
        "  eh = interpret_in_base_4(bah)\n",
        "print(time.time()-start)\n",
        "\n",
        "\n",
        "print(eh)\n",
        "print(interpret_in_base_4(bah))"
      ],
      "execution_count": 43,
      "outputs": [
        {
          "output_type": "stream",
          "text": [
            "0.01012110710144043\n",
            "0.04631161689758301\n",
            "1019494\n",
            "1019494\n"
          ],
          "name": "stdout"
        }
      ]
    },
    {
      "metadata": {
        "id": "iLCdy2ZlVZyW",
        "colab_type": "code",
        "colab": {}
      },
      "cell_type": "code",
      "source": [
        "from collections import Counter\n",
        "c = Counter()"
      ],
      "execution_count": 0,
      "outputs": []
    },
    {
      "metadata": {
        "id": "CPp7faS5Vc3i",
        "colab_type": "code",
        "colab": {}
      },
      "cell_type": "code",
      "source": [
        "c.update(\"a\")"
      ],
      "execution_count": 0,
      "outputs": []
    },
    {
      "metadata": {
        "id": "vhDUGiw4WTpr",
        "colab_type": "code",
        "colab": {
          "base_uri": "https://localhost:8080/",
          "height": 33
        },
        "outputId": "486b84e1-2f7e-41a3-f449-e74aff868747"
      },
      "cell_type": "code",
      "source": [
        "c"
      ],
      "execution_count": 41,
      "outputs": [
        {
          "output_type": "execute_result",
          "data": {
            "text/plain": [
              "Counter({'a': 2})"
            ]
          },
          "metadata": {
            "tags": []
          },
          "execution_count": 41
        }
      ]
    },
    {
      "metadata": {
        "id": "upbumtKWihZb",
        "colab_type": "code",
        "colab": {
          "base_uri": "https://localhost:8080/",
          "height": 33
        },
        "outputId": "bd52c7ef-ae70-490d-fbd5-15fd014c62d0"
      },
      "cell_type": "code",
      "source": [
        "oink |= 2\n",
        "oink"
      ],
      "execution_count": 47,
      "outputs": [
        {
          "output_type": "execute_result",
          "data": {
            "text/plain": [
              "6"
            ]
          },
          "metadata": {
            "tags": []
          },
          "execution_count": 47
        }
      ]
    },
    {
      "metadata": {
        "id": "J5Elnl4qHdeg",
        "colab_type": "code",
        "colab": {
          "base_uri": "https://localhost:8080/",
          "height": 33
        },
        "outputId": "06c75d7a-f3f0-4efd-fdfa-03f494bdb8cc"
      },
      "cell_type": "code",
      "source": [
        "#Let's time how long ISM would take\n",
        "\n",
        "!wc -l test_positives.fa\n"
      ],
      "execution_count": 1,
      "outputs": [
        {
          "output_type": "stream",
          "text": [
            "wc: test_positives.fa: No such file or directory\n"
          ],
          "name": "stdout"
        }
      ]
    },
    {
      "metadata": {
        "id": "Uq85ibTyl5vH",
        "colab_type": "code",
        "colab": {
          "base_uri": "https://localhost:8080/",
          "height": 180
        },
        "outputId": "05c514ea-bed9-4f6f-bea8-71fe0b4f7024"
      },
      "cell_type": "code",
      "source": [
        "!head preds_negatives.txt"
      ],
      "execution_count": 59,
      "outputs": [
        {
          "output_type": "stream",
          "text": [
            "empty_1732\t-0.926003\n",
            "tal1_only_1375\t-0.719885\n",
            "tal1_only_932\t-0.643103\n",
            "tal1_only_822\t-0.311129\n",
            "gata_only_1864\t-0.764027\n",
            "tal1_only_258\t-0.170276\n",
            "tal1_only_479\t-0.423172\n",
            "gata_only_253\t-0.725754\n",
            "gata_only_838\t-0.581721\n",
            "gata_only_1803\t-0.921533\n"
          ],
          "name": "stdout"
        }
      ]
    },
    {
      "metadata": {
        "id": "Bk_Qr_dsmDcg",
        "colab_type": "code",
        "colab": {
          "base_uri": "https://localhost:8080/",
          "height": 33
        },
        "outputId": "8a419464-f507-4174-9708-03e696afad21"
      },
      "cell_type": "code",
      "source": [
        ""
      ],
      "execution_count": 61,
      "outputs": [
        {
          "output_type": "stream",
          "text": [
            "0.8409916666666667\n"
          ],
          "name": "stdout"
        }
      ]
    },
    {
      "metadata": {
        "id": "Fdzj2H1UniC3",
        "colab_type": "code",
        "colab": {}
      },
      "cell_type": "code",
      "source": [
        ""
      ],
      "execution_count": 0,
      "outputs": []
    }
  ]
}