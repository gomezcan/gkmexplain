{
  "nbformat": 4,
  "nbformat_minor": 0,
  "metadata": {
    "colab": {
      "name": "lsgkm.ipynb",
      "version": "0.3.2",
      "provenance": [],
      "collapsed_sections": [],
      "include_colab_link": true
    },
    "kernelspec": {
      "name": "python3",
      "display_name": "Python 3"
    }
  },
  "cells": [
    {
      "cell_type": "markdown",
      "metadata": {
        "id": "view-in-github",
        "colab_type": "text"
      },
      "source": [
        "[View in Colaboratory](https://colab.research.google.com/github/kundajelab/ssvmimp/blob/master/lsgkm.ipynb)"
      ]
    },
    {
      "metadata": {
        "id": "oEAejJmubbim",
        "colab_type": "code",
        "colab": {
          "base_uri": "https://localhost:8080/",
          "height": 1025
        },
        "outputId": "cafa192b-b308-4537-cd08-8ab7b0c72ccb"
      },
      "cell_type": "code",
      "source": [
        "#install lsgkm\n",
        "!rm -r lsgkm\n",
        "! git clone https://github.com/kundajelab/lsgkm\n",
        "% cd lsgkm/src\n",
        "! make\n",
        "! ./gkmtrain\n",
        "%cd ../.."
      ],
      "execution_count": 1,
      "outputs": [
        {
          "output_type": "stream",
          "text": [
            "Cloning into 'lsgkm'...\n",
            "remote: Enumerating objects: 4, done.\u001b[K\n",
            "remote: Counting objects: 100% (4/4), done.\u001b[K\n",
            "remote: Compressing objects: 100% (4/4), done.\u001b[K\n",
            "remote: Total 115 (delta 0), reused 1 (delta 0), pack-reused 111\u001b[K\n",
            "Receiving objects: 100% (115/115), 247.05 KiB | 1.40 MiB/s, done.\n",
            "Resolving deltas: 100% (65/65), done.\n",
            "/content/lsgkm/src\n",
            "g++ -Wall -Wconversion -O3 -fPIC -c libsvm.cpp\n",
            "g++ -Wall -Wconversion -O3 -fPIC -c libsvm_gkm.c\n",
            "g++ -Wall -Wconversion -O3 -fPIC gkmtrain.c libsvm.o libsvm_gkm.o -o gkmtrain -lm -lpthread\n",
            "g++ -Wall -Wconversion -O3 -fPIC gkmpredict.c libsvm.o libsvm_gkm.o -o gkmpredict -lm -lpthread\n",
            "\n",
            "Usage: gkmtrain [options] <posfile> <negfile> <outprefix>\n",
            "\n",
            " train gkm-SVM using libSVM\n",
            "\n",
            "Arguments:\n",
            " posfile: positive sequence file (FASTA format)\n",
            " negfile: negative sequence file (FASTA format)\n",
            " outprefix: prefix of output file(s) <outprefix>.model.txt or\n",
            "            <outprefix>.cvpred.txt\n",
            "\n",
            "Options:\n",
            " -t <0 ~ 6>   set kernel function (default: 4 wgkm)\n",
            "              NOTE: RBF kernels (3, 5 and 6) work best with -c 10 -g 2\n",
            "                0 -- gapped-kmer\n",
            "                1 -- estimated l-mer with full filter\n",
            "                2 -- estimated l-mer with truncated filter (gkm)\n",
            "                3 -- (truncated l-mer) gkm + RBF (gkmrbf)\n",
            "                4 -- (truncated l-mer) gkm + center weighted (wgkm)\n",
            "                     [weight = max(M, floor(M*exp(-ln(2)*D/H)+1))]\n",
            "                5 -- (truncated l-mer) gkm + center weighted + RBF (wgkmrbf)\n",
            "                6 -- gapped-kmer + RBF\n",
            " -l <int>     set word length, 3<=l<=12 (default: 11)\n",
            " -k <int>     set number of informative column, k<=l (default: 7)\n",
            " -d <int>     set maximum number of mismatches to consider, d<=4 (default: 3)\n",
            " -g <float>   set gamma for RBF kernel. -t 3 or 5 or 6 only (default: 1.0)\n",
            " -M <int>     set the initial value (M) of the exponential decay function\n",
            "              for wgkm-kernels. max=255, -t 4 or 5 only (default: 50)\n",
            " -H <float>   set the half-life parameter (H) that is the distance (D) required\n",
            "              to fall to half of its initial value in the exponential decay\n",
            "              function for wgkm-kernels. -t 4 or 5 only (default: 50)\n",
            " -c <float>   set the regularization parameter SVM-C (default: 1.0)\n",
            " -e <float>   set the precision parameter epsilon (default: 0.001)\n",
            " -w <float>   set the parameter SVM-C to w*C for the positive set (default: 1.0)\n",
            " -m <float>   set cache memory size in MB (default: 100.0)\n",
            "              NOTE: Large cache signifcantly reduces runtime. >4Gb is recommended\n",
            " -s           if set, use the shrinking heuristics\n",
            " -x <int>     set N-fold cross validation mode (default: no cross validation)\n",
            " -i <int>     run i-th cross validation only 1<=i<=ncv (default: all)\n",
            " -r <int>     set random seed for shuffling in cross validation mode (default: 1)\n",
            " -v <0 ~ 4>   set the level of verbosity (default: 2)\n",
            "                0 -- error msgs only (ERROR)\n",
            "                1 -- warning msgs (WARN)\n",
            "                2 -- progress msgs at coarse-grained level (INFO)\n",
            "                3 -- progress msgs at fine-grained level (DEBUG)\n",
            "                4 -- progress msgs at finer-grained level (TRACE)\n",
            "-T <1|4|16>   set the number of threads for parallel calculation, 1, 4, or 16\n",
            "                 (default: 1)\n",
            "\n",
            "/content\n"
          ],
          "name": "stdout"
        }
      ]
    },
    {
      "metadata": {
        "id": "6W3yUXw9bzl7",
        "colab_type": "code",
        "colab": {
          "base_uri": "https://localhost:8080/",
          "height": 50
        },
        "outputId": "512078ef-5131-4a47-a0ee-e4c7d20fa816"
      },
      "cell_type": "code",
      "source": [
        "#get the raw data\n",
        "!wget https://raw.githubusercontent.com/AvantiShri/model_storage/master/deeplift/genomics/sequences.simdata.gz"
      ],
      "execution_count": 2,
      "outputs": [
        {
          "output_type": "stream",
          "text": [
            "\n",
            "Redirecting output to ‘wget-log.2’.\n"
          ],
          "name": "stdout"
        }
      ]
    },
    {
      "metadata": {
        "id": "2etRn0BKfXK1",
        "colab_type": "code",
        "colab": {
          "base_uri": "https://localhost:8080/",
          "height": 200
        },
        "outputId": "8bdecf4c-63c0-4852-8e9d-7b1f865179c1"
      },
      "cell_type": "code",
      "source": [
        "!zcat sequences.simdata | head"
      ],
      "execution_count": 3,
      "outputs": [
        {
          "output_type": "stream",
          "text": [
            "seqName\tsequence\tembeddings\ttask1\ttask2\ttask3\n",
            "empty_1732\tAGCTCTTTTGGCGGACCGAGTTCGTCGGACTTTCGCTAAATTGACCATTAACAGGAGGATACCCGGGTGTCTCGGGAAGGTCGTAATACGGTAATTACGGATGTGAGAGCGCACACATCCTTTGGATGATACATGATCTCGCCGTATATGGCCTAGGTCAAAAGGACAGTCTCGCTAATCGCAATAATGCAGCTAACCGA\t\t0\t0\t0\n",
            "gata_only_1527\tTGCAGATAAGAACTTTGGGAATATGGTAGGAAAAACCCCTGAAGTGAGATCCAAAAAATATAGACTGGCGCGGTGGCAATGCCCTTGTTAATGCTGGGAATCAAAAAATCGAAACTCTCAGCAGATAAGATATGCAGACCTGCTCGTGGAGACAAAAAGTATTGTTACTGCGTAAACCATTAGTACGTTGCCGAGTACCG\tpos-120_GATA_disc1-GCAGATAAGA,pos-1_GATA_disc1-GCAGATAAGA\t0\t1\t0\n",
            "gata_tal1_62\tAGATTATAGGCCCTCCACCAGATAAGATATAGCGTTCGAGGGTCAGAAGGTAGTTCTGAAGATCTCTTCATTGTGAAAGGCCTCATATGATGAGCTTCTCCATTCTCAGCTGACAGGCAAAACAATTGATCAGCGCTTAGGCGCCAGATGTTTACTCCCGTTAAGTCAACTTAGCTGTGTTCGTCAAATCCGCAACGCGG\tpos-17_GATA_disc1-CCAGATAAGA,pos-139_TAL1_known1-GGCGCCAGATGTTTAC\t1\t1\t1\n",
            "empty_1289\tTTTGGGCGCGGAAGAAGTCGCTCGCCTTTCTGTACTTGAAAATGATTACATGTAAGGATGTAACTCAATCGCAACATTGTCATTGGGTTCCATCGCCCTAGCGGTAGTAGGTTTTACCTCCAACTTGACAACCCTTCGTAAATATAAAATAGTAGTAATTAGCTAGCCCATCCAGACGAGCAGATAATTGACAATTGTCG\t\t0\t0\t0\n",
            "empty_1515\tGTAGAACCGCTGAGGCACTTTTAGAATGTTTCTTCCCCCCCGAACACACGTCTGTTGACGCGTCGGGGACCCATTGGTTGATGGCGCTACCACCATACTGGGTAATAGAGCACCCCTACGACGTGATTGTTTCTTTAGATTTCGTTACTGGGTACGGCGCGCCCCAAGTATTATGTGCTATCTCAAGTATTTAAGTCAGG\t\t0\t0\t0\n",
            "tal1_only_660\tTACCACCGCTTCCAATGTTACCATGTTAGCCATAGTTTCGGGAAGTCGTAATTTCACTTGTAGACCAGATGGAGCCGTCTGTCTAATTTACTCATTCAGACAATCCATCATTTCCTTTGGCGCTGACTCTCATTCCGTAACAGATGTTTGACATTCGTTCCTAGCGCAAATTAGTCTTAATGCCCTAAGTATCGCCAATC\tpos-60_TAL1_known1-TAGACCAGATGGAGCC,pos-135_TAL1_known1-CGTAACAGATGTTTGA\t0\t0\t1\n",
            "tal1_only_1375\tAGTGGCCAGTTACGTGAAGCGCCCGGGCCATATACTATTACAACTACCACTAGTCGTACGGATGGAGCTGTTTCACGAATGCGAGCTAAATGGACCAGCCTTTGGCGTTTAGTGATGTGCTAAATTCCTGAACACCTTTTATGTTCGGGGTTGGTGTTCGGATAGGACATGACCAGGTGTCCAGGCGAGCATATTTGGCC\tpos-168_TAL1_known1-ATGACCAGGTGTCCAG\t0\t0\t1\n",
            "gata_tal1_678\tTGTTTATATCTGCCTGCGATGAGTAAATTGTCTCTTCTGAGCCAGCGGCCAGATGGTCGGGAGACTTCGGGTCATAACGATGACTTTTATATGCTGGCCAGATAACCAACCGATATTAACAAGTGAGCAACGTCACCTCGAAACGTGCCTAAAGGTCCCCCAGTCTTCCAGCTAGTCTCAGGAGATAATCCGGCGGAATG\tpos-97_GATA_disc1-CCAGATAACC,pos-44_TAL1_known1-GCGGCCAGATGGTCGG\t1\t1\t1\n",
            "empty_134\tATTCTTGTTGAGTGATAGCCTTCTACCGTATATCTTCCCAGTAGAGAGATCGTACAAATGACTTGGTACTACTTAGACTTCTCTAGCTTTCATTTCGCCTGTTATGACATATCAACGCAGGGCCGTTTTAACCATGTCCCTGTAACCCTCAGTAAGCCTATCACCGAACCGCCTTACAAGACTTAGTTCTGTTAGCCTTA\t\t0\t0\t0\n"
          ],
          "name": "stdout"
        }
      ]
    },
    {
      "metadata": {
        "id": "HAk3-GNTfZAl",
        "colab_type": "code",
        "colab": {}
      },
      "cell_type": "code",
      "source": [
        "!zcat sequences.simdata.gz | perl -lane 'if ($F[3] eq \"1\") {print \">$F[0]\\n$F[1]\"}' > positives.fa\n",
        "!zcat sequences.simdata.gz | perl -lane 'if ($F[3] eq \"0\") {print \">$F[0]\\n$F[1]\"}' > negatives.fa\n",
        "!perl -ne 'if ($.%10 == 1 || $.%10 == 2) {print $_}' positives.fa > test_positives.fa\n",
        "!perl -ne 'if ($.%10 != 1 && $.%10 != 2) {print $_}' positives.fa > train_positives.fa\n",
        "!perl -ne 'if ($.%10 == 1 || $.%10 == 2) {print $_}' negatives.fa > test_negatives.fa\n",
        "!perl -ne 'if ($.%10 != 1 && $.%10 != 2) {print $_}' negatives.fa > train_negatives.fa"
      ],
      "execution_count": 0,
      "outputs": []
    },
    {
      "metadata": {
        "id": "mwEKO0NQfe40",
        "colab_type": "code",
        "colab": {
          "base_uri": "https://localhost:8080/",
          "height": 131
        },
        "outputId": "025ccdc9-ee61-4fbf-c240-89039ecfd47c"
      },
      "cell_type": "code",
      "source": [
        "!wc -l *.fa"
      ],
      "execution_count": 5,
      "outputs": [
        {
          "output_type": "stream",
          "text": [
            "  12000 negatives.fa\n",
            "   4000 positives.fa\n",
            "   2400 test_negatives.fa\n",
            "    800 test_positives.fa\n",
            "   9600 train_negatives.fa\n",
            "   3200 train_positives.fa\n",
            "  32000 total\n"
          ],
          "name": "stdout"
        }
      ]
    },
    {
      "metadata": {
        "id": "51_gHIeKfg_k",
        "colab_type": "code",
        "colab": {
          "base_uri": "https://localhost:8080/",
          "height": 4470
        },
        "outputId": "3e1af718-28b9-42fe-b2ff-fbcac47ed281"
      },
      "cell_type": "code",
      "source": [
        "import time\n",
        "\n",
        "t=6\n",
        "c=10\n",
        "g=2\n",
        "l=6\n",
        "k=4\n",
        "d=2\n",
        "\n",
        "!lsgkm/src/gkmtrain -t $t -c $10 -g $2 -l $l -k $k -d $d -w 3 train_positives.fa train_negatives.fa \"params_t\"$t\"_l\"$l\"_k\"$k\"_d\"$d\"_g\"$g\"_c\"$c\"_w3\"\n",
        "\n",
        "\n",
        "start = time.time()\n",
        "!lsgkm/src/gkmpredict test_positives.fa \"params_t\"$t\"_l\"$l\"_k\"$k\"_d\"$d\"_g\"$g\"_c\"$c\"_w3.model.txt\" preds_positives.txt\n",
        "end = time.time()\n",
        "print(\"Time taken per seq:\",(end-start)/400)\n",
        "start = time.time()\n",
        "!lsgkm/src/gkmpredict test_negatives.fa \"params_t\"$t\"_l\"$l\"_k\"$k\"_d\"$d\"_g\"$g\"_c\"$c\"_w3.model.txt\" preds_negatives.txt\n",
        "end = time.time()\n",
        "print(\"Time taken per seq:\",(end-start)/1200)\n",
        "\n",
        "import numpy as np\n",
        "from sklearn.metrics import roc_auc_score\n",
        "pos_preds = [float(x.rstrip().split(\"\\t\")[1]) for x in open(\"preds_positives.txt\")]\n",
        "neg_preds = [float(x.rstrip().split(\"\\t\")[1]) for x in open(\"preds_negatives.txt\")]\n",
        "print(roc_auc_score(y_true=np.array([1 for i in range(len(pos_preds))]+[0 for i in range(len(neg_preds))]),\n",
        "                    y_score=np.array(pos_preds+neg_preds)))"
      ],
      "execution_count": 6,
      "outputs": [
        {
          "output_type": "stream",
          "text": [
            "INFO 2018-09-30 02:21:58: Number of threads is set to 1\n",
            "INFO 2018-09-30 02:21:58: Arguments:\n",
            "INFO 2018-09-30 02:21:58:   posfile = train_positives.fa\n",
            "INFO 2018-09-30 02:21:58:   negfile = train_negatives.fa\n",
            "INFO 2018-09-30 02:21:58:   outprefix = params_t6_l6_k4_d2_g2_c10_w3\n",
            "INFO 2018-09-30 02:21:58: Parameters:\n",
            "INFO 2018-09-30 02:21:58:   kernel-type = 6\n",
            "INFO 2018-09-30 02:21:58:   L = 6\n",
            "INFO 2018-09-30 02:21:58:   k = 4\n",
            "INFO 2018-09-30 02:21:58:   d = 2\n",
            "INFO 2018-09-30 02:21:58:   gamma = 2\n",
            "INFO 2018-09-30 02:21:58:   C = 10\n",
            "INFO 2018-09-30 02:21:58:   w = 3\n",
            "INFO 2018-09-30 02:21:58:   eps = 0.001\n",
            "INFO 2018-09-30 02:21:58:   shrinking = no\n",
            "INFO 2018-09-30 02:21:58: reading 1600 sequences from train_positives.fa\n",
            "INFO 2018-09-30 02:21:58: reading... 0\n",
            "INFO 2018-09-30 02:21:59: reading... 1000\n",
            "INFO 2018-09-30 02:21:59: reading... done\n",
            "INFO 2018-09-30 02:21:59: reading 4800 sequences from train_negatives.fa\n",
            "INFO 2018-09-30 02:21:59: reading... 0\n",
            "INFO 2018-09-30 02:21:59: reading... 1000\n",
            "INFO 2018-09-30 02:21:59: reading... 2000\n",
            "INFO 2018-09-30 02:21:59: reading... 3000\n",
            "INFO 2018-09-30 02:21:59: reading... 4000\n",
            "INFO 2018-09-30 02:21:59: reading... done\n",
            "INFO 2018-09-30 02:21:59: begin SVM training\n",
            "INFO 2018-09-30 02:22:04: iter 100, max_viol=3.17914\n",
            "INFO 2018-09-30 02:22:09: iter 200, max_viol=3.03576\n",
            "INFO 2018-09-30 02:22:13: iter 300, max_viol=3.08298\n",
            "INFO 2018-09-30 02:22:17: iter 400, max_viol=3.13269\n",
            "INFO 2018-09-30 02:22:21: iter 500, max_viol=2.91447\n",
            "INFO 2018-09-30 02:22:25: iter 600, max_viol=3.03621\n",
            "INFO 2018-09-30 02:22:29: iter 700, max_viol=2.93347\n",
            "INFO 2018-09-30 02:22:33: iter 800, max_viol=2.83609\n",
            "INFO 2018-09-30 02:22:37: iter 900, max_viol=2.75345\n",
            "INFO 2018-09-30 02:22:41: iter 1000, max_viol=2.67134\n",
            "INFO 2018-09-30 02:22:44: iter 1100, max_viol=2.45945\n",
            "INFO 2018-09-30 02:22:47: iter 1200, max_viol=2.45534\n",
            "INFO 2018-09-30 02:22:49: iter 1300, max_viol=2.36275\n",
            "INFO 2018-09-30 02:22:52: iter 1400, max_viol=2.29971\n",
            "INFO 2018-09-30 02:22:54: iter 1500, max_viol=2.11488\n",
            "INFO 2018-09-30 02:22:56: iter 1600, max_viol=2.00407\n",
            "INFO 2018-09-30 02:22:58: iter 1700, max_viol=1.94924\n",
            "INFO 2018-09-30 02:22:59: iter 1800, max_viol=2.00798\n",
            "INFO 2018-09-30 02:23:01: iter 1900, max_viol=1.74636\n",
            "INFO 2018-09-30 02:23:02: iter 2000, max_viol=1.58068\n",
            "INFO 2018-09-30 02:23:04: iter 2100, max_viol=1.53832\n",
            "INFO 2018-09-30 02:23:05: iter 2200, max_viol=1.50733\n",
            "INFO 2018-09-30 02:23:06: iter 2300, max_viol=1.3777\n",
            "INFO 2018-09-30 02:23:07: iter 2400, max_viol=1.30919\n",
            "INFO 2018-09-30 02:23:08: iter 2500, max_viol=1.28565\n",
            "INFO 2018-09-30 02:23:09: iter 2600, max_viol=1.1612\n",
            "INFO 2018-09-30 02:23:10: iter 2700, max_viol=1.17903\n",
            "INFO 2018-09-30 02:23:11: iter 2800, max_viol=1.07791\n",
            "INFO 2018-09-30 02:23:11: iter 2900, max_viol=1.04656\n",
            "INFO 2018-09-30 02:23:12: iter 3000, max_viol=1.01709\n",
            "INFO 2018-09-30 02:23:13: iter 3100, max_viol=0.928733\n",
            "INFO 2018-09-30 02:23:14: iter 3200, max_viol=0.871698\n",
            "INFO 2018-09-30 02:23:14: iter 3300, max_viol=0.839582\n",
            "INFO 2018-09-30 02:23:15: iter 3400, max_viol=0.80926\n",
            "INFO 2018-09-30 02:23:16: iter 3500, max_viol=0.774535\n",
            "INFO 2018-09-30 02:23:16: iter 3600, max_viol=0.719892\n",
            "INFO 2018-09-30 02:23:16: iter 3700, max_viol=0.662815\n",
            "INFO 2018-09-30 02:23:17: iter 3800, max_viol=0.674302\n",
            "INFO 2018-09-30 02:23:17: iter 3900, max_viol=0.637447\n",
            "INFO 2018-09-30 02:23:18: iter 4000, max_viol=0.595407\n",
            "INFO 2018-09-30 02:23:18: iter 4100, max_viol=0.572252\n",
            "INFO 2018-09-30 02:23:18: iter 4200, max_viol=0.53737\n",
            "INFO 2018-09-30 02:23:19: iter 4300, max_viol=0.528273\n",
            "INFO 2018-09-30 02:23:19: iter 4400, max_viol=0.489346\n",
            "INFO 2018-09-30 02:23:19: iter 4500, max_viol=0.467614\n",
            "INFO 2018-09-30 02:23:19: iter 4600, max_viol=0.442253\n",
            "INFO 2018-09-30 02:23:20: iter 4700, max_viol=0.412779\n",
            "INFO 2018-09-30 02:23:20: iter 4800, max_viol=0.391325\n",
            "INFO 2018-09-30 02:23:20: iter 4900, max_viol=0.383147\n",
            "INFO 2018-09-30 02:23:21: iter 5000, max_viol=0.377504\n",
            "INFO 2018-09-30 02:23:21: iter 5100, max_viol=0.338916\n",
            "INFO 2018-09-30 02:23:21: iter 5200, max_viol=0.344318\n",
            "INFO 2018-09-30 02:23:21: iter 5300, max_viol=0.321853\n",
            "INFO 2018-09-30 02:23:21: iter 5400, max_viol=0.30827\n",
            "INFO 2018-09-30 02:23:22: iter 5500, max_viol=0.308261\n",
            "INFO 2018-09-30 02:23:22: iter 5600, max_viol=0.298148\n",
            "INFO 2018-09-30 02:23:22: iter 5700, max_viol=0.259647\n",
            "INFO 2018-09-30 02:23:22: iter 5800, max_viol=0.271704\n",
            "INFO 2018-09-30 02:23:22: iter 5900, max_viol=0.241885\n",
            "INFO 2018-09-30 02:23:23: iter 6000, max_viol=0.227088\n",
            "INFO 2018-09-30 02:23:23: iter 6100, max_viol=0.225357\n",
            "INFO 2018-09-30 02:23:23: iter 6200, max_viol=0.218376\n",
            "INFO 2018-09-30 02:23:23: iter 6300, max_viol=0.220836\n",
            "INFO 2018-09-30 02:23:23: iter 6400, max_viol=0.201529\n",
            "INFO 2018-09-30 02:23:23: iter 6500, max_viol=0.193485\n",
            "INFO 2018-09-30 02:23:23: iter 6600, max_viol=0.184906\n",
            "INFO 2018-09-30 02:23:24: iter 6700, max_viol=0.181182\n",
            "INFO 2018-09-30 02:23:24: iter 6800, max_viol=0.169851\n",
            "INFO 2018-09-30 02:23:24: iter 6900, max_viol=0.154147\n",
            "INFO 2018-09-30 02:23:24: iter 7000, max_viol=0.155281\n",
            "INFO 2018-09-30 02:23:24: iter 7100, max_viol=0.146645\n",
            "INFO 2018-09-30 02:23:24: iter 7200, max_viol=0.140191\n",
            "INFO 2018-09-30 02:23:24: iter 7300, max_viol=0.137378\n",
            "INFO 2018-09-30 02:23:24: iter 7400, max_viol=0.128788\n",
            "INFO 2018-09-30 02:23:24: iter 7500, max_viol=0.123673\n",
            "INFO 2018-09-30 02:23:24: iter 7600, max_viol=0.121168\n",
            "INFO 2018-09-30 02:23:24: iter 7700, max_viol=0.119199\n",
            "INFO 2018-09-30 02:23:24: iter 7800, max_viol=0.111416\n",
            "INFO 2018-09-30 02:23:25: iter 7900, max_viol=0.109736\n",
            "INFO 2018-09-30 02:23:25: iter 8000, max_viol=0.099034\n",
            "INFO 2018-09-30 02:23:25: iter 8100, max_viol=0.0991659\n",
            "INFO 2018-09-30 02:23:25: iter 8200, max_viol=0.0953087\n",
            "INFO 2018-09-30 02:23:25: iter 8300, max_viol=0.0940464\n",
            "INFO 2018-09-30 02:23:25: iter 8400, max_viol=0.0878953\n",
            "INFO 2018-09-30 02:23:25: iter 8500, max_viol=0.082832\n",
            "INFO 2018-09-30 02:23:25: iter 8600, max_viol=0.0824204\n",
            "INFO 2018-09-30 02:23:25: iter 8700, max_viol=0.0757245\n",
            "INFO 2018-09-30 02:23:25: iter 8800, max_viol=0.0707767\n",
            "INFO 2018-09-30 02:23:25: iter 8900, max_viol=0.0702621\n",
            "INFO 2018-09-30 02:23:25: iter 9000, max_viol=0.0668039\n",
            "INFO 2018-09-30 02:23:25: iter 9100, max_viol=0.0658759\n",
            "INFO 2018-09-30 02:23:25: iter 9200, max_viol=0.0643808\n",
            "INFO 2018-09-30 02:23:25: iter 9300, max_viol=0.0654332\n",
            "INFO 2018-09-30 02:23:25: iter 9400, max_viol=0.0579172\n",
            "INFO 2018-09-30 02:23:25: iter 9500, max_viol=0.0590318\n",
            "INFO 2018-09-30 02:23:25: iter 9600, max_viol=0.0566634\n",
            "INFO 2018-09-30 02:23:25: iter 9700, max_viol=0.0532392\n",
            "INFO 2018-09-30 02:23:26: iter 9800, max_viol=0.0497365\n",
            "INFO 2018-09-30 02:23:26: iter 9900, max_viol=0.0480748\n",
            "INFO 2018-09-30 02:23:26: iter 10000, max_viol=0.0459844\n",
            "INFO 2018-09-30 02:23:26: iter 10100, max_viol=0.0440719\n",
            "INFO 2018-09-30 02:23:26: iter 10200, max_viol=0.041849\n",
            "INFO 2018-09-30 02:23:26: iter 10300, max_viol=0.0424297\n",
            "INFO 2018-09-30 02:23:26: iter 10400, max_viol=0.0377924\n",
            "INFO 2018-09-30 02:23:26: iter 10500, max_viol=0.0401603\n",
            "INFO 2018-09-30 02:23:26: iter 10600, max_viol=0.0376589\n",
            "INFO 2018-09-30 02:23:26: iter 10700, max_viol=0.0351783\n",
            "INFO 2018-09-30 02:23:26: iter 10800, max_viol=0.0344876\n",
            "INFO 2018-09-30 02:23:26: iter 10900, max_viol=0.0324664\n",
            "INFO 2018-09-30 02:23:26: iter 11000, max_viol=0.0319834\n",
            "INFO 2018-09-30 02:23:26: iter 11100, max_viol=0.0310049\n",
            "INFO 2018-09-30 02:23:26: iter 11200, max_viol=0.0291063\n",
            "INFO 2018-09-30 02:23:26: iter 11300, max_viol=0.0284489\n",
            "INFO 2018-09-30 02:23:26: iter 11400, max_viol=0.0266032\n",
            "INFO 2018-09-30 02:23:27: iter 11500, max_viol=0.0260741\n",
            "INFO 2018-09-30 02:23:27: iter 11600, max_viol=0.0256795\n",
            "INFO 2018-09-30 02:23:27: iter 11700, max_viol=0.0250466\n",
            "INFO 2018-09-30 02:23:27: iter 11800, max_viol=0.0233962\n",
            "INFO 2018-09-30 02:23:27: iter 11900, max_viol=0.0225469\n",
            "INFO 2018-09-30 02:23:27: iter 12000, max_viol=0.0219053\n",
            "INFO 2018-09-30 02:23:27: iter 12100, max_viol=0.0210016\n",
            "INFO 2018-09-30 02:23:27: iter 12200, max_viol=0.019745\n",
            "INFO 2018-09-30 02:23:27: iter 12300, max_viol=0.0200884\n",
            "INFO 2018-09-30 02:23:27: iter 12400, max_viol=0.0195649\n",
            "INFO 2018-09-30 02:23:27: iter 12500, max_viol=0.0189436\n",
            "INFO 2018-09-30 02:23:27: iter 12600, max_viol=0.0170472\n",
            "INFO 2018-09-30 02:23:27: iter 12700, max_viol=0.0174616\n",
            "INFO 2018-09-30 02:23:27: iter 12800, max_viol=0.0176137\n",
            "INFO 2018-09-30 02:23:27: iter 12900, max_viol=0.0163398\n",
            "INFO 2018-09-30 02:23:27: iter 13000, max_viol=0.0151424\n",
            "INFO 2018-09-30 02:23:27: iter 13100, max_viol=0.0148036\n",
            "INFO 2018-09-30 02:23:27: iter 13200, max_viol=0.0141348\n",
            "INFO 2018-09-30 02:23:27: iter 13300, max_viol=0.0140925\n",
            "INFO 2018-09-30 02:23:27: iter 13400, max_viol=0.0129214\n",
            "INFO 2018-09-30 02:23:28: iter 13500, max_viol=0.0131461\n",
            "INFO 2018-09-30 02:23:28: iter 13600, max_viol=0.0122796\n",
            "INFO 2018-09-30 02:23:28: iter 13700, max_viol=0.0124275\n",
            "INFO 2018-09-30 02:23:28: iter 13800, max_viol=0.0114263\n",
            "INFO 2018-09-30 02:23:28: iter 13900, max_viol=0.0114601\n",
            "INFO 2018-09-30 02:23:28: iter 14000, max_viol=0.0108309\n",
            "INFO 2018-09-30 02:23:28: iter 14100, max_viol=0.0100744\n",
            "INFO 2018-09-30 02:23:28: iter 14200, max_viol=0.00973403\n",
            "INFO 2018-09-30 02:23:28: iter 14300, max_viol=0.0099266\n",
            "INFO 2018-09-30 02:23:28: iter 14400, max_viol=0.00922138\n",
            "INFO 2018-09-30 02:23:28: iter 14500, max_viol=0.00875087\n",
            "INFO 2018-09-30 02:23:28: iter 14600, max_viol=0.00886564\n",
            "INFO 2018-09-30 02:23:28: iter 14700, max_viol=0.00883422\n",
            "INFO 2018-09-30 02:23:28: iter 14800, max_viol=0.0082019\n",
            "INFO 2018-09-30 02:23:28: iter 14900, max_viol=0.00774437\n",
            "INFO 2018-09-30 02:23:28: iter 15000, max_viol=0.00743625\n",
            "INFO 2018-09-30 02:23:28: iter 15100, max_viol=0.00772745\n",
            "INFO 2018-09-30 02:23:28: iter 15200, max_viol=0.00738029\n",
            "INFO 2018-09-30 02:23:28: iter 15300, max_viol=0.0067526\n",
            "INFO 2018-09-30 02:23:28: iter 15400, max_viol=0.00672353\n",
            "INFO 2018-09-30 02:23:28: iter 15500, max_viol=0.00613199\n",
            "INFO 2018-09-30 02:23:28: iter 15600, max_viol=0.00645426\n",
            "INFO 2018-09-30 02:23:28: iter 15700, max_viol=0.00574644\n",
            "INFO 2018-09-30 02:23:28: iter 15800, max_viol=0.00584672\n",
            "INFO 2018-09-30 02:23:28: iter 15900, max_viol=0.00569799\n",
            "INFO 2018-09-30 02:23:28: iter 16000, max_viol=0.00545298\n",
            "INFO 2018-09-30 02:23:28: iter 16100, max_viol=0.0053745\n",
            "INFO 2018-09-30 02:23:28: iter 16200, max_viol=0.00487317\n",
            "INFO 2018-09-30 02:23:29: iter 16300, max_viol=0.00489638\n",
            "INFO 2018-09-30 02:23:29: iter 16400, max_viol=0.00476784\n",
            "INFO 2018-09-30 02:23:29: iter 16500, max_viol=0.00463019\n",
            "INFO 2018-09-30 02:23:29: iter 16600, max_viol=0.00433306\n",
            "INFO 2018-09-30 02:23:29: iter 16700, max_viol=0.00420648\n",
            "INFO 2018-09-30 02:23:29: iter 16800, max_viol=0.00407014\n",
            "INFO 2018-09-30 02:23:29: iter 16900, max_viol=0.00405404\n",
            "INFO 2018-09-30 02:23:29: iter 17000, max_viol=0.00384291\n",
            "INFO 2018-09-30 02:23:29: iter 17100, max_viol=0.0037068\n",
            "INFO 2018-09-30 02:23:29: iter 17200, max_viol=0.00359435\n",
            "INFO 2018-09-30 02:23:29: iter 17300, max_viol=0.00326104\n",
            "INFO 2018-09-30 02:23:29: iter 17400, max_viol=0.00349543\n",
            "INFO 2018-09-30 02:23:29: iter 17500, max_viol=0.00324078\n",
            "INFO 2018-09-30 02:23:29: iter 17600, max_viol=0.00308081\n",
            "INFO 2018-09-30 02:23:29: iter 17700, max_viol=0.00303032\n",
            "INFO 2018-09-30 02:23:29: iter 17800, max_viol=0.00299398\n",
            "INFO 2018-09-30 02:23:29: iter 17900, max_viol=0.00284043\n",
            "INFO 2018-09-30 02:23:29: iter 18000, max_viol=0.00283163\n",
            "INFO 2018-09-30 02:23:29: iter 18100, max_viol=0.00261394\n",
            "INFO 2018-09-30 02:23:29: iter 18200, max_viol=0.00243368\n",
            "INFO 2018-09-30 02:23:29: iter 18300, max_viol=0.00252361\n",
            "INFO 2018-09-30 02:23:29: iter 18400, max_viol=0.00242669\n",
            "INFO 2018-09-30 02:23:29: iter 18500, max_viol=0.00218655\n",
            "INFO 2018-09-30 02:23:29: iter 18600, max_viol=0.00215772\n",
            "INFO 2018-09-30 02:23:29: iter 18700, max_viol=0.00204586\n",
            "INFO 2018-09-30 02:23:29: iter 18800, max_viol=0.00207655\n",
            "INFO 2018-09-30 02:23:29: iter 18900, max_viol=0.00205596\n",
            "INFO 2018-09-30 02:23:29: iter 19000, max_viol=0.00191029\n",
            "INFO 2018-09-30 02:23:29: iter 19100, max_viol=0.00198967\n",
            "INFO 2018-09-30 02:23:29: iter 19200, max_viol=0.00181851\n",
            "INFO 2018-09-30 02:23:29: iter 19300, max_viol=0.00177267\n",
            "INFO 2018-09-30 02:23:29: iter 19400, max_viol=0.00188854\n",
            "INFO 2018-09-30 02:23:29: iter 19500, max_viol=0.00161191\n",
            "INFO 2018-09-30 02:23:29: iter 19600, max_viol=0.00164025\n",
            "INFO 2018-09-30 02:23:29: iter 19700, max_viol=0.00150606\n",
            "INFO 2018-09-30 02:23:29: iter 19800, max_viol=0.0014938\n",
            "INFO 2018-09-30 02:23:29: iter 19900, max_viol=0.00142084\n",
            "INFO 2018-09-30 02:23:29: iter 20000, max_viol=0.00145731\n",
            "INFO 2018-09-30 02:23:29: iter 20100, max_viol=0.00132864\n",
            "INFO 2018-09-30 02:23:29: iter 20200, max_viol=0.00129054\n",
            "INFO 2018-09-30 02:23:29: iter 20300, max_viol=0.00125712\n",
            "INFO 2018-09-30 02:23:29: iter 20400, max_viol=0.00122518\n",
            "INFO 2018-09-30 02:23:29: iter 20500, max_viol=0.00119954\n",
            "INFO 2018-09-30 02:23:29: iter 20600, max_viol=0.0011272\n",
            "INFO 2018-09-30 02:23:29: iter 20700, max_viol=0.00109698\n",
            "INFO 2018-09-30 02:23:30: iter 20800, max_viol=0.00111139\n",
            "INFO 2018-09-30 02:23:30: *\n",
            "INFO 2018-09-30 02:23:30: optimization finished, #iter = 20896\n",
            "INFO 2018-09-30 02:23:30: obj = -7528.821728, rho = 2.467290\n",
            "INFO 2018-09-30 02:23:30: nSV = 4088, nBSV = 24\n",
            "INFO 2018-09-30 02:23:30: Total nSV = 4088\n",
            "INFO 2018-09-30 02:23:30: save SVM model to params_t6_l6_k4_d2_g2_c10_w3.model.txt\n",
            "INFO 2018-09-30 02:23:30: Number of threads is set to 1\n",
            "INFO 2018-09-30 02:23:30: load model params_t6_l6_k4_d2_g2_c10_w3.model.txt\n",
            "INFO 2018-09-30 02:23:30: reading... 1000/4088\n",
            "INFO 2018-09-30 02:23:30: reading... 2000/4088\n",
            "INFO 2018-09-30 02:23:31: reading... 3000/4088\n",
            "INFO 2018-09-30 02:23:31: reading... 4000/4088\n",
            "INFO 2018-09-30 02:23:31: write prediction result to preds_positives.txt\n",
            "INFO 2018-09-30 02:23:32: 100 scored\n",
            "INFO 2018-09-30 02:23:34: 200 scored\n",
            "INFO 2018-09-30 02:23:35: 300 scored\n",
            "INFO 2018-09-30 02:23:36: 400 scored\n",
            "Time taken per seq: 0.016960025429725648\n",
            "INFO 2018-09-30 02:23:37: Number of threads is set to 1\n",
            "INFO 2018-09-30 02:23:37: load model params_t6_l6_k4_d2_g2_c10_w3.model.txt\n",
            "INFO 2018-09-30 02:23:37: reading... 1000/4088\n",
            "INFO 2018-09-30 02:23:37: reading... 2000/4088\n",
            "INFO 2018-09-30 02:23:38: reading... 3000/4088\n",
            "INFO 2018-09-30 02:23:38: reading... 4000/4088\n",
            "INFO 2018-09-30 02:23:38: write prediction result to preds_negatives.txt\n",
            "INFO 2018-09-30 02:23:39: 100 scored\n",
            "INFO 2018-09-30 02:23:41: 200 scored\n",
            "INFO 2018-09-30 02:23:42: 300 scored\n",
            "INFO 2018-09-30 02:23:43: 400 scored\n",
            "INFO 2018-09-30 02:23:45: 500 scored\n",
            "INFO 2018-09-30 02:23:46: 600 scored\n",
            "INFO 2018-09-30 02:23:47: 700 scored\n",
            "INFO 2018-09-30 02:23:49: 800 scored\n",
            "INFO 2018-09-30 02:23:50: 900 scored\n",
            "INFO 2018-09-30 02:23:51: 1000 scored\n",
            "INFO 2018-09-30 02:23:53: 1100 scored\n",
            "INFO 2018-09-30 02:23:54: 1200 scored\n",
            "Time taken per seq: 0.014766528010368348\n",
            "0.8938708333333333\n"
          ],
          "name": "stdout"
        }
      ]
    },
    {
      "metadata": {
        "id": "6I-TppiMK_ul",
        "colab_type": "code",
        "colab": {
          "base_uri": "https://localhost:8080/",
          "height": 33
        },
        "outputId": "a5fb4ab0-f45e-40e8-ef12-f5ac73d1f651"
      },
      "cell_type": "code",
      "source": [
        "!head -20 params_t0_l6_k4_d0_g2_c10_w3.model.txt"
      ],
      "execution_count": 7,
      "outputs": [
        {
          "output_type": "stream",
          "text": [
            "head: cannot open 'params_t0_l6_k4_d0_g2_c10_w3.model.txt' for reading: No such file or directory\n"
          ],
          "name": "stdout"
        }
      ]
    },
    {
      "metadata": {
        "id": "JmY65fNlgkdf",
        "colab_type": "code",
        "colab": {}
      },
      "cell_type": "code",
      "source": [
        "import numpy as np\n",
        "from collections import Counter\n",
        "import itertools\n",
        "from functools import reduce\n",
        "import numpy as np\n",
        "\n",
        "\n",
        "class GkmSvm(object):\n",
        "  \n",
        "  letter_to_num = {'A':0, 'C': 1, 'G': 2, 'T': 3}\n",
        "  \n",
        "  def __init__(self, kernel_type, l, k, d, gamma, rho,\n",
        "               string_svs, signed_alphas):\n",
        "    self.kernel_type = kernel_type\n",
        "    assert k <= l\n",
        "    assert d >= 0\n",
        "    self.l = l\n",
        "    self.k = k\n",
        "    self.total_gkmers = (1 << (k << 1))\n",
        "    self.d = d\n",
        "    if (self.d!=(self.l-self.k)):\n",
        "      self.k = self.l - self.d\n",
        "      print(\"In the case of the gapped kmer counts kernels, it appears that \"\n",
        "            \" d is redundant with l-k\"\n",
        "            \" so I am setting k = l-d\"\n",
        "            \" (e.g. when d=0, I found that the results are as though\"\n",
        "            \"  l=k)\")\n",
        "    self.gamma = gamma\n",
        "    self.rho = rho\n",
        "    self.string_svs = string_svs\n",
        "    self.signed_alphas = np.array(signed_alphas)\n",
        "    self.build()\n",
        "    \n",
        "  def build(self):\n",
        "    self.build_nongap_pos_sets()\n",
        "    self.normalized_gkmer_count_svs = [self.get_normalized_gkmer_counts(x)\n",
        "                                       for x in self.string_svs]\n",
        "    self.gkmer_feature_space_size = len(self.nongap_pos_sets)*(4**self.k)\n",
        "    \n",
        "  def build_nongap_pos_sets(self):\n",
        "    #get the placement of the non-gap positions\n",
        "    redundant_nongap_pos_sets = list(itertools.combinations(range(self.l),\n",
        "                                                            self.k))\n",
        "    non_redundant_nongap_pos_sets = []\n",
        "    string_reps_non_redundant_nongap_pos_sets = []\n",
        "    for nongap_pos_set in redundant_nongap_pos_sets:\n",
        "      string_rep_arr = [\" \" for i in range(self.l)]\n",
        "      for a_pos in nongap_pos_set:\n",
        "        string_rep_arr[a_pos] = \"X\"\n",
        "      string_rep = \"\".join(string_rep_arr)\n",
        "      if (string_rep in string_reps_non_redundant_nongap_pos_sets):\n",
        "        assert False\n",
        "        #print(\"Skipping\",string_rep)\n",
        "      #elif (string_rep[0]==\" \" or string_rep[-1]==\" \"):\n",
        "      #  pass #gaps at the ends are evidently not used\n",
        "      else:\n",
        "        string_reps_non_redundant_nongap_pos_sets.append(string_rep)\n",
        "        non_redundant_nongap_pos_sets.append(nongap_pos_set)\n",
        "    self.nongap_pos_sets = non_redundant_nongap_pos_sets \n",
        "    nongap_pos_set_stringrep_to_idx = dict([(x,i) for (i,x)\n",
        "      in enumerate(string_reps_non_redundant_nongap_pos_sets)])\n",
        "    nongap_pos_set_rc_mapping = {}\n",
        "    for string_rep in string_reps_non_redundant_nongap_pos_sets:\n",
        "      orig_idx = nongap_pos_set_stringrep_to_idx[string_rep]\n",
        "      rc_idx = nongap_pos_set_stringrep_to_idx[string_rep[::-1]]\n",
        "      nongap_pos_set_rc_mapping[orig_idx] = rc_idx\n",
        "    self.nongap_pos_set_rc_mapping = nongap_pos_set_rc_mapping\n",
        "    self.idx_to_nongap_pos_set = dict(enumerate(self.nongap_pos_sets))\n",
        "    \n",
        "  def get_gkmer_vector(self, a_string):\n",
        "    number_string = self.encode_as_numbers(a_string)\n",
        "    k = self.k\n",
        "    nongap_pos_sets = self.nongap_pos_sets\n",
        "    to_count_up = []    \n",
        "    for i in range(len(number_string)+1-self.l):\n",
        "      for (nongap_pos_set_num,nongap_pos_set)\\\n",
        "        in enumerate(nongap_pos_sets):\n",
        "        fwd_gkmer = 0\n",
        "        rev_gkmer = 0\n",
        "        for nongap_pos_enumidx, nongap_pos in enumerate(nongap_pos_set):\n",
        "          #multiply the digit by the appropriate place value given by\n",
        "          #nongap_pos_enumidx, add together\n",
        "          fwd_gkmer |= number_string[i+nongap_pos] << (nongap_pos_enumidx << 1)\n",
        "          rev_gkmer |= (3-number_string[i+nongap_pos]) << (\n",
        "                        (self.k-1-nongap_pos_enumidx) << 1)\n",
        "        #(1 << (k << 1)) is the same as 4**k\n",
        "        fwd_gkmer += nongap_pos_set_num*(1 << (k << 1))\n",
        "        rev_gkmer += self.nongap_pos_set_rc_mapping[nongap_pos_set_num]*(\n",
        "                                                                  1 << (k << 1))\n",
        "        to_count_up.append(fwd_gkmer)\n",
        "        to_count_up.append(rev_gkmer)\n",
        "    return to_count_up\n",
        "  \n",
        "  def compute_normalized_counts_from_gkmer_vector(self, gkmer_vector):\n",
        "    counter_obj = Counter(gkmer_vector)\n",
        "    norm = np.linalg.norm(list(counter_obj.values()))\n",
        "    normalized_counts = dict([(x,y/norm) for x,y in counter_obj.items()])\n",
        "    return normalized_counts\n",
        "  \n",
        "  def get_normalized_gkmer_counts(self, a_string):\n",
        "    to_count_up = self.get_gkmer_vector(a_string=a_string)\n",
        "    return self.compute_normalized_counts_from_gkmer_vector(\n",
        "            gkmer_vector=to_count_up)\n",
        "  \n",
        "  def compute_dot_product(self, norm_gkmer_counts1, norm_gkmer_counts2):\n",
        "    product = 0\n",
        "    for a_key in norm_gkmer_counts1:\n",
        "      if a_key in norm_gkmer_counts2:\n",
        "        product += norm_gkmer_counts1[a_key]*norm_gkmer_counts2[a_key]\n",
        "    assert np.abs(product) <= 1.0000001, (product, norm_gkmer_counts1,\n",
        "                                                   norm_gkmer_counts2)\n",
        "    return product\n",
        "    \n",
        "  def encode_as_numbers(self, a_string):\n",
        "    return [self.letter_to_num[x] for x in a_string]\n",
        "  \n",
        "  def compute_importance_scores(self, the_seq, interpolation_steps_arr):\n",
        "  \n",
        "    gkmer_vector = self.get_gkmer_vector(the_seq)\n",
        "    start = time.time()\n",
        "    gradients = self.get_gradients(\n",
        "        obs_norm_gkmer_counts=\n",
        "          self.compute_normalized_counts_from_gkmer_vector(gkmer_vector),\n",
        "        interpolation_steps_arr=interpolation_steps_arr)\n",
        "    end1 = time.time()\n",
        "    scores = np.zeros((len(the_seq), 4))\n",
        "    for idx,gkmers in enumerate(np.reshape(gkmer_vector,\n",
        "                                                (-1,len(self.nongap_pos_sets),2))):\n",
        "      for fwd_gkmer,rev_gkmer in gkmers:\n",
        "        fwd_grad = gradients[fwd_gkmer]/self.k\n",
        "        rev_grad = gradients[rev_gkmer]/self.k\n",
        "        fwd_nonzero_positions = self.idx_to_nongap_pos_set[\n",
        "                                 fwd_gkmer//self.total_gkmers]\n",
        "        rev_nonzero_positions = self.idx_to_nongap_pos_set[\n",
        "                                 rev_gkmer//self.total_gkmers]\n",
        "        for fwd_pos in fwd_nonzero_positions:\n",
        "          scores[\n",
        "              idx+fwd_pos,\n",
        "              self.letter_to_num[the_seq[idx+fwd_pos]]] += fwd_grad\n",
        "        for rev_pos in rev_nonzero_positions:\n",
        "          scores[\n",
        "              idx+(self.l-1-rev_pos),\n",
        "              self.letter_to_num[the_seq[idx+(self.l-1-rev_pos)]]] += rev_grad\n",
        "    return scores\n",
        "  \n",
        "\n",
        "class GaussianGkmSvm(GkmSvm):\n",
        "  \n",
        "  def __init__(self, *args, **kwargs):\n",
        "    super(GaussianGkmSvm, self).__init__(*args, **kwargs)\n",
        "    self.set_ref_norm_gkmer_counts(ref_norm_gkmer_counts={})\n",
        "  \n",
        "  def compute_prediction(self, a_string):\n",
        "    normalized_gkmer_counts = self.get_normalized_gkmer_counts(a_string)\n",
        "    svs_dot_products = []\n",
        "    for normalized_gkmer_count_sv in self.normalized_gkmer_count_svs:\n",
        "      svs_dot_products.append(self.compute_dot_product(\n",
        "        norm_gkmer_counts1=normalized_gkmer_count_sv,\n",
        "        norm_gkmer_counts2=normalized_gkmer_counts))\n",
        "    svs_dot_products = np.array(svs_dot_products)\n",
        "    return (np.sum(self.signed_alphas*np.exp(self.gamma*(svs_dot_products-1)))\n",
        "            - self.rho)\n",
        "  \n",
        "  def set_ref_norm_gkmer_counts(self, ref_norm_gkmer_counts):\n",
        "    self.ref_norm_gkmer_counts = ref_norm_gkmer_counts\n",
        "    self.svs_dot_product_ref_norm_gkmer_counts = np.array([\n",
        "        self.compute_dot_product(norm_gkmer_counts1=self.ref_norm_gkmer_counts,\n",
        "                                 norm_gkmer_counts2=x)\n",
        "        for x in self.normalized_gkmer_count_svs])\n",
        "  \n",
        "  def get_gradients(self, obs_norm_gkmer_counts, interpolation_steps_arr):\n",
        "    \n",
        "    cp0 = time.time()\n",
        "    \n",
        "    assert (np.max(interpolation_steps_arr) <= 1\n",
        "            and np.min(interpolation_steps_arr) >= 0), interpolation_steps_arr\n",
        "    obs_minus_ref_norm_gkmer_counts = dict([\n",
        "        (x,y-(self.ref_norm_gkmer_counts[x] if x in\n",
        "              self.ref_norm_gkmer_counts else 0.0))\n",
        "        for x,y in obs_norm_gkmer_counts.items()])\n",
        "    svs_dot_product_obs_minus_ref_norm_gkmer_counts = np.array([\n",
        "        self.compute_dot_product(\n",
        "            norm_gkmer_counts1=obs_minus_ref_norm_gkmer_counts,\n",
        "            norm_gkmer_counts2=x)\n",
        "        for x in self.normalized_gkmer_count_svs])\n",
        "    \n",
        "    cp1 = time.time()\n",
        "    \n",
        "    svs_by_interp_steps_common_terms_per_gkmer =(\n",
        "      self.gamma*self.signed_alphas[:,None]*\n",
        "        np.exp(self.gamma*(self.svs_dot_product_ref_norm_gkmer_counts[:,None]\n",
        "          + (interpolation_steps_arr[None,:]*\n",
        "             svs_dot_product_obs_minus_ref_norm_gkmer_counts[:,None])) - 1))\n",
        "    \n",
        "    raveled = svs_by_interp_steps_common_terms_per_gkmer.ravel()\n",
        "    \n",
        "    cp2 = time.time()\n",
        "    \n",
        "    s0p5time = 0\n",
        "    s1time = 0\n",
        "    s2time = 0\n",
        "    s2_alt_time = 0\n",
        "    \n",
        "    p1time = 0\n",
        "    p2time = 0\n",
        "    \n",
        "    gradients_on_obs_gkmers = {}\n",
        "    for gkmer in obs_norm_gkmer_counts:\n",
        "      \n",
        "      start = time.time()\n",
        "      this_gkmer_obs_norm_count = obs_norm_gkmer_counts[gkmer]\n",
        "      this_gkmer_ref_norm_count = (self.ref_norm_gkmer_counts[gkmer] if\n",
        "                                   gkmer in self.ref_norm_gkmer_counts else 0)\n",
        "      this_gkmer_obs_minus_ref_count = (this_gkmer_obs_norm_count -\n",
        "                                        this_gkmer_ref_norm_count)\n",
        "      interpolated_gkmer_counts = (this_gkmer_ref_norm_count +\n",
        "                                   interpolation_steps_arr[None,:]*\n",
        "                                    this_gkmer_obs_minus_ref_count)\n",
        "      end = time.time()\n",
        "      s1time += end-start\n",
        "      \n",
        "      start = time.time()\n",
        "      this_gkmer_svs_norm_count = np.array([(x[gkmer] if gkmer in x else 0)\n",
        "                                            for x in\n",
        "                                            self.normalized_gkmer_count_svs])\n",
        "      s0p5time += time.time()-start\n",
        "      \n",
        "      start = time.time()\n",
        "      this_gkmer_mean_grad = np.mean(np.sum((this_gkmer_svs_norm_count[:,None] -\n",
        "                              interpolated_gkmer_counts)*(\n",
        "                              svs_by_interp_steps_common_terms_per_gkmer),\n",
        "                              axis=0))\n",
        "      \n",
        "      end = time.time()\n",
        "      s2time += end-start\n",
        "      \n",
        "      start = time.time()\n",
        "      this_gkmer_mean_grad_alt = np.dot((this_gkmer_svs_norm_count[:,None] -\n",
        "       (this_gkmer_ref_norm_count +\n",
        "        interpolation_steps_arr[None,:]*\n",
        "         this_gkmer_obs_minus_ref_count)).ravel(),\n",
        "            raveled)/len(interpolated_gkmer_counts) \n",
        "      s2_alt_time += time.time() - start\n",
        "      \n",
        "      \n",
        "      gradients_on_obs_gkmers[gkmer] = this_gkmer_mean_grad\n",
        "    \n",
        "    cp3 = time.time()\n",
        "    print(cp3-cp2, len(obs_norm_gkmer_counts))\n",
        "    print((cp3-cp2)/len(obs_norm_gkmer_counts))\n",
        "    print(\"s0p5time\", s0p5time)\n",
        "    print(\"s1time\", s1time)\n",
        "    print(\"s2time\",s2time)\n",
        "    print(\"s2 alt time\", s2_alt_time)\n",
        "    print(cp2-cp1)\n",
        "    print(cp1-cp0)\n",
        "    \n",
        "    return gradients_on_obs_gkmers    \n",
        "  \n",
        "  @classmethod\n",
        "  def from_txt_file(cls, txt_file):\n",
        "    lines = [x for x in open(txt_file)]\n",
        "    \n",
        "    field_name, kernel_type = lines[1].split()\n",
        "    assert field_name==\"kernel_type\"\n",
        "    assert kernel_type==\"gkm_cnt_rbf\"\n",
        "    field_name, l = lines[2].split()\n",
        "    assert field_name==\"L\"; l = int(l)\n",
        "    field_name, k = lines[3].split()\n",
        "    assert field_name==\"k\"; k = int(k)\n",
        "    field_name, d = lines[4].split()\n",
        "    assert field_name==\"d\"; d = int(d)\n",
        "    field_name, gamma = lines[5].split()\n",
        "    assert field_name==\"gamma\"; gamma = float(gamma)\n",
        "    field_name, rho = lines[8].split()\n",
        "    assert field_name==\"rho\"; rho = float(rho)\n",
        "    \n",
        "    string_svs = []\n",
        "    signed_alphas = []\n",
        "    assert lines[11].rstrip() == \"SV\"\n",
        "    for a_line in lines[12:]:\n",
        "      the_alpha, the_string = a_line.split()\n",
        "      the_alpha = float(the_alpha)\n",
        "      string_svs.append(the_string)\n",
        "      signed_alphas.append(the_alpha)\n",
        "\n",
        "    return cls(kernel_type=kernel_type,\n",
        "        l=l, k=k, d=d, gamma=gamma, rho=rho, string_svs=string_svs,\n",
        "        signed_alphas=np.array(signed_alphas))\n",
        "\n",
        "  \n",
        "class LinearGkmSvm(GkmSvm):\n",
        "\n",
        "  def compute_prediction(self, a_string):\n",
        "    normalized_gkmer_counts = self.get_normalized_gkmer_counts(a_string)\n",
        "    svs_dot_products = []\n",
        "    for normalized_gkmer_count_sv in self.normalized_gkmer_count_svs:\n",
        "      svs_dot_products.append(self.compute_dot_product(\n",
        "        norm_gkmer_counts1=normalized_gkmer_count_sv,\n",
        "        norm_gkmer_counts2=normalized_gkmer_counts))\n",
        "    svs_dot_products = np.array(svs_dot_products)\n",
        "    return (np.sum(self.signed_alphas*svs_dot_products) - self.rho)\n",
        "\n",
        "  @classmethod\n",
        "  def from_txt_file(cls, txt_file):\n",
        "    lines = [x for x in open(txt_file)]\n",
        "    \n",
        "    field_name, kernel_type = lines[1].split()\n",
        "    assert field_name==\"kernel_type\"\n",
        "    assert kernel_type==\"gkm_cnt\"\n",
        "    field_name, l = lines[2].split()\n",
        "    assert field_name==\"L\"; l = int(l)\n",
        "    field_name, k = lines[3].split()\n",
        "    assert field_name==\"k\"; k = int(k)\n",
        "    field_name, d = lines[4].split()\n",
        "    assert field_name==\"d\"; d = int(d)\n",
        "    field_name, rho = lines[7].split()\n",
        "    assert field_name==\"rho\"; rho = float(rho)\n",
        "    \n",
        "    string_svs = []\n",
        "    signed_alphas = []\n",
        "    assert lines[10].rstrip() == \"SV\"\n",
        "    for a_line in lines[11:]:\n",
        "      the_alpha, the_string = a_line.split()\n",
        "      the_alpha = float(the_alpha)\n",
        "      string_svs.append(the_string)\n",
        "      signed_alphas.append(the_alpha)\n",
        "\n",
        "    return cls(kernel_type=kernel_type,\n",
        "        l=l, k=k, d=d, gamma=None, rho=rho, string_svs=string_svs,\n",
        "        signed_alphas=np.array(signed_alphas))\n"
      ],
      "execution_count": 0,
      "outputs": []
    },
    {
      "metadata": {
        "id": "P6yopeFy664S",
        "colab_type": "code",
        "colab": {
          "base_uri": "https://localhost:8080/",
          "height": 147
        },
        "outputId": "5ca551b5-550b-44cd-da18-ae1ced461d49"
      },
      "cell_type": "code",
      "source": [
        "import types\n",
        "gkm_svm_model.get_gradients = types.MethodType(GaussianGkmSvm.get_gradients, gkm_svm_model)\n",
        "\n",
        "the_seq = test_pos_seqs[idx]\n",
        "interpolation_steps_arr = 0.1*(np.arange(10)+0.5)\n",
        "scores = gkm_svm_model.compute_importance_scores(\n",
        "          the_seq=the_seq,\n",
        "          interpolation_steps_arr=interpolation_steps_arr)"
      ],
      "execution_count": 46,
      "outputs": [
        {
          "output_type": "stream",
          "text": [
            "14.056060791015625 2854\n",
            "0.004925038819556982\n",
            "s0p5time 12.362279415130615\n",
            "s1time 0.0511624813079834\n",
            "s2time 1.0429348945617676\n",
            "s2 alt time 0.5855920314788818\n",
            "0.0014777183532714844\n",
            "3.3522164821624756\n"
          ],
          "name": "stdout"
        }
      ]
    },
    {
      "metadata": {
        "id": "YyZ722eh8K3R",
        "colab_type": "code",
        "colab": {
          "base_uri": "https://localhost:8080/",
          "height": 33
        },
        "outputId": "57f29096-7521-429b-f489-11721f8cfd61"
      },
      "cell_type": "code",
      "source": [
        "idx"
      ],
      "execution_count": 44,
      "outputs": [
        {
          "output_type": "execute_result",
          "data": {
            "text/plain": [
              "2"
            ]
          },
          "metadata": {
            "tags": []
          },
          "execution_count": 44
        }
      ]
    },
    {
      "metadata": {
        "id": "SOPiA4jL75Dy",
        "colab_type": "code",
        "colab": {
          "base_uri": "https://localhost:8080/",
          "height": 177
        },
        "outputId": "d6070de6-3314-4d37-a4a3-3962ae3bad2a"
      },
      "cell_type": "code",
      "source": [
        "from deeplift.visualization import viz_sequence\n",
        "viz_sequence.plot_weights(scores)"
      ],
      "execution_count": 47,
      "outputs": [
        {
          "output_type": "display_data",
          "data": {
            "image/png": "[encoded data removed]",
            "text/plain": [
              "<matplotlib.figure.Figure at 0x7f907d770a90>"
            ]
          },
          "metadata": {
            "tags": []
          }
        }
      ]
    },
    {
      "metadata": {
        "id": "OffzVCMZPZcW",
        "colab_type": "code",
        "colab": {
          "base_uri": "https://localhost:8080/",
          "height": 586
        },
        "outputId": "1c8df39d-9af4-4908-a991-4e7ba8c40590"
      },
      "cell_type": "code",
      "source": [
        "model_file = \"params_t6_l6_k4_d2_g2_c10_w3.model.txt\"\n",
        "\n",
        "!lsgkm/src/gkmpredict test_positives.fa $model_file preds_positives.txt\n",
        "end = time.time()\n",
        "print(\"Time taken per seq:\",(end-start)/400)\n",
        "start = time.time()\n",
        "!lsgkm/src/gkmpredict test_negatives.fa $model_file preds_negatives.txt\n",
        "end = time.time()\n",
        "print(\"Time taken per seq:\",(end-start)/1200)\n",
        "\n",
        "import numpy as np\n",
        "from sklearn.metrics import roc_auc_score\n",
        "test_pos_seqs = [x.rstrip() for i,x in enumerate(open(\"test_positives.fa\"))\n",
        "                  if i%2==1]\n",
        "test_neg_seqs = [x.rstrip() for i,x in enumerate(open(\"test_negatives.fa\"))\n",
        "                  if i%2==1]\n",
        "pos_preds = [float(x.rstrip().split(\"\\t\")[1]) for x in open(\"preds_positives.txt\")]\n",
        "neg_preds = [float(x.rstrip().split(\"\\t\")[1]) for x in open(\"preds_negatives.txt\")]\n",
        "print(roc_auc_score(y_true=np.array([1 for i in range(len(pos_preds))]+[0 for i in range(len(neg_preds))]),\n",
        "                    y_score=np.array(pos_preds+neg_preds)))\n",
        "print(pos_preds[:10])\n",
        "print(neg_preds[:10])"
      ],
      "execution_count": 9,
      "outputs": [
        {
          "output_type": "stream",
          "text": [
            "INFO 2018-09-30 02:23:58: Number of threads is set to 1\n",
            "INFO 2018-09-30 02:23:58: load model params_t6_l6_k4_d2_g2_c10_w3.model.txt\n",
            "INFO 2018-09-30 02:23:58: reading... 1000/4088\n",
            "INFO 2018-09-30 02:23:58: reading... 2000/4088\n",
            "INFO 2018-09-30 02:23:58: reading... 3000/4088\n",
            "INFO 2018-09-30 02:23:59: reading... 4000/4088\n",
            "INFO 2018-09-30 02:23:59: write prediction result to preds_positives.txt\n",
            "INFO 2018-09-30 02:24:00: 100 scored\n",
            "INFO 2018-09-30 02:24:01: 200 scored\n",
            "INFO 2018-09-30 02:24:03: 300 scored\n",
            "INFO 2018-09-30 02:24:04: 400 scored\n",
            "Time taken per seq: 0.06985107004642487\n",
            "INFO 2018-09-30 02:24:05: Number of threads is set to 1\n",
            "INFO 2018-09-30 02:24:05: load model params_t6_l6_k4_d2_g2_c10_w3.model.txt\n",
            "INFO 2018-09-30 02:24:05: reading... 1000/4088\n",
            "INFO 2018-09-30 02:24:05: reading... 2000/4088\n",
            "INFO 2018-09-30 02:24:05: reading... 3000/4088\n",
            "INFO 2018-09-30 02:24:06: reading... 4000/4088\n",
            "INFO 2018-09-30 02:24:06: write prediction result to preds_negatives.txt\n",
            "INFO 2018-09-30 02:24:07: 100 scored\n",
            "INFO 2018-09-30 02:24:08: 200 scored\n",
            "INFO 2018-09-30 02:24:10: 300 scored\n",
            "INFO 2018-09-30 02:24:11: 400 scored\n",
            "INFO 2018-09-30 02:24:13: 500 scored\n",
            "INFO 2018-09-30 02:24:14: 600 scored\n",
            "INFO 2018-09-30 02:24:15: 700 scored\n",
            "INFO 2018-09-30 02:24:17: 800 scored\n",
            "INFO 2018-09-30 02:24:18: 900 scored\n",
            "INFO 2018-09-30 02:24:19: 1000 scored\n",
            "INFO 2018-09-30 02:24:21: 1100 scored\n",
            "INFO 2018-09-30 02:24:22: 1200 scored\n",
            "Time taken per seq: 0.014760639468828838\n",
            "0.8938708333333333\n",
            "[0.164928, -0.0621373, 0.522532, 0.396986, 0.0539556, 0.805888, -0.106316, -0.529299, 0.78635, -0.738389]\n",
            "[-1.23231, -1.04169, -0.70509, 0.160872, -0.375585, -0.698207, -0.693297, -0.509692, -1.56658, -1.2906]\n"
          ],
          "name": "stdout"
        }
      ]
    },
    {
      "metadata": {
        "id": "ozjZHpX2GEoQ",
        "colab_type": "code",
        "colab": {
          "base_uri": "https://localhost:8080/",
          "height": 66
        },
        "outputId": "d995e723-27b7-453c-e2da-653a9b70e731"
      },
      "cell_type": "code",
      "source": [
        "gkm_svm_model = GaussianGkmSvm.from_txt_file(model_file)\n",
        "\n",
        "idx = 2\n",
        "import time\n",
        "start = time.time()\n",
        "pred = gkm_svm_model.compute_prediction(test_pos_seqs[idx])\n",
        "print(time.time()-start)\n",
        "print(pred)\n",
        "print(pos_preds[idx])\n",
        "\n",
        "#scan a sequence to get all the kmers\n",
        "#map kmer --> gapped (& mismatch kmers)"
      ],
      "execution_count": 30,
      "outputs": [
        {
          "output_type": "stream",
          "text": [
            "2.5713887214660645\n",
            "0.5225323425693684\n",
            "0.522532\n"
          ],
          "name": "stdout"
        }
      ]
    },
    {
      "metadata": {
        "id": "vBSfKvvq6Nqc",
        "colab_type": "code",
        "colab": {}
      },
      "cell_type": "code",
      "source": [
        ""
      ],
      "execution_count": 0,
      "outputs": []
    },
    {
      "metadata": {
        "id": "R4FRUwc1HWKh",
        "colab_type": "code",
        "colab": {
          "base_uri": "https://localhost:8080/",
          "height": 50
        },
        "outputId": "04ef59a7-9d58-47fe-c37c-1eee68144f35"
      },
      "cell_type": "code",
      "source": [
        "!pip install deeplift"
      ],
      "execution_count": 11,
      "outputs": [
        {
          "output_type": "stream",
          "text": [
            "Requirement already satisfied: deeplift in /usr/local/lib/python3.6/dist-packages (0.6.7.1)\n",
            "Requirement already satisfied: numpy>=1.9 in /usr/local/lib/python3.6/dist-packages (from deeplift) (1.14.6)\n"
          ],
          "name": "stdout"
        }
      ]
    },
    {
      "metadata": {
        "id": "z5Q0IxhdF_oe",
        "colab_type": "code",
        "colab": {
          "base_uri": "https://localhost:8080/",
          "height": 500
        },
        "outputId": "1d8451da-ec9a-4427-f4aa-fc7164dc9c9b"
      },
      "cell_type": "code",
      "source": [
        ""
      ],
      "execution_count": 38,
      "outputs": [
        {
          "output_type": "stream",
          "text": [
            "s1time 3.4332275390625e-05\n",
            "s2time 7.867813110351562e-06\n",
            "p1time 0.0054204463958740234\n",
            "p2time 0.02344822883605957\n"
          ],
          "name": "stdout"
        },
        {
          "output_type": "error",
          "ename": "AssertionError",
          "evalue": "ignored",
          "traceback": [
            "\u001b[0;31m---------------------------------------------------------------------------\u001b[0m",
            "\u001b[0;31mAssertionError\u001b[0m                            Traceback (most recent call last)",
            "\u001b[0;32m<ipython-input-38-44fcd91cea04>\u001b[0m in \u001b[0;36m<module>\u001b[0;34m()\u001b[0m\n\u001b[1;32m      5\u001b[0m scores = gkm_svm_model.compute_importance_scores(\n\u001b[1;32m      6\u001b[0m           \u001b[0mthe_seq\u001b[0m\u001b[0;34m=\u001b[0m\u001b[0mthe_seq\u001b[0m\u001b[0;34m,\u001b[0m\u001b[0;34m\u001b[0m\u001b[0m\n\u001b[0;32m----> 7\u001b[0;31m           interpolation_steps_arr=interpolation_steps_arr)\n\u001b[0m\u001b[1;32m      8\u001b[0m \u001b[0;34m\u001b[0m\u001b[0m\n",
            "\u001b[0;32m<ipython-input-29-37cb408f41d1>\u001b[0m in \u001b[0;36mcompute_importance_scores\u001b[0;34m(self, the_seq, interpolation_steps_arr)\u001b[0m\n\u001b[1;32m    121\u001b[0m         \u001b[0mobs_norm_gkmer_counts\u001b[0m\u001b[0;34m=\u001b[0m\u001b[0;34m\u001b[0m\u001b[0m\n\u001b[1;32m    122\u001b[0m           \u001b[0mself\u001b[0m\u001b[0;34m.\u001b[0m\u001b[0mcompute_normalized_counts_from_gkmer_vector\u001b[0m\u001b[0;34m(\u001b[0m\u001b[0mgkmer_vector\u001b[0m\u001b[0;34m)\u001b[0m\u001b[0;34m,\u001b[0m\u001b[0;34m\u001b[0m\u001b[0m\n\u001b[0;32m--> 123\u001b[0;31m         interpolation_steps_arr=interpolation_steps_arr)\n\u001b[0m\u001b[1;32m    124\u001b[0m     \u001b[0mend1\u001b[0m \u001b[0;34m=\u001b[0m \u001b[0mtime\u001b[0m\u001b[0;34m.\u001b[0m\u001b[0mtime\u001b[0m\u001b[0;34m(\u001b[0m\u001b[0;34m)\u001b[0m\u001b[0;34m\u001b[0m\u001b[0m\n\u001b[1;32m    125\u001b[0m     \u001b[0mscores\u001b[0m \u001b[0;34m=\u001b[0m \u001b[0mnp\u001b[0m\u001b[0;34m.\u001b[0m\u001b[0mzeros\u001b[0m\u001b[0;34m(\u001b[0m\u001b[0;34m(\u001b[0m\u001b[0mlen\u001b[0m\u001b[0;34m(\u001b[0m\u001b[0mthe_seq\u001b[0m\u001b[0;34m)\u001b[0m\u001b[0;34m,\u001b[0m \u001b[0;36m4\u001b[0m\u001b[0;34m)\u001b[0m\u001b[0;34m)\u001b[0m\u001b[0;34m\u001b[0m\u001b[0m\n",
            "\u001b[0;32m<ipython-input-32-bb0d4bd2babe>\u001b[0m in \u001b[0;36mget_gradients\u001b[0;34m(self, obs_norm_gkmer_counts, interpolation_steps_arr)\u001b[0m\n\u001b[1;32m    243\u001b[0m       \u001b[0mprint\u001b[0m\u001b[0;34m(\u001b[0m\u001b[0;34m\"p1time\"\u001b[0m\u001b[0;34m,\u001b[0m\u001b[0mp1time\u001b[0m\u001b[0;34m)\u001b[0m\u001b[0;34m\u001b[0m\u001b[0m\n\u001b[1;32m    244\u001b[0m       \u001b[0mprint\u001b[0m\u001b[0;34m(\u001b[0m\u001b[0;34m\"p2time\"\u001b[0m\u001b[0;34m,\u001b[0m\u001b[0mp2time\u001b[0m\u001b[0;34m)\u001b[0m\u001b[0;34m\u001b[0m\u001b[0m\n\u001b[0;32m--> 245\u001b[0;31m       \u001b[0;32massert\u001b[0m \u001b[0;32mFalse\u001b[0m\u001b[0;34m\u001b[0m\u001b[0m\n\u001b[0m\u001b[1;32m    246\u001b[0m \u001b[0;34m\u001b[0m\u001b[0m\n\u001b[1;32m    247\u001b[0m \u001b[0;34m\u001b[0m\u001b[0m\n",
            "\u001b[0;31mAssertionError\u001b[0m: "
          ]
        }
      ]
    },
    {
      "metadata": {
        "id": "kvpAGjtuHhPE",
        "colab_type": "code",
        "colab": {
          "base_uri": "https://localhost:8080/",
          "height": 177
        },
        "outputId": "4dcfaecb-aabd-4e46-8903-f01948d9f5f3"
      },
      "cell_type": "code",
      "source": [
        ""
      ],
      "execution_count": 13,
      "outputs": [
        {
          "output_type": "display_data",
          "data": {
            "image/png": "[encoded data removed]",
            "text/plain": [
              "<matplotlib.figure.Figure at 0x7f90a6595d30>"
            ]
          },
          "metadata": {
            "tags": []
          }
        }
      ]
    },
    {
      "metadata": {
        "id": "vmilrBLSK0oa",
        "colab_type": "code",
        "colab": {}
      },
      "cell_type": "code",
      "source": [
        ""
      ],
      "execution_count": 0,
      "outputs": []
    },
    {
      "metadata": {
        "id": "Fdzj2H1UniC3",
        "colab_type": "code",
        "colab": {}
      },
      "cell_type": "code",
      "source": [
        ""
      ],
      "execution_count": 0,
      "outputs": []
    },
    {
      "metadata": {
        "id": "zM8QTZu0VPob",
        "colab_type": "code",
        "colab": {}
      },
      "cell_type": "code",
      "source": [
        ""
      ],
      "execution_count": 0,
      "outputs": []
    },
    {
      "metadata": {
        "id": "GFNzgHUbV5DZ",
        "colab_type": "code",
        "colab": {}
      },
      "cell_type": "code",
      "source": [
        ""
      ],
      "execution_count": 0,
      "outputs": []
    }
  ]
}