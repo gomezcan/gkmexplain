{
  "nbformat": 4,
  "nbformat_minor": 0,
  "metadata": {
    "colab": {
      "name": "lsgkm.ipynb",
      "version": "0.3.2",
      "provenance": [],
      "collapsed_sections": [],
      "include_colab_link": true
    },
    "kernelspec": {
      "name": "python3",
      "display_name": "Python 3"
    }
  },
  "cells": [
    {
      "cell_type": "markdown",
      "metadata": {
        "id": "view-in-github",
        "colab_type": "text"
      },
      "source": [
        "[View in Colaboratory](https://colab.research.google.com/github/kundajelab/ssvmimp/blob/master/lsgkm.ipynb)"
      ]
    },
    {
      "metadata": {
        "id": "oEAejJmubbim",
        "colab_type": "code",
        "colab": {
          "base_uri": "https://localhost:8080/",
          "height": 1025
        },
        "outputId": "766f9b4f-30d8-416d-87a5-04dd34ee09f2"
      },
      "cell_type": "code",
      "source": [
        "#install lsgkm\n",
        "!rm -r lsgkm\n",
        "! git clone https://github.com/kundajelab/lsgkm\n",
        "% cd lsgkm/src\n",
        "! make\n",
        "! ./gkmtrain\n",
        "%cd ../.."
      ],
      "execution_count": 60,
      "outputs": [
        {
          "output_type": "stream",
          "text": [
            "Cloning into 'lsgkm'...\n",
            "remote: Enumerating objects: 12, done.\u001b[K\n",
            "remote: Counting objects:   8% (1/12)   \u001b[K\rremote: Counting objects:  16% (2/12)   \u001b[K\rremote: Counting objects:  25% (3/12)   \u001b[K\rremote: Counting objects:  33% (4/12)   \u001b[K\rremote: Counting objects:  41% (5/12)   \u001b[K\rremote: Counting objects:  50% (6/12)   \u001b[K\rremote: Counting objects:  58% (7/12)   \u001b[K\rremote: Counting objects:  66% (8/12)   \u001b[K\rremote: Counting objects:  75% (9/12)   \u001b[K\rremote: Counting objects:  83% (10/12)   \u001b[K\rremote: Counting objects:  91% (11/12)   \u001b[K\rremote: Counting objects: 100% (12/12)   \u001b[K\rremote: Counting objects: 100% (12/12), done.\u001b[K\n",
            "remote: Compressing objects: 100% (10/10), done.\u001b[K\n",
            "remote: Total 123 (delta 3), reused 1 (delta 0), pack-reused 111\u001b[K\n",
            "Receiving objects: 100% (123/123), 249.22 KiB | 16.61 MiB/s, done.\n",
            "Resolving deltas: 100% (68/68), done.\n",
            "/content/lsgkm/src\n",
            "g++ -Wall -Wconversion -O3 -fPIC -c libsvm.cpp\n",
            "g++ -Wall -Wconversion -O3 -fPIC -c libsvm_gkm.c\n",
            "g++ -Wall -Wconversion -O3 -fPIC gkmtrain.c libsvm.o libsvm_gkm.o -o gkmtrain -lm -lpthread\n",
            "g++ -Wall -Wconversion -O3 -fPIC gkmpredict.c libsvm.o libsvm_gkm.o -o gkmpredict -lm -lpthread\n",
            "\n",
            "Usage: gkmtrain [options] <posfile> <negfile> <outprefix>\n",
            "\n",
            " train gkm-SVM using libSVM\n",
            "\n",
            "Arguments:\n",
            " posfile: positive sequence file (FASTA format)\n",
            " negfile: negative sequence file (FASTA format)\n",
            " outprefix: prefix of output file(s) <outprefix>.model.txt or\n",
            "            <outprefix>.cvpred.txt\n",
            "\n",
            "Options:\n",
            " -t <0 ~ 6>   set kernel function (default: 4 wgkm)\n",
            "              NOTE: RBF kernels (3, 5 and 6) work best with -c 10 -g 2\n",
            "                0 -- gapped-kmer\n",
            "                1 -- estimated l-mer with full filter\n",
            "                2 -- estimated l-mer with truncated filter (gkm)\n",
            "                3 -- (truncated l-mer) gkm + RBF (gkmrbf)\n",
            "                4 -- (truncated l-mer) gkm + center weighted (wgkm)\n",
            "                     [weight = max(M, floor(M*exp(-ln(2)*D/H)+1))]\n",
            "                5 -- (truncated l-mer) gkm + center weighted + RBF (wgkmrbf)\n",
            "                6 -- gapped-kmer + RBF\n",
            " -l <int>     set word length, 3<=l<=12 (default: 11)\n",
            " -k <int>     set number of informative column, k<=l (default: 7)\n",
            " -d <int>     set maximum number of mismatches to consider, d<=4 (default: 3)\n",
            " -g <float>   set gamma for RBF kernel. -t 3 or 5 or 6 only (default: 1.0)\n",
            " -M <int>     set the initial value (M) of the exponential decay function\n",
            "              for wgkm-kernels. max=255, -t 4 or 5 only (default: 50)\n",
            " -H <float>   set the half-life parameter (H) that is the distance (D) required\n",
            "              to fall to half of its initial value in the exponential decay\n",
            "              function for wgkm-kernels. -t 4 or 5 only (default: 50)\n",
            " -c <float>   set the regularization parameter SVM-C (default: 1.0)\n",
            " -e <float>   set the precision parameter epsilon (default: 0.001)\n",
            " -w <float>   set the parameter SVM-C to w*C for the positive set (default: 1.0)\n",
            " -m <float>   set cache memory size in MB (default: 100.0)\n",
            "              NOTE: Large cache signifcantly reduces runtime. >4Gb is recommended\n",
            " -s           if set, use the shrinking heuristics\n",
            " -x <int>     set N-fold cross validation mode (default: no cross validation)\n",
            " -i <int>     run i-th cross validation only 1<=i<=ncv (default: all)\n",
            " -r <int>     set random seed for shuffling in cross validation mode (default: 1)\n",
            " -v <0 ~ 4>   set the level of verbosity (default: 2)\n",
            "                0 -- error msgs only (ERROR)\n",
            "                1 -- warning msgs (WARN)\n",
            "                2 -- progress msgs at coarse-grained level (INFO)\n",
            "                3 -- progress msgs at fine-grained level (DEBUG)\n",
            "                4 -- progress msgs at finer-grained level (TRACE)\n",
            "-T <1|4|16>   set the number of threads for parallel calculation, 1, 4, or 16\n",
            "                 (default: 1)\n",
            "\n",
            "/content\n"
          ],
          "name": "stdout"
        }
      ]
    },
    {
      "metadata": {
        "id": "6W3yUXw9bzl7",
        "colab_type": "code",
        "colab": {
          "base_uri": "https://localhost:8080/",
          "height": 50
        },
        "outputId": "8065be12-31dc-49d3-ac64-29204efd5b86"
      },
      "cell_type": "code",
      "source": [
        "#get the raw data\n",
        "!wget https://raw.githubusercontent.com/AvantiShri/model_storage/master/deeplift/genomics/sequences.simdata.gz"
      ],
      "execution_count": 2,
      "outputs": [
        {
          "output_type": "stream",
          "text": [
            "\n",
            "Redirecting output to ‘wget-log.1’.\n"
          ],
          "name": "stdout"
        }
      ]
    },
    {
      "metadata": {
        "id": "2etRn0BKfXK1",
        "colab_type": "code",
        "colab": {
          "base_uri": "https://localhost:8080/",
          "height": 200
        },
        "outputId": "6a81214e-28c0-463d-97e5-dc66194eb99e"
      },
      "cell_type": "code",
      "source": [
        "!zcat sequences.simdata | head"
      ],
      "execution_count": 3,
      "outputs": [
        {
          "output_type": "stream",
          "text": [
            "seqName\tsequence\tembeddings\ttask1\ttask2\ttask3\n",
            "empty_1732\tAGCTCTTTTGGCGGACCGAGTTCGTCGGACTTTCGCTAAATTGACCATTAACAGGAGGATACCCGGGTGTCTCGGGAAGGTCGTAATACGGTAATTACGGATGTGAGAGCGCACACATCCTTTGGATGATACATGATCTCGCCGTATATGGCCTAGGTCAAAAGGACAGTCTCGCTAATCGCAATAATGCAGCTAACCGA\t\t0\t0\t0\n",
            "gata_only_1527\tTGCAGATAAGAACTTTGGGAATATGGTAGGAAAAACCCCTGAAGTGAGATCCAAAAAATATAGACTGGCGCGGTGGCAATGCCCTTGTTAATGCTGGGAATCAAAAAATCGAAACTCTCAGCAGATAAGATATGCAGACCTGCTCGTGGAGACAAAAAGTATTGTTACTGCGTAAACCATTAGTACGTTGCCGAGTACCG\tpos-120_GATA_disc1-GCAGATAAGA,pos-1_GATA_disc1-GCAGATAAGA\t0\t1\t0\n",
            "gata_tal1_62\tAGATTATAGGCCCTCCACCAGATAAGATATAGCGTTCGAGGGTCAGAAGGTAGTTCTGAAGATCTCTTCATTGTGAAAGGCCTCATATGATGAGCTTCTCCATTCTCAGCTGACAGGCAAAACAATTGATCAGCGCTTAGGCGCCAGATGTTTACTCCCGTTAAGTCAACTTAGCTGTGTTCGTCAAATCCGCAACGCGG\tpos-17_GATA_disc1-CCAGATAAGA,pos-139_TAL1_known1-GGCGCCAGATGTTTAC\t1\t1\t1\n",
            "empty_1289\tTTTGGGCGCGGAAGAAGTCGCTCGCCTTTCTGTACTTGAAAATGATTACATGTAAGGATGTAACTCAATCGCAACATTGTCATTGGGTTCCATCGCCCTAGCGGTAGTAGGTTTTACCTCCAACTTGACAACCCTTCGTAAATATAAAATAGTAGTAATTAGCTAGCCCATCCAGACGAGCAGATAATTGACAATTGTCG\t\t0\t0\t0\n",
            "empty_1515\tGTAGAACCGCTGAGGCACTTTTAGAATGTTTCTTCCCCCCCGAACACACGTCTGTTGACGCGTCGGGGACCCATTGGTTGATGGCGCTACCACCATACTGGGTAATAGAGCACCCCTACGACGTGATTGTTTCTTTAGATTTCGTTACTGGGTACGGCGCGCCCCAAGTATTATGTGCTATCTCAAGTATTTAAGTCAGG\t\t0\t0\t0\n",
            "tal1_only_660\tTACCACCGCTTCCAATGTTACCATGTTAGCCATAGTTTCGGGAAGTCGTAATTTCACTTGTAGACCAGATGGAGCCGTCTGTCTAATTTACTCATTCAGACAATCCATCATTTCCTTTGGCGCTGACTCTCATTCCGTAACAGATGTTTGACATTCGTTCCTAGCGCAAATTAGTCTTAATGCCCTAAGTATCGCCAATC\tpos-60_TAL1_known1-TAGACCAGATGGAGCC,pos-135_TAL1_known1-CGTAACAGATGTTTGA\t0\t0\t1\n",
            "tal1_only_1375\tAGTGGCCAGTTACGTGAAGCGCCCGGGCCATATACTATTACAACTACCACTAGTCGTACGGATGGAGCTGTTTCACGAATGCGAGCTAAATGGACCAGCCTTTGGCGTTTAGTGATGTGCTAAATTCCTGAACACCTTTTATGTTCGGGGTTGGTGTTCGGATAGGACATGACCAGGTGTCCAGGCGAGCATATTTGGCC\tpos-168_TAL1_known1-ATGACCAGGTGTCCAG\t0\t0\t1\n",
            "gata_tal1_678\tTGTTTATATCTGCCTGCGATGAGTAAATTGTCTCTTCTGAGCCAGCGGCCAGATGGTCGGGAGACTTCGGGTCATAACGATGACTTTTATATGCTGGCCAGATAACCAACCGATATTAACAAGTGAGCAACGTCACCTCGAAACGTGCCTAAAGGTCCCCCAGTCTTCCAGCTAGTCTCAGGAGATAATCCGGCGGAATG\tpos-97_GATA_disc1-CCAGATAACC,pos-44_TAL1_known1-GCGGCCAGATGGTCGG\t1\t1\t1\n",
            "empty_134\tATTCTTGTTGAGTGATAGCCTTCTACCGTATATCTTCCCAGTAGAGAGATCGTACAAATGACTTGGTACTACTTAGACTTCTCTAGCTTTCATTTCGCCTGTTATGACATATCAACGCAGGGCCGTTTTAACCATGTCCCTGTAACCCTCAGTAAGCCTATCACCGAACCGCCTTACAAGACTTAGTTCTGTTAGCCTTA\t\t0\t0\t0\n"
          ],
          "name": "stdout"
        }
      ]
    },
    {
      "metadata": {
        "id": "HAk3-GNTfZAl",
        "colab_type": "code",
        "colab": {}
      },
      "cell_type": "code",
      "source": [
        "!zcat sequences.simdata.gz | perl -lane 'if ($F[3] eq \"1\") {print \">$F[0]\\n$F[1]\"}' > positives.fa\n",
        "!zcat sequences.simdata.gz | perl -lane 'if ($F[3] eq \"0\") {print \">$F[0]\\n$F[1]\"}' > negatives.fa\n",
        "!perl -ne 'if ($.%10 == 1 || $.%10 == 2) {print $_}' positives.fa > test_positives.fa\n",
        "!perl -ne 'if ($.%10 != 1 && $.%10 != 2) {print $_}' positives.fa > train_positives.fa\n",
        "!perl -ne 'if ($.%10 == 1 || $.%10 == 2) {print $_}' negatives.fa > test_negatives.fa\n",
        "!perl -ne 'if ($.%10 != 1 && $.%10 != 2) {print $_}' negatives.fa > train_negatives.fa"
      ],
      "execution_count": 0,
      "outputs": []
    },
    {
      "metadata": {
        "id": "mwEKO0NQfe40",
        "colab_type": "code",
        "colab": {
          "base_uri": "https://localhost:8080/",
          "height": 131
        },
        "outputId": "03a1f2b2-7ce2-4ab3-bc60-9fc91b19f08a"
      },
      "cell_type": "code",
      "source": [
        "!wc -l *.fa"
      ],
      "execution_count": 5,
      "outputs": [
        {
          "output_type": "stream",
          "text": [
            "  12000 negatives.fa\n",
            "   4000 positives.fa\n",
            "   2400 test_negatives.fa\n",
            "    800 test_positives.fa\n",
            "   9600 train_negatives.fa\n",
            "   3200 train_positives.fa\n",
            "  32000 total\n"
          ],
          "name": "stdout"
        }
      ]
    },
    {
      "metadata": {
        "id": "51_gHIeKfg_k",
        "colab_type": "code",
        "colab": {
          "base_uri": "https://localhost:8080/",
          "height": 4470
        },
        "outputId": "12f02146-0a68-44e6-aad7-fa2a06461fe5"
      },
      "cell_type": "code",
      "source": [
        "import time\n",
        "\n",
        "t=6\n",
        "c=10\n",
        "g=2\n",
        "l=6\n",
        "k=4\n",
        "d=2\n",
        "\n",
        "!lsgkm/src/gkmtrain -t $t -c $10 -g $2 -l $l -k $k -d $d -w 3 train_positives.fa train_negatives.fa \"params_t\"$t\"_l\"$l\"_k\"$k\"_d\"$d\"_g\"$g\"_c\"$c\"_w3\"\n",
        "\n",
        "\n",
        "start = time.time()\n",
        "!lsgkm/src/gkmpredict test_positives.fa \"params_t\"$t\"_l\"$l\"_k\"$k\"_d\"$d\"_g\"$g\"_c\"$c\"_w3.model.txt\" preds_positives.txt\n",
        "end = time.time()\n",
        "print(\"Time taken per seq:\",(end-start)/400)\n",
        "start = time.time()\n",
        "!lsgkm/src/gkmpredict test_negatives.fa \"params_t\"$t\"_l\"$l\"_k\"$k\"_d\"$d\"_g\"$g\"_c\"$c\"_w3.model.txt\" preds_negatives.txt\n",
        "end = time.time()\n",
        "print(\"Time taken per seq:\",(end-start)/1200)\n",
        "\n",
        "import numpy as np\n",
        "from sklearn.metrics import roc_auc_score\n",
        "pos_preds = [float(x.rstrip().split(\"\\t\")[1]) for x in open(\"preds_positives.txt\")]\n",
        "neg_preds = [float(x.rstrip().split(\"\\t\")[1]) for x in open(\"preds_negatives.txt\")]\n",
        "print(roc_auc_score(y_true=np.array([1 for i in range(len(pos_preds))]+[0 for i in range(len(neg_preds))]),\n",
        "                    y_score=np.array(pos_preds+neg_preds)))"
      ],
      "execution_count": 6,
      "outputs": [
        {
          "output_type": "stream",
          "text": [
            "INFO 2018-10-01 04:56:32: Number of threads is set to 1\n",
            "INFO 2018-10-01 04:56:32: Arguments:\n",
            "INFO 2018-10-01 04:56:32:   posfile = train_positives.fa\n",
            "INFO 2018-10-01 04:56:32:   negfile = train_negatives.fa\n",
            "INFO 2018-10-01 04:56:32:   outprefix = params_t6_l6_k4_d2_g2_c10_w3\n",
            "INFO 2018-10-01 04:56:32: Parameters:\n",
            "INFO 2018-10-01 04:56:32:   kernel-type = 6\n",
            "INFO 2018-10-01 04:56:32:   L = 6\n",
            "INFO 2018-10-01 04:56:32:   k = 4\n",
            "INFO 2018-10-01 04:56:32:   d = 2\n",
            "INFO 2018-10-01 04:56:32:   gamma = 2\n",
            "INFO 2018-10-01 04:56:32:   C = 10\n",
            "INFO 2018-10-01 04:56:32:   w = 3\n",
            "INFO 2018-10-01 04:56:32:   eps = 0.001\n",
            "INFO 2018-10-01 04:56:32:   shrinking = no\n",
            "INFO 2018-10-01 04:56:32: reading 1600 sequences from train_positives.fa\n",
            "INFO 2018-10-01 04:56:32: reading... 0\n",
            "INFO 2018-10-01 04:56:32: reading... 1000\n",
            "INFO 2018-10-01 04:56:32: reading... done\n",
            "INFO 2018-10-01 04:56:32: reading 4800 sequences from train_negatives.fa\n",
            "INFO 2018-10-01 04:56:32: reading... 0\n",
            "INFO 2018-10-01 04:56:32: reading... 1000\n",
            "INFO 2018-10-01 04:56:32: reading... 2000\n",
            "INFO 2018-10-01 04:56:32: reading... 3000\n",
            "INFO 2018-10-01 04:56:33: reading... 4000\n",
            "INFO 2018-10-01 04:56:33: reading... done\n",
            "INFO 2018-10-01 04:56:33: begin SVM training\n",
            "INFO 2018-10-01 04:56:38: iter 100, max_viol=3.17914\n",
            "INFO 2018-10-01 04:56:42: iter 200, max_viol=3.03576\n",
            "INFO 2018-10-01 04:56:46: iter 300, max_viol=3.08298\n",
            "INFO 2018-10-01 04:56:50: iter 400, max_viol=3.13269\n",
            "INFO 2018-10-01 04:56:54: iter 500, max_viol=2.91447\n",
            "INFO 2018-10-01 04:56:58: iter 600, max_viol=3.03621\n",
            "INFO 2018-10-01 04:57:02: iter 700, max_viol=2.93347\n",
            "INFO 2018-10-01 04:57:06: iter 800, max_viol=2.83609\n",
            "INFO 2018-10-01 04:57:10: iter 900, max_viol=2.75345\n",
            "INFO 2018-10-01 04:57:14: iter 1000, max_viol=2.67134\n",
            "INFO 2018-10-01 04:57:17: iter 1100, max_viol=2.45945\n",
            "INFO 2018-10-01 04:57:20: iter 1200, max_viol=2.45534\n",
            "INFO 2018-10-01 04:57:22: iter 1300, max_viol=2.36275\n",
            "INFO 2018-10-01 04:57:25: iter 1400, max_viol=2.29971\n",
            "INFO 2018-10-01 04:57:27: iter 1500, max_viol=2.11488\n",
            "INFO 2018-10-01 04:57:29: iter 1600, max_viol=2.00407\n",
            "INFO 2018-10-01 04:57:31: iter 1700, max_viol=1.94924\n",
            "INFO 2018-10-01 04:57:32: iter 1800, max_viol=2.00798\n",
            "INFO 2018-10-01 04:57:34: iter 1900, max_viol=1.74636\n",
            "INFO 2018-10-01 04:57:35: iter 2000, max_viol=1.58068\n",
            "INFO 2018-10-01 04:57:37: iter 2100, max_viol=1.53832\n",
            "INFO 2018-10-01 04:57:38: iter 2200, max_viol=1.50733\n",
            "INFO 2018-10-01 04:57:39: iter 2300, max_viol=1.3777\n",
            "INFO 2018-10-01 04:57:40: iter 2400, max_viol=1.30919\n",
            "INFO 2018-10-01 04:57:41: iter 2500, max_viol=1.28565\n",
            "INFO 2018-10-01 04:57:42: iter 2600, max_viol=1.1612\n",
            "INFO 2018-10-01 04:57:43: iter 2700, max_viol=1.17903\n",
            "INFO 2018-10-01 04:57:44: iter 2800, max_viol=1.07791\n",
            "INFO 2018-10-01 04:57:44: iter 2900, max_viol=1.04656\n",
            "INFO 2018-10-01 04:57:45: iter 3000, max_viol=1.01709\n",
            "INFO 2018-10-01 04:57:46: iter 3100, max_viol=0.928733\n",
            "INFO 2018-10-01 04:57:47: iter 3200, max_viol=0.871698\n",
            "INFO 2018-10-01 04:57:47: iter 3300, max_viol=0.839582\n",
            "INFO 2018-10-01 04:57:48: iter 3400, max_viol=0.80926\n",
            "INFO 2018-10-01 04:57:49: iter 3500, max_viol=0.774535\n",
            "INFO 2018-10-01 04:57:49: iter 3600, max_viol=0.719892\n",
            "INFO 2018-10-01 04:57:49: iter 3700, max_viol=0.662815\n",
            "INFO 2018-10-01 04:57:50: iter 3800, max_viol=0.674302\n",
            "INFO 2018-10-01 04:57:50: iter 3900, max_viol=0.637447\n",
            "INFO 2018-10-01 04:57:51: iter 4000, max_viol=0.595407\n",
            "INFO 2018-10-01 04:57:51: iter 4100, max_viol=0.572252\n",
            "INFO 2018-10-01 04:57:51: iter 4200, max_viol=0.53737\n",
            "INFO 2018-10-01 04:57:52: iter 4300, max_viol=0.528273\n",
            "INFO 2018-10-01 04:57:52: iter 4400, max_viol=0.489346\n",
            "INFO 2018-10-01 04:57:52: iter 4500, max_viol=0.467614\n",
            "INFO 2018-10-01 04:57:53: iter 4600, max_viol=0.442253\n",
            "INFO 2018-10-01 04:57:53: iter 4700, max_viol=0.412779\n",
            "INFO 2018-10-01 04:57:53: iter 4800, max_viol=0.391325\n",
            "INFO 2018-10-01 04:57:53: iter 4900, max_viol=0.383147\n",
            "INFO 2018-10-01 04:57:54: iter 5000, max_viol=0.377504\n",
            "INFO 2018-10-01 04:57:54: iter 5100, max_viol=0.338916\n",
            "INFO 2018-10-01 04:57:54: iter 5200, max_viol=0.344318\n",
            "INFO 2018-10-01 04:57:54: iter 5300, max_viol=0.321853\n",
            "INFO 2018-10-01 04:57:55: iter 5400, max_viol=0.30827\n",
            "INFO 2018-10-01 04:57:55: iter 5500, max_viol=0.308261\n",
            "INFO 2018-10-01 04:57:55: iter 5600, max_viol=0.298148\n",
            "INFO 2018-10-01 04:57:55: iter 5700, max_viol=0.259647\n",
            "INFO 2018-10-01 04:57:55: iter 5800, max_viol=0.271704\n",
            "INFO 2018-10-01 04:57:56: iter 5900, max_viol=0.241885\n",
            "INFO 2018-10-01 04:57:56: iter 6000, max_viol=0.227088\n",
            "INFO 2018-10-01 04:57:56: iter 6100, max_viol=0.225357\n",
            "INFO 2018-10-01 04:57:56: iter 6200, max_viol=0.218376\n",
            "INFO 2018-10-01 04:57:56: iter 6300, max_viol=0.220836\n",
            "INFO 2018-10-01 04:57:56: iter 6400, max_viol=0.201529\n",
            "INFO 2018-10-01 04:57:56: iter 6500, max_viol=0.193485\n",
            "INFO 2018-10-01 04:57:56: iter 6600, max_viol=0.184906\n",
            "INFO 2018-10-01 04:57:57: iter 6700, max_viol=0.181182\n",
            "INFO 2018-10-01 04:57:57: iter 6800, max_viol=0.169851\n",
            "INFO 2018-10-01 04:57:57: iter 6900, max_viol=0.154147\n",
            "INFO 2018-10-01 04:57:57: iter 7000, max_viol=0.155281\n",
            "INFO 2018-10-01 04:57:57: iter 7100, max_viol=0.146645\n",
            "INFO 2018-10-01 04:57:57: iter 7200, max_viol=0.140191\n",
            "INFO 2018-10-01 04:57:57: iter 7300, max_viol=0.137378\n",
            "INFO 2018-10-01 04:57:57: iter 7400, max_viol=0.128788\n",
            "INFO 2018-10-01 04:57:57: iter 7500, max_viol=0.123673\n",
            "INFO 2018-10-01 04:57:57: iter 7600, max_viol=0.121168\n",
            "INFO 2018-10-01 04:57:58: iter 7700, max_viol=0.119199\n",
            "INFO 2018-10-01 04:57:58: iter 7800, max_viol=0.111416\n",
            "INFO 2018-10-01 04:57:58: iter 7900, max_viol=0.109736\n",
            "INFO 2018-10-01 04:57:58: iter 8000, max_viol=0.099034\n",
            "INFO 2018-10-01 04:57:58: iter 8100, max_viol=0.0991659\n",
            "INFO 2018-10-01 04:57:58: iter 8200, max_viol=0.0953087\n",
            "INFO 2018-10-01 04:57:58: iter 8300, max_viol=0.0940464\n",
            "INFO 2018-10-01 04:57:58: iter 8400, max_viol=0.0878953\n",
            "INFO 2018-10-01 04:57:58: iter 8500, max_viol=0.082832\n",
            "INFO 2018-10-01 04:57:58: iter 8600, max_viol=0.0824204\n",
            "INFO 2018-10-01 04:57:58: iter 8700, max_viol=0.0757245\n",
            "INFO 2018-10-01 04:57:58: iter 8800, max_viol=0.0707767\n",
            "INFO 2018-10-01 04:57:58: iter 8900, max_viol=0.0702621\n",
            "INFO 2018-10-01 04:57:58: iter 9000, max_viol=0.0668039\n",
            "INFO 2018-10-01 04:57:58: iter 9100, max_viol=0.0658759\n",
            "INFO 2018-10-01 04:57:58: iter 9200, max_viol=0.0643808\n",
            "INFO 2018-10-01 04:57:58: iter 9300, max_viol=0.0654332\n",
            "INFO 2018-10-01 04:57:59: iter 9400, max_viol=0.0579172\n",
            "INFO 2018-10-01 04:57:59: iter 9500, max_viol=0.0590318\n",
            "INFO 2018-10-01 04:57:59: iter 9600, max_viol=0.0566634\n",
            "INFO 2018-10-01 04:57:59: iter 9700, max_viol=0.0532392\n",
            "INFO 2018-10-01 04:57:59: iter 9800, max_viol=0.0497365\n",
            "INFO 2018-10-01 04:57:59: iter 9900, max_viol=0.0480748\n",
            "INFO 2018-10-01 04:57:59: iter 10000, max_viol=0.0459844\n",
            "INFO 2018-10-01 04:57:59: iter 10100, max_viol=0.0440719\n",
            "INFO 2018-10-01 04:57:59: iter 10200, max_viol=0.041849\n",
            "INFO 2018-10-01 04:57:59: iter 10300, max_viol=0.0424297\n",
            "INFO 2018-10-01 04:57:59: iter 10400, max_viol=0.0377924\n",
            "INFO 2018-10-01 04:57:59: iter 10500, max_viol=0.0401603\n",
            "INFO 2018-10-01 04:57:59: iter 10600, max_viol=0.0376589\n",
            "INFO 2018-10-01 04:57:59: iter 10700, max_viol=0.0351783\n",
            "INFO 2018-10-01 04:57:59: iter 10800, max_viol=0.0344876\n",
            "INFO 2018-10-01 04:57:59: iter 10900, max_viol=0.0324664\n",
            "INFO 2018-10-01 04:57:59: iter 11000, max_viol=0.0319834\n",
            "INFO 2018-10-01 04:57:59: iter 11100, max_viol=0.0310049\n",
            "INFO 2018-10-01 04:57:59: iter 11200, max_viol=0.0291063\n",
            "INFO 2018-10-01 04:57:59: iter 11300, max_viol=0.0284489\n",
            "INFO 2018-10-01 04:58:00: iter 11400, max_viol=0.0266032\n",
            "INFO 2018-10-01 04:58:00: iter 11500, max_viol=0.0260741\n",
            "INFO 2018-10-01 04:58:00: iter 11600, max_viol=0.0256795\n",
            "INFO 2018-10-01 04:58:00: iter 11700, max_viol=0.0250466\n",
            "INFO 2018-10-01 04:58:00: iter 11800, max_viol=0.0233962\n",
            "INFO 2018-10-01 04:58:00: iter 11900, max_viol=0.0225469\n",
            "INFO 2018-10-01 04:58:00: iter 12000, max_viol=0.0219053\n",
            "INFO 2018-10-01 04:58:00: iter 12100, max_viol=0.0210016\n",
            "INFO 2018-10-01 04:58:00: iter 12200, max_viol=0.019745\n",
            "INFO 2018-10-01 04:58:00: iter 12300, max_viol=0.0200884\n",
            "INFO 2018-10-01 04:58:00: iter 12400, max_viol=0.0195649\n",
            "INFO 2018-10-01 04:58:00: iter 12500, max_viol=0.0189436\n",
            "INFO 2018-10-01 04:58:00: iter 12600, max_viol=0.0170472\n",
            "INFO 2018-10-01 04:58:00: iter 12700, max_viol=0.0174616\n",
            "INFO 2018-10-01 04:58:00: iter 12800, max_viol=0.0176137\n",
            "INFO 2018-10-01 04:58:00: iter 12900, max_viol=0.0163398\n",
            "INFO 2018-10-01 04:58:00: iter 13000, max_viol=0.0151424\n",
            "INFO 2018-10-01 04:58:00: iter 13100, max_viol=0.0148036\n",
            "INFO 2018-10-01 04:58:00: iter 13200, max_viol=0.0141348\n",
            "INFO 2018-10-01 04:58:01: iter 13300, max_viol=0.0140925\n",
            "INFO 2018-10-01 04:58:01: iter 13400, max_viol=0.0129214\n",
            "INFO 2018-10-01 04:58:01: iter 13500, max_viol=0.0131461\n",
            "INFO 2018-10-01 04:58:01: iter 13600, max_viol=0.0122796\n",
            "INFO 2018-10-01 04:58:01: iter 13700, max_viol=0.0124275\n",
            "INFO 2018-10-01 04:58:01: iter 13800, max_viol=0.0114263\n",
            "INFO 2018-10-01 04:58:01: iter 13900, max_viol=0.0114601\n",
            "INFO 2018-10-01 04:58:01: iter 14000, max_viol=0.0108309\n",
            "INFO 2018-10-01 04:58:01: iter 14100, max_viol=0.0100744\n",
            "INFO 2018-10-01 04:58:01: iter 14200, max_viol=0.00973403\n",
            "INFO 2018-10-01 04:58:01: iter 14300, max_viol=0.0099266\n",
            "INFO 2018-10-01 04:58:01: iter 14400, max_viol=0.00922138\n",
            "INFO 2018-10-01 04:58:01: iter 14500, max_viol=0.00875087\n",
            "INFO 2018-10-01 04:58:01: iter 14600, max_viol=0.00886564\n",
            "INFO 2018-10-01 04:58:01: iter 14700, max_viol=0.00883422\n",
            "INFO 2018-10-01 04:58:01: iter 14800, max_viol=0.0082019\n",
            "INFO 2018-10-01 04:58:01: iter 14900, max_viol=0.00774437\n",
            "INFO 2018-10-01 04:58:01: iter 15000, max_viol=0.00743625\n",
            "INFO 2018-10-01 04:58:01: iter 15100, max_viol=0.00772745\n",
            "INFO 2018-10-01 04:58:01: iter 15200, max_viol=0.00738029\n",
            "INFO 2018-10-01 04:58:01: iter 15300, max_viol=0.0067526\n",
            "INFO 2018-10-01 04:58:01: iter 15400, max_viol=0.00672353\n",
            "INFO 2018-10-01 04:58:01: iter 15500, max_viol=0.00613199\n",
            "INFO 2018-10-01 04:58:01: iter 15600, max_viol=0.00645426\n",
            "INFO 2018-10-01 04:58:01: iter 15700, max_viol=0.00574644\n",
            "INFO 2018-10-01 04:58:02: iter 15800, max_viol=0.00584672\n",
            "INFO 2018-10-01 04:58:02: iter 15900, max_viol=0.00569799\n",
            "INFO 2018-10-01 04:58:02: iter 16000, max_viol=0.00545298\n",
            "INFO 2018-10-01 04:58:02: iter 16100, max_viol=0.0053745\n",
            "INFO 2018-10-01 04:58:02: iter 16200, max_viol=0.00487317\n",
            "INFO 2018-10-01 04:58:02: iter 16300, max_viol=0.00489638\n",
            "INFO 2018-10-01 04:58:02: iter 16400, max_viol=0.00476784\n",
            "INFO 2018-10-01 04:58:02: iter 16500, max_viol=0.00463019\n",
            "INFO 2018-10-01 04:58:02: iter 16600, max_viol=0.00433306\n",
            "INFO 2018-10-01 04:58:02: iter 16700, max_viol=0.00420648\n",
            "INFO 2018-10-01 04:58:02: iter 16800, max_viol=0.00407014\n",
            "INFO 2018-10-01 04:58:02: iter 16900, max_viol=0.00405404\n",
            "INFO 2018-10-01 04:58:02: iter 17000, max_viol=0.00384291\n",
            "INFO 2018-10-01 04:58:02: iter 17100, max_viol=0.0037068\n",
            "INFO 2018-10-01 04:58:02: iter 17200, max_viol=0.00359435\n",
            "INFO 2018-10-01 04:58:02: iter 17300, max_viol=0.00326104\n",
            "INFO 2018-10-01 04:58:02: iter 17400, max_viol=0.00349543\n",
            "INFO 2018-10-01 04:58:02: iter 17500, max_viol=0.00324078\n",
            "INFO 2018-10-01 04:58:02: iter 17600, max_viol=0.00308081\n",
            "INFO 2018-10-01 04:58:02: iter 17700, max_viol=0.00303032\n",
            "INFO 2018-10-01 04:58:02: iter 17800, max_viol=0.00299398\n",
            "INFO 2018-10-01 04:58:02: iter 17900, max_viol=0.00284043\n",
            "INFO 2018-10-01 04:58:02: iter 18000, max_viol=0.00283163\n",
            "INFO 2018-10-01 04:58:02: iter 18100, max_viol=0.00261394\n",
            "INFO 2018-10-01 04:58:02: iter 18200, max_viol=0.00243368\n",
            "INFO 2018-10-01 04:58:02: iter 18300, max_viol=0.00252361\n",
            "INFO 2018-10-01 04:58:02: iter 18400, max_viol=0.00242669\n",
            "INFO 2018-10-01 04:58:02: iter 18500, max_viol=0.00218655\n",
            "INFO 2018-10-01 04:58:02: iter 18600, max_viol=0.00215772\n",
            "INFO 2018-10-01 04:58:02: iter 18700, max_viol=0.00204586\n",
            "INFO 2018-10-01 04:58:02: iter 18800, max_viol=0.00207655\n",
            "INFO 2018-10-01 04:58:02: iter 18900, max_viol=0.00205596\n",
            "INFO 2018-10-01 04:58:02: iter 19000, max_viol=0.00191029\n",
            "INFO 2018-10-01 04:58:02: iter 19100, max_viol=0.00198967\n",
            "INFO 2018-10-01 04:58:02: iter 19200, max_viol=0.00181851\n",
            "INFO 2018-10-01 04:58:02: iter 19300, max_viol=0.00177267\n",
            "INFO 2018-10-01 04:58:02: iter 19400, max_viol=0.00188854\n",
            "INFO 2018-10-01 04:58:02: iter 19500, max_viol=0.00161191\n",
            "INFO 2018-10-01 04:58:02: iter 19600, max_viol=0.00164025\n",
            "INFO 2018-10-01 04:58:02: iter 19700, max_viol=0.00150606\n",
            "INFO 2018-10-01 04:58:02: iter 19800, max_viol=0.0014938\n",
            "INFO 2018-10-01 04:58:02: iter 19900, max_viol=0.00142084\n",
            "INFO 2018-10-01 04:58:03: iter 20000, max_viol=0.00145731\n",
            "INFO 2018-10-01 04:58:03: iter 20100, max_viol=0.00132864\n",
            "INFO 2018-10-01 04:58:03: iter 20200, max_viol=0.00129054\n",
            "INFO 2018-10-01 04:58:03: iter 20300, max_viol=0.00125712\n",
            "INFO 2018-10-01 04:58:03: iter 20400, max_viol=0.00122518\n",
            "INFO 2018-10-01 04:58:03: iter 20500, max_viol=0.00119954\n",
            "INFO 2018-10-01 04:58:03: iter 20600, max_viol=0.0011272\n",
            "INFO 2018-10-01 04:58:03: iter 20700, max_viol=0.00109698\n",
            "INFO 2018-10-01 04:58:03: iter 20800, max_viol=0.00111139\n",
            "INFO 2018-10-01 04:58:03: *\n",
            "INFO 2018-10-01 04:58:03: optimization finished, #iter = 20896\n",
            "INFO 2018-10-01 04:58:03: obj = -7528.821728, rho = 2.467290\n",
            "INFO 2018-10-01 04:58:03: nSV = 4088, nBSV = 24\n",
            "INFO 2018-10-01 04:58:03: Total nSV = 4088\n",
            "INFO 2018-10-01 04:58:03: save SVM model to params_t6_l6_k4_d2_g2_c10_w3.model.txt\n",
            "INFO 2018-10-01 04:58:03: Number of threads is set to 1\n",
            "INFO 2018-10-01 04:58:03: load model params_t6_l6_k4_d2_g2_c10_w3.model.txt\n",
            "INFO 2018-10-01 04:58:03: reading... 1000/4088\n",
            "INFO 2018-10-01 04:58:04: reading... 2000/4088\n",
            "INFO 2018-10-01 04:58:04: reading... 3000/4088\n",
            "INFO 2018-10-01 04:58:04: reading... 4000/4088\n",
            "INFO 2018-10-01 04:58:04: write prediction result to preds_positives.txt\n",
            "INFO 2018-10-01 04:58:06: 100 scored\n",
            "INFO 2018-10-01 04:58:07: 200 scored\n",
            "INFO 2018-10-01 04:58:08: 300 scored\n",
            "INFO 2018-10-01 04:58:10: 400 scored\n",
            "Time taken per seq: 0.017129608392715455\n",
            "INFO 2018-10-01 04:58:10: Number of threads is set to 1\n",
            "INFO 2018-10-01 04:58:10: load model params_t6_l6_k4_d2_g2_c10_w3.model.txt\n",
            "INFO 2018-10-01 04:58:10: reading... 1000/4088\n",
            "INFO 2018-10-01 04:58:10: reading... 2000/4088\n",
            "INFO 2018-10-01 04:58:11: reading... 3000/4088\n",
            "INFO 2018-10-01 04:58:11: reading... 4000/4088\n",
            "INFO 2018-10-01 04:58:11: write prediction result to preds_negatives.txt\n",
            "INFO 2018-10-01 04:58:12: 100 scored\n",
            "INFO 2018-10-01 04:58:14: 200 scored\n",
            "INFO 2018-10-01 04:58:15: 300 scored\n",
            "INFO 2018-10-01 04:58:17: 400 scored\n",
            "INFO 2018-10-01 04:58:18: 500 scored\n",
            "INFO 2018-10-01 04:58:19: 600 scored\n",
            "INFO 2018-10-01 04:58:21: 700 scored\n",
            "INFO 2018-10-01 04:58:22: 800 scored\n",
            "INFO 2018-10-01 04:58:23: 900 scored\n",
            "INFO 2018-10-01 04:58:25: 1000 scored\n",
            "INFO 2018-10-01 04:58:26: 1100 scored\n",
            "INFO 2018-10-01 04:58:27: 1200 scored\n",
            "Time taken per seq: 0.014858834743499756\n",
            "0.8938708333333333\n"
          ],
          "name": "stdout"
        }
      ]
    },
    {
      "metadata": {
        "id": "JmY65fNlgkdf",
        "colab_type": "code",
        "colab": {}
      },
      "cell_type": "code",
      "source": [
        "import numpy as np\n",
        "from collections import Counter\n",
        "import itertools\n",
        "from functools import reduce\n",
        "import numpy as np\n",
        "\n",
        "\n",
        "class GkmSvm(object):\n",
        "  \n",
        "  letter_to_num = {'A':0, 'a':0, 'C': 1, 'c': 1, 'G': 2, 'g': 2,\n",
        "                   'T': 3, 't': 3, 'N': -1}\n",
        "  \n",
        "  def __init__(self, kernel_type, l, k, d, gamma, rho,\n",
        "               string_svs, signed_alphas):\n",
        "    self.kernel_type = kernel_type\n",
        "    assert k <= l\n",
        "    assert d >= 0\n",
        "    self.l = l\n",
        "    self.k = k\n",
        "    self.total_gkmers = (1 << (k << 1))\n",
        "    self.d = d\n",
        "    if (self.d!=(self.l-self.k)):\n",
        "      self.k = self.l - self.d\n",
        "      print(\"In the case of the gapped kmer counts kernels, it appears that \"\n",
        "            \" d is redundant with l-k\"\n",
        "            \" so I am setting k = l-d\"\n",
        "            \" (e.g. when d=0, I found that the results are as though\"\n",
        "            \"  l=k)\")\n",
        "    self.gamma = gamma\n",
        "    self.rho = rho\n",
        "    self.string_svs = string_svs\n",
        "    self.signed_alphas = np.array(signed_alphas)\n",
        "    self.build()\n",
        "    \n",
        "  def build(self):\n",
        "    self.build_nongap_pos_sets()\n",
        "    self.normalized_gkmer_count_svs = [self.get_normalized_gkmer_counts(x)\n",
        "                                       for x in self.string_svs]\n",
        "    self.gkmer_feature_space_size = len(self.nongap_pos_sets)*(4**self.k)\n",
        "    \n",
        "  def build_nongap_pos_sets(self):\n",
        "    #get the placement of the non-gap positions\n",
        "    redundant_nongap_pos_sets = list(itertools.combinations(range(self.l),\n",
        "                                                            self.k))\n",
        "    non_redundant_nongap_pos_sets = []\n",
        "    string_reps_non_redundant_nongap_pos_sets = []\n",
        "    for nongap_pos_set in redundant_nongap_pos_sets:\n",
        "      string_rep_arr = [\" \" for i in range(self.l)]\n",
        "      for a_pos in nongap_pos_set:\n",
        "        string_rep_arr[a_pos] = \"X\"\n",
        "      string_rep = \"\".join(string_rep_arr)\n",
        "      if (string_rep in string_reps_non_redundant_nongap_pos_sets):\n",
        "        assert False\n",
        "        #print(\"Skipping\",string_rep)\n",
        "      #elif (string_rep[0]==\" \" or string_rep[-1]==\" \"):\n",
        "      #  pass #gaps at the ends are evidently not used\n",
        "      else:\n",
        "        string_reps_non_redundant_nongap_pos_sets.append(string_rep)\n",
        "        non_redundant_nongap_pos_sets.append(nongap_pos_set)\n",
        "    self.nongap_pos_sets = non_redundant_nongap_pos_sets \n",
        "    nongap_pos_set_stringrep_to_idx = dict([(x,i) for (i,x)\n",
        "      in enumerate(string_reps_non_redundant_nongap_pos_sets)])\n",
        "    nongap_pos_set_rc_mapping = {}\n",
        "    for string_rep in string_reps_non_redundant_nongap_pos_sets:\n",
        "      orig_idx = nongap_pos_set_stringrep_to_idx[string_rep]\n",
        "      rc_idx = nongap_pos_set_stringrep_to_idx[string_rep[::-1]]\n",
        "      nongap_pos_set_rc_mapping[orig_idx] = rc_idx\n",
        "    self.nongap_pos_set_rc_mapping = nongap_pos_set_rc_mapping\n",
        "    self.idx_to_nongap_pos_set = dict(enumerate(self.nongap_pos_sets))\n",
        "    \n",
        "  def get_gkmer_vector(self, a_string):\n",
        "    number_string = self.encode_as_numbers(a_string)\n",
        "    k = self.k\n",
        "    nongap_pos_sets = self.nongap_pos_sets\n",
        "    to_count_up = []    \n",
        "    for i in range(len(number_string)+1-self.l):\n",
        "      for (nongap_pos_set_num,nongap_pos_set)\\\n",
        "        in enumerate(nongap_pos_sets):\n",
        "        fwd_gkmer = 0\n",
        "        rev_gkmer = 0\n",
        "        encountered_N = False\n",
        "        for nongap_pos_enumidx, nongap_pos in enumerate(nongap_pos_set):\n",
        "          #multiply the digit by the appropriate place value given by\n",
        "          #nongap_pos_enumidx, add together\n",
        "          num = number_string[i+nongap_pos]\n",
        "          if (num == -1):\n",
        "            encountered_N = True\n",
        "            break\n",
        "          fwd_gkmer |= num << (nongap_pos_enumidx << 1)\n",
        "          rev_gkmer |= (3-num) << ((self.k-1-nongap_pos_enumidx) << 1)\n",
        "        #(1 << (k << 1)) is the same as 4**k\n",
        "        fwd_gkmer += nongap_pos_set_num*(1 << (k << 1))\n",
        "        rev_gkmer += self.nongap_pos_set_rc_mapping[nongap_pos_set_num]*(\n",
        "                                                                1 << (k << 1))\n",
        "        if (encountered_N == False):\n",
        "          to_count_up.append(fwd_gkmer)\n",
        "          to_count_up.append(rev_gkmer)\n",
        "        else:\n",
        "          to_count_up.append(-1)\n",
        "          to_count_up.append(-1)\n",
        "    return to_count_up\n",
        "  \n",
        "  def compute_normalized_counts_from_gkmer_vector(self, gkmer_vector):\n",
        "    counter_obj = Counter([x for x in gkmer_vector if x != -1])\n",
        "    norm = np.linalg.norm(list(counter_obj.values()))\n",
        "    normalized_counts = dict([(x,y/norm) for x,y in counter_obj.items()])\n",
        "    return normalized_counts\n",
        "  \n",
        "  def get_normalized_gkmer_counts(self, a_string):\n",
        "    to_count_up = self.get_gkmer_vector(a_string=a_string)\n",
        "    return self.compute_normalized_counts_from_gkmer_vector(\n",
        "            gkmer_vector=to_count_up)\n",
        "  \n",
        "  def compute_dot_product(self, norm_gkmer_counts1, norm_gkmer_counts2):\n",
        "    product = 0\n",
        "    for a_key in norm_gkmer_counts1:\n",
        "      if a_key in norm_gkmer_counts2:\n",
        "        product += norm_gkmer_counts1[a_key]*norm_gkmer_counts2[a_key]\n",
        "    assert np.abs(product) <= 1.0000001, (product, norm_gkmer_counts1,\n",
        "                                                   norm_gkmer_counts2)\n",
        "    return product\n",
        "    \n",
        "  def encode_as_numbers(self, a_string):\n",
        "    return [self.letter_to_num[x] for x in a_string]\n",
        "  \n",
        "  def compute_importance_scores(self, the_seq, interpolation_steps_arr):\n",
        "  \n",
        "    gkmer_vector = self.get_gkmer_vector(the_seq)\n",
        "    start = time.time()\n",
        "    gradients = self.get_gradients(\n",
        "        obs_norm_gkmer_counts=\n",
        "          self.compute_normalized_counts_from_gkmer_vector(gkmer_vector),\n",
        "        interpolation_steps_arr=interpolation_steps_arr)\n",
        "    end1 = time.time()\n",
        "    scores = np.zeros((len(the_seq), 4))\n",
        "    for idx,gkmers in enumerate(np.reshape(gkmer_vector,\n",
        "                                           (-1,len(self.nongap_pos_sets),2))):\n",
        "      for fwd_gkmer,rev_gkmer in gkmers:\n",
        "        if (fwd_gkmer != -1):\n",
        "          #-1 indicates an N was encountered; either both should be -1\n",
        "          # or both should be not -1\n",
        "          assert rev_gkmer != -1\n",
        "          fwd_grad = gradients[fwd_gkmer]/self.k\n",
        "          rev_grad = gradients[rev_gkmer]/self.k\n",
        "          fwd_nonzero_positions = self.idx_to_nongap_pos_set[\n",
        "                                   fwd_gkmer//self.total_gkmers]\n",
        "          rev_nonzero_positions = self.idx_to_nongap_pos_set[\n",
        "                                   rev_gkmer//self.total_gkmers]\n",
        "          for fwd_pos in fwd_nonzero_positions:\n",
        "            scores[\n",
        "                idx+fwd_pos,\n",
        "                self.letter_to_num[the_seq[idx+fwd_pos]]] += fwd_grad\n",
        "          for rev_pos in rev_nonzero_positions:\n",
        "            scores[\n",
        "                idx+(self.l-1-rev_pos),\n",
        "                self.letter_to_num[the_seq[idx+(self.l-1-rev_pos)]]] += rev_grad\n",
        "        else:\n",
        "          #either both should be -1 or both should be not -1\n",
        "          assert rev_gkmer==-1\n",
        "    return scores\n",
        "  \n",
        "\n",
        "class GaussianGkmSvm(GkmSvm):\n",
        "  \n",
        "  def __init__(self, *args, **kwargs):\n",
        "    super(GaussianGkmSvm, self).__init__(*args, **kwargs)\n",
        "    self.set_ref_norm_gkmer_counts(ref_norm_gkmer_counts={})\n",
        "  \n",
        "  def compute_prediction(self, a_string):\n",
        "    normalized_gkmer_counts = self.get_normalized_gkmer_counts(a_string)\n",
        "    svs_dot_products = []\n",
        "    for normalized_gkmer_count_sv in self.normalized_gkmer_count_svs:\n",
        "      svs_dot_products.append(self.compute_dot_product(\n",
        "        norm_gkmer_counts1=normalized_gkmer_count_sv,\n",
        "        norm_gkmer_counts2=normalized_gkmer_counts))\n",
        "    svs_dot_products = np.array(svs_dot_products)\n",
        "    return (np.sum(self.signed_alphas*np.exp(self.gamma*(svs_dot_products-1)))\n",
        "            - self.rho)\n",
        "  \n",
        "  def set_ref_norm_gkmer_counts(self, ref_norm_gkmer_counts):\n",
        "    self.ref_norm_gkmer_counts = ref_norm_gkmer_counts\n",
        "    self.svs_dot_product_ref_norm_gkmer_counts = np.array([\n",
        "        self.compute_dot_product(norm_gkmer_counts1=self.ref_norm_gkmer_counts,\n",
        "                                 norm_gkmer_counts2=x)\n",
        "        for x in self.normalized_gkmer_count_svs])\n",
        "  \n",
        "  def get_gradients(self, obs_norm_gkmer_counts, interpolation_steps_arr):\n",
        "    \n",
        "    cp0 = time.time()\n",
        "    assert (np.max(interpolation_steps_arr) <= 1\n",
        "            and np.min(interpolation_steps_arr) >= 0), interpolation_steps_arr\n",
        "    \n",
        "    gkmers_list = list(obs_norm_gkmer_counts.keys())\n",
        "    \n",
        "    gkmers_obs_norm_counts = np.array([\n",
        "        obs_norm_gkmer_counts[x] for x in gkmers_list])\n",
        "    gkmers_ref_norm_counts = np.array([\n",
        "        (self.ref_norm_gkmer_counts[x]\n",
        "         if x in self.ref_norm_gkmer_counts else 0) for x in gkmers_list])\n",
        "    gkmers_obs_minus_ref_counts = gkmers_obs_norm_counts-gkmers_ref_norm_counts\n",
        "    \n",
        "    cp1 = time.time()\n",
        "    \n",
        "    gkmers_by_steps_interpolated_counts =\\\n",
        "      (gkmers_ref_norm_counts[:,None] + interpolation_steps_arr[None,:]*\n",
        "                                        gkmers_obs_minus_ref_counts[:,None])\n",
        "    \n",
        "    cp2 = time.time()\n",
        "    \n",
        "    svs_by_gkmers_norm_counts_lol = [[(normalized_gkmer_count_sv[gkmer] if\n",
        "          gkmer in normalized_gkmer_count_sv else 0)\n",
        "         for gkmer in gkmers_list]\n",
        "         for normalized_gkmer_count_sv in self.normalized_gkmer_count_svs]\n",
        "   \n",
        "    cp3 = time.time()\n",
        "  \n",
        "    gkmers_by_svs_norm_counts = np.array(svs_by_gkmers_norm_counts_lol\n",
        "                                        ).transpose((1,0))\n",
        "    \n",
        "    cp4 = time.time()\n",
        "    \n",
        "    svs_dot_product_obs_minus_ref_norm_gkmer_counts = np.dot(\n",
        "      gkmers_obs_minus_ref_counts, gkmers_by_svs_norm_counts)\n",
        "    svs_dot_product_ref_norm_gkmer_counts = np.dot(\n",
        "      gkmers_ref_norm_counts, gkmers_by_svs_norm_counts)    \n",
        "    \n",
        "    svs_by_interp_steps_common_terms_per_gkmer =(\n",
        "      self.gamma*self.signed_alphas[:,None]*\n",
        "        np.exp(self.gamma*(self.svs_dot_product_ref_norm_gkmer_counts[:,None]\n",
        "          + (interpolation_steps_arr[None,:]*\n",
        "             svs_dot_product_obs_minus_ref_norm_gkmer_counts[:,None])) - 1))\n",
        "        \n",
        "    cp5 = time.time()\n",
        "    \n",
        "    gkmer_gradients = np.mean(np.sum(\n",
        "      (gkmers_by_svs_norm_counts[:,:,None]\n",
        "        - gkmers_by_steps_interpolated_counts[:,None,:])*\n",
        "      svs_by_interp_steps_common_terms_per_gkmer[None,:,:]\n",
        "    ,axis=1),axis=1)\n",
        "\n",
        "    cp6 = time.time()\n",
        "    \n",
        "    gradients_on_obs_gkmers = dict(zip(gkmers_list,gkmer_gradients))\n",
        "    \n",
        "    print(\"cp6\",cp6-cp5)\n",
        "    print(\"cp5\",cp5-cp4)\n",
        "    print(\"cp4\",cp4-cp3)\n",
        "    print(\"cp3\",cp3-cp2)\n",
        "    print(\"cp2\",cp2-cp1)\n",
        "    print(\"cp1\",cp1-cp0)\n",
        "    \n",
        "    return gradients_on_obs_gkmers    \n",
        "  \n",
        "  @classmethod\n",
        "  def from_txt_file(cls, txt_file):\n",
        "    lines = [x for x in open(txt_file)]\n",
        "    \n",
        "    field_name, kernel_type = lines[1].split()\n",
        "    assert field_name==\"kernel_type\"\n",
        "    assert kernel_type==\"gkm_cnt_rbf\"\n",
        "    field_name, l = lines[2].split()\n",
        "    assert field_name==\"L\"; l = int(l)\n",
        "    field_name, k = lines[3].split()\n",
        "    assert field_name==\"k\"; k = int(k)\n",
        "    field_name, d = lines[4].split()\n",
        "    assert field_name==\"d\"; d = int(d)\n",
        "    field_name, gamma = lines[5].split()\n",
        "    assert field_name==\"gamma\"; gamma = float(gamma)\n",
        "    field_name, rho = lines[8].split()\n",
        "    assert field_name==\"rho\"; rho = float(rho)\n",
        "    \n",
        "    string_svs = []\n",
        "    signed_alphas = []\n",
        "    assert lines[11].rstrip() == \"SV\"\n",
        "    for a_line in lines[12:]:\n",
        "      the_alpha, the_string = a_line.split()\n",
        "      the_alpha = float(the_alpha)\n",
        "      string_svs.append(the_string)\n",
        "      signed_alphas.append(the_alpha)\n",
        "\n",
        "    return cls(kernel_type=kernel_type,\n",
        "        l=l, k=k, d=d, gamma=gamma, rho=rho, string_svs=string_svs,\n",
        "        signed_alphas=np.array(signed_alphas))\n",
        "\n",
        "  \n",
        "class LinearGkmSvm(GkmSvm):\n",
        "\n",
        "  def compute_prediction(self, a_string):\n",
        "    normalized_gkmer_counts = self.get_normalized_gkmer_counts(a_string)\n",
        "    svs_dot_products = []\n",
        "    for normalized_gkmer_count_sv in self.normalized_gkmer_count_svs:\n",
        "      svs_dot_products.append(self.compute_dot_product(\n",
        "        norm_gkmer_counts1=normalized_gkmer_count_sv,\n",
        "        norm_gkmer_counts2=normalized_gkmer_counts))\n",
        "    svs_dot_products = np.array(svs_dot_products)\n",
        "    return (np.sum(self.signed_alphas*svs_dot_products) - self.rho)\n",
        "\n",
        "  @classmethod\n",
        "  def from_txt_file(cls, txt_file):\n",
        "    lines = [x for x in open(txt_file)]\n",
        "    \n",
        "    field_name, kernel_type = lines[1].split()\n",
        "    assert field_name==\"kernel_type\"\n",
        "    assert kernel_type==\"gkm_cnt\"\n",
        "    field_name, l = lines[2].split()\n",
        "    assert field_name==\"L\"; l = int(l)\n",
        "    field_name, k = lines[3].split()\n",
        "    assert field_name==\"k\"; k = int(k)\n",
        "    field_name, d = lines[4].split()\n",
        "    assert field_name==\"d\"; d = int(d)\n",
        "    field_name, rho = lines[7].split()\n",
        "    assert field_name==\"rho\"; rho = float(rho)\n",
        "    \n",
        "    string_svs = []\n",
        "    signed_alphas = []\n",
        "    assert lines[10].rstrip() == \"SV\"\n",
        "    for a_line in lines[11:]:\n",
        "      the_alpha, the_string = a_line.split()\n",
        "      the_alpha = float(the_alpha)\n",
        "      string_svs.append(the_string)\n",
        "      signed_alphas.append(the_alpha)\n",
        "\n",
        "    return cls(kernel_type=kernel_type,\n",
        "        l=l, k=k, d=d, gamma=None, rho=rho, string_svs=string_svs,\n",
        "        signed_alphas=np.array(signed_alphas))\n"
      ],
      "execution_count": 0,
      "outputs": []
    },
    {
      "metadata": {
        "id": "NPhtLQ45-vai",
        "colab_type": "code",
        "colab": {
          "base_uri": "https://localhost:8080/",
          "height": 553
        },
        "outputId": "ba9ee4fb-d738-4342-8406-65073a1f6fe9"
      },
      "cell_type": "code",
      "source": [
        "model_file = \"params_t6_l6_k4_d2_g2_c10_w3.model.txt\"\n",
        "\n",
        "!lsgkm/src/gkmpredict test_positives.fa $model_file preds_positives.txt\n",
        "end = time.time()\n",
        "print(\"Time taken per seq:\",(end-start)/400)\n",
        "start = time.time()\n",
        "!lsgkm/src/gkmpredict test_negatives.fa $model_file preds_negatives.txt\n",
        "end = time.time()\n",
        "print(\"Time taken per seq:\",(end-start)/1200)\n",
        "\n",
        "import numpy as np\n",
        "from sklearn.metrics import roc_auc_score\n",
        "test_pos_seqs = [x.rstrip() for i,x in enumerate(open(\"test_positives.fa\"))\n",
        "                  if i%2==1]\n",
        "test_neg_seqs = [x.rstrip() for i,x in enumerate(open(\"test_negatives.fa\"))\n",
        "                  if i%2==1]\n",
        "pos_preds = [float(x.rstrip().split(\"\\t\")[1]) for x in open(\"preds_positives.txt\")]\n",
        "neg_preds = [float(x.rstrip().split(\"\\t\")[1]) for x in open(\"preds_negatives.txt\")]\n",
        "print(roc_auc_score(y_true=np.array([1 for i in range(len(pos_preds))]+[0 for i in range(len(neg_preds))]),\n",
        "                    y_score=np.array(pos_preds+neg_preds)))"
      ],
      "execution_count": 9,
      "outputs": [
        {
          "output_type": "stream",
          "text": [
            "INFO 2018-10-01 04:58:33: Number of threads is set to 1\n",
            "INFO 2018-10-01 04:58:33: load model params_t6_l6_k4_d2_g2_c10_w3.model.txt\n",
            "INFO 2018-10-01 04:58:33: reading... 1000/4088\n",
            "INFO 2018-10-01 04:58:33: reading... 2000/4088\n",
            "INFO 2018-10-01 04:58:33: reading... 3000/4088\n",
            "INFO 2018-10-01 04:58:34: reading... 4000/4088\n",
            "INFO 2018-10-01 04:58:34: write prediction result to preds_positives.txt\n",
            "INFO 2018-10-01 04:58:35: 100 scored\n",
            "INFO 2018-10-01 04:58:36: 200 scored\n",
            "INFO 2018-10-01 04:58:38: 300 scored\n",
            "INFO 2018-10-01 04:58:39: 400 scored\n",
            "Time taken per seq: 0.07392979085445404\n",
            "INFO 2018-10-01 04:58:40: Number of threads is set to 1\n",
            "INFO 2018-10-01 04:58:40: load model params_t6_l6_k4_d2_g2_c10_w3.model.txt\n",
            "INFO 2018-10-01 04:58:40: reading... 1000/4088\n",
            "INFO 2018-10-01 04:58:40: reading... 2000/4088\n",
            "INFO 2018-10-01 04:58:40: reading... 3000/4088\n",
            "INFO 2018-10-01 04:58:41: reading... 4000/4088\n",
            "INFO 2018-10-01 04:58:41: write prediction result to preds_negatives.txt\n",
            "INFO 2018-10-01 04:58:42: 100 scored\n",
            "INFO 2018-10-01 04:58:43: 200 scored\n",
            "INFO 2018-10-01 04:58:45: 300 scored\n",
            "INFO 2018-10-01 04:58:46: 400 scored\n",
            "INFO 2018-10-01 04:58:47: 500 scored\n",
            "INFO 2018-10-01 04:58:49: 600 scored\n",
            "INFO 2018-10-01 04:58:50: 700 scored\n",
            "INFO 2018-10-01 04:58:52: 800 scored\n",
            "INFO 2018-10-01 04:58:53: 900 scored\n",
            "INFO 2018-10-01 04:58:54: 1000 scored\n",
            "INFO 2018-10-01 04:58:56: 1100 scored\n",
            "INFO 2018-10-01 04:58:57: 1200 scored\n",
            "Time taken per seq: 0.014879042108853657\n",
            "0.8938708333333333\n"
          ],
          "name": "stdout"
        }
      ]
    },
    {
      "metadata": {
        "id": "ozjZHpX2GEoQ",
        "colab_type": "code",
        "colab": {
          "base_uri": "https://localhost:8080/",
          "height": 66
        },
        "outputId": "92970052-c53f-4346-cace-353b7c5c5733"
      },
      "cell_type": "code",
      "source": [
        "gkm_svm_model = GaussianGkmSvm.from_txt_file(model_file)\n",
        "\n",
        "idx = 2\n",
        "import time\n",
        "start = time.time()\n",
        "#make sure the python GaussianGkmSVM model is giving\n",
        "# predictions consistent with the C++ code\n",
        "pred = gkm_svm_model.compute_prediction(test_pos_seqs[idx])\n",
        "print(time.time()-start)\n",
        "print(pred)\n",
        "print(pos_preds[idx])"
      ],
      "execution_count": 10,
      "outputs": [
        {
          "output_type": "stream",
          "text": [
            "2.544495105743408\n",
            "0.5225323425693684\n",
            "0.522532\n"
          ],
          "name": "stdout"
        }
      ]
    },
    {
      "metadata": {
        "id": "P6yopeFy664S",
        "colab_type": "code",
        "colab": {
          "base_uri": "https://localhost:8080/",
          "height": 131
        },
        "outputId": "6fcc80c1-92b6-43f5-c966-15f5b389e17e"
      },
      "cell_type": "code",
      "source": [
        "the_seq = test_pos_seqs[idx]\n",
        "interpolation_steps_arr = 0.1*(np.arange(10)+0.5)\n",
        "\n",
        "s = time.time()\n",
        "scores = gkm_svm_model.compute_importance_scores(\n",
        "          the_seq=the_seq,\n",
        "          interpolation_steps_arr=interpolation_steps_arr)\n",
        "print(time.time()-s)"
      ],
      "execution_count": 11,
      "outputs": [
        {
          "output_type": "stream",
          "text": [
            "cp6 2.172781229019165\n",
            "cp5 0.019321680068969727\n",
            "cp4 1.0868849754333496\n",
            "cp3 2.3068344593048096\n",
            "cp2 0.005650520324707031\n",
            "cp1 0.0008981227874755859\n",
            "5.719942092895508\n"
          ],
          "name": "stdout"
        }
      ]
    },
    {
      "metadata": {
        "id": "SOPiA4jL75Dy",
        "colab_type": "code",
        "colab": {
          "base_uri": "https://localhost:8080/",
          "height": 323
        },
        "outputId": "75679640-b347-42a5-b1a4-85a841cf3dc0"
      },
      "cell_type": "code",
      "source": [
        "!pip install deeplift\n",
        "from deeplift.visualization import viz_sequence\n",
        "viz_sequence.plot_weights(scores)"
      ],
      "execution_count": 13,
      "outputs": [
        {
          "output_type": "stream",
          "text": [
            "Collecting deeplift\n",
            "  Downloading https://files.pythonhosted.org/packages/ee/de/ae89fcdac328badf298d6181d2a38822a353e655771be09a3a80d3db8b84/deeplift-0.6.7.1.tar.gz\n",
            "Requirement already satisfied: numpy>=1.9 in /usr/local/lib/python3.6/dist-packages (from deeplift) (1.14.6)\n",
            "Building wheels for collected packages: deeplift\n",
            "  Running setup.py bdist_wheel for deeplift ... \u001b[?25l-\b \b\\\b \bdone\n",
            "\u001b[?25h  Stored in directory: /root/.cache/pip/wheels/de/c4/b0/ec9deaa25dfaad60ad234f1d17b0339a8a9f5bfe4d7de42edd\n",
            "Successfully built deeplift\n",
            "Installing collected packages: deeplift\n",
            "Successfully installed deeplift-0.6.7.1\n"
          ],
          "name": "stdout"
        },
        {
          "output_type": "display_data",
          "data": {
            "image/png": "[encoded data removed]",
            "text/plain": [
              "<matplotlib.figure.Figure at 0x7fdc2f4d8ac8>"
            ]
          },
          "metadata": {
            "tags": []
          }
        }
      ]
    },
    {
      "metadata": {
        "id": "a3Q5eQZLTbDe",
        "colab_type": "code",
        "colab": {
          "base_uri": "https://localhost:8080/",
          "height": 277
        },
        "outputId": "297e1473-4781-458d-b13f-60dd1b3eb78e"
      },
      "cell_type": "code",
      "source": [
        "\n",
        "def run_ism(model_file_path,sequence,temp_filepath):\n",
        "  \n",
        "  letter_to_idx = {'A':0, 'C':1, 'G':2, 'T':3, 'N': -1}\n",
        "  \n",
        "  seq_len = len(sequence)\n",
        "  fh = open(temp_filepath,'w')\n",
        "  mutated_seqs = []\n",
        "  seq_names = []\n",
        "  \n",
        "  onehot_seq = np.zeros((seq_len,4))  \n",
        "  for pos in range(seq_len):\n",
        "    orig_letter_idx = letter_to_idx[sequence[pos]]\n",
        "    if (orig_letter_idx != -1):\n",
        "      onehot_seq[pos,orig_letter_idx] = 1\n",
        "    for letter in ['A','C','G','T']:\n",
        "      letter_idx = letter_to_idx[letter]\n",
        "      fh.write(\">pos-\"+str(pos)+\"_base-\"+str(letter_idx)+\"\\n\")\n",
        "      fh.write(sequence[:pos]+letter+sequence[pos+1:]+\"\\n\")\n",
        "  fh.close()\n",
        "  \n",
        "  predictions_file = temp_filepath+\".preds.txt\"\n",
        "  !lsgkm/src/gkmpredict $temp_filepath $model_file_path $predictions_file\n",
        "  \n",
        "  importance_scores = np.zeros((seq_len,4))\n",
        "  for line in open(predictions_file):\n",
        "    seq_name,pred = line.rstrip().split(\"\\t\")\n",
        "    pred = float(pred)\n",
        "    pos,letter_idx = seq_name.split(\"_\")\n",
        "    pos = int(pos.split(\"-\")[1])\n",
        "    letter_idx = int(letter_idx.split(\"-\")[1])\n",
        "    importance_scores[pos,letter_idx] = pred\n",
        "  \n",
        "  !rm $temp_filepath\n",
        "  !rm $predictions_file\n",
        "  \n",
        "  hyp_importance_scores = importance_scores-np.mean(importance_scores,axis=1)[:,None]\n",
        "  importance_scores = hyp_importance_scores*onehot_seq\n",
        "  \n",
        "  return importance_scores, hyp_importance_scores\n",
        "  \n",
        "\n",
        "\n"
      ],
      "execution_count": 26,
      "outputs": [
        {
          "output_type": "stream",
          "text": [
            "INFO 2018-10-01 06:30:44: Number of threads is set to 1\n",
            "INFO 2018-10-01 06:30:44: load model params_t6_l6_k4_d2_g2_c10_w3.model.txt\n",
            "INFO 2018-10-01 06:30:45: reading... 1000/4088\n",
            "INFO 2018-10-01 06:30:45: reading... 2000/4088\n",
            "INFO 2018-10-01 06:30:45: reading... 3000/4088\n",
            "INFO 2018-10-01 06:30:45: reading... 4000/4088\n",
            "INFO 2018-10-01 06:30:45: write prediction result to tmp.preds.txt\n",
            "INFO 2018-10-01 06:30:47: 100 scored\n",
            "INFO 2018-10-01 06:30:48: 200 scored\n",
            "INFO 2018-10-01 06:30:50: 300 scored\n",
            "INFO 2018-10-01 06:30:51: 400 scored\n",
            "INFO 2018-10-01 06:30:52: 500 scored\n",
            "INFO 2018-10-01 06:30:54: 600 scored\n",
            "INFO 2018-10-01 06:30:55: 700 scored\n",
            "INFO 2018-10-01 06:30:57: 800 scored\n",
            "14.374467372894287\n"
          ],
          "name": "stdout"
        }
      ]
    },
    {
      "metadata": {
        "id": "GFNzgHUbV5DZ",
        "colab_type": "code",
        "colab": {
          "base_uri": "https://localhost:8080/",
          "height": 675
        },
        "outputId": "466c57cf-6588-4093-83f9-b575d4fc4a95"
      },
      "cell_type": "code",
      "source": [
        "import time\n",
        "#idx = 6\n",
        "#the_seq = test_pos_seqs[idx]\n",
        "the_seq = \"TGGAGCGAAGCGGCAAGCAGCGTTAAAATTTGAACTGCCGTATATGCATCCTCTAATAGATAAGCCCTTCAGCTTCGTAACTGTAATGCCACTCTCGAGGTTAATGATAAGGGAGACGAATCTCGTACTATTAGCGTAGGCTTGTCTTCTAAACTCTTATAAGAGTCAGATGCCTATAAGGTCGTTACAGAATTGTATCA\"\n",
        "\n",
        "\n",
        "start = time.time()\n",
        "ism_scores, hyp_imp_scores = run_ism(model_file_path=model_file,\n",
        "        sequence=the_seq, temp_filepath=\"tmp\")\n",
        "print(time.time()-start)\n",
        "\n",
        "viz_sequence.plot_weights(ism_scores)\n",
        "\n",
        "ig_scores = gkm_svm_model.compute_importance_scores(\n",
        "          the_seq=the_seq,\n",
        "          interpolation_steps_arr=interpolation_steps_arr)\n",
        "viz_sequence.plot_weights(ig_scores)"
      ],
      "execution_count": 52,
      "outputs": [
        {
          "output_type": "stream",
          "text": [
            "INFO 2018-10-01 07:31:26: Number of threads is set to 1\n",
            "INFO 2018-10-01 07:31:26: load model params_t6_l6_k4_d2_g2_c10_w3.model.txt\n",
            "INFO 2018-10-01 07:31:26: reading... 1000/4088\n",
            "INFO 2018-10-01 07:31:26: reading... 2000/4088\n",
            "INFO 2018-10-01 07:31:27: reading... 3000/4088\n",
            "INFO 2018-10-01 07:31:27: reading... 4000/4088\n",
            "INFO 2018-10-01 07:31:27: write prediction result to tmp.preds.txt\n",
            "INFO 2018-10-01 07:31:29: 100 scored\n",
            "INFO 2018-10-01 07:31:30: 200 scored\n",
            "INFO 2018-10-01 07:31:31: 300 scored\n",
            "INFO 2018-10-01 07:31:33: 400 scored\n",
            "INFO 2018-10-01 07:31:34: 500 scored\n",
            "INFO 2018-10-01 07:31:36: 600 scored\n",
            "INFO 2018-10-01 07:31:37: 700 scored\n",
            "INFO 2018-10-01 07:31:39: 800 scored\n",
            "14.867738485336304\n"
          ],
          "name": "stdout"
        },
        {
          "output_type": "display_data",
          "data": {
            "image/png": "[encoded data removed]",
            "text/plain": [
              "<matplotlib.figure.Figure at 0x7fdc05511ac8>"
            ]
          },
          "metadata": {
            "tags": []
          }
        },
        {
          "output_type": "stream",
          "text": [
            "cp6 1.632887840270996\n",
            "cp5 0.032485246658325195\n",
            "cp4 1.137967586517334\n",
            "cp3 2.766214370727539\n",
            "cp2 0.0006275177001953125\n",
            "cp1 0.0009608268737792969\n"
          ],
          "name": "stdout"
        },
        {
          "output_type": "display_data",
          "data": {
            "image/png": "[encoded data removed]",
            "text/plain": [
              "<matplotlib.figure.Figure at 0x7fdc04d2e860>"
            ]
          },
          "metadata": {
            "tags": []
          }
        }
      ]
    },
    {
      "metadata": {
        "id": "SPlcDdAKRl7w",
        "colab_type": "code",
        "colab": {}
      },
      "cell_type": "code",
      "source": [
        "!python lsgkm/scripts/nrkmers.py 6 kmers.fa"
      ],
      "execution_count": 0,
      "outputs": []
    },
    {
      "metadata": {
        "id": "na2FX3yHR0GH",
        "colab_type": "code",
        "colab": {
          "base_uri": "https://localhost:8080/",
          "height": 472
        },
        "outputId": "bc744d16-a109-4b8c-9299-bc998478ce19"
      },
      "cell_type": "code",
      "source": [
        "!lsgkm/src/gkmpredict kmers.fa $model_file preds_kmers.txt"
      ],
      "execution_count": 67,
      "outputs": [
        {
          "output_type": "stream",
          "text": [
            "INFO 2018-10-01 09:01:24: Number of threads is set to 1\n",
            "INFO 2018-10-01 09:01:24: load model params_t6_l6_k4_d2_g2_c10_w3.model.txt\n",
            "INFO 2018-10-01 09:01:25: reading... 1000/4088\n",
            "INFO 2018-10-01 09:01:25: reading... 2000/4088\n",
            "INFO 2018-10-01 09:01:25: reading... 3000/4088\n",
            "INFO 2018-10-01 09:01:26: reading... 4000/4088\n",
            "INFO 2018-10-01 09:01:26: write prediction result to preds_kmers.txt\n",
            "INFO 2018-10-01 09:01:26: 100 scored\n",
            "INFO 2018-10-01 09:01:26: 200 scored\n",
            "INFO 2018-10-01 09:01:26: 300 scored\n",
            "INFO 2018-10-01 09:01:26: 400 scored\n",
            "INFO 2018-10-01 09:01:26: 500 scored\n",
            "INFO 2018-10-01 09:01:26: 600 scored\n",
            "INFO 2018-10-01 09:01:26: 700 scored\n",
            "INFO 2018-10-01 09:01:26: 800 scored\n",
            "INFO 2018-10-01 09:01:26: 900 scored\n",
            "INFO 2018-10-01 09:01:26: 1000 scored\n",
            "INFO 2018-10-01 09:01:26: 1100 scored\n",
            "INFO 2018-10-01 09:01:26: 1200 scored\n",
            "INFO 2018-10-01 09:01:26: 1300 scored\n",
            "INFO 2018-10-01 09:01:26: 1400 scored\n",
            "INFO 2018-10-01 09:01:26: 1500 scored\n",
            "INFO 2018-10-01 09:01:26: 1600 scored\n",
            "INFO 2018-10-01 09:01:26: 1700 scored\n",
            "INFO 2018-10-01 09:01:26: 1800 scored\n",
            "INFO 2018-10-01 09:01:26: 1900 scored\n",
            "INFO 2018-10-01 09:01:26: 2000 scored\n",
            "INFO 2018-10-01 09:01:26: 2080 scored\n"
          ],
          "name": "stdout"
        }
      ]
    },
    {
      "metadata": {
        "id": "YO2efkjUZfgd",
        "colab_type": "code",
        "colab": {}
      },
      "cell_type": "code",
      "source": [
        "deltasvm_kmer_to_pred = {}\n",
        "rc_trans = {'A':'T', 'C':'G', 'G':'C', 'T':'A'}\n",
        "for line in open(\"preds_kmers.txt\"):\n",
        "  kmer,pred = line.rstrip().split(\"\\t\")\n",
        "  pred = float(pred)\n",
        "  deltasvm_kmer_to_pred[kmer] = pred\n",
        "  deltasvm_kmer_to_pred[\"\".join([rc_trans[x] for x in kmer[::-1]])] = pred"
      ],
      "execution_count": 0,
      "outputs": []
    },
    {
      "metadata": {
        "id": "V1wUaP9W3Iaw",
        "colab_type": "code",
        "colab": {}
      },
      "cell_type": "code",
      "source": [
        "sorted_kmers = sorted(deltasvm_kmer_to_pred.items(),\n",
        "                      key=lambda x: -x[1])"
      ],
      "execution_count": 0,
      "outputs": []
    },
    {
      "metadata": {
        "id": "UDZPFRYkAiWZ",
        "colab_type": "code",
        "colab": {
          "base_uri": "https://localhost:8080/",
          "height": 180
        },
        "outputId": "4136c5ad-510d-41bb-8c9e-1bf1c40baf50"
      },
      "cell_type": "code",
      "source": [
        "sorted_kmers[:10]"
      ],
      "execution_count": 73,
      "outputs": [
        {
          "output_type": "execute_result",
          "data": {
            "text/plain": [
              "[('CACCTG', -1.66238),\n",
              " ('ATGTTG', -1.73358),\n",
              " ('CCGGTA', -1.76017),\n",
              " ('GGTCGA', -1.7779),\n",
              " ('CACGTG', -1.79611),\n",
              " ('CTGCCC', -1.79698),\n",
              " ('CCCCCC', -1.80608),\n",
              " ('CACCAG', -1.82058),\n",
              " ('AGATGA', -1.82839),\n",
              " ('CAAGTG', -1.85254)]"
            ]
          },
          "metadata": {
            "tags": []
          },
          "execution_count": 73
        }
      ]
    },
    {
      "metadata": {
        "id": "v5BSEtU7A3RP",
        "colab_type": "code",
        "colab": {
          "base_uri": "https://localhost:8080/",
          "height": 33
        },
        "outputId": "726df1f8-777a-4a11-fbb3-44af2372c61a"
      },
      "cell_type": "code",
      "source": [
        "deltasvm_kmer_to_pred[\"CAGATG\"]"
      ],
      "execution_count": 74,
      "outputs": [
        {
          "output_type": "execute_result",
          "data": {
            "text/plain": [
              "-2.73085"
            ]
          },
          "metadata": {
            "tags": []
          },
          "execution_count": 74
        }
      ]
    },
    {
      "metadata": {
        "id": "_3ZIQaxcBECe",
        "colab_type": "code",
        "colab": {
          "base_uri": "https://localhost:8080/",
          "height": 33
        },
        "outputId": "f9f54853-c9a9-4706-e315-dbbab6ac2264"
      },
      "cell_type": "code",
      "source": [
        "deltasvm_kmer_to_pred[\"TAGATG\"]"
      ],
      "execution_count": 84,
      "outputs": [
        {
          "output_type": "execute_result",
          "data": {
            "text/plain": [
              "-2.67428"
            ]
          },
          "metadata": {
            "tags": []
          },
          "execution_count": 84
        }
      ]
    },
    {
      "metadata": {
        "id": "n3hZmT97BbDh",
        "colab_type": "code",
        "colab": {
          "base_uri": "https://localhost:8080/",
          "height": 33
        },
        "outputId": "6950974e-d3bf-4f05-9548-eb532198b841"
      },
      "cell_type": "code",
      "source": [
        "deltasvm_kmer_to_pred[\"GATAAG\"]"
      ],
      "execution_count": 85,
      "outputs": [
        {
          "output_type": "execute_result",
          "data": {
            "text/plain": [
              "-3.16081"
            ]
          },
          "metadata": {
            "tags": []
          },
          "execution_count": 85
        }
      ]
    },
    {
      "metadata": {
        "id": "doeW94BMCMka",
        "colab_type": "code",
        "colab": {
          "base_uri": "https://localhost:8080/",
          "height": 33
        },
        "outputId": "b090c0bf-86bb-4acb-ce1a-f511ef3a6acf"
      },
      "cell_type": "code",
      "source": [
        "deltasvm_kmer_to_pred[\"AATAAG\"]"
      ],
      "execution_count": 86,
      "outputs": [
        {
          "output_type": "execute_result",
          "data": {
            "text/plain": [
              "-2.50854"
            ]
          },
          "metadata": {
            "tags": []
          },
          "execution_count": 86
        }
      ]
    },
    {
      "metadata": {
        "id": "qhHSmdynCQlJ",
        "colab_type": "code",
        "colab": {
          "base_uri": "https://localhost:8080/",
          "height": 1593
        },
        "outputId": "0f06cc76-7bc7-450f-d063-9aa46cd01e66"
      },
      "cell_type": "code",
      "source": [
        "#!pip install shap\n",
        "\n",
        "import shap\n",
        "import numpy as np\n",
        "import sys\n",
        "\n",
        "def onehot_seq(seq):\n",
        "  letter_to_index = {'A':0, 'a':0,\n",
        "                     'C':1, 'c':1,\n",
        "                     'G':2, 'g':2,\n",
        "                     'T':3, 't':3}\n",
        "  to_return = np.zeros((len(seq),4))\n",
        "  for idx,letter in enumerate(seq):\n",
        "    to_return[idx,letter_to_index[letter]] = 1\n",
        "  return to_return\n",
        "\n",
        "def get_shap_explanation(gkmsvm_model, seq, nsamples):\n",
        "  \n",
        "  index_to_letter = {0:'A', 1:'C', 2:'G', 3:'T'}\n",
        "\n",
        "  def pred_func(onehot_seqs):\n",
        "    onehot_seqs = onehot_seqs.reshape(len(onehot_seqs),-1,4)\n",
        "    #convert the sequences to strings\n",
        "    seqs = [ \"\".join([index_to_letter[x] for x in seq])\n",
        "      for seq in np.argmax(onehot_seqs, axis=-1)]\n",
        "    \n",
        "    to_return = []\n",
        "    for idx,x in enumerate(seqs):\n",
        "      if (idx%10==0):\n",
        "        print(\"Done\",idx+1,\"of\",len(seqs))\n",
        "        sys.stdout.flush()\n",
        "      to_return.append(gkmsvm_model.compute_prediction(x))\n",
        "    return np.array(to_return)\n",
        "  \n",
        "  explainer = shap.KernelExplainer(pred_func,\n",
        "                                   np.zeros((1,len(seq)*4)))\n",
        "  X_test = np.array([onehot_seq(seq)])\n",
        "  shap_values = explainer.shap_values(X_test.reshape((len(X_test), -1)),\n",
        "                                      nsamples=nsamples)\n",
        "  shap_values = shap_values.reshape((-1,4))\n",
        "  return shap_values\n",
        "\n",
        "\n",
        "shap_explanation = get_shap_explanation(gkmsvm_model=gkm_svm_model,\n",
        "                                         seq=the_seq,\n",
        "                                         nsamples=len(the_seq)*4)"
      ],
      "execution_count": 112,
      "outputs": [
        {
          "output_type": "stream",
          "text": [
            "Done 1 of 1\n"
          ],
          "name": "stdout"
        },
        {
          "output_type": "stream",
          "text": [
            "\n",
            "\n",
            "\n",
            "\n",
            "\n",
            "  0%|          | 0/1 [00:00<?, ?it/s]\u001b[A\u001b[A\u001b[A\u001b[A\u001b[A"
          ],
          "name": "stderr"
        },
        {
          "output_type": "stream",
          "text": [
            "Done 1 of 1\n",
            "Done 1 of 800\n",
            "Done 11 of 800\n",
            "Done 21 of 800\n",
            "Done 31 of 800\n",
            "Done 41 of 800\n",
            "Done 51 of 800\n",
            "Done 61 of 800\n",
            "Done 71 of 800\n",
            "Done 81 of 800\n",
            "Done 91 of 800\n",
            "Done 101 of 800\n",
            "Done 111 of 800\n",
            "Done 121 of 800\n",
            "Done 131 of 800\n",
            "Done 141 of 800\n",
            "Done 151 of 800\n",
            "Done 161 of 800\n"
          ],
          "name": "stdout"
        },
        {
          "output_type": "stream",
          "text": [
            "\n",
            "\n",
            "\n",
            "\n",
            "\u001b[A\u001b[A\u001b[A\u001b[A\n",
            "\n",
            "\u001b[A\u001b[A\n",
            "\u001b[A\n",
            "\u001b[A\n"
          ],
          "name": "stderr"
        },
        {
          "output_type": "stream",
          "text": [
            "Done 171 of 800\n",
            "Done 181 of 800\n",
            "Done 191 of 800\n",
            "Done 201 of 800\n",
            "Done 211 of 800\n",
            "Done 221 of 800\n",
            "Done 231 of 800\n",
            "Done 241 of 800\n",
            "Done 251 of 800\n",
            "Done 261 of 800\n",
            "Done 271 of 800\n",
            "Done 281 of 800\n",
            "Done 291 of 800\n",
            "Done 301 of 800\n",
            "Done 311 of 800\n",
            "Done 321 of 800\n",
            "Done 331 of 800\n",
            "Done 341 of 800\n",
            "Done 351 of 800\n",
            "Done 361 of 800\n",
            "Done 371 of 800\n",
            "Done 381 of 800\n",
            "Done 391 of 800\n",
            "Done 401 of 800\n",
            "Done 411 of 800\n",
            "Done 421 of 800\n",
            "Done 431 of 800\n",
            "Done 441 of 800\n",
            "Done 451 of 800\n",
            "Done 461 of 800\n",
            "Done 471 of 800\n",
            "Done 481 of 800\n",
            "Done 491 of 800\n",
            "Done 501 of 800\n",
            "Done 511 of 800\n",
            "Done 521 of 800\n",
            "Done 531 of 800\n",
            "Done 541 of 800\n",
            "Done 551 of 800\n",
            "Done 561 of 800\n",
            "Done 571 of 800\n",
            "Done 581 of 800\n",
            "Done 591 of 800\n",
            "Done 601 of 800\n",
            "Done 611 of 800\n",
            "Done 621 of 800\n",
            "Done 631 of 800\n",
            "Done 641 of 800\n",
            "Done 651 of 800\n",
            "Done 661 of 800\n",
            "Done 671 of 800\n",
            "Done 681 of 800\n",
            "Done 691 of 800\n",
            "Done 701 of 800\n",
            "Done 711 of 800\n",
            "Done 721 of 800\n",
            "Done 731 of 800\n",
            "Done 741 of 800\n",
            "Done 751 of 800\n",
            "Done 761 of 800\n",
            "Done 771 of 800\n",
            "Done 781 of 800\n",
            "Done 791 of 800\n"
          ],
          "name": "stdout"
        },
        {
          "output_type": "stream",
          "text": [
            "\r100%|██████████| 1/1 [23:56<00:00, 1436.44s/it]\n"
          ],
          "name": "stderr"
        }
      ]
    },
    {
      "metadata": {
        "id": "u0XLKzMSZc5H",
        "colab_type": "code",
        "colab": {
          "base_uri": "https://localhost:8080/",
          "height": 177
        },
        "outputId": "41a500a6-41e6-4509-829f-e7a51bdaf3ac"
      },
      "cell_type": "code",
      "source": [
        "viz_sequence.plot_weights(shap_explanation)"
      ],
      "execution_count": 113,
      "outputs": [
        {
          "output_type": "display_data",
          "data": {
            "image/png": "[encoded data removed]",
            "text/plain": [
              "<matplotlib.figure.Figure at 0x7fdbfc21b4e0>"
            ]
          },
          "metadata": {
            "tags": []
          }
        }
      ]
    },
    {
      "metadata": {
        "id": "nBfCfgOlgzOV",
        "colab_type": "code",
        "colab": {}
      },
      "cell_type": "code",
      "source": [
        ""
      ],
      "execution_count": 0,
      "outputs": []
    }
  ]
}