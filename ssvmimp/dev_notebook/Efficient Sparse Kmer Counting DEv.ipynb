{
 "cells": [
  {
   "cell_type": "code",
   "execution_count": 1,
   "metadata": {
    "collapsed": true
   },
   "outputs": [],
   "source": [
    "from __future__ import division, print_function\n",
    "\n",
    "#def get_gapped_kmer_embedding_filters_and_func(\n",
    "#        kmer_len, alphabet, num_gaps, max_mismatches):\n",
    "#    filters, biases, string_reps = prep_filters_and_biases(\n",
    "#                                    kmer_len=kmer_len,\n",
    "#                                    alphabet=alphabet,\n",
    "#                                    num_gaps=num_gaps,\n",
    "#                                    max_mismatches=max_mismatches) \n",
    "#    func = B.get_gapped_kmer_embedding_func(filters=filters, biases=biases)\n",
    "#    return filters, string_reps, func\n",
    "\n",
    "\n",
    "#This code can't handle mismatches, so mismatches are assumed to be 0\n",
    "def get_sparse_gapped_kmer_embeddings_func(kmer_len, alphabet, num_gaps):\n",
    "    pass #Fill me out!\n",
    "    #You should return a function like get_sparse_representations,\n",
    "    #defined below\n",
    "    "
   ]
  },
  {
   "cell_type": "code",
   "execution_count": 2,
   "metadata": {
    "collapsed": false
   },
   "outputs": [],
   "source": [
    "import numpy as np\n",
    "\n",
    "#Recap of general idea.\n",
    "\n",
    "#Demo of filters in the case of 3-mers with 1 gap\n",
    "\n",
    "#Step 1:\n",
    "#First, we figure out all the possible non-redundant combinations of non-gapped positions. They are:\n",
    "#XX*\n",
    "#X*X\n",
    "#NOT *XX as it is redundant with XX*\n",
    "\n",
    "#Step 2:\n",
    "#For each of the non-redundant combinations of non-gapped positions, we create a filter.\n",
    "#The filter corresponding to XX* has\n",
    "# 3 rows (corresponding to the fact that we are using 3-mers) and 4 columns (corresponding to ACGT)\n",
    "\n",
    "XXstar_filter = np.array([\n",
    "    [0,1,2,3],\n",
    "    [0,4,8,12],\n",
    "    [0,0,0,0]\n",
    "])\n",
    "\n",
    "#The row(s) corresponding to the gap(s) have all-zeros\n",
    "#The rows corresponding to the bases have numbers.\n",
    "#The place-value is determined by the index of the column\n",
    "#Depending on the kmer that is scanned, all values from 0 to 15\n",
    "#Can be output by this filter.\n",
    "#AA* would output a 0, TT* would output a 15\n",
    "XstarX_filter = np.array([\n",
    "    [0,1,2,3],\n",
    "    [0,0,0,0],\n",
    "    [0,4,8,12]\n",
    "])\n",
    "\n",
    "#Scanning with this filter alone, A*A would output a 0, T*T would output a 15\n",
    "#To distinguish between AA* and A*A, we will add 16 to the outputs of the XstarX filter.\n",
    "#So A*A would output 16, and T*T would output 31.\n",
    "#If we had had a third non-redundant filter, we would have added 32 to the output to\n",
    "#maintain the distinctness.\n"
   ]
  },
  {
   "cell_type": "code",
   "execution_count": 3,
   "metadata": {
    "collapsed": true
   },
   "outputs": [],
   "source": [
    "\n",
    "#This function can be used to compile\n",
    "#A tensorflow function\n",
    "def compile_func(inputs, outputs):\n",
    "    inputs = [inputs]\n",
    "    def func_to_return(inp):\n",
    "        inp = [inp]\n",
    "        feed_dict = {}\n",
    "        for input_tensor, input_val in zip(inputs, inp):\n",
    "            feed_dict[input_tensor] = input_val \n",
    "        sess = get_session()\n",
    "        return sess.run(outputs, feed_dict=feed_dict)  \n",
    "    return func_to_return\n",
    "\n",
    "def get_session():\n",
    "    try:\n",
    "        #use the keras session if there is one\n",
    "        import keras.backend as K\n",
    "        return K.get_session()\n",
    "    except:\n",
    "        #Warning: I haven't really tested this behaviour out...\n",
    "        global _SESS \n",
    "        if _SESS is None:\n",
    "            print(\"MAKING A SESSION\")\n",
    "            _SESS = tf.Session()\n",
    "            _SESS.run(tf.global_variables_initializer()) \n",
    "        return _SESS\n",
    "\n",
    "#Functions to do one-hot encoding from sequence\n",
    "def one_hot_encode_along_channel_axis(sequence):\n",
    "    #theano dim ordering, uses row axis for one-hot\n",
    "    to_return = np.zeros((len(sequence),4), dtype=np.int8)\n",
    "    seq_to_one_hot_fill_in_array(zeros_array=to_return,\n",
    "                                 sequence=sequence, one_hot_axis=1)\n",
    "    return to_return\n",
    "\n",
    "def seq_to_one_hot_fill_in_array(zeros_array, sequence, one_hot_axis):\n",
    "    assert one_hot_axis==0 or one_hot_axis==1\n",
    "    if (one_hot_axis==0):\n",
    "        assert zeros_array.shape[1] == len(sequence)\n",
    "    elif (one_hot_axis==1): \n",
    "        assert zeros_array.shape[0] == len(sequence)\n",
    "    #will mutate zeros_array\n",
    "    for (i,char) in enumerate(sequence):\n",
    "        if (char==\"A\" or char==\"a\"):\n",
    "            char_idx = 0\n",
    "        elif (char==\"C\" or char==\"c\"):\n",
    "            char_idx = 1\n",
    "        elif (char==\"G\" or char==\"g\"):\n",
    "            char_idx = 2\n",
    "        elif (char==\"T\" or char==\"t\"):\n",
    "            char_idx = 3\n",
    "        elif (char==\"N\" or char==\"n\"):\n",
    "            continue #leave that pos as all 0's\n",
    "        else:\n",
    "            raise RuntimeError(\"Unsupported character: \"+str(char))\n",
    "        if (one_hot_axis==0):\n",
    "            zeros_array[char_idx,i] = 1\n",
    "        elif (one_hot_axis==1):\n",
    "            zeros_array[i,char_idx] = 1\n"
   ]
  },
  {
   "cell_type": "code",
   "execution_count": 4,
   "metadata": {
    "collapsed": false
   },
   "outputs": [
    {
     "name": "stdout",
     "output_type": "stream",
     "text": [
      "Couldn't import dot_parser, loading of dot files will not be possible.\n",
      "(3, 4, 2)\n"
     ]
    },
    {
     "name": "stderr",
     "output_type": "stream",
     "text": [
      "/Users/avantishrikumar/anaconda/lib/python2.7/site-packages/h5py/__init__.py:36: FutureWarning: Conversion of the second argument of issubdtype from `float` to `np.floating` is deprecated. In future, it will be treated as `np.float64 == np.dtype(float).type`.\n",
      "  from ._conv import register_converters as _register_converters\n"
     ]
    }
   ],
   "source": [
    "import tensorflow as tf\n",
    "from collections import Counter\n",
    "\n",
    "#create a tensor representing our inputs\n",
    "#Our inputs are 3-dimensional; first axis is the example index,\n",
    "#second axis is the length, third axis is ACGT\n",
    "\n",
    "#The last axis of filters is the filter type, hence this line of code\n",
    "#The type of the numpy array should be float32 to work with tensorflow\n",
    "filters = np.concatenate([XXstar_filter[:,:,None], XstarX_filter[:,:,None]],axis=2).astype(\"float32\")\n",
    "print(filters.shape)\n",
    "\n",
    "input_len = 10\n",
    "\n",
    "input_onehot_tensor = tf.placeholder(shape=(None, input_len, 4),\n",
    "                                     dtype=tf.float32,\n",
    "                                     name=\"input_onehot_tensor\")\n",
    "conv_out = tf.nn.conv1d(\n",
    "    value=input_onehot_tensor,\n",
    "    filters=filters,\n",
    "    stride=1,\n",
    "    #valid padding means that when you scan the sequence, you don't go over the end\n",
    "    padding=\"VALID\")\n",
    "\n",
    "#We add 0 to the output of the first channel and 16 to the output\n",
    "#of the second channel\n",
    "conv_out_plus_constants = conv_out + np.array([0,16])[None,None,:]\n",
    "conv_out_flattened = tf.reshape(conv_out_plus_constants, (-1,(input_len-filters.shape[0]+1)\n",
    "                                                             *filters.shape[-1]))\n",
    "\n",
    "conv_func = compile_func(inputs=input_onehot_tensor,\n",
    "                         outputs=conv_out_flattened)\n",
    "\n",
    "#This function is basically like what you would have to return\n",
    "#as the embedding function\n",
    "def get_sparse_representations(input_onehot):\n",
    "    gkmer_matches = np.array(conv_func(onehot_sequences)).astype(\"int32\")\n",
    "    return [Counter(x) for x in gkmer_matches]\n"
   ]
  },
  {
   "cell_type": "code",
   "execution_count": 5,
   "metadata": {
    "collapsed": false
   },
   "outputs": [
    {
     "name": "stdout",
     "output_type": "stream",
     "text": [
      "(3, 10, 4)\n"
     ]
    }
   ],
   "source": [
    "example_sequences = [\"AAAAAAAAAA\", \"TTTTTTTTTT\", \"AATAGCTGAT\"]\n",
    "onehot_sequences = np.array([one_hot_encode_along_channel_axis(x) for x in example_sequences])\n",
    "print(onehot_sequences.shape)\n"
   ]
  },
  {
   "cell_type": "code",
   "execution_count": 6,
   "metadata": {
    "collapsed": false
   },
   "outputs": [
    {
     "name": "stderr",
     "output_type": "stream",
     "text": [
      "Using TensorFlow backend.\n"
     ]
    },
    {
     "data": {
      "text/plain": [
       "[Counter({0: 8, 16: 8}),\n",
       " Counter({15: 8, 31: 8}),\n",
       " Counter({0: 1,\n",
       "          2: 1,\n",
       "          3: 1,\n",
       "          6: 1,\n",
       "          8: 1,\n",
       "          11: 1,\n",
       "          12: 1,\n",
       "          13: 1,\n",
       "          16: 1,\n",
       "          19: 1,\n",
       "          20: 1,\n",
       "          25: 1,\n",
       "          27: 1,\n",
       "          28: 1,\n",
       "          30: 2})]"
      ]
     },
     "execution_count": 6,
     "metadata": {},
     "output_type": "execute_result"
    }
   ],
   "source": [
    "get_sparse_representations(onehot_sequences)"
   ]
  },
  {
   "cell_type": "code",
   "execution_count": 7,
   "metadata": {
    "collapsed": false
   },
   "outputs": [
    {
     "name": "stdout",
     "output_type": "stream",
     "text": [
      "Redundant nonzero positions [(0, 1), (0, 2), (1, 2)]\n",
      "(0, 1) XX  XX\n",
      "(0, 2) X X X X\n",
      "(1, 2)  XX XX\n",
      "Skipping (1, 2) as it's redundant with (0, 1)\n",
      "Non redundant nonzero positions [(0, 1), (0, 2)]\n"
     ]
    }
   ],
   "source": [
    "#How to get the list of non-redundant non-zero positions in an automated way:\n",
    "\n",
    "import itertools\n",
    "from collections import OrderedDict\n",
    "\n",
    "kmer_len = 3\n",
    "num_gaps = 1\n",
    "#given the number of gaps and the kmer length,\n",
    "#find all unique combinations of positions\n",
    "#in the filter that are nonzero (nonzero = not a gap)\n",
    "nonzero_position_combos = list(itertools.combinations(\n",
    "                        iterable=range(kmer_len),\n",
    "                        r=(kmer_len-num_gaps)))\n",
    "print(\"Redundant nonzero positions\",nonzero_position_combos)\n",
    "\n",
    "#You have to filter that list for redundancy\n",
    "#To do so, create a string representation of them, and\n",
    "#trim the string for gaps at the beginning and end\n",
    "\n",
    "stripped_string_representation_to_nonzero_positions = OrderedDict()\n",
    "for nonzero_positions in nonzero_position_combos:\n",
    "    characters = [\" \" for x in range(kmer_len)]\n",
    "    for nonzero_position in nonzero_positions:\n",
    "        characters[nonzero_position] = \"X\"\n",
    "    string_representation = \"\".join(characters)\n",
    "    stripped_string_representation = string_representation.rstrip().lstrip()\n",
    "    print(nonzero_positions, string_representation, stripped_string_representation)\n",
    "    if stripped_string_representation in stripped_string_representation_to_nonzero_positions:\n",
    "        print(\"Skipping\",nonzero_positions,\"as it's redundant with\",\n",
    "              stripped_string_representation_to_nonzero_positions[stripped_string_representation])\n",
    "    else:\n",
    "        stripped_string_representation_to_nonzero_positions[stripped_string_representation] = nonzero_positions\n",
    "\n",
    "print(\"Non redundant nonzero positions\",stripped_string_representation_to_nonzero_positions.values())"
   ]
  },
  {
   "cell_type": "code",
   "execution_count": null,
   "metadata": {
    "collapsed": true
   },
   "outputs": [],
   "source": []
  }
 ],
 "metadata": {
  "kernelspec": {
   "display_name": "Python 2",
   "language": "python",
   "name": "python2"
  },
  "language_info": {
   "codemirror_mode": {
    "name": "ipython",
    "version": 2
   },
   "file_extension": ".py",
   "mimetype": "text/x-python",
   "name": "python",
   "nbconvert_exporter": "python",
   "pygments_lexer": "ipython2",
   "version": "2.7.12"
  }
 },
 "nbformat": 4,
 "nbformat_minor": 0
}
